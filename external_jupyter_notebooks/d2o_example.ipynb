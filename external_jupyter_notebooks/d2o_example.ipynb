{
 "cells": [
  {
   "cell_type": "markdown",
   "id": "de43bb54",
   "metadata": {},
   "source": [
    "# D2O Delta Sharing - Recipient Demo\n",
    "\n",
    "## Overview\n",
    "This notebook demonstrates how to access Databricks Delta Sharing data as an **open recipient** (non-Databricks user). \n",
    "\n",
    "In this demo, we'll:\n",
    "1. Load credentials from the config file\n",
    "2. Connect to the Delta Share\n",
    "3. List available shares and tables\n",
    "4. Query the shared data using pandas\n",
    "5. Create visualizations using seaborn\n",
    "\n",
    "**Prerequisites:**\n",
    "- The provider has created a share and recipient\n",
    "- You have received the credential file (`config.share`)\n",
    "- This notebook is running in a Docker container with the necessary libraries"
   ]
  },
  {
   "cell_type": "markdown",
   "id": "d271986b",
   "metadata": {},
   "source": [
    "## Step 1: Import Required Libraries"
   ]
  },
  {
   "cell_type": "code",
   "execution_count": 1,
   "id": "47827ea7",
   "metadata": {
    "vscode": {
     "languageId": "plaintext"
    }
   },
   "outputs": [
    {
     "name": "stdout",
     "output_type": "stream",
     "text": [
      "✓ Libraries imported successfully\n",
      "Delta Sharing version: 1.3.3\n",
      "Pandas version: 2.3.3\n"
     ]
    }
   ],
   "source": [
    "import delta_sharing\n",
    "import pandas as pd\n",
    "import seaborn as sns\n",
    "import matplotlib.pyplot as plt\n",
    "import json\n",
    "import os\n",
    "import warnings\n",
    "\n",
    "# Configure matplotlib and seaborn\n",
    "plt.style.use('seaborn-v0_8-darkgrid')\n",
    "sns.set_palette(\"husl\")\n",
    "warnings.filterwarnings('ignore')\n",
    "\n",
    "print(\"✓ Libraries imported successfully\")\n",
    "print(f\"Delta Sharing version: {delta_sharing.__version__}\")\n",
    "print(f\"Pandas version: {pd.__version__}\")"
   ]
  },
  {
   "cell_type": "markdown",
   "id": "eb013a92",
   "metadata": {},
   "source": [
    "## Step 2: Load Delta Sharing Credentials\n",
    "\n",
    "The credentials are mounted as a file at `/tmp/config.share` when running the Docker container."
   ]
  },
  {
   "cell_type": "code",
   "execution_count": 2,
   "id": "87a7144c",
   "metadata": {},
   "outputs": [
    {
     "name": "stdout",
     "output_type": "stream",
     "text": [
      "✓ Delta Sharing client initialized successfully\n",
      "✓ Using config from: /tmp/config.share\n"
     ]
    }
   ],
   "source": [
    "# Path to the mounted credential file\n",
    "config_file_path = '/tmp/config.share'\n",
    "\n",
    "# Create a SharingClient using the mounted config file\n",
    "client = delta_sharing.SharingClient(config_file_path)\n",
    "\n",
    "print(\"✓ Delta Sharing client initialized successfully\")\n",
    "print(f\"✓ Using config from: {config_file_path}\")"
   ]
  },
  {
   "cell_type": "markdown",
   "id": "da111374",
   "metadata": {},
   "source": [
    "## Step 3: List Available Shares\n",
    "\n",
    "Let's discover what shares are available to us."
   ]
  },
  {
   "cell_type": "code",
   "execution_count": 14,
   "id": "0f82e7ca",
   "metadata": {},
   "outputs": [
    {
     "name": "stdout",
     "output_type": "stream",
     "text": [
      "✓ Found 1 share(s)\n",
      "\n",
      "Share: external_retail\n"
     ]
    }
   ],
   "source": [
    "# List all available shares\n",
    "shares = client.list_shares()\n",
    "\n",
    "print(f\"✓ Found {len(shares)} share(s)\\n\")\n",
    "for share in shares:\n",
    "    print(f\"Share: {share.name}\")\n",
    "    if hasattr(share, 'id'):\n",
    "        print(f\"  ID: {share.id}\")"
   ]
  },
  {
   "cell_type": "markdown",
   "id": "b5b1639c",
   "metadata": {},
   "source": [
    "## Step 4: List Schemas in the Share\n",
    "\n",
    "Now let's see what schemas (databases) are available in the share."
   ]
  },
  {
   "cell_type": "code",
   "execution_count": 4,
   "id": "c7bb88b3",
   "metadata": {},
   "outputs": [
    {
     "name": "stdout",
     "output_type": "stream",
     "text": [
      "Working with share: external_retail\n",
      "\n",
      "✓ Found 1 schema(s)\n",
      "\n",
      "Schema: retail\n",
      "  Share: external_retail\n"
     ]
    }
   ],
   "source": [
    "# Get the first share (assuming it's the external_retail share)\n",
    "share_name = shares[0].name\n",
    "print(f\"Working with share: {share_name}\\n\")\n",
    "\n",
    "# List schemas in the share\n",
    "schemas = client.list_schemas(delta_sharing.Share(name=share_name))\n",
    "\n",
    "print(f\"✓ Found {len(schemas)} schema(s)\\n\")\n",
    "for schema in schemas:\n",
    "    print(f\"Schema: {schema.name}\")\n",
    "    if hasattr(schema, 'share'):\n",
    "        print(f\"  Share: {schema.share}\")"
   ]
  },
  {
   "cell_type": "markdown",
   "id": "a9af2b76",
   "metadata": {},
   "source": [
    "## Step 5: List Tables in the Schema\n",
    "\n",
    "Let's see what tables are available for us to query."
   ]
  },
  {
   "cell_type": "code",
   "execution_count": 5,
   "id": "fe636973",
   "metadata": {},
   "outputs": [
    {
     "name": "stdout",
     "output_type": "stream",
     "text": [
      "Working with schema: retail\n",
      "\n",
      "✓ Found 2 table(s)\n",
      "\n",
      "1. Table: customers\n",
      "   Share: external_retail\n",
      "   Schema: retail\n",
      "\n",
      "2. Table: sales_transactions\n",
      "   Share: external_retail\n",
      "   Schema: retail\n",
      "\n"
     ]
    }
   ],
   "source": [
    "# Get the first schema\n",
    "schema_name = schemas[0].name\n",
    "print(f\"Working with schema: {schema_name}\\n\")\n",
    "\n",
    "# List all tables in the schema\n",
    "tables = client.list_tables(delta_sharing.Schema(name=schema_name, share=share_name))\n",
    "\n",
    "print(f\"✓ Found {len(tables)} table(s)\\n\")\n",
    "for i, table in enumerate(tables, 1):\n",
    "    print(f\"{i}. Table: {table.name}\")\n",
    "    if hasattr(table, 'share'):\n",
    "        print(f\"   Share: {table.share}\")\n",
    "    if hasattr(table, 'schema'):\n",
    "        print(f\"   Schema: {table.schema}\")\n",
    "    print()"
   ]
  },
  {
   "cell_type": "markdown",
   "id": "f1268e84",
   "metadata": {},
   "source": [
    "## Step 6: Query the Customers Table\n",
    "\n",
    "Let's load the customers table into a pandas DataFrame and explore the data."
   ]
  },
  {
   "cell_type": "code",
   "execution_count": 15,
   "id": "382f9981",
   "metadata": {},
   "outputs": [
    {
     "name": "stdout",
     "output_type": "stream",
     "text": [
      "Loading customers table...\n",
      "✓ Loaded 8 customer records\n",
      "\n",
      "\n",
      "First few records:\n"
     ]
    },
    {
     "data": {
      "text/html": [
       "<div>\n",
       "<style scoped>\n",
       "    .dataframe tbody tr th:only-of-type {\n",
       "        vertical-align: middle;\n",
       "    }\n",
       "\n",
       "    .dataframe tbody tr th {\n",
       "        vertical-align: top;\n",
       "    }\n",
       "\n",
       "    .dataframe thead th {\n",
       "        text-align: right;\n",
       "    }\n",
       "</style>\n",
       "<table border=\"1\" class=\"dataframe\">\n",
       "  <thead>\n",
       "    <tr style=\"text-align: right;\">\n",
       "      <th></th>\n",
       "      <th>customer_id</th>\n",
       "      <th>customer_name</th>\n",
       "      <th>email</th>\n",
       "      <th>country</th>\n",
       "      <th>signup_date</th>\n",
       "      <th>customer_segment</th>\n",
       "    </tr>\n",
       "  </thead>\n",
       "  <tbody>\n",
       "    <tr>\n",
       "      <th>0</th>\n",
       "      <td>1</td>\n",
       "      <td>Acme Corp</td>\n",
       "      <td>contact@acme.com</td>\n",
       "      <td>USA</td>\n",
       "      <td>2023-01-15</td>\n",
       "      <td>Enterprise</td>\n",
       "    </tr>\n",
       "    <tr>\n",
       "      <th>1</th>\n",
       "      <td>2</td>\n",
       "      <td>TechStart Inc</td>\n",
       "      <td>info@techstart.com</td>\n",
       "      <td>Canada</td>\n",
       "      <td>2023-02-20</td>\n",
       "      <td>SMB</td>\n",
       "    </tr>\n",
       "    <tr>\n",
       "      <th>2</th>\n",
       "      <td>3</td>\n",
       "      <td>Global Solutions</td>\n",
       "      <td>hello@globalsol.com</td>\n",
       "      <td>UK</td>\n",
       "      <td>2023-03-10</td>\n",
       "      <td>Enterprise</td>\n",
       "    </tr>\n",
       "    <tr>\n",
       "      <th>3</th>\n",
       "      <td>4</td>\n",
       "      <td>Innovate Ltd</td>\n",
       "      <td>contact@innovate.com</td>\n",
       "      <td>Australia</td>\n",
       "      <td>2023-04-05</td>\n",
       "      <td>Mid-Market</td>\n",
       "    </tr>\n",
       "    <tr>\n",
       "      <th>4</th>\n",
       "      <td>5</td>\n",
       "      <td>Data Dynamics</td>\n",
       "      <td>team@datadyn.com</td>\n",
       "      <td>Germany</td>\n",
       "      <td>2023-05-12</td>\n",
       "      <td>Enterprise</td>\n",
       "    </tr>\n",
       "  </tbody>\n",
       "</table>\n",
       "</div>"
      ],
      "text/plain": [
       "   customer_id     customer_name                 email    country signup_date  \\\n",
       "0            1         Acme Corp      contact@acme.com        USA  2023-01-15   \n",
       "1            2     TechStart Inc    info@techstart.com     Canada  2023-02-20   \n",
       "2            3  Global Solutions   hello@globalsol.com         UK  2023-03-10   \n",
       "3            4      Innovate Ltd  contact@innovate.com  Australia  2023-04-05   \n",
       "4            5     Data Dynamics      team@datadyn.com    Germany  2023-05-12   \n",
       "\n",
       "  customer_segment  \n",
       "0       Enterprise  \n",
       "1              SMB  \n",
       "2       Enterprise  \n",
       "3       Mid-Market  \n",
       "4       Enterprise  "
      ]
     },
     "execution_count": 15,
     "metadata": {},
     "output_type": "execute_result"
    }
   ],
   "source": [
    "# Construct table URL for customers\n",
    "customers_table_url = f\"{config_file_path}#{share_name}.{schema_name}.customers\"\n",
    "\n",
    "# Load the table into a pandas DataFrame\n",
    "print(\"Loading customers table...\")\n",
    "customers_df = delta_sharing.load_as_pandas(customers_table_url)\n",
    "\n",
    "print(f\"✓ Loaded {len(customers_df)} customer records\\n\")\n",
    "\n",
    "print(\"\\nFirst few records:\")\n",
    "customers_df.head()"
   ]
  },
  {
   "cell_type": "markdown",
   "id": "2e96ab01",
   "metadata": {},
   "source": [
    "## Step 7: Query the Sales Transactions Table\n",
    "\n",
    "Now let's load the sales transactions data."
   ]
  },
  {
   "cell_type": "code",
   "execution_count": 16,
   "id": "c25e927d",
   "metadata": {},
   "outputs": [
    {
     "name": "stdout",
     "output_type": "stream",
     "text": [
      "Loading sales transactions table...\n",
      "✓ Loaded 10 transaction records\n",
      "\n",
      "\n",
      "First few records:\n"
     ]
    },
    {
     "data": {
      "text/html": [
       "<div>\n",
       "<style scoped>\n",
       "    .dataframe tbody tr th:only-of-type {\n",
       "        vertical-align: middle;\n",
       "    }\n",
       "\n",
       "    .dataframe tbody tr th {\n",
       "        vertical-align: top;\n",
       "    }\n",
       "\n",
       "    .dataframe thead th {\n",
       "        text-align: right;\n",
       "    }\n",
       "</style>\n",
       "<table border=\"1\" class=\"dataframe\">\n",
       "  <thead>\n",
       "    <tr style=\"text-align: right;\">\n",
       "      <th></th>\n",
       "      <th>transaction_id</th>\n",
       "      <th>customer_id</th>\n",
       "      <th>product_name</th>\n",
       "      <th>quantity</th>\n",
       "      <th>unit_price</th>\n",
       "      <th>total_amount</th>\n",
       "      <th>transaction_date</th>\n",
       "      <th>region</th>\n",
       "    </tr>\n",
       "  </thead>\n",
       "  <tbody>\n",
       "    <tr>\n",
       "      <th>0</th>\n",
       "      <td>101</td>\n",
       "      <td>1</td>\n",
       "      <td>Data Platform License</td>\n",
       "      <td>5</td>\n",
       "      <td>1000.00</td>\n",
       "      <td>5000.00</td>\n",
       "      <td>2024-01-15</td>\n",
       "      <td>North America</td>\n",
       "    </tr>\n",
       "    <tr>\n",
       "      <th>1</th>\n",
       "      <td>102</td>\n",
       "      <td>2</td>\n",
       "      <td>Analytics Suite</td>\n",
       "      <td>2</td>\n",
       "      <td>500.00</td>\n",
       "      <td>1000.00</td>\n",
       "      <td>2024-01-20</td>\n",
       "      <td>North America</td>\n",
       "    </tr>\n",
       "    <tr>\n",
       "      <th>2</th>\n",
       "      <td>103</td>\n",
       "      <td>3</td>\n",
       "      <td>Data Platform License</td>\n",
       "      <td>10</td>\n",
       "      <td>1000.00</td>\n",
       "      <td>10000.00</td>\n",
       "      <td>2024-02-05</td>\n",
       "      <td>EMEA</td>\n",
       "    </tr>\n",
       "    <tr>\n",
       "      <th>3</th>\n",
       "      <td>104</td>\n",
       "      <td>1</td>\n",
       "      <td>Storage Add-on</td>\n",
       "      <td>3</td>\n",
       "      <td>200.00</td>\n",
       "      <td>600.00</td>\n",
       "      <td>2024-02-10</td>\n",
       "      <td>North America</td>\n",
       "    </tr>\n",
       "    <tr>\n",
       "      <th>4</th>\n",
       "      <td>105</td>\n",
       "      <td>4</td>\n",
       "      <td>Analytics Suite</td>\n",
       "      <td>5</td>\n",
       "      <td>500.00</td>\n",
       "      <td>2500.00</td>\n",
       "      <td>2024-02-15</td>\n",
       "      <td>APAC</td>\n",
       "    </tr>\n",
       "  </tbody>\n",
       "</table>\n",
       "</div>"
      ],
      "text/plain": [
       "   transaction_id  customer_id           product_name  quantity unit_price  \\\n",
       "0             101            1  Data Platform License         5    1000.00   \n",
       "1             102            2        Analytics Suite         2     500.00   \n",
       "2             103            3  Data Platform License        10    1000.00   \n",
       "3             104            1         Storage Add-on         3     200.00   \n",
       "4             105            4        Analytics Suite         5     500.00   \n",
       "\n",
       "  total_amount transaction_date         region  \n",
       "0      5000.00       2024-01-15  North America  \n",
       "1      1000.00       2024-01-20  North America  \n",
       "2     10000.00       2024-02-05           EMEA  \n",
       "3       600.00       2024-02-10  North America  \n",
       "4      2500.00       2024-02-15           APAC  "
      ]
     },
     "execution_count": 16,
     "metadata": {},
     "output_type": "execute_result"
    }
   ],
   "source": [
    "# Construct table URL for sales transactions\n",
    "sales_table_url = f\"{config_file_path}#{share_name}.{schema_name}.sales_transactions\"\n",
    "\n",
    "# Load the table into a pandas DataFrame\n",
    "print(\"Loading sales transactions table...\")\n",
    "sales_df = delta_sharing.load_as_pandas(sales_table_url)\n",
    "\n",
    "print(f\"✓ Loaded {len(sales_df)} transaction records\\n\")\n",
    "\n",
    "print(\"\\nFirst few records:\")\n",
    "sales_df.head()"
   ]
  },
  {
   "cell_type": "markdown",
   "id": "014aae63",
   "metadata": {},
   "source": [
    "## Step 9: Visualization 1 - Transaction Distribution per Customer\n",
    "\n",
    "Let's create a histogram showing the distribution of transactions per customer."
   ]
  },
  {
   "cell_type": "markdown",
   "id": "9903253d",
   "metadata": {},
   "source": [
    "## Step 10: Visualization 2 - Revenue by Customer Segment\n",
    "\n",
    "Let's join customers and sales data to analyze revenue patterns by customer segment."
   ]
  },
  {
   "cell_type": "code",
   "execution_count": null,
   "id": "71539e33",
   "metadata": {},
   "outputs": [
    {
     "data": {
      "image/png": "[encoded data removed]",
      "text/plain": [
       "<Figure size 1600x600 with 2 Axes>"
      ]
     },
     "metadata": {},
     "output_type": "display_data"
    },
    {
     "name": "stdout",
     "output_type": "stream",
     "text": [
      "✓ Customer demographics visualizations created\n"
     ]
    }
   ],
   "source": [
    "# Merge customer and sales data\n",
    "if 'customer_id' in sales_df.columns and 'customer_id' in customers_df.columns:\n",
    "    merged_df = sales_df.merge(customers_df, on='customer_id', how='left')\n",
    "    \n",
    "    # Create a comprehensive visualization\n",
    "    fig, axes = plt.subplots(1, 2, figsize=(16, 6))\n",
    "    fig.suptitle('Revenue Analysis by Customer Segment', fontsize=16, fontweight='bold')\n",
    "    \n",
    "    # Plot 1: Total revenue by customer segment\n",
    "    if 'customer_segment' in merged_df.columns and 'total_amount' in merged_df.columns:\n",
    "        segment_revenue = merged_df.groupby('customer_segment')['total_amount'].sum().sort_values(ascending=True)\n",
    "        \n",
    "        # Horizontal bar chart\n",
    "        colors = ['#e74c3c', '#3498db', '#2ecc71']\n",
    "        sns.barplot(x=segment_revenue.values, y=segment_revenue.index, palette=colors, ax=axes[0])\n",
    "        axes[0].set_xlabel('Total Revenue ($)', fontsize=12)\n",
    "        axes[0].set_ylabel('Customer Segment', fontsize=12)\n",
    "        axes[0].set_title('Total Revenue by Segment', fontsize=13, fontweight='bold')\n",
    "        axes[0].grid(axis='x', alpha=0.3)\n",
    "        \n",
    "        # Add value labels\n",
    "        for i, v in enumerate(segment_revenue.values):\n",
    "            axes[0].text(v + max(segment_revenue.values) * 0.02, i, f'${v:,.0f}', \n",
    "                        va='center', fontsize=10, fontweight='bold')\n",
    "        \n",
    "        # Plot 2: Average transaction value by segment with transaction count\n",
    "        segment_stats = merged_df.groupby('customer_segment').agg({\n",
    "            'total_amount': ['mean', 'count']\n",
    "        }).round(2)\n",
    "        segment_stats.columns = ['avg_amount', 'txn_count']\n",
    "        segment_stats = segment_stats.sort_values('avg_amount', ascending=True)\n",
    "        \n",
    "        # Create bar plot with different colors\n",
    "        bars = axes[1].barh(segment_stats.index, segment_stats['avg_amount'], color=colors)\n",
    "        axes[1].set_xlabel('Average Transaction Value ($)', fontsize=12)\n",
    "        axes[1].set_ylabel('Customer Segment', fontsize=12)\n",
    "        axes[1].set_title('Avg Transaction Value by Segment', fontsize=13, fontweight='bold')\n",
    "        axes[1].grid(axis='x', alpha=0.3)\n",
    "        \n",
    "        # Add value labels with transaction count\n",
    "        for i, (val, count) in enumerate(zip(segment_stats['avg_amount'].values, segment_stats['txn_count'].values)):\n",
    "            axes[1].text(val + max(segment_stats['avg_amount'].values) * 0.02, i, \n",
    "                        f'${val:,.0f}\\n({int(count)} txns)', \n",
    "                        va='center', fontsize=9, fontweight='bold')\n",
    "        \n",
    "        plt.tight_layout()\n",
    "        plt.show()\n",
    "        \n",
    "        # Print summary statistics\n",
    "        print(\"\\n\" + \"=\"*70)\n",
    "        print(\"REVENUE SUMMARY BY CUSTOMER SEGMENT\")\n",
    "        print(\"=\"*70)\n",
    "        summary = merged_df.groupby('customer_segment').agg({\n",
    "            'total_amount': ['sum', 'mean', 'count'],\n",
    "            'customer_id': 'nunique'\n",
    "        }).round(2)\n",
    "        summary.columns = ['Total Revenue', 'Avg Transaction', 'Transactions', 'Unique Customers']\n",
    "        summary['Revenue per Customer'] = (summary['Total Revenue'] / summary['Unique Customers']).round(2)\n",
    "        summary = summary.sort_values('Total Revenue', ascending=False)\n",
    "        \n",
    "        for segment in summary.index:\n",
    "            print(f\"\\n{segment}:\")\n",
    "            print(f\"  Total Revenue:        ${summary.loc[segment, 'Total Revenue']:>12,.2f}\")\n",
    "            print(f\"  Avg Transaction:      ${summary.loc[segment, 'Avg Transaction']:>12,.2f}\")\n",
    "            print(f\"  Total Transactions:    {summary.loc[segment, 'Transactions']:>12.0f}\")\n",
    "            print(f\"  Unique Customers:      {summary.loc[segment, 'Unique Customers']:>12.0f}\")\n",
    "            print(f\"  Revenue per Customer: ${summary.loc[segment, 'Revenue per Customer']:>12,.2f}\")\n",
    "        \n",
    "        print(\"\\n\" + \"=\"*70)\n",
    "        print(\"✓ Revenue analysis visualizations created successfully\")\n",
    "    else:\n",
    "        axes[0].text(0.5, 0.5, 'Required columns not found', ha='center', va='center')\n",
    "        axes[1].text(0.5, 0.5, 'Required columns not found', ha='center', va='center')\n",
    "        plt.show()\n",
    "else:\n",
    "    print(\"Cannot create visualization - customer_id column not found in both tables\")\n",
    "    print(f\"Sales columns: {sales_df.columns.tolist()}\")\n",
    "    print(f\"Customer columns: {customers_df.columns.tolist()}\")"
   ]
  },
  {
   "cell_type": "markdown",
   "id": "b4ce2268",
   "metadata": {},
   "source": [
    "## Step 11: Data Quality Check\n",
    "\n",
    "Let's verify the data integrity of our merged dataset."
   ]
  },
  {
   "cell_type": "code",
   "execution_count": null,
   "id": "289b68e7",
   "metadata": {},
   "outputs": [
    {
     "name": "stdout",
     "output_type": "stream",
     "text": [
      "✓ Merged dataset created with 10 records\n",
      "\n",
      "Merged columns: ['transaction_id', 'customer_id', 'product_name', 'quantity', 'unit_price', 'total_amount', 'transaction_date', 'region', 'customer_name', 'email', 'country', 'signup_date', 'customer_segment']\n"
     ]
    }
   ],
   "source": [
    "# Verify merge quality\n",
    "if 'customer_id' in sales_df.columns and 'customer_id' in customers_df.columns:\n",
    "    merged_df = sales_df.merge(customers_df, on='customer_id', how='left')\n",
    "    \n",
    "    print(\"DATA QUALITY METRICS\")\n",
    "    print(\"=\"*70)\n",
    "    print(f\"Total sales records:              {len(sales_df):>10,}\")\n",
    "    print(f\"Total customer records:           {len(customers_df):>10,}\")\n",
    "    print(f\"Merged records:                   {len(merged_df):>10,}\")\n",
    "    print(f\"Unique customers in sales:        {sales_df['customer_id'].nunique():>10,}\")\n",
    "    print(f\"Unique customers in master data:  {customers_df['customer_id'].nunique():>10,}\")\n",
    "    print(f\"\\nMissing customer info (nulls):    {merged_df['customer_name'].isna().sum():>10,}\")\n",
    "    print(f\"Data completeness:                {(1 - merged_df['customer_name'].isna().sum()/len(merged_df))*100:>9.1f}%\")\n",
    "    print(\"=\"*70)\n",
    "    \n",
    "    # Show sample of merged data\n",
    "    print(\"\\n✓ Sample merged data:\")\n",
    "    display_cols = ['customer_name', 'customer_segment', 'product_name', 'total_amount', 'region']\n",
    "    available_cols = [col for col in display_cols if col in merged_df.columns]\n",
    "    print(merged_df[available_cols].head(10).to_string(index=False))\n",
    "    \n",
    "    print(\"\\n✓ Data quality check complete\")\n",
    "else:\n",
    "    print(\"Cannot perform quality check - customer_id not found in both datasets\")"
   ]
  },
  {
   "cell_type": "markdown",
   "id": "bf842b50",
   "metadata": {},
   "source": [
    "## Summary\n",
    "\n",
    "🎉 **Demo Complete!**\n",
    "\n",
    "In this notebook, we successfully demonstrated D2O (Databricks-to-Open) Delta Sharing as a recipient:\n",
    "\n",
    "✅ **What we accomplished:**\n",
    "1. Loaded credentials from environment variable\n",
    "2. Connected to the Delta Sharing endpoint\n",
    "3. Listed available shares, schemas, and tables\n",
    "4. Queried shared data using pandas\n",
    "5. Performed data analysis and generated summary statistics\n",
    "6. Created multiple visualizations using seaborn and matplotlib\n",
    "7. Merged datasets for advanced analytics\n",
    "\n",
    "**Key Benefits of D2O Delta Sharing:**\n",
    "- 🚀 **No Data Duplication**: Access live data without copying\n",
    "- 🔒 **Secure**: Token-based authentication\n",
    "- ⚡ **Real-time**: Always get the latest data from provider\n",
    "- 💰 **Cost-effective**: No storage costs for recipients\n",
    "- 🛠️ **Tool Agnostic**: Use any tool that supports Delta Sharing (Python, Power BI, Tableau, etc.)\n",
    "- 🌐 **Open Standard**: Based on open Delta Sharing protocol\n",
    "\n",
    "**Next Steps:**\n",
    "- Explore more complex queries and aggregations\n",
    "- Integrate with your existing data pipelines\n",
    "- Build dashboards using Power BI or other BI tools\n",
    "- Set up automated reporting workflows"
   ]
  },
  {
   "cell_type": "markdown",
   "id": "f55dd707",
   "metadata": {},
   "source": [
    "## 📚 Additional Resources\n",
    "\n",
    "### Documentation\n",
    "- **[START-HERE.md](../START-HERE.md)** - Quick navigation guide\n",
    "- **[README-D2O-DEMO.md](../README-D2O-DEMO.md)** - Complete setup instructions\n",
    "- **[QUICKSTART-D2O.md](../QUICKSTART-D2O.md)** - Quick reference card\n",
    "- **[ARCHITECTURE-D2O.md](../ARCHITECTURE-D2O.md)** - System architecture\n",
    "- **[EXPECTED-OUTPUT.md](../EXPECTED-OUTPUT.md)** - What to expect\n",
    "\n",
    "### External Links\n",
    "- [Databricks Delta Sharing Docs](https://docs.databricks.com/delta-sharing/)\n",
    "- [Delta Sharing Protocol](https://github.com/delta-io/delta-sharing)\n",
    "- [Python delta-sharing Library](https://github.com/delta-io/delta-sharing/tree/main/python)\n",
    "\n",
    "### Troubleshooting\n",
    "If you encounter issues:\n",
    "1. Check container logs: `docker logs d2o-demo`\n",
    "2. Verify token expiration in config.share\n",
    "3. Review provider notebook for share/recipient setup\n",
    "4. See troubleshooting section in README-D2O-DEMO.md\n",
    "\n",
    "---\n",
    "**© 2025 Databricks, Inc. All rights reserved.**"
   ]
  }
 ],
 "metadata": {
  "kernelspec": {
   "display_name": "Python 3 (ipykernel)",
   "language": "python",
   "name": "python3"
  },
  "language_info": {
   "codemirror_mode": {
    "name": "ipython",
    "version": 3
   },
   "file_extension": ".py",
   "mimetype": "text/x-python",
   "name": "python",
   "nbconvert_exporter": "python",
   "pygments_lexer": "ipython3",
   "version": "3.10.19"
  }
 },
 "nbformat": 4,
 "nbformat_minor": 5
}
