{
 "cells": [
  {
   "cell_type": "markdown",
   "id": "de43bb54",
   "metadata": {},
   "source": [
    "# D2O Delta Sharing - Recipient Demo\n",
    "\n",
    "## Overview\n",
    "This notebook demonstrates how to access Databricks Delta Sharing data as an **open recipient** (non-Databricks user). \n",
    "\n",
    "In this demo, we'll:\n",
    "1. Load credentials from the config file\n",
    "2. Connect to the Delta Share\n",
    "3. List available shares and tables\n",
    "4. Query the shared data using pandas\n",
    "5. Create visualizations using seaborn\n",
    "\n",
    "**Prerequisites:**\n",
    "- The provider has created a share and recipient\n",
    "- You have received the credential file (`config.share`)\n",
    "- This notebook is running in a Docker container with the necessary libraries"
   ]
  },
  {
   "cell_type": "markdown",
   "id": "d271986b",
   "metadata": {},
   "source": [
    "## Step 1: Import Required Libraries"
   ]
  },
  {
   "cell_type": "code",
   "execution_count": null,
   "id": "47827ea7",
   "metadata": {
    "vscode": {
     "languageId": "plaintext"
    }
   },
   "outputs": [],
   "source": [
    "import delta_sharing\n",
    "import pandas as pd\n",
    "import seaborn as sns\n",
    "import matplotlib.pyplot as plt\n",
    "import warnings\n",
    "\n",
    "# Configure matplotlib and seaborn\n",
    "plt.style.use('seaborn-v0_8-darkgrid')\n",
    "sns.set_palette(\"husl\")\n",
    "warnings.filterwarnings('ignore')\n",
    "\n",
    "print(\"✓ Libraries imported successfully\")\n",
    "print(f\"Delta Sharing version: {delta_sharing.__version__}\")\n",
    "print(f\"Pandas version: {pd.__version__}\")"
   ]
  },
  {
   "cell_type": "markdown",
   "id": "eb013a92",
   "metadata": {},
   "source": [
    "## Step 2: Load Delta Sharing Credentials\n",
    "\n",
    "The credentials are mounted as a file at `/tmp/config.share` when running the Docker container."
   ]
  },
  {
   "cell_type": "code",
   "execution_count": null,
   "id": "87a7144c",
   "metadata": {},
   "outputs": [],
   "source": [
    "# Path to the mounted credential file\n",
    "config_file_path = '/tmp/config.share'\n",
    "\n",
    "# Create a SharingClient using the mounted config file\n",
    "client = delta_sharing.SharingClient(config_file_path)\n",
    "\n",
    "print(\"✓ Delta Sharing client initialized successfully\")\n",
    "print(f\"✓ Using config from: {config_file_path}\")"
   ]
  },
  {
   "cell_type": "markdown",
   "id": "da111374",
   "metadata": {},
   "source": [
    "## Step 3: List Available Shares\n",
    "\n",
    "Let's discover what shares are available to us."
   ]
  },
  {
   "cell_type": "code",
   "execution_count": null,
   "id": "0f82e7ca",
   "metadata": {},
   "outputs": [],
   "source": [
    "# List all available shares\n",
    "shares = client.list_shares()\n",
    "\n",
    "print(f\"✓ Found {len(shares)} share(s)\\n\")\n",
    "for share in shares:\n",
    "    print(f\"Share: {share.name}\")\n",
    "    if hasattr(share, 'id'):\n",
    "        print(f\"  ID: {share.id}\")"
   ]
  },
  {
   "cell_type": "markdown",
   "id": "b5b1639c",
   "metadata": {},
   "source": [
    "## Step 4: List Schemas in the Share\n",
    "\n",
    "Now let's see what schemas (databases) are available in the share."
   ]
  },
  {
   "cell_type": "code",
   "execution_count": null,
   "id": "c7bb88b3",
   "metadata": {},
   "outputs": [],
   "source": [
    "# Get the first share (assuming it's the external_retail share)\n",
    "share_name = shares[0].name\n",
    "print(f\"Working with share: {share_name}\\n\")\n",
    "\n",
    "# List schemas in the share\n",
    "schemas = client.list_schemas(delta_sharing.Share(name=share_name))\n",
    "\n",
    "print(f\"✓ Found {len(schemas)} schema(s)\\n\")\n",
    "for schema in schemas:\n",
    "    print(f\"Schema: {schema.name}\")\n",
    "    if hasattr(schema, 'share'):\n",
    "        print(f\"  Share: {schema.share}\")"
   ]
  },
  {
   "cell_type": "markdown",
   "id": "a9af2b76",
   "metadata": {},
   "source": [
    "## Step 5: List Tables in the Schema\n",
    "\n",
    "Let's see what tables are available for us to query."
   ]
  },
  {
   "cell_type": "code",
   "execution_count": null,
   "id": "fe636973",
   "metadata": {},
   "outputs": [],
   "source": [
    "# Get the first schema\n",
    "schema_name = schemas[0].name\n",
    "print(f\"Working with schema: {schema_name}\\n\")\n",
    "\n",
    "# List all tables in the schema\n",
    "tables = client.list_tables(delta_sharing.Schema(name=schema_name, share=share_name))\n",
    "\n",
    "print(f\"✓ Found {len(tables)} table(s)\\n\")\n",
    "for i, table in enumerate(tables, 1):\n",
    "    print(f\"{i}. Table: {table.name}\")\n",
    "    if hasattr(table, 'share'):\n",
    "        print(f\"   Share: {table.share}\")\n",
    "    if hasattr(table, 'schema'):\n",
    "        print(f\"   Schema: {table.schema}\")\n",
    "    print()"
   ]
  },
  {
   "cell_type": "markdown",
   "id": "f1268e84",
   "metadata": {},
   "source": [
    "## Step 6: Query the Customers Table\n",
    "\n",
    "Let's load the customers table into a pandas DataFrame and explore the data."
   ]
  },
  {
   "cell_type": "code",
   "execution_count": null,
   "id": "382f9981",
   "metadata": {},
   "outputs": [],
   "source": [
    "# Construct table URL for customers\n",
    "customers_table_url = f\"{config_file_path}#{share_name}.{schema_name}.customers\"\n",
    "\n",
    "# Load the table into a pandas DataFrame\n",
    "print(\"Loading customers table...\")\n",
    "customers_df = delta_sharing.load_as_pandas(customers_table_url)\n",
    "\n",
    "print(f\"✓ Loaded {len(customers_df)} customer records\\n\")\n",
    "\n",
    "print(\"\\nFirst few records:\")\n",
    "customers_df.head()"
   ]
  },
  {
   "cell_type": "markdown",
   "id": "2e96ab01",
   "metadata": {},
   "source": [
    "## Step 7: Query the Sales Transactions Table\n",
    "\n",
    "Now let's load the sales transactions data."
   ]
  },
  {
   "cell_type": "code",
   "execution_count": null,
   "id": "c25e927d",
   "metadata": {},
   "outputs": [],
   "source": [
    "# Construct table URL for sales transactions\n",
    "sales_table_url = f\"{config_file_path}#{share_name}.{schema_name}.sales_transactions\"\n",
    "\n",
    "# Load the table into a pandas DataFrame\n",
    "print(\"Loading sales transactions table...\")\n",
    "sales_df = delta_sharing.load_as_pandas(sales_table_url)\n",
    "\n",
    "print(f\"✓ Loaded {len(sales_df)} transaction records\\n\")\n",
    "\n",
    "print(\"\\nFirst few records:\")\n",
    "sales_df.head()"
   ]
  },
  {
   "cell_type": "markdown",
   "id": "fce1451d",
   "metadata": {},
   "source": [
    "## Step 8: Visualization 2 - Revenue by Customer Segment\n",
    "\n",
    "Join customer and sales data to show total revenue by segment."
   ]
  },
  {
   "cell_type": "code",
   "execution_count": null,
   "id": "2ed0b3b7",
   "metadata": {},
   "outputs": [],
   "source": [
    "# Merge customer and sales data\n",
    "merged_df = sales_df.merge(customers_df, on='customer_id', how='left')\n",
    "\n",
    "# Aggregate revenue by customer segment\n",
    "segment_revenue = merged_df.groupby('customer_segment')['total_amount'].sum().sort_values(ascending=False).reset_index()\n",
    "\n",
    "# Create a beautiful bar chart\n",
    "plt.figure(figsize=(12, 6))\n",
    "ax = sns.barplot(data=segment_revenue, x='customer_segment', y='total_amount', \n",
    "                 palette=['#2ecc71', '#3498db', '#e74c3c'], edgecolor='white', linewidth=2)\n",
    "\n",
    "plt.title('Total Revenue by Customer Segment', fontsize=16, fontweight='bold', pad=20)\n",
    "plt.xlabel('Customer Segment', fontsize=13)\n",
    "plt.ylabel('Total Revenue ($)', fontsize=13)\n",
    "plt.grid(axis='y', alpha=0.3, linestyle='--')\n",
    "\n",
    "# Add value labels on bars\n",
    "for i, bar in enumerate(ax.patches):\n",
    "    height = bar.get_height()\n",
    "    ax.text(bar.get_x() + bar.get_width()/2., height,\n",
    "            f'${height:,.0f}',\n",
    "            ha='center', va='bottom', fontsize=11, fontweight='bold')\n",
    "\n",
    "plt.tight_layout()\n",
    "plt.show()\n",
    "\n",
    "# Print summary\n",
    "total_revenue = segment_revenue['total_amount'].sum()\n",
    "print(f\"\\n✓ Visualization complete\")\n",
    "print(f\"Total Revenue: ${total_revenue:,.2f}\")"
   ]
  },
  {
   "cell_type": "markdown",
   "id": "bf842b50",
   "metadata": {},
   "source": [
    "## Summary\n",
    "\n",
    "🎉 **Demo Complete!**\n",
    "\n",
    "In this notebook, we successfully demonstrated D2O (Databricks-to-Open) Delta Sharing as a recipient:\n",
    "\n",
    "✅ **What we accomplished:**\n",
    "1. Loaded credentials from environment variable\n",
    "2. Connected to the Delta Sharing endpoint\n",
    "3. Listed available shares, schemas, and tables\n",
    "4. Queried shared data using pandas\n",
    "5. Performed data analysis and generated summary statistics\n",
    "6. Created a visualization using seaborn and matplotlib\n",
    "\n",
    "**Key Benefits of D2O Delta Sharing:**\n",
    "- 🚀 **No Data Duplication**: Access live data without copying\n",
    "- 🔒 **Secure**: Token-based authentication\n",
    "- ⚡ **Real-time**: Always get the latest data from provider\n",
    "- 💰 **Cost-effective**: No storage costs for recipients\n",
    "- 🛠️ **Tool Agnostic**: Use any tool that supports Delta Sharing (Python, Power BI, Tableau, etc.)\n",
    "- 🌐 **Open Standard**: Based on open Delta Sharing protocol\n",
    "\n",
    "**Next Steps:**\n",
    "- Explore more complex queries and aggregations\n",
    "- Integrate with your existing data pipelines\n",
    "- Build dashboards using Power BI or other BI tools\n",
    "- Set up automated reporting workflows"
   ]
  },
  {
   "cell_type": "markdown",
   "id": "f55dd707",
   "metadata": {},
   "source": [
    "## 📚 Additional Resources\n",
    "\n",
    "### External Links\n",
    "- [Databricks Delta Sharing Docs](https://docs.databricks.com/delta-sharing/)\n",
    "- [Delta Sharing Protocol](https://github.com/delta-io/delta-sharing)\n",
    "- [Python delta-sharing Library](https://github.com/delta-io/delta-sharing/tree/main/python)\n",
    "\n",
    "---\n",
    "**© 2025 Databricks, Inc. All rights reserved.**"
   ]
  }
 ],
 "metadata": {
  "kernelspec": {
   "display_name": "Python 3 (ipykernel)",
   "language": "python",
   "name": "python3"
  },
  "language_info": {
   "codemirror_mode": {
    "name": "ipython",
    "version": 3
   },
   "file_extension": ".py",
   "mimetype": "text/x-python",
   "name": "python",
   "nbconvert_exporter": "python",
   "pygments_lexer": "ipython3",
   "version": "3.10.19"
  }
 },
 "nbformat": 4,
 "nbformat_minor": 5
}
