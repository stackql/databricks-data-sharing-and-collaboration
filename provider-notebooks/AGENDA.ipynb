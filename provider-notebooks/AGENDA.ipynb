{
 "cells": [
  {
   "cell_type": "markdown",
   "metadata": {
    "application/vnd.databricks.v1+cell": {
     "cellMetadata": {},
     "inputWidgets": {},
     "nuid": "402097d1-bb11-4730-8feb-e18b0909eade",
     "showTitle": false,
     "tableResultSettingsMap": {},
     "title": ""
    }
   },
   "source": [
    "\n",
    "<div style=\"text-align: center; line-height: 0; padding-top: 9px;\">\n",
    "  <img\n",
    "    src=\"https://databricks.com/wp-content/uploads/2018/03/db-academy-rgb-1200px.png\"\n",
    "    alt=\"Databricks Learning\"\n",
    "  >\n",
    "</div>\n"
   ]
  },
  {
   "cell_type": "markdown",
   "metadata": {
    "application/vnd.databricks.v1+cell": {
     "cellMetadata": {},
     "inputWidgets": {},
     "nuid": "aa41a648-e62d-4ad2-8ef1-76186b0bdec7",
     "showTitle": false,
     "tableResultSettingsMap": {},
     "title": ""
    }
   },
   "source": [
    "# Databricks Data Sharing and Collaboration\n",
    "\n",
    "This hands-on course provides practical demonstrations and labs for implementing Delta Sharing, Databricks' open protocol for secure data sharing. You'll learn how to share live data across organizations without copying or moving it, enabling real-time collaboration between data providers and recipients.\n",
    "\n",
    "The course is structured into different components:\n",
    "\n",
    "- **Provider Workspace**: Where data is prepared, shares are created, and recipients are configured (works with Free or paid editions)\n",
    "- **Recipient Workspace**: Where shared data is accessed and consumed\n",
    "- **Open Client**: Used to demonstrate Databricks-to-Open Sharing (D2O), where a Share can be accessed outside of a Databricks workspace by a supported client - such as Pandas or PowerBI\n",
    "\n",
    "Throughout the demonstrations and labs, you'll work with both perspectives to understand the complete Delta Sharing workflow."
   ]
  },
  {
   "cell_type": "markdown",
   "metadata": {
    "application/vnd.databricks.v1+cell": {
     "cellMetadata": {},
     "inputWidgets": {},
     "nuid": "5fb2c2ef-4d51-451d-8d4c-cb9ea8f582eb",
     "showTitle": false,
     "tableResultSettingsMap": {},
     "title": ""
    }
   },
   "source": [
    "\n",
    "<div style=\"text-align: center; line-height: 0; padding-top: 9px;\">\n",
    "<img src=\"https://mermaid.ink/img/Z3JhcGggTFIKICAgIHN1YmdyYXBoIFByb3ZpZGVyWyJQcm92aWRlciBXb3Jrc3BhY2UiXQogICAgICAgIEFbU291cmNlIFRhYmxlc10gLS0+IEJbRGVsdGEgU2hhcmVdCiAgICBlbmQKICAgIAogICAgQiAtLT58RGVsdGEgU2hhcmluZyBQcm90b2NvbCA8aT5EMkQ8L2k+fCBDCiAgICBCIC0tPnxEZWx0YSBTaGFyaW5nIFByb3RvY29sIDxpPkQyTzwvaT58IEQKICAgIAogICAgc3ViZ3JhcGggUmVjaXBpZW50WyJSZWNpcGllbnQgV29ya3NwYWNlIl0KICAgICAgICBDW01vdW50ZWQgQ2F0YWxvZ10KICAgIGVuZAogICAgCiAgICBEW09wZW4gQ2xpZW50XQogICAgCiAgICBjbGFzc0RlZiBwcm92aWRlclN0eWxlIGZpbGw6I0ZGRjRFNixzdHJva2U6I0ZGOTgwMCxzdHJva2Utd2lkdGg6MnB4CiAgICBjbGFzc0RlZiByZWNpcGllbnRTdHlsZSBmaWxsOiNFOEY1RTksc3Ryb2tlOiM0Q0FGNTAsc3Ryb2tlLXdpZHRoOjJweAogICAgY2xhc3NEZWYgZXh0ZXJuYWxTdHlsZSBmaWxsOiNGM0U1RjUsc3Ryb2tlOiM5QzI3QjAsc3Ryb2tlLXdpZHRoOjJweAogICAgCiAgICBjbGFzcyBBLEIgcHJvdmlkZXJTdHlsZQogICAgY2xhc3MgQyByZWNpcGllbnRTdHlsZQogICAgY2xhc3MgRCBleHRlcm5hbFN0eWxl\" alt=\"Delta Sharing Architecture\">\n",
    "</div>"
   ]
  },
  {
   "cell_type": "markdown",
   "metadata": {
    "application/vnd.databricks.v1+cell": {
     "cellMetadata": {},
     "inputWidgets": {},
     "nuid": "f3d1f206-4ff1-44e1-a67a-fc8e2dba24a2",
     "showTitle": false,
     "tableResultSettingsMap": {},
     "title": ""
    }
   },
   "source": [
    "## Prerequisites\n",
    "\n",
    "The content was developed for participants with these skills/knowledge/abilities:\n",
    "- Basic familiarity with Databricks workspace navigation\n",
    "- Understanding of SQL and data tables\n",
    "- General knowledge of data sharing concepts from the accompanying slides included in the course"
   ]
  },
  {
   "cell_type": "markdown",
   "metadata": {
    "application/vnd.databricks.v1+cell": {
     "cellMetadata": {},
     "inputWidgets": {},
     "nuid": "569fe23d-6793-4253-b7ae-4f04af7aa00e",
     "showTitle": false,
     "tableResultSettingsMap": {},
     "title": ""
    }
   },
   "source": [
    "## Course Agenda\n",
    "\n",
    "| Lessons | Description | Time |\n",
    "|---------|-------------|------|\n",
    "| **[Prerequisite 1 - Git Folder Setup]($./_Prerequisites/1.1 Git Folder Setup)** | *Clone course materials into your workspace* | 5 mins |\n",
    "| **[Prerequisite 2 - Enable External Sharing]($./_Prerequisites/1.2 Enable External Sharing)** *(Optional)*| *Configure metastore for external data sharing (reference only for Free Edition)* | 5 mins |\n",
    "| **Module 2 - Delta Sharing Deep Dive** | *Hands-on implementation of Delta Sharing* | 120 mins |\n",
    "| **[2.1 DEMO Implementing Delta Sharing (D2D)]($./Module 2 - Delta Sharing Deep Dive/2.1 DEMO Implementing Delta Sharing %28D2D%29)** | - *Provider-side: Create shares, add tables, and configure recipients*  - *Recipient-side: Connect to and query shared data* | 40 mins |\n"
   ]
  },
  {
   "cell_type": "markdown",
   "metadata": {
    "application/vnd.databricks.v1+cell": {
     "cellMetadata": {},
     "inputWidgets": {},
     "nuid": "dd37c079-98be-46a4-b52f-87748a538c33",
     "showTitle": false,
     "tableResultSettingsMap": {},
     "title": ""
    }
   },
   "source": [
    "## Requirements\n",
    "\n",
    "Please review the following requirements before starting the lessons:\n",
    "\n",
    "- **Two Databricks workspaces** (or one Free Edition workspace that can as the provider)\n",
    "- **Metastore admin access** (for production environments; Free Edition handles this automatically)\n",
    "\n",
    "ℹ️ Databricks __Serverless Compute__ *OR* __Classic Compute__ can be used for all notebooks in this course"
   ]
  },
  {
   "cell_type": "markdown",
   "metadata": {
    "application/vnd.databricks.v1+cell": {
     "cellMetadata": {},
     "inputWidgets": {},
     "nuid": "a077c8b0-a546-494e-8c8f-eff8326c8aed",
     "showTitle": false,
     "tableResultSettingsMap": {},
     "title": ""
    }
   },
   "source": [
    "&copy; 2025 Databricks, Inc. All rights reserved. Apache, Apache Spark, Spark, the Spark Logo, Apache Iceberg, Iceberg, and the Apache Iceberg logo are trademarks of the <a href=\"https://www.apache.org/\" target=\"_blank\">Apache Software Foundation</a>.<br/><br/><a href=\"https://databricks.com/privacy-policy\" target=\"_blank\">Privacy Policy</a> | <a href=\"https://databricks.com/terms-of-use\" target=\"_blank\">Terms of Use</a> | <a href=\"https://help.databricks.com/\" target=\"_blank\">Support</a>"
   ]
  }
 ],
 "metadata": {
  "application/vnd.databricks.v1+notebook": {
   "computePreferences": null,
   "dashboards": [],
   "environmentMetadata": null,
   "inputWidgetPreferences": null,
   "language": "python",
   "notebookMetadata": {
    "pythonIndentUnit": 4
   },
   "notebookName": "AGENDA",
   "widgets": {}
  },
  "language_info": {
   "name": "python"
  }
 },
 "nbformat": 4,
 "nbformat_minor": 0
}
