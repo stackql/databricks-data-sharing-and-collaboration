{
 "cells": [
  {
   "cell_type": "markdown",
   "metadata": {
    "application/vnd.databricks.v1+cell": {
     "cellMetadata": {},
     "inputWidgets": {},
     "nuid": "402097d1-bb11-4730-8feb-e18b0909eade",
     "showTitle": false,
     "tableResultSettingsMap": {},
     "title": ""
    }
   },
   "source": [
    "\n",
    "<div style=\"text-align: center; line-height: 0; padding-top: 9px;\">\n",
    "  <img\n",
    "    src=\"https://databricks.com/wp-content/uploads/2018/03/db-academy-rgb-1200px.png\"\n",
    "    alt=\"Databricks Learning\"\n",
    "  >\n",
    "</div>\n"
   ]
  },
  {
   "cell_type": "markdown",
   "metadata": {
    "application/vnd.databricks.v1+cell": {
     "cellMetadata": {},
     "inputWidgets": {},
     "nuid": "6d4003f4-2e21-4e91-a329-3a19b274d7c5",
     "showTitle": false,
     "tableResultSettingsMap": {},
     "title": ""
    }
   },
   "source": [
    "# Introduction to Python for Data Science & Data Engineering\n",
    "This course is intended for complete beginners to Python, providing the basics of programmatically interacting with data. The course begins with a basic introduction to programming expressions, variables, and data types. It then progresses into conditional and control statements, followed by an introduction to methods and functions. You will learn the basics of data structures, classes, and various string and utility functions. Lastly, you will gain experience using the Pandas library for data analysis and visualization, as well as the fundamentals of cloud computing. Throughout the course, you will gain hands-on practice through lab exercises, with additional resources to deepen your knowledge of programming after the class.\n",
    "\n",
    "---\n",
    "\n",
    "## Prerequisites\n",
    "The content was developed for participants with these skills/knowledge/abilities: \n",
    "- General familiarity with one or more programming languages\n",
    "\n",
    "\n",
    "---\n",
    "## Course Agenda\n",
    " Lessons | Description |\n",
    "|-------|-------------|\n",
    " **Introductions & Setup**     | *Registration, courseware & introductions*|\n",
    " **[Databricks Environment]($./ITP 00 - Databricks Environment)** | *Overview of the Databricks environment and course content* | \n",
    " **[Data Types and Variables]($./ITP 01 - Data Types and Variables) & [Lab]($./Labs/ITP 01L - Data Types and Variables Lab)**  |  *Built-in data types, variable assignment statements, related functions* | \n",
    " **[Control Flow]($./ITP 02 - Control Flow) & [Lab]($./Labs/ITP 02L - Control Flow Lab)**    | *Control flow of python programs using conditional statements* |\n",
    " **[Functions]($./ITP 03 - Functions) & [Lab]($./Labs/ITP 03L - Functions Lab)** | *Write and use functions to reuse and parameterize code* |\n",
    " **[Collection Types and Methods]($./ITP 04 - Collection Types and Methods) & [Lab]($./Labs/ITP 04L - Collection Types and Methods Lab)**      | *Advanced data types and methods*|\n",
    " **[Loops]($./ITP 05 - Loops) & [Lab]($./Labs/ITP 05L - Loops Lab)**| *More control flow statements with for-loops* |\n",
    " **[Exceptions]($./ITP 06 - Exceptions)**| *Assert statements and exception handling*  |\n",
    " **[Classes]($./ITP 07 - Classes) & [Lab]($./Labs/ITP 07L - Classes Lab)** | *Classes and custom data types* |\n",
    " **[Cloud Computing 101]($./ITP 08 - Cloud Computing 101)**| *Overview of cloud computing and how Databricks fits in*  |\n",
    " **[Libraries]($./ITP 09 - Libraries)**  | *Libraries, PyPI, and how use them* |\n",
    " **[Pandas Overview]($./ITP 10 - Pandas Overview) & [Lab]($./Labs/ITP 10L - Pandas Overview Lab)**    | *Industry standard library for data manipulation* |\n",
    " **[Advanced Pandas]($./ITP 11 - Advanced Pandas) & [Lab]($./Labs/ITP 11L - Advanced Pandas Lab)** |  *More advanced Pandas functionality*|\n",
    " **[Data Visualization]($./ITP 12 - Data Visualization) & [Lab]($./Labs/ITP 12L - Data Visualization Lab)**      | *Visualizing data with Databricks, Pandas, and Seaborn*|\n",
    " **[Scaling Pandas with Spark]($./ITP 13 - Scaling Pandas with Spark)**  | *Write Pandas code that leverages Spark under the hood*|\n",
    " **[Additional Resources]($./ITP 14 - Additional Resources)**  | *Explore additional resources for continuing your python and data science journey* |\n",
    "\n",
    "---\n",
    "### Requirements\n",
    "\n",
    "Please review the following requirements before starting the lesson:\n",
    "\n",
    "* To run demo and lab notebooks, you need to use the following Databricks runtime: **`15.4.x-scala2.12`**"
   ]
  },
  {
   "cell_type": "markdown",
   "metadata": {
    "application/vnd.databricks.v1+cell": {
     "cellMetadata": {},
     "inputWidgets": {},
     "nuid": "a077c8b0-a546-494e-8c8f-eff8326c8aed",
     "showTitle": false,
     "tableResultSettingsMap": {},
     "title": ""
    }
   },
   "source": [
    "&copy; 2025 Databricks, Inc. All rights reserved. Apache, Apache Spark, Spark, the Spark Logo, Apache Iceberg, Iceberg, and the Apache Iceberg logo are trademarks of the <a href=\"https://www.apache.org/\" target=\"_blank\">Apache Software Foundation</a>.<br/><br/><a href=\"https://databricks.com/privacy-policy\" target=\"_blank\">Privacy Policy</a> | <a href=\"https://databricks.com/terms-of-use\" target=\"_blank\">Terms of Use</a> | <a href=\"https://help.databricks.com/\" target=\"_blank\">Support</a>"
   ]
  }
 ],
 "metadata": {
  "application/vnd.databricks.v1+notebook": {
   "computePreferences": null,
   "dashboards": [],
   "environmentMetadata": null,
   "inputWidgetPreferences": null,
   "language": "python",
   "notebookMetadata": {},
   "notebookName": "AGENDA",
   "widgets": {}
  },
  "language_info": {
   "name": "python"
  }
 },
 "nbformat": 4,
 "nbformat_minor": 0
}