{
 "cells": [
  {
   "cell_type": "code",
   "execution_count": 0,
   "metadata": {
    "application/vnd.databricks.v1+cell": {
     "cellMetadata": {},
     "inputWidgets": {},
     "nuid": "63b98e13-4ecb-4c61-ae49-fdd8baada727",
     "showTitle": false,
     "tableResultSettingsMap": {},
     "title": ""
    }
   },
   "outputs": [],
   "source": [
    "# 2.2 LAB: Implementing Delta Sharing (Databricks-to-Databricks)\n",
    "\n",
    "## Provider Workspace - Hands-On Lab\n",
    "\n",
    "**Learning Objectives:**\n",
    "- Practice creating catalogs and schemas\n",
    "- Create and populate tables with sample data\n",
    "- Configure Delta Sharing from scratch\n",
    "- Create shares and manage recipients\n",
    "- Generate activation links for recipients\n",
    "\n",
    "**Scenario:**\n",
    "You work for a wholesale distribution company that wants to share product inventory and order data with retail partners. Your task is to set up Delta Sharing to enable secure data collaboration.\n",
    "\n",
    "**Dataset:**\n",
    "- **Products**: Product catalog with inventory levels\n",
    "- **Orders**: Customer order history\n",
    "\n",
    "**Instructions:**\n",
    "- Look for cells marked with `<FILL-IN>` \n",
    "- Complete the code based on the requirements in the preceding markdown cells\n",
    "- Run each cell to verify your solution"
   ]
  },
  {
   "cell_type": "code",
   "execution_count": null,
   "metadata": {},
   "outputs": [],
   "source": [
    "%run ../../setup/00-provider-setup"
   ]
  },
  {
   "cell_type": "markdown",
   "metadata": {},
   "source": [
    "## Exercise 1: Create Catalog and Schema\n",
    "\n",
    "**Requirements:**\n",
    "1. Create a catalog using the variable `${c.catalog_name}`\n",
    "2. Add a comment: 'Lab catalog for wholesale distribution data'\n",
    "3. Verify the catalog was created by showing catalogs\n",
    "\n",
    "**Hint:** Use `CREATE CATALOG IF NOT EXISTS` and `SHOW CATALOGS`"
   ]
  },
  {
   "cell_type": "code",
   "execution_count": null,
   "metadata": {
    "vscode": {
     "languageId": "sql"
    }
   },
   "outputs": [],
   "source": [
    "-- TODO: Create the catalog with appropriate comment\n",
    "<FILL-IN>"
   ]
  },
  {
   "cell_type": "markdown",
   "metadata": {},
   "source": [
    "**Requirements:**\n",
    "1. Use the catalog you just created\n",
    "2. Create a schema called `wholesale_data`\n",
    "3. Add a comment: 'Schema for product and order data'\n",
    "4. Verify the schema was created\n",
    "\n",
    "**Note:** For this lab, use the schema name 'wholesale_data'"
   ]
  },
  {
   "cell_type": "code",
   "execution_count": null,
   "metadata": {
    "vscode": {
     "languageId": "sql"
    }
   },
   "outputs": [],
   "source": [
    "-- TODO: Use the catalog and create the schema\n",
    "<FILL-IN>"
   ]
  },
  {
   "cell_type": "markdown",
   "metadata": {},
   "source": [
    "## Exercise 2: Create Products Table\n",
    "\n",
    "**Requirements:**\n",
    "1. Create a table called `products` with the following columns:\n",
    "   - `product_id` (INT)\n",
    "   - `product_name` (STRING)\n",
    "   - `category` (STRING)\n",
    "   - `unit_price` (DECIMAL(10,2))\n",
    "   - `stock_quantity` (INT)\n",
    "   - `reorder_level` (INT)\n",
    "   - `supplier` (STRING)\n",
    "2. Add a comment: 'Product inventory catalog'\n",
    "3. Insert the sample data provided below\n",
    "4. Select all records to verify\n",
    "\n",
    "**Sample Data:**\n",
    "```\n",
    "(1, 'Wireless Mouse', 'Electronics', 25.99, 150, 50, 'TechSupply Co'),\n",
    "(2, 'USB-C Cable', 'Electronics', 12.99, 300, 100, 'TechSupply Co'),\n",
    "(3, 'Notebook Set', 'Office Supplies', 8.50, 200, 75, 'Paper Plus'),\n",
    "(4, 'Desk Lamp', 'Furniture', 45.00, 80, 25, 'Office Furniture Inc'),\n",
    "(5, 'Ergonomic Chair', 'Furniture', 299.99, 45, 15, 'Office Furniture Inc'),\n",
    "(6, 'Mechanical Keyboard', 'Electronics', 89.99, 120, 40, 'TechSupply Co'),\n",
    "(7, 'Monitor Stand', 'Furniture', 35.50, 95, 30, 'Office Furniture Inc'),\n",
    "(8, 'Printer Paper (500 sheets)', 'Office Supplies', 15.99, 400, 150, 'Paper Plus')\n",
    "```"
   ]
  },
  {
   "cell_type": "code",
   "execution_count": null,
   "metadata": {
    "vscode": {
     "languageId": "sql"
    }
   },
   "outputs": [],
   "source": [
    "-- TODO: Create the products table\n",
    "<FILL-IN>"
   ]
  },
  {
   "cell_type": "code",
   "execution_count": null,
   "metadata": {
    "vscode": {
     "languageId": "sql"
    }
   },
   "outputs": [],
   "source": [
    "-- TODO: Insert sample product data\n",
    "<FILL-IN>"
   ]
  },
  {
   "cell_type": "code",
   "execution_count": null,
   "metadata": {
    "vscode": {
     "languageId": "sql"
    }
   },
   "outputs": [],
   "source": [
    "-- TODO: Verify the data was inserted\n",
    "<FILL-IN>"
   ]
  },
  {
   "cell_type": "markdown",
   "metadata": {},
   "source": [
    "## Exercise 3: Create Orders Table\n",
    "\n",
    "**Requirements:**\n",
    "1. Create a table called `orders` with the following columns:\n",
    "   - `order_id` (INT)\n",
    "   - `product_id` (INT)\n",
    "   - `customer_name` (STRING)\n",
    "   - `quantity` (INT)\n",
    "   - `order_date` (DATE)\n",
    "   - `delivery_status` (STRING)\n",
    "   - `total_amount` (DECIMAL(10,2))\n",
    "2. Add a comment: 'Customer order history'\n",
    "3. Insert the sample data provided below\n",
    "4. Select all records to verify\n",
    "\n",
    "**Sample Data:**\n",
    "```\n",
    "(1001, 1, 'Retail Store A', 25, '2024-09-15', 'Delivered', 649.75),\n",
    "(1002, 3, 'Retail Store B', 50, '2024-09-16', 'Delivered', 425.00),\n",
    "(1003, 5, 'Retail Store A', 10, '2024-09-18', 'In Transit', 2999.90),\n",
    "(1004, 2, 'Retail Store C', 100, '2024-09-20', 'Delivered', 1299.00),\n",
    "(1005, 6, 'Retail Store B', 15, '2024-09-22', 'Delivered', 1349.85),\n",
    "(1006, 4, 'Retail Store A', 20, '2024-09-25', 'In Transit', 900.00),\n",
    "(1007, 7, 'Retail Store C', 30, '2024-09-28', 'Processing', 1065.00),\n",
    "(1008, 8, 'Retail Store B', 75, '2024-10-01', 'Delivered', 1199.25)\n",
    "```"
   ]
  },
  {
   "cell_type": "code",
   "execution_count": null,
   "metadata": {
    "vscode": {
     "languageId": "sql"
    }
   },
   "outputs": [],
   "source": [
    "-- TODO: Create the orders table\n",
    "<FILL-IN>"
   ]
  },
  {
   "cell_type": "code",
   "execution_count": null,
   "metadata": {
    "vscode": {
     "languageId": "sql"
    }
   },
   "outputs": [],
   "source": [
    "-- TODO: Insert sample order data\n",
    "<FILL-IN>"
   ]
  },
  {
   "cell_type": "code",
   "execution_count": null,
   "metadata": {
    "vscode": {
     "languageId": "sql"
    }
   },
   "outputs": [],
   "source": [
    "-- TODO: Verify the data was inserted\n",
    "<FILL-IN>"
   ]
  },
  {
   "cell_type": "markdown",
   "metadata": {},
   "source": [
    "## Exercise 4: Create a Delta Share\n",
    "\n",
    "**Requirements:**\n",
    "1. Create a share called `${c.share_name}`\n",
    "2. Add a comment: 'Share for wholesale product and order data'\n",
    "3. Verify the share was created by showing all shares\n",
    "\n",
    "**Hint:** Use `CREATE SHARE IF NOT EXISTS` and `SHOW SHARES`"
   ]
  },
  {
   "cell_type": "code",
   "execution_count": null,
   "metadata": {
    "vscode": {
     "languageId": "sql"
    }
   },
   "outputs": [],
   "source": [
    "-- TODO: Create the share\n",
    "<FILL-IN>"
   ]
  },
  {
   "cell_type": "markdown",
   "metadata": {},
   "source": [
    "## Exercise 5: Add Tables to the Share\n",
    "\n",
    "**Requirements:**\n",
    "1. Add the `products` table to the share with comment: 'Product inventory catalog'\n",
    "2. Add the `orders` table to the share with comment: 'Customer order history'\n",
    "3. Verify both tables are in the share\n",
    "\n",
    "**Hint:** \n",
    "- Use `ALTER SHARE ... ADD TABLE ...`\n",
    "- Use `SHOW ALL IN SHARE ...`\n",
    "- Table path format: `${c.catalog_name}.wholesale_data.table_name`"
   ]
  },
  {
   "cell_type": "code",
   "execution_count": null,
   "metadata": {
    "vscode": {
     "languageId": "sql"
    }
   },
   "outputs": [],
   "source": [
    "-- TODO: Add the products table to the share\n",
    "<FILL-IN>"
   ]
  },
  {
   "cell_type": "code",
   "execution_count": null,
   "metadata": {
    "vscode": {
     "languageId": "sql"
    }
   },
   "outputs": [],
   "source": [
    "-- TODO: Add the orders table to the share\n",
    "<FILL-IN>"
   ]
  },
  {
   "cell_type": "code",
   "execution_count": null,
   "metadata": {
    "vscode": {
     "languageId": "sql"
    }
   },
   "outputs": [],
   "source": [
    "-- TODO: Verify both tables are in the share\n",
    "<FILL-IN>"
   ]
  },
  {
   "cell_type": "markdown",
   "metadata": {},
   "source": [
    "## Exercise 6: Create a Recipient\n",
    "\n",
    "**Requirements:**\n",
    "1. Create a Databricks-to-Databricks recipient using `${c.d2d_recipient}`\n",
    "2. Add a comment: 'Recipient for retail partner access'\n",
    "3. Show all recipients to verify\n",
    "\n",
    "**Hint:** Use `CREATE RECIPIENT IF NOT EXISTS` and `SHOW RECIPIENTS`"
   ]
  },
  {
   "cell_type": "code",
   "execution_count": null,
   "metadata": {
    "vscode": {
     "languageId": "sql"
    }
   },
   "outputs": [],
   "source": [
    "-- TODO: Create the recipient\n",
    "<FILL-IN>"
   ]
  },
  {
   "cell_type": "markdown",
   "metadata": {},
   "source": [
    "## Exercise 7: Grant Share to Recipient\n",
    "\n",
    "**Requirements:**\n",
    "1. Grant SELECT permissions on the share to the recipient\n",
    "2. Describe the recipient to get the activation link\n",
    "\n",
    "**Hint:** \n",
    "- Use `GRANT SELECT ON SHARE ... TO RECIPIENT ...`\n",
    "- Use `DESCRIBE RECIPIENT ...`\n",
    "- Copy the activation link from the output for the recipient"
   ]
  },
  {
   "cell_type": "code",
   "execution_count": null,
   "metadata": {
    "vscode": {
     "languageId": "sql"
    }
   },
   "outputs": [],
   "source": [
    "-- TODO: Grant the share to the recipient\n",
    "<FILL-IN>"
   ]
  },
  {
   "cell_type": "code",
   "execution_count": null,
   "metadata": {
    "vscode": {
     "languageId": "sql"
    }
   },
   "outputs": [],
   "source": [
    "-- TODO: Get the activation link\n",
    "<FILL-IN>"
   ]
  },
  {
   "cell_type": "markdown",
   "metadata": {},
   "source": [
    "## Exercise 8: Review and Monitor\n",
    "\n",
    "**Requirements:**\n",
    "1. Describe the share to see its details\n",
    "2. List all tables in the share\n",
    "3. Show all recipients\n",
    "\n",
    "**Hint:** Use `DESCRIBE SHARE`, `SHOW ALL IN SHARE`, and `SHOW RECIPIENTS`"
   ]
  },
  {
   "cell_type": "code",
   "execution_count": null,
   "metadata": {
    "vscode": {
     "languageId": "sql"
    }
   },
   "outputs": [],
   "source": [
    "-- TODO: Describe the share\n",
    "<FILL-IN>"
   ]
  },
  {
   "cell_type": "code",
   "execution_count": null,
   "metadata": {
    "vscode": {
     "languageId": "sql"
    }
   },
   "outputs": [],
   "source": [
    "-- TODO: List all tables in the share\n",
    "<FILL-IN>"
   ]
  },
  {
   "cell_type": "code",
   "execution_count": null,
   "metadata": {
    "vscode": {
     "languageId": "sql"
    }
   },
   "outputs": [],
   "source": [
    "-- TODO: Show all recipients\n",
    "<FILL-IN>"
   ]
  },
  {
   "cell_type": "markdown",
   "metadata": {},
   "source": [
    "## Lab Complete! 🎉\n",
    "\n",
    "**What you accomplished:**\n",
    "\n",
    "✅ Created a Unity Catalog and schema\n",
    "✅ Created and populated products and orders tables\n",
    "✅ Created a Delta Share\n",
    "✅ Added tables to the share\n",
    "✅ Created a recipient\n",
    "✅ Granted access and generated an activation link\n",
    "✅ Reviewed and monitored the share\n",
    "\n",
    "**Next Steps:**\n",
    "1. Copy the activation link from Exercise 7\n",
    "2. Open the recipient workspace\n",
    "3. Complete the recipient lab notebook to access this shared data\n",
    "\n",
    "**Key Takeaways:**\n",
    "- Delta Sharing enables secure data collaboration without copying data\n",
    "- Providers maintain full control over shared data\n",
    "- Shares are logical groupings of tables\n",
    "- Recipients need activation links to access shares\n",
    "- D2D sharing is the easiest way to share between Databricks workspaces"
   ]
  }
 ],
 "metadata": {
  "application/vnd.databricks.v1+notebook": {
   "computePreferences": null,
   "dashboards": [],
   "environmentMetadata": {
    "base_environment": "",
    "environment_version": "4"
   },
   "inputWidgetPreferences": null,
   "language": "python",
   "notebookMetadata": {
    "pythonIndentUnit": 4
   },
   "notebookName": "2.2 LAB Implementing Delta Sharing (D2D) (Provider)",
   "widgets": {}
  },
  "language_info": {
   "name": "python"
  }
 },
 "nbformat": 4,
 "nbformat_minor": 0
}
