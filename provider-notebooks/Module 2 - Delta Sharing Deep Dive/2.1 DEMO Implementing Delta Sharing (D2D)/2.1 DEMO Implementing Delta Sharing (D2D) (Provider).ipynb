{
 "cells": [
  {
   "cell_type": "markdown",
   "metadata": {},
   "source": [
    "\n",
    "<div style=\"text-align: center; line-height: 0; padding-top: 9px;\">\n",
    "  <img\n",
    "    src=\"https://databricks.com/wp-content/uploads/2018/03/db-academy-rgb-1200px.png\"\n",
    "    alt=\"Databricks Learning\"\n",
    "  >\n",
    "</div>\n"
   ]
  },
  {
   "cell_type": "markdown",
   "metadata": {},
   "source": [
    "# 2.1 DEMO: Implementing Delta Sharing (Databricks-to-Databricks)\n",
    "\n",
    "## Overview\n",
    "In this demo, we will implement Delta Sharing to securely share data between Databricks workspaces. This demonstration is split into two parts:\n",
    "\n",
    "**Provider Notebook (This Notebook):** We will create a Unity Catalog with sample customer and sales data, configure Delta Sharing by creating a share, set up a recipient organization, and generate an activation link for secure access.\n",
    "\n",
    "**Recipient Notebook:** The receiving organization will use the activation link to create a catalog that references the shared data, query the shared tables directly without copying data, and perform analytics using the shared datasets.\n",
    "\n",
    "This demo showcases the Databricks-to-Databricks (D2D) sharing pattern, where both the provider and recipient use Databricks workspaces. You'll see how Delta Sharing enables secure, live data sharing without data duplication or complex ETL processes."
   ]
  },
  {
   "cell_type": "markdown",
   "metadata": {},
   "source": [
    "### Learning Objectives\n",
    "By the end of this demo, you will be able to:\n",
    "1. Create and configure Unity Catalog resources (catalogs, schemas, and tables) suitable for Delta Sharing.\n",
    "2. Implement Delta Sharing by creating a share and adding tables to it for external access.\n",
    "3. Create and configure recipients to control who can access your shared data.\n",
    "4. Generate activation links that enable recipients to establish secure connections to your shared data.\n",
    "5. Understand the provider's role in the Delta Sharing architecture and how to manage shared data access.\n",
    "6. Verify and monitor shared data configurations using SQL commands in the provider workspace."
   ]
  },
  {
   "cell_type": "markdown",
   "metadata": {
    "application/vnd.databricks.v1+cell": {
     "cellMetadata": {},
     "inputWidgets": {},
     "nuid": "c1381481-cac7-4300-a065-6faa5d8e152f",
     "showTitle": false,
     "tableResultSettingsMap": {},
     "title": ""
    }
   },
   "source": [
    "## Provider Workspace - Part 1 of 2\n",
    "\n",
    "**Scenario:**\n",
    "You are a data provider company that wants to share customer analytics data with partner organizations using Delta Sharing. In this notebook, you'll set up the provider side of Delta Sharing by creating the data, configuring shares, and generating access credentials for your recipients."
   ]
  },
  {
   "cell_type": "code",
   "execution_count": null,
   "metadata": {
    "vscode": {
     "languageId": "python"
    }
   },
   "outputs": [],
   "source": [
    "%run ../Includes/00-provider-setup"
   ]
  },
  {
   "cell_type": "markdown",
   "metadata": {},
   "source": [
    "## Step 1: Create Catalog and Schema\n",
    "\n",
    "We'll create a Unity Catalog and schema to hold our data that will be shared."
   ]
  },
  {
   "cell_type": "code",
   "execution_count": null,
   "metadata": {},
   "outputs": [],
   "source": [
    "-- Create the catalog if it doesn't exist\n",
    "CREATE CATALOG IF NOT EXISTS ${c.catalog_name}\n",
    "COMMENT 'Provider catalog for Delta Sharing demo';\n",
    "\n",
    "-- Show catalogs to verify creation\n",
    "SHOW CATALOGS LIKE '${c.catalog_name}';"
   ]
  },
  {
   "cell_type": "code",
   "execution_count": null,
   "metadata": {},
   "outputs": [],
   "source": [
    "-- Use the catalog and create schema\n",
    "USE CATALOG ${c.catalog_name};\n",
    "\n",
    "CREATE SCHEMA IF NOT EXISTS ${c.schema_name}\n",
    "COMMENT 'Schema containing sales and customer data for sharing';\n",
    "\n",
    "-- Show schemas to verify\n",
    "SHOW SCHEMAS IN ${c.catalog_name};"
   ]
  },
  {
   "cell_type": "markdown",
   "metadata": {},
   "source": [
    "## Step 2: Create Sample Tables\n",
    "\n",
    "Let's create some realistic sample data that represents customer and sales information."
   ]
  },
  {
   "cell_type": "code",
   "execution_count": null,
   "metadata": {},
   "outputs": [],
   "source": [
    "-- Create customers table\n",
    "CREATE OR REPLACE TABLE ${c.catalog_name}.${c.schema_name}.customers (\n",
    "  customer_id INT,\n",
    "  customer_name STRING,\n",
    "  email STRING,\n",
    "  country STRING,\n",
    "  signup_date DATE,\n",
    "  customer_segment STRING\n",
    ")\n",
    "COMMENT 'Customer master data';\n",
    "\n",
    "-- Insert sample data\n",
    "INSERT INTO ${c.catalog_name}.${c.schema_name}.customers VALUES\n",
    "  (1, 'Acme Corp', 'contact@acme.com', 'USA', '2023-01-15', 'Enterprise'),\n",
    "  (2, 'TechStart Inc', 'info@techstart.com', 'Canada', '2023-02-20', 'SMB'),\n",
    "  (3, 'Global Solutions', 'hello@globalsol.com', 'UK', '2023-03-10', 'Enterprise'),\n",
    "  (4, 'Innovate Ltd', 'contact@innovate.com', 'Australia', '2023-04-05', 'Mid-Market'),\n",
    "  (5, 'Data Dynamics', 'team@datadyn.com', 'Germany', '2023-05-12', 'Enterprise'),\n",
    "  (6, 'Cloud First', 'info@cloudfirst.com', 'USA', '2023-06-18', 'SMB'),\n",
    "  (7, 'NextGen Analytics', 'contact@nextgen.com', 'Singapore', '2023-07-22', 'Mid-Market'),\n",
    "  (8, 'Digital Transform', 'hello@digitrans.com', 'France', '2023-08-30', 'Enterprise');\n",
    "\n",
    "SELECT * FROM ${c.catalog_name}.${c.schema_name}.customers;"
   ]
  },
  {
   "cell_type": "code",
   "execution_count": null,
   "metadata": {},
   "outputs": [],
   "source": [
    "-- Create sales transactions table\n",
    "CREATE OR REPLACE TABLE ${c.catalog_name}.${c.schema_name}.sales_transactions (\n",
    "  transaction_id INT,\n",
    "  customer_id INT,\n",
    "  product_name STRING,\n",
    "  quantity INT,\n",
    "  unit_price DECIMAL(10,2),\n",
    "  total_amount DECIMAL(10,2),\n",
    "  transaction_date DATE,\n",
    "  region STRING\n",
    ")\n",
    "COMMENT 'Sales transaction data';\n",
    "\n",
    "-- Insert sample sales data\n",
    "INSERT INTO ${c.catalog_name}.${c.schema_name}.sales_transactions VALUES\n",
    "  (101, 1, 'Data Platform License', 5, 1000.00, 5000.00, '2024-01-15', 'North America'),\n",
    "  (102, 2, 'Analytics Suite', 2, 500.00, 1000.00, '2024-01-20', 'North America'),\n",
    "  (103, 3, 'Data Platform License', 10, 1000.00, 10000.00, '2024-02-05', 'EMEA'),\n",
    "  (104, 1, 'Storage Add-on', 3, 200.00, 600.00, '2024-02-10', 'North America'),\n",
    "  (105, 4, 'Analytics Suite', 5, 500.00, 2500.00, '2024-02-15', 'APAC'),\n",
    "  (106, 5, 'Data Platform License', 15, 1000.00, 15000.00, '2024-03-01', 'EMEA'),\n",
    "  (107, 3, 'Storage Add-on', 8, 200.00, 1600.00, '2024-03-10', 'EMEA'),\n",
    "  (108, 6, 'Analytics Suite', 1, 500.00, 500.00, '2024-03-15', 'North America'),\n",
    "  (109, 7, 'Data Platform License', 7, 1000.00, 7000.00, '2024-04-01', 'APAC'),\n",
    "  (110, 8, 'Storage Add-on', 10, 200.00, 2000.00, '2024-04-05', 'EMEA');\n",
    "\n",
    "SELECT * FROM ${c.catalog_name}.${c.schema_name}.sales_transactions;"
   ]
  },
  {
   "cell_type": "markdown",
   "metadata": {},
   "source": [
    "## Step 3: Create a Delta Share\n",
    "\n",
    "Now we'll create a share and add our tables to it. A share is a logical grouping of tables that can be shared with recipients."
   ]
  },
  {
   "cell_type": "code",
   "execution_count": null,
   "metadata": {},
   "outputs": [],
   "source": [
    "-- Create a new share\n",
    "CREATE SHARE IF NOT EXISTS ${c.share_name}\n",
    "COMMENT 'Share containing customer and sales data for partner analysis';\n",
    "\n",
    "-- View all shares\n",
    "SHOW SHARES;"
   ]
  },
  {
   "cell_type": "code",
   "execution_count": null,
   "metadata": {},
   "outputs": [],
   "source": [
    "-- Add tables to the share\n",
    "ALTER SHARE ${c.share_name} \n",
    "ADD TABLE ${c.catalog_name}.${c.schema_name}.customers\n",
    "COMMENT 'Customer master data';\n",
    "\n",
    "ALTER SHARE ${c.share_name} \n",
    "ADD TABLE ${c.catalog_name}.${c.schema_name}.sales_transactions\n",
    "COMMENT 'Sales transaction history';\n",
    "\n",
    "-- View what's in the share\n",
    "SHOW ALL IN SHARE ${c.share_name};"
   ]
  },
  {
   "cell_type": "markdown",
   "metadata": {},
   "source": [
    "## Step 4: Create a Recipient (Databricks-to-Databricks)\n",
    "\n",
    "Create a recipient for Databricks-to-Databricks sharing. The recipient will receive an activation link to access the shared data."
   ]
  },
  {
   "cell_type": "code",
   "execution_count": null,
   "metadata": {},
   "outputs": [],
   "source": [
    "-- Create a Databricks-to-Databricks recipient\n",
    "CREATE RECIPIENT IF NOT EXISTS ${c.d2d_recipient}\n",
    "COMMENT 'Recipient for D2D Delta Sharing demo';\n",
    "\n",
    "-- View all recipients\n",
    "SHOW RECIPIENTS;"
   ]
  },
  {
   "cell_type": "code",
   "execution_count": null,
   "metadata": {},
   "outputs": [],
   "source": [
    "-- Grant the share to the recipient\n",
    "GRANT SELECT ON SHARE ${c.share_name} TO RECIPIENT ${c.d2d_recipient};\n",
    "\n",
    "-- Describe the recipient to get the activation link\n",
    "DESCRIBE RECIPIENT ${c.d2d_recipient};"
   ]
  },
  {
   "cell_type": "markdown",
   "metadata": {},
   "source": [
    "## Step 5: Get Activation Link\n",
    "\n",
    "**Important:** Copy the `activation_link` from the output above and share it with the recipient. The recipient will use this link to activate the share in their workspace.\n",
    "\n",
    "The activation link will look like:\n",
    "```\n",
    "https://accounts.cloud.databricks.com/...\n",
    "```"
   ]
  },
  {
   "cell_type": "markdown",
   "metadata": {},
   "source": [
    "## Step 6: Monitor and Manage the Share\n",
    "\n",
    "Let's review what we've created and explore monitoring capabilities."
   ]
  },
  {
   "cell_type": "code",
   "execution_count": null,
   "metadata": {},
   "outputs": [],
   "source": [
    "-- View share details\n",
    "DESCRIBE SHARE ${c.share_name};\n",
    "\n",
    "-- List all tables in the share\n",
    "SHOW ALL IN SHARE ${c.share_name};\n",
    "\n",
    "-- View recipient details\n",
    "DESCRIBE RECIPIENT ${c.d2d_recipient};"
   ]
  },
  {
   "cell_type": "markdown",
   "metadata": {},
   "source": [
    "## Summary\n",
    "\n",
    "✅ **What we accomplished:**\n",
    "\n",
    "1. Created a Unity Catalog and schema for our data\n",
    "2. Created sample customers and sales_transactions tables\n",
    "3. Created a Delta Share and added tables to it\n",
    "4. Created a Databricks-to-Databricks recipient\n",
    "5. Granted the share to the recipient\n",
    "6. Generated an activation link for the recipient\n",
    "\n",
    "**Next Steps:**\n",
    "- Share the activation link with the recipient workspace\n",
    "- The recipient will use the activation link to create a catalog in their workspace\n",
    "- The recipient can then query the shared data\n",
    "\n",
    "**Key Concepts:**\n",
    "- **Share**: A logical grouping of tables that can be shared\n",
    "- **Recipient**: An entity that receives access to a share\n",
    "- **Activation Link**: A one-time link used to activate the share in the recipient workspace\n",
    "- **D2D Sharing**: Direct sharing between two Databricks workspaces using Unity Catalog"
   ]
  }
 ],
 "metadata": {
  "application/vnd.databricks.v1+notebook": {
   "computePreferences": null,
   "dashboards": [],
   "environmentMetadata": {
    "base_environment": "",
    "environment_version": "4"
   },
   "inputWidgetPreferences": null,
   "language": "sql",
   "notebookMetadata": {
    "pythonIndentUnit": 4
   },
   "notebookName": "2.1 DEMO Implementing Delta Sharing (D2D) (Provider)",
   "widgets": {}
  },
  "language_info": {
   "name": "sql"
  }
 },
 "nbformat": 4,
 "nbformat_minor": 0
}
