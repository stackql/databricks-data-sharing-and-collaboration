{
 "cells": [
  {
   "cell_type": "code",
   "execution_count": 0,
   "metadata": {
    "application/vnd.databricks.v1+cell": {
     "cellMetadata": {},
     "inputWidgets": {},
     "nuid": "6546b768-ffb0-4c92-bd5f-28f1c45f8103",
     "showTitle": false,
     "tableResultSettingsMap": {},
     "title": ""
    }
   },
   "outputs": [],
   "source": [
    "# 2.4 DEMO: Implementing Change Data Feed (CDF) with Delta Sharing\n",
    "\n",
    "## Provider Workspace - Tracking Data Changes\n",
    "\n",
    "**Learning Objectives:**\n",
    "- Enable Change Data Feed (CDF) on Delta tables\n",
    "- Track INSERT, UPDATE, and DELETE operations\n",
    "- Share CDF-enabled tables with recipients\n",
    "- Understand the benefits of CDF for incremental data processing\n",
    "\n",
    "**Scenario:**\n",
    "You are managing a customer database that is shared with analytics partners. Instead of sending full snapshots every time data changes, you want to share only the changes (deltas) so partners can efficiently update their systems.\n",
    "\n",
    "**What is Change Data Feed (CDF)?**\n",
    "- CDF records all changes made to a Delta table (inserts, updates, deletes)\n",
    "- Recipients can query `table_changes()` to see what changed between versions\n",
    "- Enables efficient incremental processing and real-time data synchronization\n",
    "- Reduces data transfer and processing costs\n",
    "\n",
    "**Use Cases:**\n",
    "- Real-time data synchronization\n",
    "- Audit trails and compliance\n",
    "- Incremental ETL pipelines\n",
    "- Event-driven architectures"
   ]
  },
  {
   "cell_type": "code",
   "execution_count": null,
   "metadata": {},
   "outputs": [],
   "source": [
    "%run ../../setup/00-provider-setup"
   ]
  },
  {
   "cell_type": "markdown",
   "metadata": {},
   "source": [
    "## Step 1: Create Catalog and Schema\n",
    "\n",
    "First, ensure we have the catalog and schema set up."
   ]
  },
  {
   "cell_type": "code",
   "execution_count": null,
   "metadata": {
    "vscode": {
     "languageId": "sql"
    }
   },
   "outputs": [],
   "source": [
    "-- Create catalog and schema\n",
    "CREATE CATALOG IF NOT EXISTS ${c.catalog_name};\n",
    "USE CATALOG ${c.catalog_name};\n",
    "\n",
    "CREATE SCHEMA IF NOT EXISTS ${c.schema_name};\n",
    "USE SCHEMA ${c.schema_name};"
   ]
  },
  {
   "cell_type": "markdown",
   "metadata": {},
   "source": [
    "## Step 2: Create a Table with CDF Enabled\n",
    "\n",
    "**Key Point:** We enable Change Data Feed using `TBLPROPERTIES` when creating the table. This tells Delta Lake to track all changes."
   ]
  },
  {
   "cell_type": "code",
   "execution_count": null,
   "metadata": {
    "vscode": {
     "languageId": "sql"
    }
   },
   "outputs": [],
   "source": [
    "-- Create a customer table with Change Data Feed enabled\n",
    "CREATE OR REPLACE TABLE ${c.catalog_name}.${c.schema_name}.customer_accounts (\n",
    "  customer_id INT,\n",
    "  account_number STRING,\n",
    "  customer_name STRING,\n",
    "  email STRING,\n",
    "  account_status STRING,\n",
    "  account_balance DECIMAL(10,2),\n",
    "  last_activity_date DATE,\n",
    "  created_date DATE\n",
    ")\n",
    "TBLPROPERTIES (\n",
    "  'delta.enableChangeDataFeed' = 'true'\n",
    ")\n",
    "COMMENT 'Customer accounts with CDF enabled for change tracking';\n",
    "\n",
    "-- Insert initial data\n",
    "INSERT INTO ${c.catalog_name}.${c.schema_name}.customer_accounts VALUES\n",
    "  (1001, 'ACC-1001', 'Alice Johnson', 'alice@example.com', 'Active', 5000.00, '2024-10-15', '2024-01-15'),\n",
    "  (1002, 'ACC-1002', 'Bob Smith', 'bob@example.com', 'Active', 3500.00, '2024-10-14', '2024-02-20'),\n",
    "  (1003, 'ACC-1003', 'Carol White', 'carol@example.com', 'Active', 7200.00, '2024-10-13', '2024-03-10'),\n",
    "  (1004, 'ACC-1004', 'David Brown', 'david@example.com', 'Active', 2100.00, '2024-10-12', '2024-04-05'),\n",
    "  (1005, 'ACC-1005', 'Emma Davis', 'emma@example.com', 'Active', 8500.00, '2024-10-11', '2024-05-18');\n",
    "\n",
    "-- View the initial data\n",
    "SELECT * FROM ${c.catalog_name}.${c.schema_name}.customer_accounts ORDER BY customer_id;"
   ]
  },
  {
   "cell_type": "markdown",
   "metadata": {},
   "source": [
    "## Step 3: Verify CDF is Enabled\n",
    "\n",
    "Check that Change Data Feed is enabled on the table."
   ]
  },
  {
   "cell_type": "code",
   "execution_count": null,
   "metadata": {
    "vscode": {
     "languageId": "sql"
    }
   },
   "outputs": [],
   "source": [
    "-- Show table properties to confirm CDF is enabled\n",
    "SHOW TBLPROPERTIES ${c.catalog_name}.${c.schema_name}.customer_accounts;"
   ]
  },
  {
   "cell_type": "markdown",
   "metadata": {},
   "source": [
    "## Step 4: Make Changes to the Table\n",
    "\n",
    "Now let's perform INSERT, UPDATE, and DELETE operations to generate change data."
   ]
  },
  {
   "cell_type": "code",
   "execution_count": null,
   "metadata": {
    "vscode": {
     "languageId": "sql"
    }
   },
   "outputs": [],
   "source": [
    "-- INSERT: Add new customers\n",
    "INSERT INTO ${c.catalog_name}.${c.schema_name}.customer_accounts VALUES\n",
    "  (1006, 'ACC-1006', 'Frank Miller', 'frank@example.com', 'Active', 4500.00, '2024-10-16', '2024-10-16'),\n",
    "  (1007, 'ACC-1007', 'Grace Lee', 'grace@example.com', 'Active', 6200.00, '2024-10-16', '2024-10-16');\n",
    "\n",
    "SELECT * FROM ${c.catalog_name}.${c.schema_name}.customer_accounts ORDER BY customer_id;"
   ]
  },
  {
   "cell_type": "code",
   "execution_count": null,
   "metadata": {
    "vscode": {
     "languageId": "sql"
    }
   },
   "outputs": [],
   "source": [
    "-- UPDATE: Update account balances and activity dates\n",
    "UPDATE ${c.catalog_name}.${c.schema_name}.customer_accounts\n",
    "SET \n",
    "  account_balance = account_balance + 1000.00,\n",
    "  last_activity_date = '2024-10-16'\n",
    "WHERE customer_id IN (1001, 1003);\n",
    "\n",
    "SELECT * FROM ${c.catalog_name}.${c.schema_name}.customer_accounts ORDER BY customer_id;"
   ]
  },
  {
   "cell_type": "code",
   "execution_count": null,
   "metadata": {
    "vscode": {
     "languageId": "sql"
    }
   },
   "outputs": [],
   "source": [
    "-- DELETE: Remove an inactive account\n",
    "DELETE FROM ${c.catalog_name}.${c.schema_name}.customer_accounts\n",
    "WHERE customer_id = 1004;\n",
    "\n",
    "SELECT * FROM ${c.catalog_name}.${c.schema_name}.customer_accounts ORDER BY customer_id;"
   ]
  },
  {
   "cell_type": "markdown",
   "metadata": {},
   "source": [
    "## Step 5: View Change Data Feed\n",
    "\n",
    "Query the change data to see what operations were performed."
   ]
  },
  {
   "cell_type": "code",
   "execution_count": null,
   "metadata": {
    "vscode": {
     "languageId": "sql"
    }
   },
   "outputs": [],
   "source": [
    "-- View all changes since version 0 (the beginning)\n",
    "SELECT \n",
    "  _change_type,\n",
    "  _commit_version,\n",
    "  _commit_timestamp,\n",
    "  customer_id,\n",
    "  account_number,\n",
    "  customer_name,\n",
    "  account_status,\n",
    "  account_balance\n",
    "FROM table_changes('${c.catalog_name}.${c.schema_name}.customer_accounts', 0)\n",
    "ORDER BY _commit_version, customer_id;"
   ]
  },
  {
   "cell_type": "markdown",
   "metadata": {},
   "source": [
    "### Understanding Change Types\n",
    "\n",
    "The `_change_type` column shows:\n",
    "- **insert** - New rows added\n",
    "- **update_preimage** - Row values BEFORE the update\n",
    "- **update_postimage** - Row values AFTER the update\n",
    "- **delete** - Rows that were removed"
   ]
  },
  {
   "cell_type": "markdown",
   "metadata": {},
   "source": [
    "## Step 6: Create a Share with CDF-Enabled Table\n",
    "\n",
    "Now let's share this CDF-enabled table so recipients can track changes."
   ]
  },
  {
   "cell_type": "code",
   "execution_count": null,
   "metadata": {
    "vscode": {
     "languageId": "sql"
    }
   },
   "outputs": [],
   "source": [
    "-- Create a share for CDF demo\n",
    "CREATE SHARE IF NOT EXISTS ${c.cdf_share_name}\n",
    "COMMENT 'Share with Change Data Feed enabled tables';\n",
    "\n",
    "-- Add the CDF-enabled table to the share\n",
    "ALTER SHARE ${c.cdf_share_name}\n",
    "ADD TABLE ${c.catalog_name}.${c.schema_name}.customer_accounts\n",
    "COMMENT 'Customer accounts with change tracking';\n",
    "\n",
    "-- View the share contents\n",
    "SHOW ALL IN SHARE ${c.cdf_share_name};"
   ]
  },
  {
   "cell_type": "markdown",
   "metadata": {},
   "source": [
    "## Step 7: Create Recipient and Grant Access\n",
    "\n",
    "Create a recipient and grant them access to the CDF-enabled share."
   ]
  },
  {
   "cell_type": "code",
   "execution_count": null,
   "metadata": {
    "vscode": {
     "languageId": "sql"
    }
   },
   "outputs": [],
   "source": [
    "-- Create recipient (reusing d2d_recipient from setup)\n",
    "-- In a real scenario, this would be a different Databricks workspace\n",
    "CREATE RECIPIENT IF NOT EXISTS ${c.d2d_recipient}\n",
    "COMMENT 'Recipient for CDF demo';\n",
    "\n",
    "-- Grant access to the CDF share\n",
    "GRANT SELECT ON SHARE ${c.cdf_share_name} TO RECIPIENT ${c.d2d_recipient};\n",
    "\n",
    "-- Generate activation link\n",
    "DESCRIBE RECIPIENT ${c.d2d_recipient};"
   ]
  },
  {
   "cell_type": "markdown",
   "metadata": {},
   "source": [
    "## Step 8: Make Additional Changes\n",
    "\n",
    "Let's make more changes so the recipient can see incremental updates."
   ]
  },
  {
   "cell_type": "code",
   "execution_count": null,
   "metadata": {
    "vscode": {
     "languageId": "sql"
    }
   },
   "outputs": [],
   "source": [
    "-- Add more customers\n",
    "INSERT INTO ${c.catalog_name}.${c.schema_name}.customer_accounts VALUES\n",
    "  (1008, 'ACC-1008', 'Henry Wilson', 'henry@example.com', 'Active', 3800.00, '2024-10-16', '2024-10-16');\n",
    "\n",
    "-- Update account status\n",
    "UPDATE ${c.catalog_name}.${c.schema_name}.customer_accounts\n",
    "SET \n",
    "  account_status = 'Suspended',\n",
    "  last_activity_date = '2024-10-16'\n",
    "WHERE customer_id = 1002;\n",
    "\n",
    "-- View current state\n",
    "SELECT * FROM ${c.catalog_name}.${c.schema_name}.customer_accounts ORDER BY customer_id;"
   ]
  },
  {
   "cell_type": "markdown",
   "metadata": {},
   "source": [
    "## Summary: Change Data Feed Benefits\n",
    "\n",
    "### What We Accomplished:\n",
    "✅ Created a table with CDF enabled  \n",
    "✅ Performed INSERT, UPDATE, and DELETE operations  \n",
    "✅ Queried change data using `table_changes()`  \n",
    "✅ Shared CDF-enabled table with recipients  \n",
    "✅ Enabled incremental data processing\n",
    "\n",
    "### Key Benefits of CDF:\n",
    "- **Efficiency** - Process only changed data, not full snapshots\n",
    "- **Real-time** - Track changes as they happen\n",
    "- **Audit Trail** - Complete history of all changes\n",
    "- **Cost Savings** - Reduce data transfer and processing costs\n",
    "- **Flexibility** - Recipients can choose when to sync\n",
    "\n",
    "### Use Cases:\n",
    "- **Incremental ETL** - Update data warehouses efficiently\n",
    "- **Change Data Capture** - Sync with downstream systems\n",
    "- **Audit and Compliance** - Track all data modifications\n",
    "- **Event Streaming** - Feed changes to event-driven systems\n",
    "- **Replication** - Keep multiple systems in sync\n",
    "\n",
    "### Next Steps:\n",
    "Recipients can now use `table_changes()` to:\n",
    "1. Query changes since their last sync\n",
    "2. Process only new/modified/deleted records\n",
    "3. Build incremental pipelines\n",
    "4. Track data lineage and history"
   ]
  }
 ],
 "metadata": {
  "application/vnd.databricks.v1+notebook": {
   "computePreferences": null,
   "dashboards": [],
   "environmentMetadata": {
    "base_environment": "",
    "environment_version": "4"
   },
   "inputWidgetPreferences": null,
   "language": "python",
   "notebookMetadata": {
    "pythonIndentUnit": 4
   },
   "notebookName": "2.4 DEMO Implementing Change Data Feed (CDF) (Provider)",
   "widgets": {}
  },
  "language_info": {
   "name": "python"
  }
 },
 "nbformat": 4,
 "nbformat_minor": 0
}
