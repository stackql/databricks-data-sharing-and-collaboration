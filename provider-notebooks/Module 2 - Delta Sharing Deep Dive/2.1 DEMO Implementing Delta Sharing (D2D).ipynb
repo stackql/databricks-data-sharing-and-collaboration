{
 "cells": [
  {
   "cell_type": "markdown",
   "metadata": {
    "application/vnd.databricks.v1+cell": {
     "cellMetadata": {},
     "inputWidgets": {},
     "nuid": "c93a2b66-6521-473b-9623-21ba6dd7f09a",
     "showTitle": false,
     "tableResultSettingsMap": {},
     "title": ""
    }
   },
   "source": [
    "\n",
    "<div style=\"text-align: center; line-height: 0; padding-top: 9px;\">\n",
    "  <img\n",
    "    src=\"https://databricks.com/wp-content/uploads/2018/03/db-academy-rgb-1200px.png\"\n",
    "    alt=\"Databricks Learning\"\n",
    "  >\n",
    "</div>\n"
   ]
  },
  {
   "cell_type": "markdown",
   "metadata": {
    "application/vnd.databricks.v1+cell": {
     "cellMetadata": {},
     "inputWidgets": {},
     "nuid": "117796a4-b7bc-441c-90fd-13bfc6108f86",
     "showTitle": false,
     "tableResultSettingsMap": {},
     "title": ""
    }
   },
   "source": [
    "# 2.1 DEMO: Implementing Delta Sharing (Databricks-to-Databricks) \\[Provider]\n",
    "\n",
    "## Overview\n",
    "In this demo, we will implement Delta Sharing to securely share data between Databricks workspaces. This demonstration is split into two parts:\n",
    "\n",
    "**Provider Notebook (This Notebook):** We will create a Unity Catalog with sample customer and sales data, configure Delta Sharing by creating a share, set up a recipient organization, and generate an activation link for secure access.\n",
    "\n",
    "**Recipient Notebook:** The receiving organization (using Databricks) will mount the share in a local catalog and query the shared tables directly without copying data, and perform analytics using the shared datasets.\n",
    "\n",
    "This demo showcases the Databricks-to-Databricks (D2D) sharing pattern, where both the provider and recipient use Databricks workspaces. You'll see how Delta Sharing enables secure, live data sharing without data duplication or complex ETL processes."
   ]
  },
  {
   "cell_type": "markdown",
   "metadata": {
    "application/vnd.databricks.v1+cell": {
     "cellMetadata": {},
     "inputWidgets": {},
     "nuid": "61d10bb6-b079-49a1-aa7a-acbf74235ecf",
     "showTitle": false,
     "tableResultSettingsMap": {},
     "title": ""
    }
   },
   "source": [
    "### Learning Objectives\n",
    "By the end of this demo, you will be able to:\n",
    "1. Create and configure Unity Catalog resources (catalogs, schemas, and tables) suitable for Delta Sharing.\n",
    "2. Implement Delta Sharing by creating a share and adding tables to it for external access.\n",
    "3. Create and configure recipients to control who can access your shared data.\n",
    "4. Understand the provider's role in the Delta Sharing architecture and how to manage shared data access.\n",
    "5. Verify and monitor shared data configurations using SQL commands in the provider workspace."
   ]
  },
  {
   "cell_type": "markdown",
   "metadata": {
    "application/vnd.databricks.v1+cell": {
     "cellMetadata": {},
     "inputWidgets": {},
     "nuid": "c1381481-cac7-4300-a065-6faa5d8e152f",
     "showTitle": false,
     "tableResultSettingsMap": {},
     "title": ""
    }
   },
   "source": [
    "## Background\n",
    "\n",
    "**Scenario:**\n",
    "You are a data provider company (*\"Acme Corp\"*) that wants to share customer analytics data with partner organizations using Delta Sharing. In this notebook, you'll set up the provider side of Delta Sharing by creating the data, configuring shares, and generating access credentials for your recipients."
   ]
  },
  {
   "cell_type": "code",
   "execution_count": 0,
   "metadata": {
    "application/vnd.databricks.v1+cell": {
     "cellMetadata": {
      "byteLimit": 2048000,
      "implicitDf": true,
      "rowLimit": 10000
     },
     "inputWidgets": {},
     "nuid": "ed2fecda-afe0-4f97-b023-6ae002c78a33",
     "showTitle": false,
     "tableResultSettingsMap": {},
     "title": ""
    },
    "vscode": {
     "languageId": "python"
    }
   },
   "outputs": [],
   "source": [
    "%run ./Includes/Demo-Setup-2"
   ]
  },
  {
   "cell_type": "markdown",
   "metadata": {
    "application/vnd.databricks.v1+cell": {
     "cellMetadata": {},
     "inputWidgets": {},
     "nuid": "aa8874d4-38cc-4202-9d16-28a1a534c921",
     "showTitle": false,
     "tableResultSettingsMap": {},
     "title": ""
    }
   },
   "source": [
    "## Inspect catalog, schema and tables\n",
    "\n",
    "The setup script has set up a catalog, schema and tables for our fictitious company which will act as the __provider__, lets examine these now:"
   ]
  },
  {
   "cell_type": "code",
   "execution_count": 0,
   "metadata": {
    "application/vnd.databricks.v1+cell": {
     "cellMetadata": {
      "byteLimit": 2048000,
      "rowLimit": 10000
     },
     "inputWidgets": {},
     "nuid": "cbe96ed5-f1cd-479e-9f11-cfbe9e830056",
     "showTitle": false,
     "tableResultSettingsMap": {},
     "title": ""
    }
   },
   "outputs": [],
   "source": [
    "-- get current context\n",
    "SELECT current_catalog(), current_schema()"
   ]
  },
  {
   "cell_type": "code",
   "execution_count": 0,
   "metadata": {
    "application/vnd.databricks.v1+cell": {
     "cellMetadata": {
      "byteLimit": 2048000,
      "rowLimit": 10000
     },
     "inputWidgets": {},
     "nuid": "2f36602f-5d78-45e0-959a-54d8110f652d",
     "showTitle": false,
     "tableResultSettingsMap": {},
     "title": ""
    }
   },
   "outputs": [],
   "source": [
    "-- show tables in our schema\n",
    "SHOW TABLES;"
   ]
  },
  {
   "cell_type": "code",
   "execution_count": 0,
   "metadata": {
    "application/vnd.databricks.v1+cell": {
     "cellMetadata": {
      "byteLimit": 2048000,
      "rowLimit": 10000
     },
     "inputWidgets": {},
     "nuid": "37e385a3-1f57-44b9-b92d-ce2b90e183be",
     "showTitle": false,
     "tableResultSettingsMap": {},
     "title": ""
    }
   },
   "outputs": [],
   "source": [
    "-- show the data in the customers table\n",
    "SELECT * FROM customers;"
   ]
  },
  {
   "cell_type": "code",
   "execution_count": 0,
   "metadata": {
    "application/vnd.databricks.v1+cell": {
     "cellMetadata": {
      "byteLimit": 2048000,
      "rowLimit": 10000
     },
     "inputWidgets": {},
     "nuid": "36c2010f-a407-474f-8dcc-38ec5644e8ba",
     "showTitle": false,
     "tableResultSettingsMap": {},
     "title": ""
    }
   },
   "outputs": [],
   "source": [
    "-- show the data in the sales_transactions table\n",
    "SELECT * FROM sales_transactions;"
   ]
  },
  {
   "cell_type": "markdown",
   "metadata": {
    "application/vnd.databricks.v1+cell": {
     "cellMetadata": {},
     "inputWidgets": {},
     "nuid": "23ae8b7d-588d-4838-af52-f153a84a8c9e",
     "showTitle": false,
     "tableResultSettingsMap": {},
     "title": ""
    }
   },
   "source": [
    "## Step 1: Create a Delta Share\n",
    "\n",
    "Now we'll create a share and add our tables to it. A share is a logical grouping of tables that can be shared with recipients."
   ]
  },
  {
   "cell_type": "code",
   "execution_count": 0,
   "metadata": {
    "application/vnd.databricks.v1+cell": {
     "cellMetadata": {
      "byteLimit": 2048000,
      "rowLimit": 10000
     },
     "inputWidgets": {},
     "nuid": "f9e15617-cf0d-490e-983c-162e54f60b5e",
     "showTitle": false,
     "tableResultSettingsMap": {
      "0": {
       "dataGridStateBlob": "{\"version\":1,\"tableState\":{\"columnPinning\":{\"left\":[\"#row_number#\"],\"right\":[]},\"columnSizing\":{\"share\":212},\"columnVisibility\":{}},\"settings\":{\"columns\":{}},\"syncTimestamp\":1760928040626}",
       "filterBlob": null,
       "queryPlanFiltersBlob": null,
       "tableResultIndex": 0
      }
     },
     "title": ""
    }
   },
   "outputs": [],
   "source": [
    "-- Create a new share\n",
    "CREATE SHARE IF NOT EXISTS internal_retail\n",
    "COMMENT 'Share containing customer and sales data for partner analysis';\n",
    "\n",
    "-- View all shares\n",
    "SHOW SHARES;"
   ]
  },
  {
   "cell_type": "markdown",
   "metadata": {
    "application/vnd.databricks.v1+cell": {
     "cellMetadata": {},
     "inputWidgets": {},
     "nuid": "b8015a09-310c-435d-96d9-de11b2d1f013",
     "showTitle": false,
     "tableResultSettingsMap": {},
     "title": ""
    }
   },
   "source": [
    "## Step 2: Add Assets to the Share\n",
    "\n",
    "Add the `customers` and `sales_transactions` tables to the share. Once added, these tables become available for recipients to query through the Delta Sharing protocol."
   ]
  },
  {
   "cell_type": "code",
   "execution_count": 0,
   "metadata": {
    "application/vnd.databricks.v1+cell": {
     "cellMetadata": {
      "byteLimit": 2048000,
      "rowLimit": 10000
     },
     "inputWidgets": {},
     "nuid": "67445398-f6b9-4dc6-b424-70ae9e6c765d",
     "showTitle": false,
     "tableResultSettingsMap": {},
     "title": ""
    }
   },
   "outputs": [],
   "source": [
    "-- Add tables to the share\n",
    "ALTER SHARE internal_retail \n",
    "ADD TABLE acme_corp.retail.customers\n",
    "COMMENT 'Customer master data';\n",
    "\n",
    "ALTER SHARE internal_retail \n",
    "ADD TABLE acme_corp.retail.sales_transactions\n",
    "COMMENT 'Sales transaction history';\n",
    "\n",
    "-- View what's in the share\n",
    "SHOW ALL IN SHARE internal_retail"
   ]
  },
  {
   "cell_type": "code",
   "execution_count": 0,
   "metadata": {
    "application/vnd.databricks.v1+cell": {
     "cellMetadata": {
      "byteLimit": 2048000,
      "rowLimit": 10000
     },
     "inputWidgets": {},
     "nuid": "c0e112a0-5219-4587-8bf8-d15cbe3c70f4",
     "showTitle": false,
     "tableResultSettingsMap": {},
     "title": ""
    }
   },
   "outputs": [],
   "source": [
    "/* to remove a table from a share\n",
    "ALTER SHARE internal_retail\n",
    "REMOVE TABLE acme_corp.retail.sales_transactions;\n",
    "*/"
   ]
  },
  {
   "cell_type": "markdown",
   "metadata": {
    "application/vnd.databricks.v1+cell": {
     "cellMetadata": {},
     "inputWidgets": {},
     "nuid": "4ee333cc-5df1-4144-8f32-e9990aa39d22",
     "showTitle": false,
     "tableResultSettingsMap": {},
     "title": ""
    }
   },
   "source": [
    "## Step 3: Create a Recipient (Databricks-to-Databricks)\n",
    "\n",
    "Create a recipient for Databricks-to-Databricks sharing. For D2D sharing, the recipient needs to provide their metastore ID.  This can be found by selecting \n",
    "⚙️ the __Delta Sharing__ from __Catalog Explorer__:\n",
    "<br />\n",
    "<br />\n",
    "<div style=\"text-align: center; line-height: 0; padding-top: 9px;\">\n",
    "  <img\n",
    "    src=\"https://github.com/stackql/databricks-data-sharing-and-collaboration/blob/main/images/recipient%20-%20get%20metastore%20id.png?raw=true\"\n",
    "    alt=\"Get Metastore ID\"\n",
    "  >\n",
    "</div>\n",
    "<br />\n",
    "<br />\n",
    "The recipient then copies their Metastore ID, using the __Copy Sharing Identifier__ option shown here, they will need to supply this to you.\n",
    "<br />\n",
    "<br />\n",
    "<div style=\"text-align: center; line-height: 0; padding-top: 9px;\">\n",
    "  <img\n",
    "    src=\"https://github.com/stackql/databricks-data-sharing-and-collaboration/blob/main/images/recipient%20-%20get%20metastore%20id%202.png?raw=true\"\n",
    "    alt=\"Get Metastore ID\"\n",
    "  >\n",
    "</div>"
   ]
  },
  {
   "cell_type": "code",
   "execution_count": 0,
   "metadata": {
    "application/vnd.databricks.v1+cell": {
     "cellMetadata": {
      "byteLimit": 2048000,
      "rowLimit": 10000
     },
     "inputWidgets": {},
     "nuid": "bdcdde31-4c88-4e3a-9d8f-98aaf943f415",
     "showTitle": false,
     "tableResultSettingsMap": {},
     "title": ""
    }
   },
   "outputs": [],
   "source": [
    "-- The recipient can also get there sharing identifier (metastore id) using system.information_schema\n",
    "SELECT global_metastore_id FROM system.information_schema.metastores;"
   ]
  },
  {
   "cell_type": "code",
   "execution_count": 0,
   "metadata": {
    "application/vnd.databricks.v1+cell": {
     "cellMetadata": {
      "byteLimit": 2048000,
      "rowLimit": 10000
     },
     "inputWidgets": {},
     "nuid": "b9a18ea9-ccf1-4aba-a024-0a802b8286c9",
     "showTitle": false,
     "tableResultSettingsMap": {},
     "title": ""
    }
   },
   "outputs": [],
   "source": [
    "-- or they can get the identifier using a describe statement (Global Metastore ID)\n",
    "DESCRIBE METASTORE;"
   ]
  },
  {
   "cell_type": "code",
   "execution_count": 0,
   "metadata": {
    "application/vnd.databricks.v1+cell": {
     "cellMetadata": {
      "byteLimit": 2048000,
      "rowLimit": 10000
     },
     "inputWidgets": {},
     "nuid": "9a1ce597-c136-4f16-bcd8-74e4281591c1",
     "showTitle": false,
     "tableResultSettingsMap": {},
     "title": ""
    }
   },
   "outputs": [],
   "source": [
    "-- Create a Databricks-to-Databricks recipient\n",
    "CREATE RECIPIENT IF NOT EXISTS west_division\n",
    "USING ID 'aws:us-west-2:adc48801-0d35-4e94-9cbc-0ff7f29ce611'\n",
    "COMMENT 'Recipient for D2D Delta Sharing demo';\n",
    "\n",
    "-- View all recipients\n",
    "SHOW RECIPIENTS;"
   ]
  },
  {
   "cell_type": "code",
   "execution_count": 0,
   "metadata": {
    "application/vnd.databricks.v1+cell": {
     "cellMetadata": {
      "byteLimit": 2048000,
      "rowLimit": 10000
     },
     "inputWidgets": {},
     "nuid": "3e6526eb-9e3c-48fa-8442-b44f6ddba9be",
     "showTitle": false,
     "tableResultSettingsMap": {},
     "title": ""
    }
   },
   "outputs": [],
   "source": [
    "-- Describe the recipient to get the activation link\n",
    "DESCRIBE RECIPIENT west_division;"
   ]
  },
  {
   "cell_type": "markdown",
   "metadata": {
    "application/vnd.databricks.v1+cell": {
     "cellMetadata": {},
     "inputWidgets": {},
     "nuid": "fc4e72ff-c2e2-41ff-86f8-045e142c9858",
     "showTitle": false,
     "tableResultSettingsMap": {},
     "title": ""
    }
   },
   "source": [
    "## Step 4: Grant the Recipient Access to the Share\n",
    "\n",
    "Grant the recipient `SELECT` permissions on the share to enable data access. This connects the recipient to the share, allowing them to query the shared tables through Delta Sharing."
   ]
  },
  {
   "cell_type": "code",
   "execution_count": 0,
   "metadata": {
    "application/vnd.databricks.v1+cell": {
     "cellMetadata": {
      "byteLimit": 2048000,
      "rowLimit": 10000
     },
     "inputWidgets": {},
     "nuid": "294db140-2af1-4ab5-82e2-51b29d05ab21",
     "showTitle": false,
     "tableResultSettingsMap": {},
     "title": ""
    }
   },
   "outputs": [],
   "source": [
    "-- Grant the share to the recipient\n",
    "GRANT SELECT ON SHARE internal_retail TO RECIPIENT west_division;\n",
    "\n",
    "-- Verify grants on the share\n",
    "SHOW GRANTS ON SHARE internal_retail;"
   ]
  },
  {
   "cell_type": "code",
   "execution_count": 0,
   "metadata": {
    "application/vnd.databricks.v1+cell": {
     "cellMetadata": {
      "byteLimit": 2048000,
      "rowLimit": 10000
     },
     "inputWidgets": {},
     "nuid": "89480771-9ae7-4670-a16f-5ad0b6bff608",
     "showTitle": false,
     "tableResultSettingsMap": {},
     "title": ""
    }
   },
   "outputs": [],
   "source": [
    "-- Check which shares a specific recipient has access to\n",
    "SHOW GRANTS TO RECIPIENT west_division;"
   ]
  },
  {
   "cell_type": "markdown",
   "metadata": {
    "application/vnd.databricks.v1+cell": {
     "cellMetadata": {},
     "inputWidgets": {},
     "nuid": "d94f27dd-81bc-4328-a8a2-16e4cf822b52",
     "showTitle": false,
     "tableResultSettingsMap": {},
     "title": ""
    }
   },
   "source": [
    "## Step 5: Mount the Share in a Catalog (Recipient)\n",
    "Switch over to the recipient workspace and follow the instructions in the __2.1 DEMO Implementing Delta Sharing (D2D)__ recipient notebook.  \n",
    "\n",
    "⚠️ The recipient who will mount the share needs to have the `USE PROVIDER` privilege for your provider OR be a __Metastore Admin__, the provider name can be found by selecting \n",
    "⚙️ the __Delta Sharing__ from __Catalog Explorer__ on the __Provider workspace__, see below:\n",
    "<br />\n",
    "<br />\n",
    "<div style=\"text-align: center; line-height: 0; padding-top: 9px;\">\n",
    "  <img\n",
    "    src=\"https://github.com/stackql/databricks-data-sharing-and-collaboration/blob/main/images/provider%20-%20get%20provider%20name.png?raw=true\"\n",
    "    alt=\"Get Provider Name\"\n",
    "  >\n",
    "</div>\n",
    "<br />\n",
    "<br />\n",
    "The name can also be changed at the provider using <b>Edit Organization Name</b>."
   ]
  },
  {
   "cell_type": "markdown",
   "metadata": {
    "application/vnd.databricks.v1+cell": {
     "cellMetadata": {},
     "inputWidgets": {},
     "nuid": "b8ce6fab-a6d2-47b0-89e5-0c049013d01f",
     "showTitle": false,
     "tableResultSettingsMap": {},
     "title": ""
    }
   },
   "source": [
    "## Step 6: Monitor and Manage the Share\n",
    "\n",
    "As Delta Sharing uses __credential vending__ to issue short lived credentials to authorized calling users, we can see the inbound activity for assets in a share using the __`system.access.audit `__ table as shown below:"
   ]
  },
  {
   "cell_type": "code",
   "execution_count": 0,
   "metadata": {
    "application/vnd.databricks.v1+cell": {
     "cellMetadata": {},
     "inputWidgets": {},
     "nuid": "febcf504-8895-490b-93a6-e2ecda98cb00",
     "showTitle": false,
     "tableResultSettingsMap": {},
     "title": ""
    }
   },
   "outputs": [],
   "source": [
    "-- query share usage from the provider side\n",
    "SELECT \n",
    "event_time,\n",
    "request_params.table_full_name,\n",
    "request_params.recipient_name,\n",
    "request_params.share_name\n",
    "FROM system.access.audit \n",
    "WHERE action_name = 'generateTemporaryTableCredential'\n",
    "AND user_agent = 'Delta Sharing'\n",
    "ORDER BY event_time DESC;"
   ]
  },
  {
   "cell_type": "markdown",
   "metadata": {},
   "source": [
    "The result would look like...  \n",
    "\n",
    "| event_time | table_full_name | recipient_name | share_name |\n",
    "|---|---|---|---|\n",
    "| 2025-10-20T05:25:34.814+00:00 | acme_corp.retail.sales_transactions | west_division | internal_retail |\n",
    "| 2025-10-20T04:49:59.124+00:00 | acme_corp.retail.customers | west_division | internal_retail |\n",
    "| .. | .. | .. | .. |\n",
    "\n",
    "The detailed query history will also be available from the recipients workspace using the __`system.query.history`__ table.  If the shared asset is a (non materialized) view, you would be able to see history in the __`system.query.history`__ table on the providers side as well, including compute usage.  \n",
    "\n",
    "More information about auditing Delta Sharing can be found at [__Audit and monitor data sharing__](https://docs.databricks.com/aws/en/delta-sharing/audit-logs)."
   ]
  },
  {
   "cell_type": "markdown",
   "metadata": {
    "application/vnd.databricks.v1+cell": {
     "cellMetadata": {},
     "inputWidgets": {},
     "nuid": "500fc4b0-fdc1-4104-ad52-f2f244e9a14e",
     "showTitle": false,
     "tableResultSettingsMap": {},
     "title": ""
    }
   },
   "source": [
    "## Summary\n",
    "\n",
    "✅ **What we accomplished:**\n",
    "\n",
    "1. Created a Delta Share and added tables to it\n",
    "2. Created a Databricks-to-Databricks recipient\n",
    "3. Granted the share to the recipient\n",
    "\n",
    "**Key Benefits:**\n",
    "- 🚀 **No Data Copying**: Query data directly from the provider\n",
    "- 🔒 **Secure**: Provider controls access and can revoke at any time\n",
    "- ⚡ **Real-time**: Always access the latest data from the provider\n",
    "- 💰 **Cost-effective**: No storage costs for recipients\n",
    "- 🔧 **Standard SQL**: Use familiar SQL syntax for queries"
   ]
  },
  {
   "cell_type": "markdown",
   "metadata": {
    "application/vnd.databricks.v1+cell": {
     "cellMetadata": {},
     "inputWidgets": {},
     "nuid": "3827393f-513b-4f35-9424-35fa94859d4e",
     "showTitle": false,
     "tableResultSettingsMap": {},
     "title": ""
    }
   },
   "source": [
    "&copy; 2025 Databricks, Inc. All rights reserved. Apache, Apache Spark, Spark, the Spark Logo, Apache Iceberg, Iceberg, and the Apache Iceberg logo are trademarks of the <a href=\"https://www.apache.org/\" target=\"_blank\">Apache Software Foundation</a>.<br/><br/><a href=\"https://databricks.com/privacy-policy\" target=\"_blank\">Privacy Policy</a> | <a href=\"https://databricks.com/terms-of-use\" target=\"_blank\">Terms of Use</a> | <a href=\"https://help.databricks.com/\" target=\"_blank\">Support</a>"
   ]
  }
 ],
 "metadata": {
  "application/vnd.databricks.v1+notebook": {
   "computePreferences": null,
   "dashboards": [],
   "environmentMetadata": {
    "base_environment": "",
    "environment_version": "4"
   },
   "inputWidgetPreferences": null,
   "language": "sql",
   "notebookMetadata": {
    "mostRecentlyExecutedCommandWithImplicitDF": {
     "commandId": 5900930970370220,
     "dataframes": [
      "_sqldf"
     ]
    },
    "pythonIndentUnit": 4
   },
   "notebookName": "2.1 DEMO Implementing Delta Sharing (D2D)",
   "widgets": {}
  },
  "language_info": {
   "name": "sql"
  }
 },
 "nbformat": 4,
 "nbformat_minor": 0
}
