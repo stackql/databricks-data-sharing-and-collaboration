{
 "cells": [
  {
   "cell_type": "markdown",
   "metadata": {
    "application/vnd.databricks.v1+cell": {
     "cellMetadata": {},
     "inputWidgets": {},
     "nuid": "c93a2b66-6521-473b-9623-21ba6dd7f09a",
     "showTitle": false,
     "tableResultSettingsMap": {},
     "title": ""
    }
   },
   "source": [
    "\n",
    "<div style=\"text-align: center; line-height: 0; padding-top: 9px;\">\n",
    "  <img\n",
    "    src=\"https://databricks.com/wp-content/uploads/2018/03/db-academy-rgb-1200px.png\"\n",
    "    alt=\"Databricks Learning\"\n",
    "  >\n",
    "</div>\n"
   ]
  },
  {
   "cell_type": "markdown",
   "metadata": {
    "application/vnd.databricks.v1+cell": {
     "cellMetadata": {},
     "inputWidgets": {},
     "nuid": "117796a4-b7bc-441c-90fd-13bfc6108f86",
     "showTitle": false,
     "tableResultSettingsMap": {},
     "title": ""
    }
   },
   "source": [
    "# 2.3 DEMO: Implementing Delta Sharing (Databricks-to-Open)\n",
    "\n",
    "## Overview\n",
    "In this demo, we will implement Delta Sharing to securely share data with non-Databricks recipients using **Open Sharing**. This demonstration shows how to share data with external partners who don't have access to a Databricks workspace.\n",
    "\n",
    "**Provider Notebook (This Notebook):** We will use the existing Unity Catalog data from the previous demo, create a share for external access, configure an open recipient using bearer token authentication, and generate an activation link and credential file for the recipient.\n",
    "\n",
    "**Recipient Notebook:** The receiving organization (not using Databricks) will download the credential file and access the shared data using various tools including Python, pandas, Power BI, and other compatible platforms.\n",
    "\n",
    "This demo showcases the **Databricks-to-Open (D2O)** sharing pattern, where the provider uses Databricks and the recipient uses open-source or third-party tools to access the data."
   ]
  },
  {
   "cell_type": "markdown",
   "metadata": {
    "application/vnd.databricks.v1+cell": {
     "cellMetadata": {},
     "inputWidgets": {},
     "nuid": "61d10bb6-b079-49a1-aa7a-acbf74235ecf",
     "showTitle": false,
     "tableResultSettingsMap": {},
     "title": ""
    }
   },
   "source": [
    "### Learning Objectives\n",
    "By the end of this demo, you will be able to:\n",
    "1. Create a recipient for open sharing using bearer token authentication\n",
    "2. Understand the difference between D2D and D2O sharing patterns\n",
    "3. Generate and share activation links and credential files securely\n",
    "4. Understand alternative authentication methods (OIDC federation)\n",
    "5. Manage recipient tokens and security considerations\n",
    "6. Grant non-Databricks recipients access to shared data"
   ]
  },
  {
   "cell_type": "markdown",
   "metadata": {
    "application/vnd.databricks.v1+cell": {
     "cellMetadata": {},
     "inputWidgets": {},
     "nuid": "c1381481-cac7-4300-a065-6faa5d8e152f",
     "showTitle": false,
     "tableResultSettingsMap": {},
     "title": ""
    }
   },
   "source": [
    "## Background\n",
    "\n",
    "**Scenario:**\n",
    "You are a data provider company (*\"Acme Corp\"*) that wants to share customer analytics data with an external partner organization that does not have access to Databricks. The partner will access the shared data using Python, Power BI, or other compatible tools.\n",
    "\n",
    "### Open Sharing Authentication Methods\n",
    "\n",
    "Databricks supports two authentication flows for open sharing:\n",
    "\n",
    "1. **Bearer Token Authentication** (demonstrated in this notebook)\n",
    "   - Provider creates recipient and Databricks generates a long-lived bearer token\n",
    "   - Token is included in a credential file shared via activation link\n",
    "   - Simple to set up but requires careful token management\n",
    "   - Recipient treats credential file as a secret\n",
    "\n",
    "2. **OIDC Federation** (mentioned for awareness)\n",
    "   - Uses OpenID Connect to federate authentication to recipient's Identity Provider (IdP)\n",
    "   - Supports both User-to-Machine (U2M) and Machine-to-Machine (M2M) flows\n",
    "   - More secure: uses short-lived JWT tokens instead of long-lived bearer tokens\n",
    "   - Enables MFA and fine-grained access control\n",
    "   - IdP manages token lifecycle and security policies\n",
    "   - Recommended for enterprise scenarios requiring enhanced security\n",
    "\n",
    "For this demo, we'll use bearer token authentication for simplicity. In production environments, consider OIDC federation for enhanced security."
   ]
  },
  {
   "cell_type": "code",
   "execution_count": 0,
   "metadata": {
    "application/vnd.databricks.v1+cell": {
     "cellMetadata": {
      "byteLimit": 2048000,
      "implicitDf": true,
      "rowLimit": 10000
     },
     "inputWidgets": {},
     "nuid": "ed2fecda-afe0-4f97-b023-6ae002c78a33",
     "showTitle": false,
     "tableResultSettingsMap": {},
     "title": ""
    }
   },
   "outputs": [],
   "source": [
    "%run ./Includes/Demo-Setup-2"
   ]
  },
  {
   "cell_type": "markdown",
   "metadata": {
    "application/vnd.databricks.v1+cell": {
     "cellMetadata": {},
     "inputWidgets": {},
     "nuid": "aa8874d4-38cc-4202-9d16-28a1a534c921",
     "showTitle": false,
     "tableResultSettingsMap": {},
     "title": ""
    }
   },
   "source": [
    "## Step 1: Review Existing Data\n",
    "\n",
    "We'll use the same catalog and data created in the previous demo (D2D). Let's verify the data is available."
   ]
  },
  {
   "cell_type": "code",
   "execution_count": 0,
   "metadata": {
    "application/vnd.databricks.v1+cell": {
     "cellMetadata": {
      "byteLimit": 2048000,
      "rowLimit": 10000
     },
     "inputWidgets": {},
     "nuid": "cbe96ed5-f1cd-479e-9f11-cfbe9e830056",
     "showTitle": false,
     "tableResultSettingsMap": {},
     "title": ""
    }
   },
   "outputs": [],
   "source": [
    "-- Verify current context\n",
    "SELECT current_catalog(), current_schema();"
   ]
  },
  {
   "cell_type": "code",
   "execution_count": 0,
   "metadata": {
    "application/vnd.databricks.v1+cell": {
     "cellMetadata": {
      "byteLimit": 2048000,
      "rowLimit": 10000
     },
     "inputWidgets": {},
     "nuid": "2f36602f-5d78-45e0-959a-54d8110f652d",
     "showTitle": false,
     "tableResultSettingsMap": {},
     "title": ""
    }
   },
   "outputs": [],
   "source": [
    "-- Show available tables\n",
    "SHOW TABLES;"
   ]
  },
  {
   "cell_type": "markdown",
   "metadata": {
    "application/vnd.databricks.v1+cell": {
     "cellMetadata": {},
     "inputWidgets": {},
     "nuid": "23ae8b7d-588d-4838-af52-f153a84a8c9e",
     "showTitle": false,
     "tableResultSettingsMap": {},
     "title": ""
    }
   },
   "source": [
    "## Step 2: Create a Share for External Access\n",
    "\n",
    "We'll create a new share specifically for our external partner. This allows us to manage internal and external sharing separately."
   ]
  },
  {
   "cell_type": "code",
   "execution_count": 0,
   "metadata": {
    "application/vnd.databricks.v1+cell": {
     "cellMetadata": {
      "byteLimit": 2048000,
      "rowLimit": 10000
     },
     "inputWidgets": {},
     "nuid": "f9e15617-cf0d-490e-983c-162e54f60b5e",
     "showTitle": false,
     "tableResultSettingsMap": {},
     "title": ""
    }
   },
   "outputs": [],
   "source": [
    "-- Create a share for external partners\n",
    "CREATE SHARE IF NOT EXISTS external_retail\n",
    "COMMENT 'Share containing customer and sales data for external partner access';"
   ]
  },
  {
   "cell_type": "code",
   "execution_count": 0,
   "metadata": {
    "application/vnd.databricks.v1+cell": {
     "cellMetadata": {
      "byteLimit": 2048000,
      "rowLimit": 10000
     },
     "inputWidgets": {},
     "nuid": "67445398-f6b9-4dc6-b424-70ae9e6c765d",
     "showTitle": false,
     "tableResultSettingsMap": {},
     "title": ""
    }
   },
   "outputs": [],
   "source": [
    "-- Add tables to the external share\n",
    "ALTER SHARE external_retail \n",
    "ADD TABLE acme_corp.retail.customers\n",
    "COMMENT 'Customer master data for external partners';\n",
    "\n",
    "ALTER SHARE external_retail \n",
    "ADD TABLE acme_corp.retail.sales_transactions\n",
    "COMMENT 'Sales transaction history for external partners';"
   ]
  },
  {
   "cell_type": "code",
   "execution_count": 0,
   "metadata": {
    "application/vnd.databricks.v1+cell": {
     "cellMetadata": {
      "byteLimit": 2048000,
      "rowLimit": 10000
     },
     "inputWidgets": {},
     "nuid": "c0e112a0-5219-4587-8bf8-d15cbe3c70f4",
     "showTitle": false,
     "tableResultSettingsMap": {},
     "title": ""
    }
   },
   "outputs": [],
   "source": [
    "-- Verify share contents\n",
    "SHOW ALL IN SHARE external_retail;"
   ]
  },
  {
   "cell_type": "markdown",
   "metadata": {
    "application/vnd.databricks.v1+cell": {
     "cellMetadata": {},
     "inputWidgets": {},
     "nuid": "4ee333cc-5df1-4144-8f32-e9990aa39d22",
     "showTitle": false,
     "tableResultSettingsMap": {},
     "title": ""
    }
   },
   "source": [
    "## Step 3: Create an Open Recipient (Bearer Token)\n",
    "\n",
    "For open sharing, we create a recipient without specifying a metastore ID. Databricks will automatically:\n",
    "1. Set the authentication type to `TOKEN`\n",
    "2. Generate a bearer token\n",
    "3. Create a credential file containing the token\n",
    "4. Generate an activation link for downloading the credential file\n",
    "\n",
    "**Important Security Considerations:**\n",
    "- The credential file can only be downloaded once via the activation link\n",
    "- Treat the activation link and credential file as secrets\n",
    "- Share the activation link over a secure channel only\n",
    "- Recipients must not share credentials outside their organization\n",
    "- You can rotate tokens if credentials are compromised"
   ]
  },
  {
   "cell_type": "code",
   "execution_count": 0,
   "metadata": {
    "application/vnd.databricks.v1+cell": {
     "cellMetadata": {
      "byteLimit": 2048000,
      "rowLimit": 10000
     },
     "inputWidgets": {},
     "nuid": "bdcdde31-4c88-4e3a-9d8f-98aaf943f415",
     "showTitle": false,
     "tableResultSettingsMap": {},
     "title": ""
    }
   },
   "outputs": [],
   "source": [
    "-- Create an open recipient (no metastore ID required)\n",
    "CREATE RECIPIENT IF NOT EXISTS partner_co\n",
    "COMMENT 'External partner organization - open sharing recipient';"
   ]
  },
  {
   "cell_type": "code",
   "execution_count": 0,
   "metadata": {
    "application/vnd.databricks.v1+cell": {
     "cellMetadata": {
      "byteLimit": 2048000,
      "rowLimit": 10000
     },
     "inputWidgets": {},
     "nuid": "b9a18ea9-ccf1-4aba-a024-0a802b8286c9",
     "showTitle": false,
     "tableResultSettingsMap": {},
     "title": ""
    }
   },
   "outputs": [],
   "source": [
    "-- View all recipients (note the different authentication types)\n",
    "SHOW RECIPIENTS;"
   ]
  },
  {
   "cell_type": "markdown",
   "metadata": {
    "application/vnd.databricks.v1+cell": {
     "cellMetadata": {},
     "inputWidgets": {},
     "nuid": "fc4e72ff-c2e2-41ff-86f8-045e142c9858",
     "showTitle": false,
     "tableResultSettingsMap": {},
     "title": ""
    }
   },
   "source": [
    "## Step 4: Get the Activation Link\n",
    "\n",
    "The activation link allows the recipient to download their credential file. **This link should be shared securely** (e.g., encrypted email, secure messaging platform).\n",
    "\n",
    "**Important Notes:**\n",
    "- The activation link is only displayed if the credential file has not been downloaded yet\n",
    "- After the recipient downloads the credential file, the activation link will no longer be shown\n",
    "- If you need to provide the credential again, you must rotate the recipient's token"
   ]
  },
  {
   "cell_type": "code",
   "execution_count": 0,
   "metadata": {
    "application/vnd.databricks.v1+cell": {
     "cellMetadata": {
      "byteLimit": 2048000,
      "rowLimit": 10000
     },
     "inputWidgets": {},
     "nuid": "3e6526eb-9e3c-48fa-8442-b44f6ddba9be",
     "showTitle": false,
     "tableResultSettingsMap": {},
     "title": ""
    }
   },
   "outputs": [],
   "source": [
    "-- Get the activation link for the recipient\n",
    "DESCRIBE RECIPIENT partner_co;"
   ]
  },
  {
   "cell_type": "markdown",
   "metadata": {
    "application/vnd.databricks.v1+cell": {
     "cellMetadata": {},
     "inputWidgets": {},
     "nuid": "294db140-2af1-4ab5-82e2-51b29d05ab21",
     "showTitle": false,
     "tableResultSettingsMap": {},
     "title": ""
    }
   },
   "source": [
    "**Action Required:** Copy the `activation_link` from the output above and share it securely with your recipient.\n",
    "\n",
    "The activation link format will look like:\n",
    "```\n",
    "https://<workspace-url>/accept-credentials?shareId=<id>&activationToken=<token>\n",
    "```"
   ]
  },
  {
   "cell_type": "markdown",
   "metadata": {
    "application/vnd.databricks.v1+cell": {
     "cellMetadata": {},
     "inputWidgets": {},
     "nuid": "89480771-9ae7-4670-a16f-5ad0b6bff608",
     "showTitle": false,
     "tableResultSettingsMap": {},
     "title": ""
    }
   },
   "source": [
    "## Step 5: Grant the Recipient Access to the Share\n",
    "\n",
    "Now we grant the open recipient access to our external share."
   ]
  },
  {
   "cell_type": "code",
   "execution_count": 0,
   "metadata": {
    "application/vnd.databricks.v1+cell": {
     "cellMetadata": {
      "byteLimit": 2048000,
      "rowLimit": 10000
     },
     "inputWidgets": {},
     "nuid": "d94f27dd-81bc-4328-a8a2-16e4cf822b52",
     "showTitle": false,
     "tableResultSettingsMap": {},
     "title": ""
    }
   },
   "outputs": [],
   "source": [
    "-- Grant the open recipient access to the share\n",
    "GRANT SELECT ON SHARE external_retail TO RECIPIENT partner_co;"
   ]
  },
  {
   "cell_type": "code",
   "execution_count": 0,
   "metadata": {
    "application/vnd.databricks.v1+cell": {
     "cellMetadata": {
      "byteLimit": 2048000,
      "rowLimit": 10000
     },
     "inputWidgets": {},
     "nuid": "febcf504-8895-490b-93a6-e2ecda98cb00",
     "showTitle": false,
     "tableResultSettingsMap": {},
     "title": ""
    }
   },
   "outputs": [],
   "source": [
    "-- Verify the grant\n",
    "SHOW GRANTS ON SHARE external_retail;"
   ]
  },
  {
   "cell_type": "code",
   "execution_count": 0,
   "metadata": {
    "application/vnd.databricks.v1+cell": {
     "cellMetadata": {
      "byteLimit": 2048000,
      "rowLimit": 10000
     },
     "inputWidgets": {},
     "nuid": "500fc4b0-fdc1-4104-ad52-f2f244e9a14e",
     "showTitle": false,
     "tableResultSettingsMap": {},
     "title": ""
    }
   },
   "outputs": [],
   "source": [
    "-- Check all shares the recipient has access to\n",
    "SHOW GRANTS TO RECIPIENT partner_co;"
   ]
  },
  {
   "cell_type": "markdown",
   "metadata": {
    "application/vnd.databricks.v1+cell": {
     "cellMetadata": {},
     "inputWidgets": {},
     "nuid": "b8ce6fab-a6d2-47b0-89e5-0c049013d01f",
     "showTitle": false,
     "tableResultSettingsMap": {},
     "title": ""
    }
   },
   "source": [
    "## Step 6: Managing Recipient Tokens\n",
    "\n",
    "As a provider, you can manage recipient tokens for security purposes.\n",
    "\n",
    "### When to Rotate Tokens\n",
    "\n",
    "You should rotate a recipient's token in these circumstances:\n",
    "- The existing token is about to expire\n",
    "- A recipient loses their activation URL or it's compromised\n",
    "- The credential file is lost or compromised after download\n",
    "- When modifying the recipient token lifetime for the metastore\n",
    "- If the activation URL was sent over an insecure channel or to the wrong person\n",
    "\n",
    "### Security Best Practices\n",
    "\n",
    "- **Set token expiration**: Configure tokens to expire after a reasonable period\n",
    "- **Rotate compromised tokens immediately**: Set existing token expiration to 0 seconds\n",
    "- **Use secure channels**: Always share activation links through encrypted communications\n",
    "- **Monitor access**: Regularly review audit logs for unusual access patterns\n",
    "- **Document sharing agreements**: Maintain records of what data is shared with whom\n",
    "\n",
    "### Token Rotation Process (UI)\n",
    "\n",
    "To rotate a token in the UI:\n",
    "1. Go to Catalog → Delta Sharing → Shared by me → Recipients\n",
    "2. Select the recipient\n",
    "3. On the Details tab, under Token Expiration, click **Rotate**\n",
    "4. Set expiration time (immediately or specific duration)\n",
    "5. Copy the new activation link and share it securely\n",
    "\n",
    "**Note:** You can have at most two tokens active at once (an active token and a rotated token awaiting expiration)."
   ]
  },
  {
   "cell_type": "markdown",
   "metadata": {
    "application/vnd.databricks.v1+cell": {
     "cellMetadata": {},
     "inputWidgets": {},
     "nuid": "3827393f-513b-4f35-9424-35fa94859d4e",
     "showTitle": false,
     "tableResultSettingsMap": {},
     "title": ""
    }
   },
   "source": [
    "## Step 7: Optional IP Access Lists\n",
    "\n",
    "For enhanced security, you can restrict recipient access to specific IP addresses. This is useful when:\n",
    "- The recipient accesses data from known, fixed IP addresses\n",
    "- You want to add an extra layer of security beyond bearer tokens\n",
    "- Compliance requirements mandate IP restrictions\n",
    "\n",
    "IP access lists can be configured:\n",
    "- When creating the recipient\n",
    "- Added to an existing recipient\n",
    "- Modified as needed\n",
    "\n",
    "See the Databricks documentation for details on configuring IP access lists for Delta Sharing recipients."
   ]
  },
  {
   "cell_type": "markdown",
   "metadata": {
    "application/vnd.databricks.v1+cell": {
     "cellMetadata": {},
     "inputWidgets": {},
     "nuid": "9a1ce597-c136-4f16-bcd8-74e4281591c1",
     "showTitle": false,
     "tableResultSettingsMap": {},
     "title": ""
    }
   },
   "source": [
    "## Alternative: OIDC Federation (Advanced)\n",
    "\n",
    "For production environments requiring enhanced security, consider **OIDC Federation** instead of bearer tokens:\n",
    "\n",
    "### Benefits of OIDC Federation\n",
    "- **Short-lived tokens**: JWT tokens have limited lifetime (managed by recipient's IdP)\n",
    "- **No credential management**: Databricks doesn't generate or manage tokens\n",
    "- **MFA support**: Recipient's IdP can enforce multi-factor authentication\n",
    "- **Fine-grained control**: Define access by specific users, groups, or service principals\n",
    "- **Audit trail**: Authentication events logged in recipient's IdP\n",
    "\n",
    "### Authentication Flows\n",
    "\n",
    "**User-to-Machine (U2M)**:\n",
    "- End users authenticate via their IdP (e.g., Microsoft Entra ID, Okta)\n",
    "- Used with tools like Power BI, Tableau\n",
    "- OAuth Authorization Code Grant flow\n",
    "- MFA enforced by IdP\n",
    "\n",
    "**Machine-to-Machine (M2M)**:\n",
    "- Service principals or OAuth applications authenticate\n",
    "- Used for automated workloads (nightly jobs, background services)\n",
    "- OAuth Client Credentials Grant flow\n",
    "- No user interaction required\n",
    "\n",
    "### OIDC Federation Setup (High-Level)\n",
    "\n",
    "1. **Create Open OIDC Federation Recipient**:\n",
    "   - In Catalog Explorer → Delta Sharing → New recipient\n",
    "   - Recipient type: Open\n",
    "   - Authentication method: OIDC Federation\n",
    "\n",
    "2. **Configure OIDC Policy**:\n",
    "   - Policy name\n",
    "   - Issuer URL (e.g., `https://login.microsoftonline.com/{tenant-id}/v2.0`)\n",
    "   - Subject claim (e.g., `oid` for users, `groups` for groups, `azp` for M2M apps)\n",
    "   - Subject (user/group/app ID)\n",
    "   - Audiences (resource identifiers)\n",
    "\n",
    "3. **Share OIDC Profile**:\n",
    "   - Databricks generates an OIDC profile web portal URL\n",
    "   - Share URL with recipient (contains no sensitive information)\n",
    "   - Recipient downloads profile or copies endpoint URL\n",
    "\n",
    "4. **Recipient Authentication**:\n",
    "   - Recipient authenticates via their IdP\n",
    "   - IdP issues JWT with identity claims\n",
    "   - Databricks validates JWT against the configured policy\n",
    "   - If valid, access is granted\n",
    "\n",
    "For detailed OIDC Federation implementation, refer to the Databricks documentation."
   ]
  },
  {
   "cell_type": "markdown",
   "metadata": {
    "application/vnd.databricks.v1+cell": {
     "cellMetadata": {},
     "inputWidgets": {},
     "nuid": "4a75739c-c504-4f56-8db8-f1240a981089",
     "showTitle": false,
     "tableResultSettingsMap": {},
     "title": ""
    }
   },
   "source": [
    "## Next Steps\n",
    "\n",
    "The recipient will now:\n",
    "1. Access the activation link (shared securely)\n",
    "2. Download the credential file (`.share` format)\n",
    "3. Use the credential file to access data via:\n",
    "   - Python (`delta-sharing` library)\n",
    "   - pandas (via `delta-sharing` connector)\n",
    "   - Apache Spark\n",
    "   - Power BI Desktop\n",
    "   - Tableau\n",
    "   - Other Delta Sharing compatible tools\n",
    "\n",
    "See the recipient notebook for detailed instructions on accessing shared data."
   ]
  },
  {
   "cell_type": "markdown",
   "metadata": {
    "application/vnd.databricks.v1+cell": {
     "cellMetadata": {},
     "inputWidgets": {},
     "nuid": "77aa7b02-1d50-4b6d-bb96-ac3eacc8979b",
     "showTitle": false,
     "tableResultSettingsMap": {},
     "title": ""
    }
   },
   "source": [
    "## Summary\n",
    "\n",
    "✅ **What we accomplished:**\n",
    "\n",
    "1. Created a Delta Share for external partner access\n",
    "2. Created an open recipient using bearer token authentication\n",
    "3. Generated an activation link and credential file\n",
    "4. Granted the recipient access to the share\n",
    "5. Learned about token management and security considerations\n",
    "6. Explored alternative OIDC federation authentication\n",
    "\n",
    "**Key Differences: D2D vs D2O**\n",
    "- **D2D (Databricks-to-Databricks)**:\n",
    "  - Recipient has Databricks workspace\n",
    "  - Authentication via metastore ID\n",
    "  - Mount share directly to catalog\n",
    "  - Query with standard SQL\n",
    "\n",
    "- **D2O (Databricks-to-Open)**:\n",
    "  - Recipient doesn't need Databricks\n",
    "  - Authentication via bearer token or OIDC\n",
    "  - Use credential file with various tools\n",
    "  - Query with Python, Power BI, etc.\n",
    "\n",
    "**Key Benefits:**\n",
    "- 🚀 **No Platform Lock-in**: Recipients use their preferred tools\n",
    "- 🔒 **Secure**: Token-based or OIDC authentication\n",
    "- ⚡ **Real-time**: Always access latest data from provider\n",
    "- 💰 **Cost-effective**: No storage costs for recipients\n",
    "- 🌐 **Open Standard**: Delta Sharing is an open protocol"
   ]
  },
  {
   "cell_type": "markdown",
   "metadata": {
    "application/vnd.databricks.v1+cell": {
     "cellMetadata": {},
     "inputWidgets": {},
     "nuid": "3c04431b-b557-417f-90b1-cbb643e034ba",
     "showTitle": false,
     "tableResultSettingsMap": {},
     "title": ""
    }
   },
   "source": [
    "---\n",
    "&copy; 2025 Databricks, Inc. All rights reserved. Apache, Apache Spark, Spark, the Spark Logo, Apache Iceberg, Iceberg, and the Apache Iceberg logo are trademarks of the <a href=\"https://www.apache.org/\" target=\"_blank\">Apache Software Foundation</a>.<br/><br/><a href=\"https://databricks.com/privacy-policy\" target=\"_blank\">Privacy Policy</a> | <a href=\"https://databricks.com/terms-of-use\" target=\"_blank\">Terms of Use</a> | <a href=\"https://help.databricks.com/\" target=\"_blank\">Support</a>"
   ]
  }
 ],
 "metadata": {
  "application/vnd.databricks.v1+notebook": {
   "computePreferences": null,
   "dashboards": [],
   "environmentMetadata": {
    "base_environment": "",
    "environment_version": "4"
   },
   "inputWidgetPreferences": null,
   "language": "sql",
   "notebookMetadata": {
    "pythonIndentUnit": 4
   },
   "notebookName": "2.3 DEMO Implementing Delta Sharing (D2O) - Provider",
   "widgets": {}
  },
  "language_info": {
   "name": "sql"
  }
 },
 "nbformat": 4,
 "nbformat_minor": 0
}