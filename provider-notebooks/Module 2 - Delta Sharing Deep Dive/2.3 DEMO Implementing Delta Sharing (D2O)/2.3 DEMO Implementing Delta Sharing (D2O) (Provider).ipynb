{
 "cells": [
  {
   "cell_type": "code",
   "execution_count": 0,
   "metadata": {
    "application/vnd.databricks.v1+cell": {
     "cellMetadata": {},
     "inputWidgets": {},
     "nuid": "0b800e1d-7e31-4ab6-8c2a-64b18d49dfd6",
     "showTitle": false,
     "tableResultSettingsMap": {},
     "title": ""
    }
   },
   "outputs": [],
   "source": [
    "# 2.3 DEMO: Implementing Delta Sharing (Databricks-to-Open)\n",
    "\n",
    "## Provider Workspace - External Client Sharing\n",
    "\n",
    "**Learning Objectives:**\n",
    "- Share data with external (non-Databricks) clients\n",
    "- Create open sharing recipients\n",
    "- Generate credential files for external access\n",
    "- Understand the difference between D2D and D2O sharing\n",
    "- Configure shares for external client consumption\n",
    "\n",
    "**Scenario:**\n",
    "You are a data provider company that wants to share analytics data with external partners who may not use Databricks. They will access the data using open-source tools like Python, Power BI, or other Delta Sharing compatible clients.\n",
    "\n",
    "**Key Difference from D2D:**\n",
    "- D2O sharing uses credential files (bearer tokens) instead of activation links\n",
    "- External clients use the delta-sharing Python library or other compatible clients\n",
    "- No Databricks workspace required for recipients\n",
    "- OIDC authentication is also available (out of scope for this demo)"
   ]
  },
  {
   "cell_type": "code",
   "execution_count": null,
   "metadata": {},
   "outputs": [],
   "source": [
    "%run ../../setup/00-provider-setup"
   ]
  },
  {
   "cell_type": "markdown",
   "metadata": {},
   "source": [
    "## Step 1: Create or Reuse Catalog and Tables\n",
    "\n",
    "We'll reuse the catalog and tables from the previous demo, or create them if they don't exist."
   ]
  },
  {
   "cell_type": "code",
   "execution_count": null,
   "metadata": {
    "vscode": {
     "languageId": "sql"
    }
   },
   "outputs": [],
   "source": [
    "-- Create catalog and schema (if not exists)\n",
    "CREATE CATALOG IF NOT EXISTS ${c.catalog_name};\n",
    "USE CATALOG ${c.catalog_name};\n",
    "\n",
    "CREATE SCHEMA IF NOT EXISTS ${c.schema_name};\n",
    "\n",
    "-- Create a table with inventory data for external sharing\n",
    "CREATE OR REPLACE TABLE ${c.catalog_name}.${c.schema_name}.product_inventory (\n",
    "  product_id INT,\n",
    "  product_name STRING,\n",
    "  category STRING,\n",
    "  supplier STRING,\n",
    "  stock_quantity INT,\n",
    "  unit_cost DECIMAL(10,2),\n",
    "  last_updated TIMESTAMP\n",
    ")\n",
    "COMMENT 'Product inventory for external client access';\n",
    "\n",
    "-- Insert sample data\n",
    "INSERT INTO ${c.catalog_name}.${c.schema_name}.product_inventory VALUES\n",
    "  (201, 'Laptop Pro 15', 'Electronics', 'Tech Distributors Inc', 45, 899.99, current_timestamp()),\n",
    "  (202, 'Wireless Keyboard', 'Electronics', 'Tech Distributors Inc', 120, 49.99, current_timestamp()),\n",
    "  (203, 'Office Chair Deluxe', 'Furniture', 'Office Pro Ltd', 30, 249.99, current_timestamp()),\n",
    "  (204, 'Standing Desk', 'Furniture', 'Office Pro Ltd', 15, 599.99, current_timestamp()),\n",
    "  (205, 'USB-C Hub', 'Electronics', 'Tech Distributors Inc', 200, 34.99, current_timestamp()),\n",
    "  (206, 'Monitor 27 inch', 'Electronics', 'Tech Distributors Inc', 60, 299.99, current_timestamp()),\n",
    "  (207, 'Desk Organizer', 'Office Supplies', 'Supply Chain Co', 150, 19.99, current_timestamp()),\n",
    "  (208, 'Webcam HD', 'Electronics', 'Tech Distributors Inc', 80, 79.99, current_timestamp());\n",
    "\n",
    "SELECT * FROM ${c.catalog_name}.${c.schema_name}.product_inventory;"
   ]
  },
  {
   "cell_type": "markdown",
   "metadata": {},
   "source": [
    "## Step 2: Create a Share for External Clients\n",
    "\n",
    "Create a new share specifically for external (open) client access."
   ]
  },
  {
   "cell_type": "code",
   "execution_count": null,
   "metadata": {
    "vscode": {
     "languageId": "sql"
    }
   },
   "outputs": [],
   "source": [
    "-- Create a share for external clients\n",
    "CREATE SHARE IF NOT EXISTS ${c.share_name}\n",
    "COMMENT 'Share for external client access to product inventory';\n",
    "\n",
    "-- Add the inventory table to the share\n",
    "ALTER SHARE ${c.share_name}\n",
    "ADD TABLE ${c.catalog_name}.${c.schema_name}.product_inventory\n",
    "COMMENT 'Product inventory data for external analytics';\n",
    "\n",
    "-- View the share contents\n",
    "SHOW ALL IN SHARE ${c.share_name};"
   ]
  },
  {
   "cell_type": "markdown",
   "metadata": {},
   "source": [
    "## Step 3: Create an Open (External) Recipient\n",
    "\n",
    "For external clients, we create a recipient without authenticating to a specific Databricks workspace. This generates a credential file (bearer token) that external clients can use."
   ]
  },
  {
   "cell_type": "code",
   "execution_count": null,
   "metadata": {
    "vscode": {
     "languageId": "sql"
    }
   },
   "outputs": [],
   "source": [
    "-- Create an open recipient (no specific Databricks workspace)\n",
    "-- Note: For D2O, we don't specify USING ID (which would be for D2D)\n",
    "CREATE RECIPIENT IF NOT EXISTS ${c.d2o_recipient}\n",
    "COMMENT 'External client recipient for open sharing';\n",
    "\n",
    "-- View all recipients\n",
    "SHOW RECIPIENTS;"
   ]
  },
  {
   "cell_type": "markdown",
   "metadata": {},
   "source": [
    "## Step 4: Grant Share to Recipient\n",
    "\n",
    "Grant the share to the external recipient."
   ]
  },
  {
   "cell_type": "code",
   "execution_count": null,
   "metadata": {
    "vscode": {
     "languageId": "sql"
    }
   },
   "outputs": [],
   "source": [
    "-- Grant the share to the recipient\n",
    "GRANT SELECT ON SHARE ${c.share_name} TO RECIPIENT ${c.d2o_recipient};\n",
    "\n",
    "-- Describe the recipient to get the credential download URL\n",
    "DESCRIBE RECIPIENT ${c.d2o_recipient};"
   ]
  },
  {
   "cell_type": "markdown",
   "metadata": {},
   "source": [
    "## Step 5: Download and Share the Credential File\n",
    "\n",
    "**Important:** From the output above, you'll see an `activation_link` URL. \n",
    "\n",
    "### For External Clients:\n",
    "1. **Copy the activation_link URL** from the output above\n",
    "2. **Open the URL in a browser** - this will download a `.share` credential file\n",
    "3. **Share this file securely** with your external client\n",
    "4. The file contains:\n",
    "   - Share endpoint URL\n",
    "   - Bearer token for authentication\n",
    "   - Share name\n",
    "\n",
    "### Security Notes:\n",
    "- 🔐 Treat the `.share` file like a password - it provides access to your data\n",
    "- ⏰ Tokens can be rotated or revoked at any time\n",
    "- 📧 Share the file through secure channels (encrypted email, secure file transfer)\n",
    "- 🔄 Consider setting token expiration policies\n",
    "\n",
    "### Alternative: OIDC Authentication\n",
    "- **OIDC (OpenID Connect)** provides more secure, enterprise-grade authentication\n",
    "- Eliminates the need for bearer tokens\n",
    "- Out of scope for this demo, but recommended for production use\n",
    "- Requires additional identity provider configuration"
   ]
  },
  {
   "cell_type": "markdown",
   "metadata": {},
   "source": [
    "## Step 6: Monitor and Manage the Share\n",
    "\n",
    "You can monitor who is accessing your shared data and manage the recipient."
   ]
  },
  {
   "cell_type": "code",
   "execution_count": null,
   "metadata": {
    "vscode": {
     "languageId": "sql"
    }
   },
   "outputs": [],
   "source": [
    "-- View all recipients\n",
    "SHOW RECIPIENTS;\n",
    "\n",
    "-- View details of specific recipient\n",
    "SHOW GRANTS ON SHARE ${c.share_name};\n",
    "\n",
    "-- View share details\n",
    "DESCRIBE SHARE ${c.share_name};\n",
    "\n",
    "-- If needed, revoke access\n",
    "-- REVOKE SELECT ON SHARE ${c.share_name} FROM RECIPIENT ${c.d2o_recipient};\n",
    "\n",
    "-- If needed, drop the recipient\n",
    "-- DROP RECIPIENT ${c.d2o_recipient};"
   ]
  },
  {
   "cell_type": "markdown",
   "metadata": {},
   "source": [
    "## Summary: Databricks-to-Open (D2O) Sharing\n",
    "\n",
    "### Key Differences from D2D:\n",
    "\n",
    "| Aspect | D2D (Databricks-to-Databricks) | D2O (Databricks-to-Open) |\n",
    "|--------|--------------------------------|--------------------------|\n",
    "| **Recipient Type** | Databricks workspace required | Any client with delta-sharing library |\n",
    "| **Authentication** | Activation link creates catalog | Credential file (.share) with bearer token |\n",
    "| **Access Method** | SQL queries in Databricks | Python, Pandas, PowerBI, Tableau, etc. |\n",
    "| **Recipient Creation** | `CREATE RECIPIENT` with workspace ID | `CREATE RECIPIENT` without workspace ID |\n",
    "| **Use Case** | Internal Databricks users | External partners, BI tools, data scientists |\n",
    "\n",
    "### What We Accomplished:\n",
    "✅ Created an open recipient for external access  \n",
    "✅ Generated a credential file download URL  \n",
    "✅ Configured bearer token authentication  \n",
    "✅ Prepared data for consumption by any delta-sharing client  \n",
    "\n",
    "### Next Steps:\n",
    "The recipient can now use the credential file with:\n",
    "- Python (delta-sharing library)\n",
    "- Power BI Desktop (via connector)\n",
    "- Tableau (via connector)\n",
    "- Any tool supporting the Delta Sharing protocol"
   ]
  }
 ],
 "metadata": {
  "application/vnd.databricks.v1+notebook": {
   "computePreferences": null,
   "dashboards": [],
   "environmentMetadata": {
    "base_environment": "",
    "environment_version": "4"
   },
   "inputWidgetPreferences": null,
   "language": "python",
   "notebookMetadata": {
    "pythonIndentUnit": 4
   },
   "notebookName": "2.3 DEMO Implementing Delta Sharing (D2O) (Provider)",
   "widgets": {}
  },
  "language_info": {
   "name": "python"
  }
 },
 "nbformat": 4,
 "nbformat_minor": 0
}
