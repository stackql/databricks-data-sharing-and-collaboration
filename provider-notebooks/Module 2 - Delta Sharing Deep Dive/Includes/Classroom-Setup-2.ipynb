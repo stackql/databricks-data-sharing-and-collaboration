{
 "cells": [
  {
   "cell_type": "markdown",
   "metadata": {
    "application/vnd.databricks.v1+cell": {
     "cellMetadata": {},
     "inputWidgets": {},
     "nuid": "b33fa660-8c47-42ac-bf06-66dc3dfacb95",
     "showTitle": false,
     "tableResultSettingsMap": {},
     "title": ""
    }
   },
   "source": [
    "# Provider Workspace Setup\n",
    "\n",
    "This notebook sets up common variables and configurations for the Provider workspace."
   ]
  },
  {
   "cell_type": "markdown",
   "metadata": {
    "application/vnd.databricks.v1+cell": {
     "cellMetadata": {},
     "inputWidgets": {},
     "nuid": "0b81ef26-a00e-4bff-b58e-14f5514f5921",
     "showTitle": false,
     "tableResultSettingsMap": {},
     "title": ""
    }
   },
   "source": [
    "## Get Current User and Setup Variables"
   ]
  },
  {
   "cell_type": "code",
   "execution_count": 0,
   "metadata": {
    "application/vnd.databricks.v1+cell": {
     "cellMetadata": {},
     "inputWidgets": {},
     "nuid": "21e55d2a-0a64-41c4-b4e7-721a61d77839",
     "showTitle": false,
     "tableResultSettingsMap": {},
     "title": ""
    }
   },
   "outputs": [],
   "source": [
    "%python\n",
    "# Get current user information\n",
    "current_user = spark.sql(\"SELECT current_user() as user\").collect()[0][\"user\"]\n",
    "username = current_user.split(\"@\")[0].replace(\".\", \"_\").replace(\"-\", \"_\")\n",
    "\n",
    "# Provider configuration\n",
    "provider_catalog = f\"{username}_provider_catalog\"\n",
    "schema_name = \"sales_data\"\n",
    "share_name = f\"{username}_customer_share\"\n",
    "cdf_share_name = f\"{username}_cdf_share\"\n",
    "d2d_recipient = f\"{username}_d2d_recipient\"\n",
    "d2o_recipient = f\"{username}_d2o_recipient\"\n",
    "\n",
    "# Set as Spark configuration for SQL access\n",
    "spark.conf.set(\"c.catalog_name\", provider_catalog)\n",
    "spark.conf.set(\"c.schema_name\", schema_name)\n",
    "spark.conf.set(\"c.share_name\", share_name)\n",
    "spark.conf.set(\"c.cdf_share_name\", cdf_share_name)\n",
    "spark.conf.set(\"c.d2d_recipient\", d2d_recipient)\n",
    "spark.conf.set(\"c.d2o_recipient\", d2o_recipient)\n",
    "\n",
    "print(\"=\"*80)\n",
    "print(\"PROVIDER WORKSPACE CONFIGURATION\")\n",
    "print(\"=\"*80)\n",
    "print(f\"Current User: {current_user}\")\n",
    "print(f\"Username: {username}\")\n",
    "print(f\"\")\n",
    "print(f\"Catalog: {provider_catalog}\")\n",
    "print(f\"Schema: {schema_name}\")\n",
    "print(f\"Share (D2D): {share_name}\")\n",
    "print(f\"Share (CDF): {cdf_share_name}\")\n",
    "print(f\"Recipient (D2D): {d2d_recipient}\")\n",
    "print(f\"Recipient (D2O): {d2o_recipient}\")\n",
    "print(\"=\"*80)\n",
    "print(\"✅ Variables configured! Use ${c.variable_name} in SQL cells\")\n",
    "print(\"=\"*80)"
   ]
  },
  {
   "cell_type": "markdown",
   "metadata": {
    "application/vnd.databricks.v1+cell": {
     "cellMetadata": {},
     "inputWidgets": {},
     "nuid": "36871d0f-d687-4c27-8167-121b1d11670b",
     "showTitle": false,
     "tableResultSettingsMap": {},
     "title": ""
    }
   },
   "source": [
    "## Verify Configuration\n",
    "\n",
    "The variables are now available in SQL using the `${c.variable_name}` syntax"
   ]
  },
  {
   "cell_type": "code",
   "execution_count": 0,
   "metadata": {
    "application/vnd.databricks.v1+cell": {
     "cellMetadata": {},
     "inputWidgets": {},
     "nuid": "586124bc-5a0f-4b59-9faf-7d97ed34fb75",
     "showTitle": false,
     "tableResultSettingsMap": {},
     "title": ""
    }
   },
   "outputs": [],
   "source": [
    "SELECT \n",
    "  '${c.catalog_name}' as catalog_name,\n",
    "  '${c.schema_name}' as schema_name,\n",
    "  '${c.share_name}' as share_name,\n",
    "  '${c.d2d_recipient}' as d2d_recipient,\n",
    "  current_user() as current_user"
   ]
  }
 ],
 "metadata": {
  "application/vnd.databricks.v1+notebook": {
   "computePreferences": null,
   "dashboards": [],
   "environmentMetadata": null,
   "inputWidgetPreferences": null,
   "language": "python",
   "notebookMetadata": {
    "pythonIndentUnit": 4
   },
   "notebookName": "Classroom-Setup-2",
   "widgets": {}
  },
  "language_info": {
   "name": "python"
  }
 },
 "nbformat": 4,
 "nbformat_minor": 0
}
