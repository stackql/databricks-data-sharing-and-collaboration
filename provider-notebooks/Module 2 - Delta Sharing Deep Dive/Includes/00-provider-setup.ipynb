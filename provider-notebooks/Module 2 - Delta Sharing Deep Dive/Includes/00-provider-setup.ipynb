{
 "cells": [
  {
   "cell_type": "markdown",
   "id": "0b8bb40f",
   "metadata": {},
   "source": [
    "# Provider Workspace Setup\n",
    "\n",
    "This notebook sets up common variables and configurations for the Provider workspace.\n",
    "\n",
    "**Usage:** Include `%run ../setup/00-provider-setup` at the top of your provider notebooks"
   ]
  },
  {
   "cell_type": "markdown",
   "id": "6341e383",
   "metadata": {},
   "source": [
    "## Get Current User and Setup Variables"
   ]
  },
  {
   "cell_type": "code",
   "execution_count": null,
   "id": "b1f9cea0",
   "metadata": {},
   "outputs": [],
   "source": [
    "%python\n",
    "# Get current user information\n",
    "current_user = spark.sql(\"SELECT current_user() as user\").collect()[0][\"user\"]\n",
    "username = current_user.split(\"@\")[0].replace(\".\", \"_\").replace(\"-\", \"_\")\n",
    "\n",
    "# Provider configuration\n",
    "provider_catalog = f\"{username}_provider_catalog\"\n",
    "schema_name = \"sales_data\"\n",
    "share_name = f\"{username}_customer_share\"\n",
    "cdf_share_name = f\"{username}_cdf_share\"\n",
    "d2d_recipient = f\"{username}_d2d_recipient\"\n",
    "d2o_recipient = f\"{username}_d2o_recipient\"\n",
    "\n",
    "# Set as Spark configuration for SQL access\n",
    "spark.conf.set(\"c.catalog_name\", provider_catalog)\n",
    "spark.conf.set(\"c.schema_name\", schema_name)\n",
    "spark.conf.set(\"c.share_name\", share_name)\n",
    "spark.conf.set(\"c.cdf_share_name\", cdf_share_name)\n",
    "spark.conf.set(\"c.d2d_recipient\", d2d_recipient)\n",
    "spark.conf.set(\"c.d2o_recipient\", d2o_recipient)\n",
    "\n",
    "print(\"=\"*80)\n",
    "print(\"PROVIDER WORKSPACE CONFIGURATION\")\n",
    "print(\"=\"*80)\n",
    "print(f\"Current User: {current_user}\")\n",
    "print(f\"Username: {username}\")\n",
    "print(f\"\")\n",
    "print(f\"Catalog: {provider_catalog}\")\n",
    "print(f\"Schema: {schema_name}\")\n",
    "print(f\"Share (D2D): {share_name}\")\n",
    "print(f\"Share (CDF): {cdf_share_name}\")\n",
    "print(f\"Recipient (D2D): {d2d_recipient}\")\n",
    "print(f\"Recipient (D2O): {d2o_recipient}\")\n",
    "print(\"=\"*80)\n",
    "print(\"✅ Variables configured! Use ${c.variable_name} in SQL cells\")\n",
    "print(\"=\"*80)"
   ]
  },
  {
   "cell_type": "markdown",
   "id": "eb830c40",
   "metadata": {},
   "source": [
    "## Verify Configuration\n",
    "\n",
    "The variables are now available in SQL using the `${c.variable_name}` syntax"
   ]
  },
  {
   "cell_type": "code",
   "execution_count": null,
   "id": "9a1b88ce",
   "metadata": {},
   "outputs": [],
   "source": [
    "SELECT \n",
    "  '${c.catalog_name}' as catalog_name,\n",
    "  '${c.schema_name}' as schema_name,\n",
    "  '${c.share_name}' as share_name,\n",
    "  '${c.d2d_recipient}' as d2d_recipient,\n",
    "  current_user() as current_user"
   ]
  }
 ],
 "metadata": {
  "language_info": {
   "name": "python"
  }
 },
 "nbformat": 4,
 "nbformat_minor": 5
}
