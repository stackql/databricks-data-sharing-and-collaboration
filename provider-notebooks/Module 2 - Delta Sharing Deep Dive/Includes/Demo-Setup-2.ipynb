{
 "cells": [
  {
   "cell_type": "code",
   "execution_count": 0,
   "metadata": {
    "application/vnd.databricks.v1+cell": {
     "cellMetadata": {},
     "inputWidgets": {},
     "nuid": "5eace6b6-5f7c-4d45-a61c-aca07351c865",
     "showTitle": false,
     "tableResultSettingsMap": {},
     "title": ""
    }
   },
   "outputs": [],
   "source": [
    "# provider-notebooks/Module 2 - Delta Sharing Deep Dive/Includes/Demo-Setup-2.ipynb"
   ]
  },
  {
   "cell_type": "code",
   "execution_count": 0,
   "metadata": {
    "application/vnd.databricks.v1+cell": {
     "cellMetadata": {
      "byteLimit": 2048000,
      "rowLimit": 10000
     },
     "inputWidgets": {},
     "nuid": "c835ddfb-8b4f-4f80-9f1e-75ab27dac76e",
     "showTitle": false,
     "tableResultSettingsMap": {},
     "title": ""
    }
   },
   "outputs": [],
   "source": [
    "%run ./_common"
   ]
  },
  {
   "cell_type": "code",
   "execution_count": 0,
   "metadata": {
    "application/vnd.databricks.v1+cell": {
     "cellMetadata": {
      "byteLimit": 2048000,
      "rowLimit": 10000
     },
     "inputWidgets": {},
     "nuid": "c5e40bc1-61e2-41d7-b86d-cdf02cc00f2d",
     "showTitle": false,
     "tableResultSettingsMap": {},
     "title": ""
    }
   },
   "outputs": [],
   "source": [
    "# set variables in python and sql\n",
    "config_values = [\n",
    "    (\"catalog\", \"acme_corp\"),\n",
    "    (\"schema\", \"retail\"),\n",
    "    (\"internal_share_name\", \"internal_retail\"),\n",
    "    (\"internal_recipient_name\", \"west_division\"),\n",
    "    (\"external_share_name\", \"partner_retail\"),\n",
    "    (\"external_recipient_name\", \"partner_co\"),\n",
    "]\n",
    "DA = create_da_objects(config_values)"
   ]
  },
  {
   "cell_type": "code",
   "execution_count": 0,
   "metadata": {
    "application/vnd.databricks.v1+cell": {
     "cellMetadata": {},
     "inputWidgets": {},
     "nuid": "8fd95a31-efa0-4f27-8744-b084e4c4fb98",
     "showTitle": false,
     "tableResultSettingsMap": {},
     "title": ""
    }
   },
   "outputs": [],
   "source": [
    "%sql\n",
    "CREATE CATALOG IF NOT EXISTS IDENTIFIER(DA.catalog)\n",
    "COMMENT 'Provider catalog for Delta Sharing demo';\n",
    "USE CATALOG IDENTIFIER(DA.catalog);"
   ]
  },
  {
   "cell_type": "code",
   "execution_count": 0,
   "metadata": {
    "application/vnd.databricks.v1+cell": {
     "cellMetadata": {},
     "inputWidgets": {},
     "nuid": "966c994c-7035-4d79-9752-b8feb59a255e",
     "showTitle": false,
     "tableResultSettingsMap": {},
     "title": ""
    }
   },
   "outputs": [],
   "source": [
    "%sql\n",
    "CREATE SCHEMA IF NOT EXISTS IDENTIFIER(DA.schema)\n",
    "COMMENT 'Schema containing sales and customer data for sharing';\n",
    "USE SCHEMA IDENTIFIER(DA.schema);"
   ]
  },
  {
   "cell_type": "code",
   "execution_count": 0,
   "metadata": {
    "application/vnd.databricks.v1+cell": {
     "cellMetadata": {},
     "inputWidgets": {},
     "nuid": "e6ab1cb3-90ef-4eb4-993f-d6c08708ed52",
     "showTitle": false,
     "tableResultSettingsMap": {},
     "title": ""
    }
   },
   "outputs": [],
   "source": [
    "# Cleanup existing shares and recipients before setup\n",
    "cleanup_commands = [\n",
    "    \"DROP RECIPIENT IF EXISTS west_division\",\n",
    "    \"DROP RECIPIENT IF EXISTS partner_co\",\n",
    "    \"DROP SHARE IF EXISTS internal_retail\",\n",
    "    \"DROP SHARE IF EXISTS partner_retail\", \n",
    "]\n",
    "\n",
    "for cmd in cleanup_commands:\n",
    "    try:\n",
    "        spark.sql(cmd)\n",
    "    except Exception as e:\n",
    "        print(f\"Note: {cmd} - {str(e)}\")"
   ]
  },
  {
   "cell_type": "code",
   "execution_count": 0,
   "metadata": {
    "application/vnd.databricks.v1+cell": {
     "cellMetadata": {},
     "inputWidgets": {},
     "nuid": "ec3b39b0-0aa7-4a7e-ba0b-a867fad0dd80",
     "showTitle": false,
     "tableResultSettingsMap": {},
     "title": ""
    }
   },
   "outputs": [],
   "source": [
    "%sql\n",
    "-- Drop table if exists (to keep history clean)\n",
    "DROP TABLE IF EXISTS customers;\n",
    "\n",
    "-- Create customers table\n",
    "CREATE TABLE customers (\n",
    "  customer_id INT,\n",
    "  customer_name STRING,\n",
    "  email STRING,\n",
    "  country STRING,\n",
    "  signup_date DATE,\n",
    "  customer_segment STRING\n",
    ")\n",
    "COMMENT 'Customer master data';\n",
    "\n",
    "-- Insert sample data - More realistic distribution for better visualizations\n",
    "INSERT INTO customers VALUES\n",
    "  -- Enterprise customers (20%)\n",
    "  (1, 'Acme Corp', 'contact@acme.com', 'USA', '2023-01-15', 'Enterprise'),\n",
    "  (3, 'Global Solutions', 'hello@globalsol.com', 'UK', '2023-03-10', 'Enterprise'),\n",
    "  (5, 'Data Dynamics', 'team@datadyn.com', 'Germany', '2023-05-12', 'Enterprise'),\n",
    "  (8, 'Digital Transform', 'hello@digitrans.com', 'France', '2023-08-30', 'Enterprise'),\n",
    "  (12, 'Mega Industries', 'contact@megaind.com', 'USA', '2023-10-05', 'Enterprise'),\n",
    "  (18, 'Continental Bank', 'info@contbank.com', 'UK', '2024-01-10', 'Enterprise'),\n",
    "  (25, 'Pacific Group', 'hello@pacific.com', 'Australia', '2024-03-20', 'Enterprise'),\n",
    "  (32, 'Euro Solutions', 'contact@eurosol.com', 'Germany', '2024-06-15', 'Enterprise'),\n",
    "  -- Mid-Market customers (30%)\n",
    "  (4, 'Innovate Ltd', 'contact@innovate.com', 'Australia', '2023-04-05', 'Mid-Market'),\n",
    "  (7, 'NextGen Analytics', 'contact@nextgen.com', 'Singapore', '2023-07-22', 'Mid-Market'),\n",
    "  (10, 'Smart Systems', 'team@smartsys.com', 'Canada', '2023-09-15', 'Mid-Market'),\n",
    "  (14, 'Fast Track Inc', 'info@fasttrack.com', 'USA', '2023-11-20', 'Mid-Market'),\n",
    "  (16, 'Blue Ocean Tech', 'contact@blueocean.com', 'UK', '2023-12-05', 'Mid-Market'),\n",
    "  (20, 'Apex Consulting', 'hello@apex.com', 'Singapore', '2024-02-08', 'Mid-Market'),\n",
    "  (23, 'Urban Analytics', 'team@urban.com', 'Canada', '2024-03-01', 'Mid-Market'),\n",
    "  (27, 'Peak Performance', 'info@peakperf.com', 'Australia', '2024-04-22', 'Mid-Market'),\n",
    "  (30, 'Horizon Group', 'contact@horizon.com', 'USA', '2024-05-30', 'Mid-Market'),\n",
    "  (34, 'Quantum Insights', 'hello@quantum.com', 'UK', '2024-07-10', 'Mid-Market'),\n",
    "  (37, 'Velocity Corp', 'team@velocity.com', 'Singapore', '2024-08-05', 'Mid-Market'),\n",
    "  (40, 'Summit Solutions', 'info@summit.com', 'Canada', '2024-09-12', 'Mid-Market'),\n",
    "  -- SMB customers (50%)\n",
    "  (2, 'TechStart Inc', 'info@techstart.com', 'Canada', '2023-02-20', 'SMB'),\n",
    "  (6, 'Cloud First', 'info@cloudfirst.com', 'USA', '2023-06-18', 'SMB'),\n",
    "  (9, 'Pixel Perfect', 'hello@pixelperfect.com', 'UK', '2023-09-01', 'SMB'),\n",
    "  (11, 'Code Craft', 'team@codecraft.com', 'USA', '2023-09-28', 'SMB'),\n",
    "  (13, 'Data Labs', 'contact@datalabs.com', 'Germany', '2023-11-08', 'SMB'),\n",
    "  (15, 'Agile Solutions', 'info@agilesol.com', 'France', '2023-11-30', 'SMB'),\n",
    "  (17, 'Bright Ideas', 'hello@brightideas.com', 'Australia', '2024-01-05', 'SMB'),\n",
    "  (19, 'Swift Systems', 'team@swift.com', 'USA', '2024-01-25', 'SMB'),\n",
    "  (21, 'Creative Minds', 'contact@creative.com', 'Canada', '2024-02-14', 'SMB'),\n",
    "  (22, 'Tech Ventures', 'info@techvent.com', 'UK', '2024-02-28', 'SMB'),\n",
    "  (24, 'Digital Edge', 'hello@digedge.com', 'Singapore', '2024-03-18', 'SMB'),\n",
    "  (26, 'Smart Cloud', 'team@smartcloud.com', 'USA', '2024-04-10', 'SMB'),\n",
    "  (28, 'Rapid Deploy', 'contact@rapiddeploy.com', 'France', '2024-05-05', 'SMB'),\n",
    "  (29, 'Nimble Tech', 'info@nimbletech.com', 'Germany', '2024-05-20', 'SMB'),\n",
    "  (31, 'Spark Innovations', 'hello@spark.com', 'Australia', '2024-06-08', 'SMB'),\n",
    "  (33, 'Fusion Data', 'team@fusiondata.com', 'USA', '2024-06-28', 'SMB'),\n",
    "  (35, 'Pulse Analytics', 'contact@pulse.com', 'UK', '2024-07-15', 'SMB'),\n",
    "  (36, 'Shift Digital', 'info@shift.com', 'Canada', '2024-07-30', 'SMB'),\n",
    "  (38, 'Nexus Systems', 'hello@nexus.com', 'Singapore', '2024-08-18', 'SMB'),\n",
    "  (39, 'Catalyst Tech', 'team@catalyst.com', 'France', '2024-09-01', 'SMB');"
   ]
  },
  {
   "cell_type": "code",
   "execution_count": 0,
   "metadata": {
    "application/vnd.databricks.v1+cell": {
     "cellMetadata": {},
     "inputWidgets": {},
     "nuid": "70942d5e-57fb-47aa-9faf-9ad5c08ea737",
     "showTitle": false,
     "tableResultSettingsMap": {},
     "title": ""
    }
   },
   "outputs": [],
   "source": [
    "%sql\n",
    "-- Drop table if exists (to keep history clean)\n",
    "DROP TABLE IF EXISTS sales_transactions;\n",
    "\n",
    "-- Create sales transactions table\n",
    "CREATE TABLE sales_transactions (\n",
    "  transaction_id INT,\n",
    "  customer_id INT,\n",
    "  product_name STRING,\n",
    "  quantity INT,\n",
    "  unit_price DECIMAL(10,2),\n",
    "  total_amount DECIMAL(10,2),\n",
    "  transaction_date DATE,\n",
    "  region STRING\n",
    ")\n",
    "COMMENT 'Sales transaction data';\n",
    "\n",
    "-- Insert realistic sales data with varied distribution\n",
    "-- Enterprise customers: high volume, multiple transactions\n",
    "INSERT INTO sales_transactions VALUES\n",
    "  -- Acme Corp (customer 1) - 15 transactions\n",
    "  (101, 1, 'Data Platform License', 5, 1000.00, 5000.00, '2024-01-15', 'North America'),\n",
    "  (104, 1, 'Storage Add-on', 3, 200.00, 600.00, '2024-02-10', 'North America'),\n",
    "  (112, 1, 'Analytics Suite', 8, 500.00, 4000.00, '2024-03-05', 'North America'),\n",
    "  (120, 1, 'Data Platform License', 10, 1000.00, 10000.00, '2024-04-12', 'North America'),\n",
    "  (128, 1, 'ML Add-on', 5, 800.00, 4000.00, '2024-05-20', 'North America'),\n",
    "  (136, 1, 'Storage Add-on', 7, 200.00, 1400.00, '2024-06-15', 'North America'),\n",
    "  (145, 1, 'Analytics Suite', 12, 500.00, 6000.00, '2024-07-08', 'North America'),\n",
    "  (153, 1, 'Data Platform License', 15, 1000.00, 15000.00, '2024-08-14', 'North America'),\n",
    "  (162, 1, 'Streaming Add-on', 6, 1200.00, 7200.00, '2024-09-05', 'North America'),\n",
    "  (171, 1, 'Storage Add-on', 10, 200.00, 2000.00, '2024-10-01', 'North America'),\n",
    "  (180, 1, 'ML Add-on', 8, 800.00, 6400.00, '2024-10-18', 'North America'),\n",
    "  (189, 1, 'Analytics Suite', 15, 500.00, 7500.00, '2024-11-02', 'North America'),\n",
    "  (198, 1, 'Data Platform License', 20, 1000.00, 20000.00, '2024-11-20', 'North America'),\n",
    "  (207, 1, 'Storage Add-on', 12, 200.00, 2400.00, '2024-12-05', 'North America'),\n",
    "  (216, 1, 'Streaming Add-on', 10, 1200.00, 12000.00, '2024-12-18', 'North America'),\n",
    "  -- Global Solutions (customer 3) - 12 transactions\n",
    "  (103, 3, 'Data Platform License', 10, 1000.00, 10000.00, '2024-02-05', 'EMEA'),\n",
    "  (107, 3, 'Storage Add-on', 8, 200.00, 1600.00, '2024-03-10', 'EMEA'),\n",
    "  (115, 3, 'Analytics Suite', 15, 500.00, 7500.00, '2024-04-01', 'EMEA'),\n",
    "  (123, 3, 'ML Add-on', 10, 800.00, 8000.00, '2024-05-08', 'EMEA'),\n",
    "  (132, 3, 'Data Platform License', 12, 1000.00, 12000.00, '2024-06-05', 'EMEA'),\n",
    "  (141, 3, 'Streaming Add-on', 8, 1200.00, 9600.00, '2024-07-12', 'EMEA'),\n",
    "  (150, 3, 'Storage Add-on', 15, 200.00, 3000.00, '2024-08-20', 'EMEA'),\n",
    "  (159, 3, 'Analytics Suite', 20, 500.00, 10000.00, '2024-09-15', 'EMEA'),\n",
    "  (168, 3, 'ML Add-on', 12, 800.00, 9600.00, '2024-10-10', 'EMEA'),\n",
    "  (177, 3, 'Data Platform License', 18, 1000.00, 18000.00, '2024-11-05', 'EMEA'),\n",
    "  (186, 3, 'Streaming Add-on', 10, 1200.00, 12000.00, '2024-11-25', 'EMEA'),\n",
    "  (195, 3, 'Storage Add-on', 20, 200.00, 4000.00, '2024-12-10', 'EMEA'),\n",
    "  -- Data Dynamics (customer 5) - 10 transactions\n",
    "  (106, 5, 'Data Platform License', 15, 1000.00, 15000.00, '2024-03-01', 'EMEA'),\n",
    "  (117, 5, 'Analytics Suite', 12, 500.00, 6000.00, '2024-04-15', 'EMEA'),\n",
    "  (126, 5, 'Storage Add-on', 10, 200.00, 2000.00, '2024-05-20', 'EMEA'),\n",
    "  (139, 5, 'ML Add-on', 8, 800.00, 6400.00, '2024-07-01', 'EMEA'),\n",
    "  (148, 5, 'Data Platform License', 18, 1000.00, 18000.00, '2024-08-15', 'EMEA'),\n",
    "  (157, 5, 'Streaming Add-on', 7, 1200.00, 8400.00, '2024-09-10', 'EMEA'),\n",
    "  (166, 5, 'Analytics Suite', 15, 500.00, 7500.00, '2024-10-05', 'EMEA'),\n",
    "  (175, 5, 'Storage Add-on', 12, 200.00, 2400.00, '2024-11-01', 'EMEA'),\n",
    "  (184, 5, 'ML Add-on', 10, 800.00, 8000.00, '2024-11-22', 'EMEA'),\n",
    "  (193, 5, 'Data Platform License', 20, 1000.00, 20000.00, '2024-12-12', 'EMEA'),\n",
    "  -- Digital Transform (customer 8) - 8 transactions\n",
    "  (110, 8, 'Storage Add-on', 10, 200.00, 2000.00, '2024-04-05', 'EMEA'),\n",
    "  (119, 8, 'Data Platform License', 12, 1000.00, 12000.00, '2024-05-10', 'EMEA'),\n",
    "  (130, 8, 'Analytics Suite', 10, 500.00, 5000.00, '2024-06-20', 'EMEA'),\n",
    "  (143, 8, 'ML Add-on', 6, 800.00, 4800.00, '2024-08-01', 'EMEA'),\n",
    "  (155, 8, 'Streaming Add-on', 5, 1200.00, 6000.00, '2024-09-15', 'EMEA'),\n",
    "  (167, 8, 'Data Platform License', 15, 1000.00, 15000.00, '2024-10-20', 'EMEA'),\n",
    "  (179, 8, 'Storage Add-on', 12, 200.00, 2400.00, '2024-11-15', 'EMEA'),\n",
    "  (191, 8, 'Analytics Suite', 14, 500.00, 7000.00, '2024-12-08', 'EMEA'),\n",
    "  -- Mega Industries (customer 12) - 9 transactions\n",
    "  (125, 12, 'Data Platform License', 20, 1000.00, 20000.00, '2024-05-15', 'North America'),\n",
    "  (134, 12, 'Storage Add-on', 15, 200.00, 3000.00, '2024-06-10', 'North America'),\n",
    "  (147, 12, 'Analytics Suite', 18, 500.00, 9000.00, '2024-08-05', 'North America'),\n",
    "  (156, 12, 'ML Add-on', 12, 800.00, 9600.00, '2024-09-12', 'North America'),\n",
    "  (169, 12, 'Streaming Add-on', 10, 1200.00, 12000.00, '2024-10-15', 'North America'),\n",
    "  (178, 12, 'Data Platform License', 22, 1000.00, 22000.00, '2024-11-10', 'North America'),\n",
    "  (187, 12, 'Storage Add-on', 18, 200.00, 3600.00, '2024-11-28', 'North America'),\n",
    "  (200, 12, 'Analytics Suite', 20, 500.00, 10000.00, '2024-12-15', 'North America'),\n",
    "  (209, 12, 'ML Add-on', 15, 800.00, 12000.00, '2024-12-28', 'North America'),\n",
    "  -- Mid-Market customers: moderate volume\n",
    "  -- Innovate Ltd (customer 4) - 6 transactions\n",
    "  (105, 4, 'Analytics Suite', 5, 500.00, 2500.00, '2024-02-15', 'APAC'),\n",
    "  (121, 4, 'Data Platform License', 8, 1000.00, 8000.00, '2024-05-01', 'APAC'),\n",
    "  (138, 4, 'Storage Add-on', 5, 200.00, 1000.00, '2024-07-15', 'APAC'),\n",
    "  (158, 4, 'Analytics Suite', 7, 500.00, 3500.00, '2024-09-20', 'APAC'),\n",
    "  (176, 4, 'ML Add-on', 4, 800.00, 3200.00, '2024-11-08', 'APAC'),\n",
    "  (197, 4, 'Data Platform License', 10, 1000.00, 10000.00, '2024-12-20', 'APAC'),\n",
    "  -- NextGen Analytics (customer 7) - 7 transactions\n",
    "  (109, 7, 'Data Platform License', 7, 1000.00, 7000.00, '2024-04-01', 'APAC'),\n",
    "  (127, 7, 'Analytics Suite', 6, 500.00, 3000.00, '2024-06-05', 'APAC'),\n",
    "  (144, 7, 'Storage Add-on', 4, 200.00, 800.00, '2024-08-10', 'APAC'),\n",
    "  (161, 7, 'ML Add-on', 5, 800.00, 4000.00, '2024-10-01', 'APAC'),\n",
    "  (181, 7, 'Data Platform License', 9, 1000.00, 9000.00, '2024-11-18', 'APAC'),\n",
    "  (199, 7, 'Streaming Add-on', 3, 1200.00, 3600.00, '2024-12-12', 'APAC'),\n",
    "  (210, 7, 'Analytics Suite', 8, 500.00, 4000.00, '2024-12-28', 'APAC'),\n",
    "  -- Smart Systems (customer 10) - 5 transactions\n",
    "  (116, 10, 'Analytics Suite', 4, 500.00, 2000.00, '2024-04-20', 'North America'),\n",
    "  (135, 10, 'Data Platform License', 6, 1000.00, 6000.00, '2024-07-05', 'North America'),\n",
    "  (154, 10, 'Storage Add-on', 3, 200.00, 600.00, '2024-09-18', 'North America'),\n",
    "  (174, 10, 'Analytics Suite', 5, 500.00, 2500.00, '2024-11-02', 'North America'),\n",
    "  (194, 10, 'ML Add-on', 3, 800.00, 2400.00, '2024-12-15', 'North America'),\n",
    "  -- Fast Track Inc (customer 14) - 5 transactions\n",
    "  (129, 14, 'Data Platform License', 5, 1000.00, 5000.00, '2024-06-15', 'North America'),\n",
    "  (146, 14, 'Analytics Suite', 4, 500.00, 2000.00, '2024-08-20', 'North America'),\n",
    "  (163, 14, 'Storage Add-on', 2, 200.00, 400.00, '2024-10-10', 'North America'),\n",
    "  (183, 14, 'Data Platform License', 7, 1000.00, 7000.00, '2024-11-25', 'North America'),\n",
    "  (202, 14, 'Analytics Suite', 6, 500.00, 3000.00, '2024-12-18', 'North America'),\n",
    "  -- Blue Ocean Tech (customer 16) - 4 transactions\n",
    "  (137, 16, 'Analytics Suite', 3, 500.00, 1500.00, '2024-07-08', 'EMEA'),\n",
    "  (160, 16, 'Data Platform License', 5, 1000.00, 5000.00, '2024-09-25', 'EMEA'),\n",
    "  (185, 16, 'Storage Add-on', 2, 200.00, 400.00, '2024-11-20', 'EMEA'),\n",
    "  (205, 16, 'Analytics Suite', 4, 500.00, 2000.00, '2024-12-22', 'EMEA'),\n",
    "  -- SMB customers: lower volume, 1-3 transactions each\n",
    "  -- TechStart Inc (customer 2) - 3 transactions\n",
    "  (102, 2, 'Analytics Suite', 2, 500.00, 1000.00, '2024-01-20', 'North America'),\n",
    "  (124, 2, 'Storage Add-on', 1, 200.00, 200.00, '2024-05-15', 'North America'),\n",
    "  (170, 2, 'Analytics Suite', 3, 500.00, 1500.00, '2024-10-22', 'North America'),\n",
    "  -- Cloud First (customer 6) - 2 transactions\n",
    "  (108, 6, 'Analytics Suite', 1, 500.00, 500.00, '2024-03-15', 'North America'),\n",
    "  (165, 6, 'Storage Add-on', 2, 200.00, 400.00, '2024-10-12', 'North America'),\n",
    "  -- Pixel Perfect (customer 9) - 2 transactions\n",
    "  (113, 9, 'Analytics Suite', 2, 500.00, 1000.00, '2024-04-10', 'EMEA'),\n",
    "  (172, 9, 'Storage Add-on', 1, 200.00, 200.00, '2024-11-01', 'EMEA'),\n",
    "  -- Code Craft (customer 11) - 3 transactions\n",
    "  (118, 11, 'Data Platform License', 3, 1000.00, 3000.00, '2024-05-05', 'North America'),\n",
    "  (151, 11, 'Analytics Suite', 2, 500.00, 1000.00, '2024-09-01', 'North America'),\n",
    "  (196, 11, 'Storage Add-on', 1, 200.00, 200.00, '2024-12-10', 'North America'),\n",
    "  -- Data Labs (customer 13) - 2 transactions\n",
    "  (131, 13, 'Analytics Suite', 1, 500.00, 500.00, '2024-06-20', 'EMEA'),\n",
    "  (182, 13, 'Data Platform License', 2, 1000.00, 2000.00, '2024-11-18', 'EMEA'),\n",
    "  -- Agile Solutions (customer 15) - 1 transaction\n",
    "  (140, 15, 'Analytics Suite', 2, 500.00, 1000.00, '2024-07-25', 'EMEA'),\n",
    "  -- Bright Ideas (customer 17) - 2 transactions\n",
    "  (142, 17, 'Storage Add-on', 1, 200.00, 200.00, '2024-08-05', 'APAC'),\n",
    "  (188, 17, 'Analytics Suite', 2, 500.00, 1000.00, '2024-11-28', 'APAC'),\n",
    "  -- Swift Systems (customer 19) - 3 transactions\n",
    "  (149, 19, 'Data Platform License', 2, 1000.00, 2000.00, '2024-08-22', 'North America'),\n",
    "  (173, 19, 'Analytics Suite', 1, 500.00, 500.00, '2024-11-05', 'North America'),\n",
    "  (208, 19, 'Storage Add-on', 1, 200.00, 200.00, '2024-12-28', 'North America'),\n",
    "  -- Creative Minds (customer 21) - 1 transaction\n",
    "  (152, 21, 'Analytics Suite', 1, 500.00, 500.00, '2024-09-05', 'North America'),\n",
    "  -- Tech Ventures (customer 22) - 2 transactions\n",
    "  (164, 22, 'Data Platform License', 2, 1000.00, 2000.00, '2024-10-08', 'EMEA'),\n",
    "  (203, 22, 'Analytics Suite', 1, 500.00, 500.00, '2024-12-20', 'EMEA'),\n",
    "  -- Digital Edge (customer 24) - 1 transaction\n",
    "  (190, 24, 'Analytics Suite', 2, 500.00, 1000.00, '2024-12-01', 'APAC'),\n",
    "  -- Smart Cloud (customer 26) - 2 transactions\n",
    "  (201, 26, 'Storage Add-on', 1, 200.00, 200.00, '2024-12-15', 'North America'),\n",
    "  (211, 26, 'Analytics Suite', 2, 500.00, 1000.00, '2024-12-29', 'North America'),\n",
    "  -- Rapid Deploy (customer 28) - 1 transaction\n",
    "  (204, 28, 'Analytics Suite', 1, 500.00, 500.00, '2024-12-22', 'EMEA'),\n",
    "  -- Nimble Tech (customer 29) - 1 transaction\n",
    "  (206, 29, 'Data Platform License', 2, 1000.00, 2000.00, '2024-12-25', 'EMEA'),\n",
    "  -- Spark Innovations (customer 31) - 1 transaction\n",
    "  (212, 31, 'Analytics Suite', 1, 500.00, 500.00, '2024-12-30', 'APAC'),\n",
    "  -- Fusion Data (customer 33) - 2 transactions\n",
    "  (213, 33, 'Storage Add-on', 1, 200.00, 200.00, '2024-12-30', 'North America'),\n",
    "  (214, 33, 'Analytics Suite', 1, 500.00, 500.00, '2024-12-31', 'North America'),\n",
    "  -- Pulse Analytics (customer 35) - 1 transaction\n",
    "  (215, 35, 'Data Platform License', 1, 1000.00, 1000.00, '2024-12-31', 'EMEA');"
   ]
  },
  {
   "cell_type": "code",
   "execution_count": 0,
   "metadata": {
    "application/vnd.databricks.v1+cell": {
     "cellMetadata": {},
     "inputWidgets": {},
     "nuid": "6bbc0c32-93f2-404c-9412-1beaa160d833",
     "showTitle": false,
     "tableResultSettingsMap": {},
     "title": ""
    }
   },
   "outputs": [],
   "source": [
    "display_config_values(config_values)"
   ]
  }
 ],
 "metadata": {
  "application/vnd.databricks.v1+notebook": {
   "computePreferences": {
    "hardware": {
     "accelerator": null,
     "gpuPoolId": null,
     "memory": null
    }
   },
   "dashboards": [],
   "environmentMetadata": null,
   "inputWidgetPreferences": null,
   "language": "python",
   "notebookMetadata": {
    "mostRecentlyExecutedCommandWithImplicitDF": {
     "commandId": 7272300797755012,
     "dataframes": [
      "_sqldf"
     ]
    },
    "pythonIndentUnit": 4
   },
   "notebookName": "Demo-Setup-2",
   "widgets": {}
  },
  "language_info": {
   "name": "python"
  }
 },
 "nbformat": 4,
 "nbformat_minor": 0
}
