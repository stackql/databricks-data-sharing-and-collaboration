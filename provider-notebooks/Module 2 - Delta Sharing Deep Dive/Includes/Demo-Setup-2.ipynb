{
 "cells": [
  {
   "cell_type": "code",
   "execution_count": 0,
   "metadata": {
    "application/vnd.databricks.v1+cell": {
     "cellMetadata": {
      "byteLimit": 2048000,
      "rowLimit": 10000
     },
     "inputWidgets": {},
     "nuid": "c835ddfb-8b4f-4f80-9f1e-75ab27dac76e",
     "showTitle": false,
     "tableResultSettingsMap": {},
     "title": ""
    }
   },
   "outputs": [],
   "source": [
    "%run ./_common"
   ]
  },
  {
   "cell_type": "code",
   "execution_count": 0,
   "metadata": {
    "application/vnd.databricks.v1+cell": {
     "cellMetadata": {
      "byteLimit": 2048000,
      "rowLimit": 10000
     },
     "inputWidgets": {},
     "nuid": "c5e40bc1-61e2-41d7-b86d-cdf02cc00f2d",
     "showTitle": false,
     "tableResultSettingsMap": {},
     "title": ""
    }
   },
   "outputs": [],
   "source": [
    "# set variables in python and sql\n",
    "config_values = [\n",
    "    (\"catalog\", \"acme_corp\"),\n",
    "    (\"schema\", \"retail\"),\n",
    "    (\"internal_share_name\", \"internal_retail\"),\n",
    "    (\"internal_recipient_name\", \"west_division\"),\n",
    "    (\"external_share_name\", \"partner_retail\"),\n",
    "    (\"external_recipient_name\", \"partner_co\"),\n",
    "]\n",
    "DA = create_da_objects(config_values)"
   ]
  },
  {
   "cell_type": "code",
   "execution_count": 0,
   "metadata": {
    "application/vnd.databricks.v1+cell": {
     "cellMetadata": {},
     "inputWidgets": {},
     "nuid": "8fd95a31-efa0-4f27-8744-b084e4c4fb98",
     "showTitle": false,
     "tableResultSettingsMap": {},
     "title": ""
    }
   },
   "outputs": [],
   "source": [
    "# create catalog if not exists\n",
    "create_catalog = f'''\n",
    "CREATE CATALOG IF NOT EXISTS {DA.catalog}\n",
    "COMMENT 'Provider catalog for Delta Sharing demo'\n",
    "'''\n",
    "spark.sql(create_catalog)"
   ]
  },
  {
   "cell_type": "code",
   "execution_count": 0,
   "metadata": {
    "application/vnd.databricks.v1+cell": {
     "cellMetadata": {},
     "inputWidgets": {},
     "nuid": "966c994c-7035-4d79-9752-b8feb59a255e",
     "showTitle": false,
     "tableResultSettingsMap": {},
     "title": ""
    }
   },
   "outputs": [],
   "source": [
    "# create schema if not exists\n",
    "create_schema = f'''\n",
    "CREATE SCHEMA IF NOT EXISTS {DA.catalog}.{DA.schema}\n",
    "COMMENT 'Schema containing sales and customer data for sharing'\n",
    "'''\n",
    "spark.sql(create_schema)"
   ]
  },
  {
   "cell_type": "code",
   "execution_count": 0,
   "metadata": {
    "application/vnd.databricks.v1+cell": {
     "cellMetadata": {},
     "inputWidgets": {},
     "nuid": "d7eb657e-26da-4b47-aca1-0f8b64626a52",
     "showTitle": false,
     "tableResultSettingsMap": {},
     "title": ""
    }
   },
   "outputs": [],
   "source": [
    "%sql\n",
    "USE CATALOG IDENTIFIER(DA.catalog);\n",
    "USE SCHEMA IDENTIFIER(DA.schema);"
   ]
  },
  {
   "cell_type": "code",
   "execution_count": 0,
   "metadata": {
    "application/vnd.databricks.v1+cell": {
     "cellMetadata": {},
     "inputWidgets": {},
     "nuid": "ec3b39b0-0aa7-4a7e-ba0b-a867fad0dd80",
     "showTitle": false,
     "tableResultSettingsMap": {},
     "title": ""
    }
   },
   "outputs": [],
   "source": [
    "%sql\n",
    "-- Create customers table\n",
    "CREATE OR REPLACE TABLE customers (\n",
    "  customer_id INT,\n",
    "  customer_name STRING,\n",
    "  email STRING,\n",
    "  country STRING,\n",
    "  signup_date DATE,\n",
    "  customer_segment STRING\n",
    ")\n",
    "COMMENT 'Customer master data';\n",
    "\n",
    "-- Insert sample data\n",
    "INSERT INTO customers VALUES\n",
    "  (1, 'Acme Corp', 'contact@acme.com', 'USA', '2023-01-15', 'Enterprise'),\n",
    "  (2, 'TechStart Inc', 'info@techstart.com', 'Canada', '2023-02-20', 'SMB'),\n",
    "  (3, 'Global Solutions', 'hello@globalsol.com', 'UK', '2023-03-10', 'Enterprise'),\n",
    "  (4, 'Innovate Ltd', 'contact@innovate.com', 'Australia', '2023-04-05', 'Mid-Market'),\n",
    "  (5, 'Data Dynamics', 'team@datadyn.com', 'Germany', '2023-05-12', 'Enterprise'),\n",
    "  (6, 'Cloud First', 'info@cloudfirst.com', 'USA', '2023-06-18', 'SMB'),\n",
    "  (7, 'NextGen Analytics', 'contact@nextgen.com', 'Singapore', '2023-07-22', 'Mid-Market'),\n",
    "  (8, 'Digital Transform', 'hello@digitrans.com', 'France', '2023-08-30', 'Enterprise');"
   ]
  },
  {
   "cell_type": "code",
   "execution_count": 0,
   "metadata": {
    "application/vnd.databricks.v1+cell": {
     "cellMetadata": {},
     "inputWidgets": {},
     "nuid": "70942d5e-57fb-47aa-9faf-9ad5c08ea737",
     "showTitle": false,
     "tableResultSettingsMap": {},
     "title": ""
    }
   },
   "outputs": [],
   "source": [
    "%sql\n",
    "-- Create sales transactions table\n",
    "CREATE OR REPLACE TABLE sales_transactions (\n",
    "  transaction_id INT,\n",
    "  customer_id INT,\n",
    "  product_name STRING,\n",
    "  quantity INT,\n",
    "  unit_price DECIMAL(10,2),\n",
    "  total_amount DECIMAL(10,2),\n",
    "  transaction_date DATE,\n",
    "  region STRING\n",
    ")\n",
    "COMMENT 'Sales transaction data';\n",
    "\n",
    "-- Insert sample sales data\n",
    "INSERT INTO sales_transactions VALUES\n",
    "  (101, 1, 'Data Platform License', 5, 1000.00, 5000.00, '2024-01-15', 'North America'),\n",
    "  (102, 2, 'Analytics Suite', 2, 500.00, 1000.00, '2024-01-20', 'North America'),\n",
    "  (103, 3, 'Data Platform License', 10, 1000.00, 10000.00, '2024-02-05', 'EMEA'),\n",
    "  (104, 1, 'Storage Add-on', 3, 200.00, 600.00, '2024-02-10', 'North America'),\n",
    "  (105, 4, 'Analytics Suite', 5, 500.00, 2500.00, '2024-02-15', 'APAC'),\n",
    "  (106, 5, 'Data Platform License', 15, 1000.00, 15000.00, '2024-03-01', 'EMEA'),\n",
    "  (107, 3, 'Storage Add-on', 8, 200.00, 1600.00, '2024-03-10', 'EMEA'),\n",
    "  (108, 6, 'Analytics Suite', 1, 500.00, 500.00, '2024-03-15', 'North America'),\n",
    "  (109, 7, 'Data Platform License', 7, 1000.00, 7000.00, '2024-04-01', 'APAC'),\n",
    "  (110, 8, 'Storage Add-on', 10, 200.00, 2000.00, '2024-04-05', 'EMEA');"
   ]
  },
  {
   "cell_type": "code",
   "execution_count": 0,
   "metadata": {
    "application/vnd.databricks.v1+cell": {
     "cellMetadata": {},
     "inputWidgets": {},
     "nuid": "6bbc0c32-93f2-404c-9412-1beaa160d833",
     "showTitle": false,
     "tableResultSettingsMap": {},
     "title": ""
    }
   },
   "outputs": [],
   "source": [
    "display_config_values(config_values)"
   ]
  }
 ],
 "metadata": {
  "application/vnd.databricks.v1+notebook": {
   "computePreferences": {
    "hardware": {
     "accelerator": null,
     "gpuPoolId": null,
     "memory": null
    }
   },
   "dashboards": [],
   "environmentMetadata": null,
   "inputWidgetPreferences": null,
   "language": "python",
   "notebookMetadata": {
    "mostRecentlyExecutedCommandWithImplicitDF": {
     "commandId": 7272300797755012,
     "dataframes": [
      "_sqldf"
     ]
    },
    "pythonIndentUnit": 4
   },
   "notebookName": "Demo-Setup-2",
   "widgets": {}
  },
  "language_info": {
   "name": "python"
  }
 },
 "nbformat": 4,
 "nbformat_minor": 0
}
