{
 "cells": [
  {
   "cell_type": "code",
   "execution_count": 0,
   "metadata": {
    "application/vnd.databricks.v1+cell": {
     "cellMetadata": {},
     "inputWidgets": {},
     "nuid": "c835ddfb-8b4f-4f80-9f1e-75ab27dac76e",
     "showTitle": false,
     "tableResultSettingsMap": {},
     "title": ""
    }
   },
   "outputs": [],
   "source": [
    "%run ./_common"
   ]
  },
  {
   "cell_type": "code",
   "execution_count": 0,
   "metadata": {
    "application/vnd.databricks.v1+cell": {
     "cellMetadata": {},
     "inputWidgets": {},
     "nuid": "c5e40bc1-61e2-41d7-b86d-cdf02cc00f2d",
     "showTitle": false,
     "tableResultSettingsMap": {},
     "title": ""
    }
   },
   "outputs": [],
   "source": [
    "config_values = [\n",
    "    (\"catalog\", \"provider_catalog\"),\n",
    "    (\"schema\", \"retail\"),\n",
    "    (\"internal_share_name\", \"internal_retail\"),\n",
    "    (\"internal_recipient_name\", \"west_division\"),\n",
    "    (\"external_share_name\", \"partner_retail\"),\n",
    "    (\"external_recipient_name\", \"partner_co\"),\n",
    "]\n",
    "DA = create_da_objects(config_values)"
   ]
  },
  {
   "cell_type": "code",
   "execution_count": null,
   "metadata": {},
   "outputs": [],
   "source": [
    "# Test in Python\n",
    "print(\"Python DA dictionary:\")\n",
    "print(f\"Catalog: {DA['catalog']}\")\n",
    "print(f\"Schema: {DA['schema']}\")\n",
    "print(f\"Internal Share: {DA['internal_share_name']}\")\n",
    "print(f\"Internal Recipient: {DA['internal_recipient_name']}\")\n",
    "print(f\"External Share: {DA['external_share_name']}\")\n",
    "print(f\"External Recipient: {DA['external_recipient_name']}\")\n",
    "print(\"\\nFull DA dict:\")\n",
    "print(DA)"
   ]
  },
  {
   "cell_type": "code",
   "execution_count": null,
   "metadata": {},
   "outputs": [],
   "source": [
    "%sql\n",
    "-- Test in SQL\n",
    "SELECT DA;\n",
    "\n",
    "-- Test accessing individual values\n",
    "SELECT DA['catalog'] as catalog,\n",
    "       DA['schema'] as schema,\n",
    "       DA['internal_share_name'] as internal_share,\n",
    "       DA['internal_recipient_name'] as internal_recipient,\n",
    "       DA['external_share_name'] as external_share,\n",
    "       DA['external_recipient_name'] as external_recipient;\n",
    "\n",
    "-- Test using in SQL statements\n",
    "SELECT 'CREATE CATALOG IF NOT EXISTS ' || DA['catalog'] as create_catalog_sql;\n",
    "SELECT 'USE CATALOG ' || DA['catalog'] as use_catalog_sql;"
   ]
  },
  {
   "cell_type": "code",
   "execution_count": null,
   "metadata": {},
   "outputs": [],
   "source": [
    "# set python variables\n",
    "DA = {}\n",
    "DA.catalog = \"\"\n",
    "DA.schema = \n",
    "DA.internal_share_name = \"internal_retail\"\n",
    "DA.internal_recipient_name = \"\"\n",
    "DA.external_share_name = \"\"\n",
    "DA.external_recipient_name = \"\"\n"
   ]
  },
  {
   "cell_type": "code",
   "execution_count": null,
   "metadata": {},
   "outputs": [],
   "source": [
    "acme corp\n",
    "east division\n",
    "west division\n",
    "\n",
    "partner corp\n",
    "\n",
    "# set python variables\n",
    "DA = {}\n",
    "DA.catalog = \"acme_corp\"\n",
    "DA.schema = \"retail\"\n",
    "DA.internal_share_name = \"internal_retail\"\n",
    "DA.internal_recipient_name = \"west_division\"\n",
    "DA.external_share_name = \"external_retail\"\n",
    "DA.external_recipient_name = \"partner_analytics\"\n",
    "\n",
    "config_values = [\n",
    "    (\"catalog\", DA[\"catalog\"]),\n",
    "    (\"schema\", DA[\"schema\"]),\n",
    "    (\"internal_share_name\", DA[\"internal_share_name\"]),\n",
    "    (\"internal_recipient_name\", DA[\"internal_recipient_name\"]),\n",
    "    (\"external_share_name\", DA[\"external_share_name\"]),\n",
    "    (\"external_recipient_name\", DA[\"external_recipient_name\"]),    \n",
    "]"
   ]
  },
  {
   "cell_type": "code",
   "execution_count": null,
   "metadata": {},
   "outputs": [],
   "source": [
    "# set SQL variables\n",
    "declare_variable = 'DECLARE OR REPLACE DA MAP<STRING, STRING>'\n",
    "spark.sql(declare_variable)\n",
    "\n",
    "## Set the variable with literal map values\n",
    "set_variable = f'''\n",
    "SET VAR DA = map(\n",
    "    'catalog', '{DA.catalog}',\n",
    "    'schema', '{DA.schema}',\n",
    "    'internal_share_name', '{DA.share_name}',\n",
    "    'internal_recipient_name', '{DA.recipient_name}',\n",
    "    'external_share_name', '{DA.share_name}',\n",
    "    'external_recipient_name', '{DA.recipient_name}'    \n",
    ")\n",
    "'''\n",
    "spark.sql(set_variable)"
   ]
  },
  {
   "cell_type": "code",
   "execution_count": null,
   "metadata": {},
   "outputs": [],
   "source": [
    "# create catalog if not exists\n",
    "create_catalog = f'''\n",
    "CREATE CATALOG IF NOT EXISTS {DA.catalog}\n",
    "'''\n",
    "spark.sql(create_catalog)"
   ]
  },
  {
   "cell_type": "code",
   "execution_count": null,
   "metadata": {},
   "outputs": [],
   "source": [
    "%sql\n",
    "-- Create customers table\n",
    "CREATE OR REPLACE TABLE ${c.catalog_name}.${c.schema_name}.customers (\n",
    "  customer_id INT,\n",
    "  customer_name STRING,\n",
    "  email STRING,\n",
    "  country STRING,\n",
    "  signup_date DATE,\n",
    "  customer_segment STRING\n",
    ")\n",
    "COMMENT 'Customer master data';\n",
    "\n",
    "-- Insert sample data\n",
    "INSERT INTO ${c.catalog_name}.${c.schema_name}.customers VALUES\n",
    "  (1, 'Acme Corp', 'contact@acme.com', 'USA', '2023-01-15', 'Enterprise'),\n",
    "  (2, 'TechStart Inc', 'info@techstart.com', 'Canada', '2023-02-20', 'SMB'),\n",
    "  (3, 'Global Solutions', 'hello@globalsol.com', 'UK', '2023-03-10', 'Enterprise'),\n",
    "  (4, 'Innovate Ltd', 'contact@innovate.com', 'Australia', '2023-04-05', 'Mid-Market'),\n",
    "  (5, 'Data Dynamics', 'team@datadyn.com', 'Germany', '2023-05-12', 'Enterprise'),\n",
    "  (6, 'Cloud First', 'info@cloudfirst.com', 'USA', '2023-06-18', 'SMB'),\n",
    "  (7, 'NextGen Analytics', 'contact@nextgen.com', 'Singapore', '2023-07-22', 'Mid-Market'),\n",
    "  (8, 'Digital Transform', 'hello@digitrans.com', 'France', '2023-08-30', 'Enterprise');"
   ]
  },
  {
   "cell_type": "code",
   "execution_count": null,
   "metadata": {},
   "outputs": [],
   "source": [
    "%sql\n",
    "-- Create sales transactions table\n",
    "CREATE OR REPLACE TABLE ${c.catalog_name}.${c.schema_name}.sales_transactions (\n",
    "  transaction_id INT,\n",
    "  customer_id INT,\n",
    "  product_name STRING,\n",
    "  quantity INT,\n",
    "  unit_price DECIMAL(10,2),\n",
    "  total_amount DECIMAL(10,2),\n",
    "  transaction_date DATE,\n",
    "  region STRING\n",
    ")\n",
    "COMMENT 'Sales transaction data';\n",
    "\n",
    "-- Insert sample sales data\n",
    "INSERT INTO ${c.catalog_name}.${c.schema_name}.sales_transactions VALUES\n",
    "  (101, 1, 'Data Platform License', 5, 1000.00, 5000.00, '2024-01-15', 'North America'),\n",
    "  (102, 2, 'Analytics Suite', 2, 500.00, 1000.00, '2024-01-20', 'North America'),\n",
    "  (103, 3, 'Data Platform License', 10, 1000.00, 10000.00, '2024-02-05', 'EMEA'),\n",
    "  (104, 1, 'Storage Add-on', 3, 200.00, 600.00, '2024-02-10', 'North America'),\n",
    "  (105, 4, 'Analytics Suite', 5, 500.00, 2500.00, '2024-02-15', 'APAC'),\n",
    "  (106, 5, 'Data Platform License', 15, 1000.00, 15000.00, '2024-03-01', 'EMEA'),\n",
    "  (107, 3, 'Storage Add-on', 8, 200.00, 1600.00, '2024-03-10', 'EMEA'),\n",
    "  (108, 6, 'Analytics Suite', 1, 500.00, 500.00, '2024-03-15', 'North America'),\n",
    "  (109, 7, 'Data Platform License', 7, 1000.00, 7000.00, '2024-04-01', 'APAC'),\n",
    "  (110, 8, 'Storage Add-on', 10, 200.00, 2000.00, '2024-04-05', 'EMEA');"
   ]
  },
  {
   "cell_type": "code",
   "execution_count": null,
   "metadata": {},
   "outputs": [],
   "source": [
    "display_config_values(config_values)"
   ]
  },
  {
   "cell_type": "code",
   "execution_count": 0,
   "metadata": {
    "application/vnd.databricks.v1+cell": {
     "cellMetadata": {
      "byteLimit": 2048000,
      "rowLimit": 10000
     },
     "inputWidgets": {},
     "nuid": "21e55d2a-0a64-41c4-b4e7-721a61d77839",
     "showTitle": false,
     "tableResultSettingsMap": {},
     "title": ""
    }
   },
   "outputs": [],
   "source": [
    "%python\n",
    "# Get current user information\n",
    "current_user = spark.sql(\"SELECT current_user() as user\").collect()[0][\"user\"]\n",
    "username = current_user.split(\"@\")[0].replace(\".\", \"_\").replace(\"-\", \"_\")\n",
    "\n",
    "# Provider configuration\n",
    "provider_catalog = f\"{username}_provider_catalog\"\n",
    "schema_name = \"sales_data\"\n",
    "share_name = f\"{username}_customer_share\"\n",
    "cdf_share_name = f\"{username}_cdf_share\"\n",
    "d2d_recipient = f\"{username}_d2d_recipient\"\n",
    "d2o_recipient = f\"{username}_d2o_recipient\"\n",
    "\n",
    "# Set as Spark configuration for SQL access\n",
    "spark.conf.set(\"c.catalog_name\", provider_catalog)\n",
    "spark.conf.set(\"c.schema_name\", schema_name)\n",
    "spark.conf.set(\"c.share_name\", share_name)\n",
    "spark.conf.set(\"c.cdf_share_name\", cdf_share_name)\n",
    "spark.conf.set(\"c.d2d_recipient\", d2d_recipient)\n",
    "spark.conf.set(\"c.d2o_recipient\", d2o_recipient)\n",
    "\n",
    "print(\"=\"*80)\n",
    "print(\"PROVIDER WORKSPACE CONFIGURATION\")\n",
    "print(\"=\"*80)\n",
    "print(f\"Current User: {current_user}\")\n",
    "print(f\"Username: {username}\")\n",
    "print(f\"\")\n",
    "print(f\"Catalog: {provider_catalog}\")\n",
    "print(f\"Schema: {schema_name}\")\n",
    "print(f\"Share (D2D): {share_name}\")\n",
    "print(f\"Share (CDF): {cdf_share_name}\")\n",
    "print(f\"Recipient (D2D): {d2d_recipient}\")\n",
    "print(f\"Recipient (D2O): {d2o_recipient}\")\n",
    "print(\"=\"*80)\n",
    "print(\"✅ Variables configured! Use ${c.variable_name} in SQL cells\")\n",
    "print(\"=\"*80)"
   ]
  },
  {
   "cell_type": "markdown",
   "metadata": {
    "application/vnd.databricks.v1+cell": {
     "cellMetadata": {},
     "inputWidgets": {},
     "nuid": "36871d0f-d687-4c27-8167-121b1d11670b",
     "showTitle": false,
     "tableResultSettingsMap": {},
     "title": ""
    }
   },
   "source": [
    "## Verify Configuration\n",
    "\n",
    "The variables are now available in SQL using the `${c.variable_name}` syntax"
   ]
  },
  {
   "cell_type": "code",
   "execution_count": 0,
   "metadata": {
    "application/vnd.databricks.v1+cell": {
     "cellMetadata": {},
     "inputWidgets": {},
     "nuid": "586124bc-5a0f-4b59-9faf-7d97ed34fb75",
     "showTitle": false,
     "tableResultSettingsMap": {},
     "title": ""
    }
   },
   "outputs": [],
   "source": [
    "SELECT \n",
    "  '${c.catalog_name}' as catalog_name,\n",
    "  '${c.schema_name}' as schema_name,\n",
    "  '${c.share_name}' as share_name,\n",
    "  '${c.d2d_recipient}' as d2d_recipient,\n",
    "  current_user() as current_user"
   ]
  }
 ],
 "metadata": {
  "application/vnd.databricks.v1+notebook": {
   "computePreferences": {
    "hardware": {
     "accelerator": null,
     "gpuPoolId": null,
     "memory": null
    }
   },
   "dashboards": [],
   "environmentMetadata": null,
   "inputWidgetPreferences": null,
   "language": "python",
   "notebookMetadata": {
    "pythonIndentUnit": 4
   },
   "notebookName": "Classroom-Setup-2",
   "widgets": {}
  },
  "language_info": {
   "name": "python"
  }
 },
 "nbformat": 4,
 "nbformat_minor": 0
}
