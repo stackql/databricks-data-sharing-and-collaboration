{
 "cells": [
  {
   "cell_type": "code",
   "execution_count": null,
   "metadata": {},
   "outputs": [],
   "source": [
    "def create_da_objects(config_values):\n",
    "    \"\"\"\n",
    "    Create DA dictionary and SQL variables from config values.\n",
    "    \n",
    "    Args:\n",
    "        config_values: List of tuples containing (key, value) pairs\n",
    "    \n",
    "    Returns:\n",
    "        dict: DA dictionary with all configuration values\n",
    "    \"\"\"\n",
    "    # Create DA dictionary from config_values\n",
    "    DA = {key: value for key, value in config_values}\n",
    "    \n",
    "    # Declare SQL variable\n",
    "    declare_variable = 'DECLARE OR REPLACE VARIABLE DA MAP<STRING, STRING>'\n",
    "    spark.sql(declare_variable)\n",
    "    \n",
    "    # Build the map entries dynamically from DA dictionary\n",
    "    map_entries = ',\\n    '.join([f\"'{key}', '{value}'\" for key, value in DA.items()])\n",
    "    \n",
    "    # Set the variable with literal map values\n",
    "    set_variable = f'''\n",
    "    SET VAR DA = map(\n",
    "        {map_entries}\n",
    "    )\n",
    "    '''\n",
    "    spark.sql(set_variable)\n",
    "    \n",
    "    return DA"
   ]
  },
  {
   "cell_type": "code",
   "execution_count": 0,
   "metadata": {
    "application/vnd.databricks.v1+cell": {
     "cellMetadata": {},
     "inputWidgets": {},
     "nuid": "77208e4a-f977-4d94-8d39-d6ceac551768",
     "showTitle": false,
     "tableResultSettingsMap": {},
     "title": ""
    }
   },
   "outputs": [],
   "source": [
    "def display_config_values(config_values):\n",
    "    \"\"\"\n",
    "    Displays list of key-value pairs as rows of HTML text and textboxes\n",
    "    :param config_values: list of (key, value) tuples\n",
    "\n",
    "    Returns\n",
    "    ----------\n",
    "    HTML output displaying the config values\n",
    "\n",
    "    Example\n",
    "    --------\n",
    "    DA.display_config_values([('catalog',DA.catalog_name),('schema',DA.schema_name)])\n",
    "    \"\"\"\n",
    "    html = \"\"\"<table style=\"width:100%\">\"\"\"\n",
    "    for name, value in config_values:\n",
    "        html += f\"\"\"\n",
    "        <tr>\n",
    "            <td style=\"white-space:nowrap; width:1em\">{name}:</td>\n",
    "            <td><input type=\"text\" value=\"{value}\" style=\"width: 100%\"></td></tr>\"\"\"\n",
    "    html += \"</table>\"\n",
    "    displayHTML(html)"
   ]
  }
 ],
 "metadata": {
  "application/vnd.databricks.v1+notebook": {
   "computePreferences": null,
   "dashboards": [],
   "environmentMetadata": {
    "base_environment": "",
    "environment_version": "4"
   },
   "inputWidgetPreferences": null,
   "language": "python",
   "notebookMetadata": {
    "pythonIndentUnit": 4
   },
   "notebookName": "_common",
   "widgets": {}
  },
  "language_info": {
   "name": "python"
  }
 },
 "nbformat": 4,
 "nbformat_minor": 0
}
