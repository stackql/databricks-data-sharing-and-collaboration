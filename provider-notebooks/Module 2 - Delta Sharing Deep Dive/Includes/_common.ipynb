{
 "cells": [
  {
   "cell_type": "code",
   "execution_count": 0,
   "metadata": {
    "application/vnd.databricks.v1+cell": {
     "cellMetadata": {},
     "inputWidgets": {},
     "nuid": "d8210e65-3361-4b61-b125-10d0b24303e5",
     "showTitle": false,
     "tableResultSettingsMap": {},
     "title": ""
    }
   },
   "outputs": [],
   "source": [
    "# set python variables\n",
    "DA = {}\n",
    "DA.catalog = \"\"\n",
    "DA.schema = \"retail\"\n",
    "DA.internal_share_name = \"internal_retail\"\n",
    "DA.internal_recipient_name = \"\"\n",
    "DA.external_share_name = \"\"\n",
    "DA.external_recipient_name = \"\"\n",
    "config_values = [\n",
    "    (\"catalog\", DA.catalog),\n",
    "    (\"schema\", DA.schema),\n",
    "    (\"internal_share_name\", DA.share_name),\n",
    "    (\"internal_recipient_name\", DA.recipient_name),\n",
    "    (\"external_share_name\", DA.share_name),\n",
    "    (\"external_recipient_name\", DA.recipient_name),    \n",
    "]"
   ]
  },
  {
   "cell_type": "code",
   "execution_count": 0,
   "metadata": {
    "application/vnd.databricks.v1+cell": {
     "cellMetadata": {},
     "inputWidgets": {},
     "nuid": "3793d3c5-a03f-4f9f-b691-586b18f89309",
     "showTitle": false,
     "tableResultSettingsMap": {},
     "title": ""
    }
   },
   "outputs": [],
   "source": [
    "acme corp\n",
    "east division\n",
    "west division\n",
    "\n",
    "partner corp\n",
    "\n",
    "# set python variables\n",
    "DA = {}\n",
    "DA.catalog = \"acme_corp\"\n",
    "DA.schema = \"retail\"\n",
    "DA.internal_share_name = \"internal_retail\"\n",
    "DA.internal_recipient_name = \"west_division\"\n",
    "DA.external_share_name = \"external_retail\"\n",
    "DA.external_recipient_name = \"partner_analytics\"\n",
    "\n",
    "config_values = [\n",
    "    (\"catalog\", DA[\"catalog\"]),\n",
    "    (\"schema\", DA[\"schema\"]),\n",
    "    (\"internal_share_name\", DA[\"internal_share_name\"]),\n",
    "    (\"internal_recipient_name\", DA[\"internal_recipient_name\"]),\n",
    "    (\"external_share_name\", DA[\"external_share_name\"]),\n",
    "    (\"external_recipient_name\", DA[\"external_recipient_name\"]),    \n",
    "]"
   ]
  },
  {
   "cell_type": "code",
   "execution_count": 0,
   "metadata": {
    "application/vnd.databricks.v1+cell": {
     "cellMetadata": {},
     "inputWidgets": {},
     "nuid": "13612ff8-f934-4d05-82e8-1dd6ef804ac7",
     "showTitle": false,
     "tableResultSettingsMap": {},
     "title": ""
    }
   },
   "outputs": [],
   "source": [
    "# set SQL variables\n",
    "declare_variable = 'DECLARE OR REPLACE DA MAP<STRING, STRING>'\n",
    "spark.sql(declare_variable)\n",
    "\n",
    "## Set the variable with literal map values\n",
    "set_variable = f'''\n",
    "SET VAR DA = map(\n",
    "    'catalog', '{DA.catalog}',\n",
    "    'schema', '{DA.schema}',\n",
    "    'internal_share_name', '{DA.share_name}',\n",
    "    'internal_recipient_name', '{DA.recipient_name}',\n",
    "    'external_share_name', '{DA.share_name}',\n",
    "    'external_recipient_name', '{DA.recipient_name}'    \n",
    ")\n",
    "'''\n",
    "spark.sql(set_variable)"
   ]
  },
  {
   "cell_type": "code",
   "execution_count": 0,
   "metadata": {
    "application/vnd.databricks.v1+cell": {
     "cellMetadata": {},
     "inputWidgets": {},
     "nuid": "16754557-aeee-4f20-b2d2-268fb2c10018",
     "showTitle": false,
     "tableResultSettingsMap": {},
     "title": ""
    }
   },
   "outputs": [],
   "source": [
    "# create catalog if not exists\n",
    "create_catalog = f'''\n",
    "CREATE CATALOG IF NOT EXISTS {DA.catalog}\n",
    "'''\n",
    "spark.sql(create_catalog)"
   ]
  },
  {
   "cell_type": "code",
   "execution_count": 0,
   "metadata": {
    "application/vnd.databricks.v1+cell": {
     "cellMetadata": {},
     "inputWidgets": {},
     "nuid": "d9c59f0f-4cfb-456a-990b-6955db2b557f",
     "showTitle": false,
     "tableResultSettingsMap": {},
     "title": ""
    }
   },
   "outputs": [],
   "source": [
    "%sql\n",
    "-- Create customers table\n",
    "CREATE OR REPLACE TABLE ${c.catalog_name}.${c.schema_name}.customers (\n",
    "  customer_id INT,\n",
    "  customer_name STRING,\n",
    "  email STRING,\n",
    "  country STRING,\n",
    "  signup_date DATE,\n",
    "  customer_segment STRING\n",
    ")\n",
    "COMMENT 'Customer master data';\n",
    "\n",
    "-- Insert sample data\n",
    "INSERT INTO ${c.catalog_name}.${c.schema_name}.customers VALUES\n",
    "  (1, 'Acme Corp', 'contact@acme.com', 'USA', '2023-01-15', 'Enterprise'),\n",
    "  (2, 'TechStart Inc', 'info@techstart.com', 'Canada', '2023-02-20', 'SMB'),\n",
    "  (3, 'Global Solutions', 'hello@globalsol.com', 'UK', '2023-03-10', 'Enterprise'),\n",
    "  (4, 'Innovate Ltd', 'contact@innovate.com', 'Australia', '2023-04-05', 'Mid-Market'),\n",
    "  (5, 'Data Dynamics', 'team@datadyn.com', 'Germany', '2023-05-12', 'Enterprise'),\n",
    "  (6, 'Cloud First', 'info@cloudfirst.com', 'USA', '2023-06-18', 'SMB'),\n",
    "  (7, 'NextGen Analytics', 'contact@nextgen.com', 'Singapore', '2023-07-22', 'Mid-Market'),\n",
    "  (8, 'Digital Transform', 'hello@digitrans.com', 'France', '2023-08-30', 'Enterprise');"
   ]
  },
  {
   "cell_type": "code",
   "execution_count": 0,
   "metadata": {
    "application/vnd.databricks.v1+cell": {
     "cellMetadata": {},
     "inputWidgets": {},
     "nuid": "d9df86ca-1bfd-4005-91f7-056baa7023c6",
     "showTitle": false,
     "tableResultSettingsMap": {},
     "title": ""
    }
   },
   "outputs": [],
   "source": [
    "%sql\n",
    "-- Create sales transactions table\n",
    "CREATE OR REPLACE TABLE ${c.catalog_name}.${c.schema_name}.sales_transactions (\n",
    "  transaction_id INT,\n",
    "  customer_id INT,\n",
    "  product_name STRING,\n",
    "  quantity INT,\n",
    "  unit_price DECIMAL(10,2),\n",
    "  total_amount DECIMAL(10,2),\n",
    "  transaction_date DATE,\n",
    "  region STRING\n",
    ")\n",
    "COMMENT 'Sales transaction data';\n",
    "\n",
    "-- Insert sample sales data\n",
    "INSERT INTO ${c.catalog_name}.${c.schema_name}.sales_transactions VALUES\n",
    "  (101, 1, 'Data Platform License', 5, 1000.00, 5000.00, '2024-01-15', 'North America'),\n",
    "  (102, 2, 'Analytics Suite', 2, 500.00, 1000.00, '2024-01-20', 'North America'),\n",
    "  (103, 3, 'Data Platform License', 10, 1000.00, 10000.00, '2024-02-05', 'EMEA'),\n",
    "  (104, 1, 'Storage Add-on', 3, 200.00, 600.00, '2024-02-10', 'North America'),\n",
    "  (105, 4, 'Analytics Suite', 5, 500.00, 2500.00, '2024-02-15', 'APAC'),\n",
    "  (106, 5, 'Data Platform License', 15, 1000.00, 15000.00, '2024-03-01', 'EMEA'),\n",
    "  (107, 3, 'Storage Add-on', 8, 200.00, 1600.00, '2024-03-10', 'EMEA'),\n",
    "  (108, 6, 'Analytics Suite', 1, 500.00, 500.00, '2024-03-15', 'North America'),\n",
    "  (109, 7, 'Data Platform License', 7, 1000.00, 7000.00, '2024-04-01', 'APAC'),\n",
    "  (110, 8, 'Storage Add-on', 10, 200.00, 2000.00, '2024-04-05', 'EMEA');"
   ]
  },
  {
   "cell_type": "code",
   "execution_count": 0,
   "metadata": {
    "application/vnd.databricks.v1+cell": {
     "cellMetadata": {},
     "inputWidgets": {},
     "nuid": "77208e4a-f977-4d94-8d39-d6ceac551768",
     "showTitle": false,
     "tableResultSettingsMap": {},
     "title": ""
    }
   },
   "outputs": [],
   "source": [
    "def display_config_values(config_values):\n",
    "    \"\"\"\n",
    "    Displays list of key-value pairs as rows of HTML text and textboxes\n",
    "    :param config_values: list of (key, value) tuples\n",
    "\n",
    "    Returns\n",
    "    ----------\n",
    "    HTML output displaying the config values\n",
    "\n",
    "    Example\n",
    "    --------\n",
    "    DA.display_config_values([('catalog',DA.catalog_name),('schema',DA.schema_name)])\n",
    "    \"\"\"\n",
    "    html = \"\"\"<table style=\"width:100%\">\"\"\"\n",
    "    for name, value in config_values:\n",
    "        html += f\"\"\"\n",
    "        <tr>\n",
    "            <td style=\"white-space:nowrap; width:1em\">{name}:</td>\n",
    "            <td><input type=\"text\" value=\"{value}\" style=\"width: 100%\"></td></tr>\"\"\"\n",
    "    html += \"</table>\"\n",
    "    displayHTML(html)"
   ]
  }
 ],
 "metadata": {
  "application/vnd.databricks.v1+notebook": {
   "computePreferences": null,
   "dashboards": [],
   "environmentMetadata": {
    "base_environment": "",
    "environment_version": "4"
   },
   "inputWidgetPreferences": null,
   "language": "python",
   "notebookMetadata": {
    "pythonIndentUnit": 4
   },
   "notebookName": "_common",
   "widgets": {}
  },
  "language_info": {
   "name": "python"
  }
 },
 "nbformat": 4,
 "nbformat_minor": 0
}
