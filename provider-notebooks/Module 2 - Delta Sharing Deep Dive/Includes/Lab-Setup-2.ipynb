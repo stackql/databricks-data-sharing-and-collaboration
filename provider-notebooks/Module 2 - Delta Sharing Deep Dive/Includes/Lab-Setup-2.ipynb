{
 "cells": [
  {
   "cell_type": "code",
   "execution_count": 0,
   "metadata": {
    "application/vnd.databricks.v1+cell": {
     "cellMetadata": {},
     "inputWidgets": {},
     "nuid": "0024a92f-16ba-45dd-aba8-00e595f9f6af",
     "showTitle": false,
     "tableResultSettingsMap": {},
     "title": ""
    }
   },
   "outputs": [],
   "source": [
    "# provider-notebooks/Module 2 - Delta Sharing Deep Dive/Includes/Lab-Setup-2.ipynb"
   ]
  },
  {
   "cell_type": "code",
   "execution_count": 0,
   "metadata": {
    "application/vnd.databricks.v1+cell": {
     "cellMetadata": {
      "byteLimit": 2048000,
      "rowLimit": 10000
     },
     "inputWidgets": {},
     "nuid": "c835ddfb-8b4f-4f80-9f1e-75ab27dac76e",
     "showTitle": false,
     "tableResultSettingsMap": {},
     "title": ""
    }
   },
   "outputs": [],
   "source": [
    "%run ./_common"
   ]
  },
  {
   "cell_type": "code",
   "execution_count": 0,
   "metadata": {
    "application/vnd.databricks.v1+cell": {
     "cellMetadata": {
      "byteLimit": 2048000,
      "rowLimit": 10000
     },
     "inputWidgets": {},
     "nuid": "c5e40bc1-61e2-41d7-b86d-cdf02cc00f2d",
     "showTitle": false,
     "tableResultSettingsMap": {},
     "title": ""
    }
   },
   "outputs": [],
   "source": [
    "# set variables in python and sql\n",
    "config_values = [\n",
    "    (\"catalog\", \"techware_labs\"),\n",
    "    (\"schema\", \"inventory\"),\n",
    "    (\"internal_share_name\", \"warehouse_inventory\"),\n",
    "    (\"internal_recipient_name\", \"regional_warehouse\"),\n",
    "]\n",
    "DA = create_da_objects(config_values)"
   ]
  },
  {
   "cell_type": "code",
   "execution_count": 0,
   "metadata": {
    "application/vnd.databricks.v1+cell": {
     "cellMetadata": {},
     "inputWidgets": {},
     "nuid": "8fd95a31-efa0-4f27-8744-b084e4c4fb98",
     "showTitle": false,
     "tableResultSettingsMap": {},
     "title": ""
    }
   },
   "outputs": [],
   "source": [
    "%sql\n",
    "CREATE CATALOG IF NOT EXISTS IDENTIFIER(DA.catalog)\n",
    "COMMENT 'TechWare Labs catalog for inventory sharing';\n",
    "USE CATALOG IDENTIFIER(DA.catalog);"
   ]
  },
  {
   "cell_type": "code",
   "execution_count": 0,
   "metadata": {
    "application/vnd.databricks.v1+cell": {
     "cellMetadata": {},
     "inputWidgets": {},
     "nuid": "966c994c-7035-4d79-9752-b8feb59a255e",
     "showTitle": false,
     "tableResultSettingsMap": {},
     "title": ""
    }
   },
   "outputs": [],
   "source": [
    "%sql\n",
    "CREATE SCHEMA IF NOT EXISTS IDENTIFIER(DA.schema)\n",
    "COMMENT 'Schema containing product and warehouse inventory data';\n",
    "USE SCHEMA IDENTIFIER(DA.schema);"
   ]
  },
  {
   "cell_type": "code",
   "execution_count": 0,
   "metadata": {
    "application/vnd.databricks.v1+cell": {
     "cellMetadata": {},
     "inputWidgets": {},
     "nuid": "4170aaab-63c1-45b2-9acf-41633de1a164",
     "showTitle": false,
     "tableResultSettingsMap": {},
     "title": ""
    }
   },
   "outputs": [],
   "source": [
    "# Cleanup existing shares and recipients before setup\n",
    "cleanup_commands = [\n",
    "    \"DROP SHARE IF EXISTS warehouse_inventory\",\n",
    "    \"DROP RECIPIENT IF EXISTS regional_warehouse\",\n",
    "]\n",
    "\n",
    "for cmd in cleanup_commands:\n",
    "    try:\n",
    "        spark.sql(cmd)\n",
    "    except Exception as e:\n",
    "        print(f\"Note: {cmd} - {str(e)}\")"
   ]
  },
  {
   "cell_type": "code",
   "execution_count": 0,
   "metadata": {
    "application/vnd.databricks.v1+cell": {
     "cellMetadata": {},
     "inputWidgets": {},
     "nuid": "ec3b39b0-0aa7-4a7e-ba0b-a867fad0dd80",
     "showTitle": false,
     "tableResultSettingsMap": {},
     "title": ""
    }
   },
   "outputs": [],
   "source": [
    "%sql\n",
    "-- Drop table if exists (to keep history clean)\n",
    "DROP TABLE IF EXISTS products;\n",
    "\n",
    "-- Create products table\n",
    "CREATE TABLE products (\n",
    "  product_id INT,\n",
    "  product_name STRING,\n",
    "  category STRING,\n",
    "  unit_price DECIMAL(10,2),\n",
    "  supplier_id INT,\n",
    "  supplier_name STRING,\n",
    "  reorder_level INT\n",
    ")\n",
    "COMMENT 'Product master data for inventory management';\n",
    "\n",
    "-- Insert sample data\n",
    "INSERT INTO products VALUES\n",
    "  (1001, 'Wireless Mouse', 'Peripherals', 29.99, 501, 'TechSupply Co', 50),\n",
    "  (1002, 'USB-C Hub', 'Accessories', 49.99, 502, 'ConnectPro', 30),\n",
    "  (1003, 'Laptop Stand', 'Accessories', 79.99, 501, 'TechSupply Co', 25),\n",
    "  (1004, 'Mechanical Keyboard', 'Peripherals', 149.99, 503, 'KeyMasters Inc', 20),\n",
    "  (1005, 'Webcam HD', 'Peripherals', 89.99, 504, 'Vision Tech', 40),\n",
    "  (1006, 'Monitor 27inch', 'Displays', 299.99, 505, 'Display Solutions', 15),\n",
    "  (1007, 'Desk Lamp LED', 'Office', 39.99, 506, 'LightWorks', 60),\n",
    "  (1008, 'Ergonomic Chair', 'Furniture', 399.99, 507, 'Comfort Designs', 10),\n",
    "  (1009, 'Headset Pro', 'Peripherals', 129.99, 504, 'Vision Tech', 35),\n",
    "  (1010, 'Docking Station', 'Accessories', 199.99, 502, 'ConnectPro', 20);"
   ]
  },
  {
   "cell_type": "code",
   "execution_count": 0,
   "metadata": {
    "application/vnd.databricks.v1+cell": {
     "cellMetadata": {},
     "inputWidgets": {},
     "nuid": "70942d5e-57fb-47aa-9faf-9ad5c08ea737",
     "showTitle": false,
     "tableResultSettingsMap": {},
     "title": ""
    }
   },
   "outputs": [],
   "source": [
    "%sql\n",
    "-- Drop table if exists (to keep history clean)\n",
    "DROP TABLE IF EXISTS warehouse_stock;\n",
    "\n",
    "-- Create warehouse stock table\n",
    "CREATE TABLE warehouse_stock (\n",
    "  stock_id INT,\n",
    "  product_id INT,\n",
    "  warehouse_location STRING,\n",
    "  quantity_on_hand INT,\n",
    "  last_restock_date DATE,\n",
    "  warehouse_zone STRING\n",
    ")\n",
    "COMMENT 'Current warehouse inventory levels';\n",
    "\n",
    "-- Insert sample warehouse stock data\n",
    "INSERT INTO warehouse_stock VALUES\n",
    "  (5001, 1001, 'North Warehouse', 245, '2024-09-15', 'Zone A'),\n",
    "  (5002, 1002, 'North Warehouse', 156, '2024-09-20', 'Zone A'),\n",
    "  (5003, 1003, 'East Warehouse', 89, '2024-09-10', 'Zone B'),\n",
    "  (5004, 1004, 'West Warehouse', 67, '2024-09-25', 'Zone C'),\n",
    "  (5005, 1005, 'North Warehouse', 198, '2024-09-18', 'Zone A'),\n",
    "  (5006, 1006, 'East Warehouse', 45, '2024-09-12', 'Zone B'),\n",
    "  (5007, 1007, 'West Warehouse', 312, '2024-09-22', 'Zone A'),\n",
    "  (5008, 1008, 'South Warehouse', 28, '2024-09-05', 'Zone D'),\n",
    "  (5009, 1009, 'North Warehouse', 134, '2024-09-17', 'Zone C'),\n",
    "  (5010, 1010, 'East Warehouse', 76, '2024-09-14', 'Zone B'),\n",
    "  (5011, 1001, 'East Warehouse', 189, '2024-09-16', 'Zone A'),\n",
    "  (5012, 1002, 'West Warehouse', 92, '2024-09-21', 'Zone A'),\n",
    "  (5013, 1004, 'South Warehouse', 51, '2024-09-08', 'Zone C'),\n",
    "  (5014, 1006, 'West Warehouse', 33, '2024-09-11', 'Zone B'),\n",
    "  (5015, 1008, 'North Warehouse', 19, '2024-09-06', 'Zone D');"
   ]
  },
  {
   "cell_type": "code",
   "execution_count": 0,
   "metadata": {
    "application/vnd.databricks.v1+cell": {
     "cellMetadata": {},
     "inputWidgets": {},
     "nuid": "6bbc0c32-93f2-404c-9412-1beaa160d833",
     "showTitle": false,
     "tableResultSettingsMap": {},
     "title": ""
    }
   },
   "outputs": [],
   "source": [
    "display_config_values(config_values)"
   ]
  }
 ],
 "metadata": {
  "application/vnd.databricks.v1+notebook": {
   "computePreferences": {
    "hardware": {
     "accelerator": null,
     "gpuPoolId": null,
     "memory": null
    }
   },
   "dashboards": [],
   "environmentMetadata": null,
   "inputWidgetPreferences": null,
   "language": "python",
   "notebookMetadata": {
    "mostRecentlyExecutedCommandWithImplicitDF": {
     "commandId": 7272300797755012,
     "dataframes": [
      "_sqldf"
     ]
    },
    "pythonIndentUnit": 4
   },
   "notebookName": "Lab-Setup-2",
   "widgets": {}
  },
  "language_info": {
   "name": "python"
  }
 },
 "nbformat": 4,
 "nbformat_minor": 0
}
