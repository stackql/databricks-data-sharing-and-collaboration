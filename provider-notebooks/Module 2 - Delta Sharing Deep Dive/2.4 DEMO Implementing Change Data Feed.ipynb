{
 "cells": [
  {
   "cell_type": "markdown",
   "metadata": {
    "application/vnd.databricks.v1+cell": {
     "cellMetadata": {},
     "inputWidgets": {},
     "nuid": "c93a2b66-6521-473b-9623-21ba6dd7f09a",
     "showTitle": false,
     "tableResultSettingsMap": {},
     "title": ""
    }
   },
   "source": [
    "\n",
    "<div style=\"text-align: center; line-height: 0; padding-top: 9px;\">\n",
    "  <img\n",
    "    src=\"https://databricks.com/wp-content/uploads/2018/03/db-academy-rgb-1200px.png\"\n",
    "    alt=\"Databricks Learning\"\n",
    "  >\n",
    "</div>\n"
   ]
  },
  {
   "cell_type": "markdown",
   "metadata": {
    "application/vnd.databricks.v1+cell": {
     "cellMetadata": {},
     "inputWidgets": {},
     "nuid": "117796a4-b7bc-441c-90fd-13bfc6108f86",
     "showTitle": false,
     "tableResultSettingsMap": {},
     "title": ""
    }
   },
   "source": [
    "# 2.4 DEMO: Implementing Change Data Feed (CDF) with Delta Sharing \\[Provider]\n",
    "\n",
    "## Overview\n",
    "In this demo, we will implement **Change Data Feed (CDF)** with Delta Sharing to enable incremental processing of data changes. This allows recipients to efficiently track and process only the rows that have been inserted, updated, or deleted in shared tables.\n",
    "\n",
    "**Provider Notebook (This Notebook):** We will enable Change Data Feed on existing tables, create a new share with CDF-enabled tables, configure a D2D recipient, and generate various data changes (inserts, updates, deletes) for the recipient to process.\n",
    "\n",
    "**Recipient Notebook:** The receiving organization will mount the share, read the change data feed, and incrementally process changes using MERGE INTO operations to maintain a synchronized target table.\n",
    "\n",
    "This demo showcases how Change Data Feed enables efficient incremental data processing patterns with Delta Sharing."
   ]
  },
  {
   "cell_type": "markdown",
   "metadata": {
    "application/vnd.databricks.v1+cell": {
     "cellMetadata": {},
     "inputWidgets": {},
     "nuid": "61d10bb6-b079-49a1-aa7a-acbf74235ecf",
     "showTitle": false,
     "tableResultSettingsMap": {},
     "title": ""
    }
   },
   "source": [
    "### Learning Objectives\n",
    "By the end of this demo, you will be able to:\n",
    "1. Enable Change Data Feed on Delta tables\n",
    "2. Share CDF-enabled tables via Delta Sharing\n",
    "3. Generate and track data changes (inserts, updates, deletes)\n",
    "4. Understand CDF metadata columns and change types\n",
    "5. Query historical changes using table versions\n",
    "6. Understand best practices for incremental data processing"
   ]
  },
  {
   "cell_type": "markdown",
   "metadata": {
    "application/vnd.databricks.v1+cell": {
     "cellMetadata": {},
     "inputWidgets": {},
     "nuid": "c1381481-cac7-4300-a065-6faa5d8e152f",
     "showTitle": false,
     "tableResultSettingsMap": {},
     "title": ""
    }
   },
   "source": [
    "## Background\n",
    "\n",
    "**Scenario:**\n",
    "You are a data provider company (*\"Acme Corp\"*) that wants to share customer and sales data with a partner organization. Instead of sharing full snapshots, you want to enable incremental processing so the recipient can efficiently track and process only the changes.\n",
    "\n",
    "### What is Change Data Feed?\n",
    "\n",
    "Change Data Feed (CDF) allows Delta Lake to track row-level changes between versions of a Delta table. When enabled, the runtime records change events for all data written to the table, including:\n",
    "- The row data\n",
    "- Metadata indicating whether the row was **inserted**, **deleted**, or **updated**\n",
    "- The table version where the change occurred\n",
    "- The timestamp of the change\n",
    "\n",
    "### CDF Metadata Columns\n",
    "\n",
    "When reading from CDF, additional metadata columns are included:\n",
    "\n",
    "| Column | Type | Values | Description |\n",
    "|--------|------|--------|-------------|\n",
    "| `_change_type` | String | `insert`, `update_preimage`, `update_postimage`, `delete` | Type of change |\n",
    "| `_commit_version` | Long | Version number | The Delta log version containing the change |\n",
    "| `_commit_timestamp` | Timestamp | Timestamp | When the commit was created |\n",
    "\n",
    "**Note:** For updates, you get both the `update_preimage` (before) and `update_postimage` (after) values."
   ]
  },
  {
   "cell_type": "code",
   "execution_count": 0,
   "metadata": {
    "application/vnd.databricks.v1+cell": {
     "cellMetadata": {
      "byteLimit": 2048000,
      "implicitDf": true,
      "rowLimit": 10000
     },
     "inputWidgets": {},
     "nuid": "ed2fecda-afe0-4f97-b023-6ae002c78a33",
     "showTitle": false,
     "tableResultSettingsMap": {},
     "title": ""
    }
   },
   "outputs": [],
   "source": [
    "%run ./Includes/Demo-Setup-2"
   ]
  },
  {
   "cell_type": "markdown",
   "metadata": {
    "application/vnd.databricks.v1+cell": {
     "cellMetadata": {},
     "inputWidgets": {},
     "nuid": "aa8874d4-38cc-4202-9d16-28a1a534c921",
     "showTitle": false,
     "tableResultSettingsMap": {},
     "title": ""
    }
   },
   "source": [
    "## Step 1: Enable Change Data Feed on an Existing Table\n",
    "\n",
    "First, we need to enable CDF on our `customers` table. This is done by setting the table property `delta.enableChangeDataFeed = true`.\n",
    "\n",
    "**Important:** Only changes made **after** enabling CDF are recorded. Past changes are not captured."
   ]
  },
  {
   "cell_type": "code",
   "execution_count": 0,
   "metadata": {
    "application/vnd.databricks.v1+cell": {
     "cellMetadata": {
      "byteLimit": 2048000,
      "rowLimit": 10000
     },
     "inputWidgets": {},
     "nuid": "cbe96ed5-f1cd-479e-9f11-cfbe9e830056",
     "showTitle": false,
     "tableResultSettingsMap": {},
     "title": ""
    }
   },
   "outputs": [],
   "source": [
    "-- Verify current context\n",
    "SELECT current_catalog(), current_schema();"
   ]
  },
  {
   "cell_type": "code",
   "execution_count": 0,
   "metadata": {
    "application/vnd.databricks.v1+cell": {
     "cellMetadata": {
      "byteLimit": 2048000,
      "rowLimit": 10000
     },
     "inputWidgets": {},
     "nuid": "2f36602f-5d78-45e0-959a-54d8110f652d",
     "showTitle": false,
     "tableResultSettingsMap": {},
     "title": ""
    }
   },
   "outputs": [],
   "source": [
    "-- Enable Change Data Feed on customers table\n",
    "ALTER TABLE acme_corp.retail.customers \n",
    "SET TBLPROPERTIES (delta.enableChangeDataFeed = true);"
   ]
  },
  {
   "cell_type": "code",
   "execution_count": 0,
   "metadata": {
    "application/vnd.databricks.v1+cell": {
     "cellMetadata": {
      "byteLimit": 2048000,
      "rowLimit": 10000
     },
     "inputWidgets": {},
     "nuid": "36c2010f-a407-474f-8dcc-38ec5644e8ba",
     "showTitle": false,
     "tableResultSettingsMap": {},
     "title": ""
    }
   },
   "outputs": [],
   "source": [
    "-- Verify CDF is enabled by checking table properties\n",
    "SHOW TBLPROPERTIES acme_corp.retail.customers;"
   ]
  },
  {
   "cell_type": "markdown",
   "metadata": {
    "application/vnd.databricks.v1+cell": {
     "cellMetadata": {},
     "inputWidgets": {},
     "nuid": "f9e15617-cf0d-490e-983c-162e54f60b5e",
     "showTitle": false,
     "tableResultSettingsMap": {},
     "title": ""
    }
   },
   "source": [
    "## Step 2: Check Current Table Versions\n",
    "\n",
    "Let's check the current version of our tables. This will be our baseline before we start making changes."
   ]
  },
  {
   "cell_type": "code",
   "execution_count": 0,
   "metadata": {
    "application/vnd.databricks.v1+cell": {
     "cellMetadata": {
      "byteLimit": 2048000,
      "rowLimit": 10000
     },
     "inputWidgets": {},
     "nuid": "67445398-f6b9-4dc6-b424-70ae9e6c765d",
     "showTitle": false,
     "tableResultSettingsMap": {},
     "title": ""
    }
   },
   "outputs": [],
   "source": [
    "-- Check table history for customers\n",
    "DESCRIBE HISTORY acme_corp.retail.customers LIMIT 5;"
   ]
  },
  {
   "cell_type": "code",
   "execution_count": 0,
   "metadata": {
    "application/vnd.databricks.v1+cell": {
     "cellMetadata": {
      "byteLimit": 2048000,
      "rowLimit": 10000
     },
     "inputWidgets": {},
     "nuid": "c0e112a0-5219-4587-8bf8-d15cbe3c70f4",
     "showTitle": false,
     "tableResultSettingsMap": {},
     "title": ""
    }
   },
   "outputs": [],
   "source": [
    "-- View current customers data\n",
    "SELECT * FROM acme_corp.retail.customers ORDER BY customer_id;"
   ]
  },
  {
   "cell_type": "markdown",
   "metadata": {
    "application/vnd.databricks.v1+cell": {
     "cellMetadata": {},
     "inputWidgets": {},
     "nuid": "23ae8b7d-588d-4838-af52-f153a84a8c9e",
     "showTitle": false,
     "tableResultSettingsMap": {},
     "title": ""
    }
   },
   "source": [
    "## Step 3: Generate Data Changes\n",
    "\n",
    "Now let's generate various types of changes to demonstrate CDF functionality:\n",
    "1. **Inserts** - Add new customers\n",
    "2. **Updates** - Modify existing customer data\n",
    "3. **Deletes** - Remove customers"
   ]
  },
  {
   "cell_type": "markdown",
   "metadata": {
    "application/vnd.databricks.v1+cell": {
     "cellMetadata": {},
     "inputWidgets": {},
     "nuid": "4ee333cc-5df1-4144-8f32-e9990aa39d22",
     "showTitle": false,
     "tableResultSettingsMap": {},
     "title": ""
    }
   },
   "source": [
    "### Change 1: Insert New Customers"
   ]
  },
  {
   "cell_type": "code",
   "execution_count": 0,
   "metadata": {
    "application/vnd.databricks.v1+cell": {
     "cellMetadata": {
      "byteLimit": 2048000,
      "rowLimit": 10000
     },
     "inputWidgets": {},
     "nuid": "bdcdde31-4c88-4e3a-9d8f-98aaf943f415",
     "showTitle": false,
     "tableResultSettingsMap": {},
     "title": ""
    }
   },
   "outputs": [],
   "source": [
    "-- Insert 3 new customers\n",
    "INSERT INTO acme_corp.retail.customers VALUES\n",
    "  (41, 'FutureTech Systems', 'sales@futuretech.com', 'Japan', '2024-09-15', 'Mid-Market'),\n",
    "  (42, 'Quantum Analytics', 'info@quantum.com', 'Netherlands', '2024-09-20', 'Enterprise'),\n",
    "  (43, 'Smart Solutions Co', 'contact@smartsol.com', 'Brazil', '2024-09-25', 'SMB');"
   ]
  },
  {
   "cell_type": "markdown",
   "metadata": {
    "application/vnd.databricks.v1+cell": {
     "cellMetadata": {},
     "inputWidgets": {},
     "nuid": "fc4e72ff-c2e2-41ff-86f8-045e142c9858",
     "showTitle": false,
     "tableResultSettingsMap": {},
     "title": ""
    }
   },
   "source": [
    "### Change 2: Update Existing Customers"
   ]
  },
  {
   "cell_type": "code",
   "execution_count": 0,
   "metadata": {
    "application/vnd.databricks.v1+cell": {
     "cellMetadata": {
      "byteLimit": 2048000,
      "rowLimit": 10000
     },
     "inputWidgets": {},
     "nuid": "294db140-2af1-4ab5-82e2-51b29d05ab21",
     "showTitle": false,
     "tableResultSettingsMap": {},
     "title": ""
    }
   },
   "outputs": [],
   "source": [
    "-- Update customer segments (upgrade SMB customers to Mid-Market)\n",
    "UPDATE acme_corp.retail.customers \n",
    "SET customer_segment = 'Mid-Market'\n",
    "WHERE customer_segment = 'SMB';"
   ]
  },
  {
   "cell_type": "code",
   "execution_count": 0,
   "metadata": {
    "application/vnd.databricks.v1+cell": {
     "cellMetadata": {
      "byteLimit": 2048000,
      "rowLimit": 10000
     },
     "inputWidgets": {},
     "nuid": "89480771-9ae7-4670-a16f-5ad0b6bff608",
     "showTitle": false,
     "tableResultSettingsMap": {},
     "title": ""
    }
   },
   "outputs": [],
   "source": [
    "-- Update email for a specific customer\n",
    "UPDATE acme_corp.retail.customers \n",
    "SET email = 'newemail@acme.com'\n",
    "WHERE customer_id = 1;"
   ]
  },
  {
   "cell_type": "markdown",
   "metadata": {
    "application/vnd.databricks.v1+cell": {
     "cellMetadata": {},
     "inputWidgets": {},
     "nuid": "b8ce6fab-a6d2-47b0-89e5-0c049013d01f",
     "showTitle": false,
     "tableResultSettingsMap": {},
     "title": ""
    }
   },
   "source": [
    "### Change 3: Delete Customers"
   ]
  },
  {
   "cell_type": "code",
   "execution_count": 0,
   "metadata": {
    "application/vnd.databricks.v1+cell": {
     "cellMetadata": {
      "byteLimit": 2048000,
      "rowLimit": 10000
     },
     "inputWidgets": {},
     "nuid": "febcf504-8895-490b-93a6-e2ecda98cb00",
     "showTitle": false,
     "tableResultSettingsMap": {},
     "title": ""
    }
   },
   "outputs": [],
   "source": [
    "-- Delete a customer (e.g., customer closed account)\n",
    "DELETE FROM acme_corp.retail.customers WHERE customer_id = 11;"
   ]
  },
  {
   "cell_type": "markdown",
   "metadata": {
    "application/vnd.databricks.v1+cell": {
     "cellMetadata": {},
     "inputWidgets": {},
     "nuid": "3827393f-513b-4f35-9424-35fa94859d4e",
     "showTitle": false,
     "tableResultSettingsMap": {},
     "title": ""
    }
   },
   "source": [
    "## Step 4: View Table History\n",
    "\n",
    "Let's examine the table history to see all the changes we've made."
   ]
  },
  {
   "cell_type": "code",
   "execution_count": 0,
   "metadata": {
    "application/vnd.databricks.v1+cell": {
     "cellMetadata": {
      "byteLimit": 2048000,
      "rowLimit": 10000
     },
     "inputWidgets": {},
     "nuid": "3de4b626-e3a7-495e-a285-b7af2c4ddc03",
     "showTitle": false,
     "tableResultSettingsMap": {},
     "title": ""
    }
   },
   "outputs": [],
   "source": [
    "-- View detailed table history\n",
    "DESCRIBE HISTORY acme_corp.retail.customers;"
   ]
  },
  {
   "cell_type": "markdown",
   "metadata": {
    "application/vnd.databricks.v1+cell": {
     "cellMetadata": {},
     "inputWidgets": {},
     "nuid": "4a75739c-c504-4f56-8db8-f1240a981089",
     "showTitle": false,
     "tableResultSettingsMap": {},
     "title": ""
    }
   },
   "source": [
    "## Step 5: Query Change Data Feed (Batch Mode)\n",
    "\n",
    "Let's query the CDF to see all the changes we've made. We'll use the `table_changes()` function to read changes in batch mode."
   ]
  },
  {
   "cell_type": "code",
   "execution_count": 0,
   "metadata": {
    "application/vnd.databricks.v1+cell": {
     "cellMetadata": {
      "byteLimit": 2048000,
      "rowLimit": 10000
     },
     "inputWidgets": {},
     "nuid": "77aa7b02-1d50-4b6d-bb96-ac3eacc8979b",
     "showTitle": false,
     "tableResultSettingsMap": {},
     "title": ""
    }
   },
   "outputs": [],
   "source": [
    "-- Query all changes from the version where we enabled CDF (version after enabling CDF)\n",
    "-- Replace 'X' with the version number where CDF was enabled (check DESCRIBE HISTORY output)\n",
    "-- Typically this will be the version after the 'SET TBLPROPERTIES' operation\n",
    "SELECT \n",
    "  _change_type,\n",
    "  _commit_version,\n",
    "  _commit_timestamp,\n",
    "  customer_id,\n",
    "  customer_name,\n",
    "  email,\n",
    "  customer_segment\n",
    "FROM table_changes('acme_corp.retail.customers', 3)\n",
    "ORDER BY _commit_version, customer_id, _change_type;"
   ]
  },
  {
   "cell_type": "markdown",
   "metadata": {
    "application/vnd.databricks.v1+cell": {
     "cellMetadata": {},
     "inputWidgets": {},
     "nuid": "3c04431b-b557-417f-90b1-cbb643e034ba",
     "showTitle": false,
     "tableResultSettingsMap": {},
     "title": ""
    }
   },
   "source": [
    "### Understanding the Output\n",
    "\n",
    "In the results above, you should see:\n",
    "\n",
    "1. **Insert Operations**: `_change_type = 'insert'` for new customers (IDs 9, 10, 11)\n",
    "2. **Update Operations**: For each updated row, you'll see:\n",
    "   - `update_preimage`: The values **before** the update\n",
    "   - `update_postimage`: The values **after** the update\n",
    "3. **Delete Operations**: `_change_type = 'delete'` for removed customer (ID 11)\n",
    "\n",
    "Each change includes the `_commit_version` and `_commit_timestamp` for tracking when the change occurred."
   ]
  },
  {
   "cell_type": "code",
   "execution_count": 0,
   "metadata": {
    "application/vnd.databricks.v1+cell": {
     "cellMetadata": {
      "byteLimit": 2048000,
      "rowLimit": 10000
     },
     "inputWidgets": {},
     "nuid": "5f5c1f7a-bcb2-45d6-944b-29021caaa895",
     "showTitle": false,
     "tableResultSettingsMap": {},
     "title": ""
    }
   },
   "outputs": [],
   "source": [
    "-- Query changes for a specific version range\n",
    "-- This shows changes between version X and version Y\n",
    "SELECT \n",
    "  _change_type,\n",
    "  _commit_version,\n",
    "  customer_id,\n",
    "  customer_name,\n",
    "  customer_segment\n",
    "FROM table_changes('acme_corp.retail.customers', 3, 4)\n",
    "ORDER BY _commit_version, customer_id;"
   ]
  },
  {
   "cell_type": "code",
   "execution_count": 0,
   "metadata": {
    "application/vnd.databricks.v1+cell": {
     "cellMetadata": {
      "byteLimit": 2048000,
      "rowLimit": 10000
     },
     "inputWidgets": {},
     "nuid": "5110c203-a797-4562-8bcf-36dc9b80fc70",
     "showTitle": false,
     "tableResultSettingsMap": {},
     "title": ""
    }
   },
   "outputs": [],
   "source": [
    "-- Summarize changes by type\n",
    "SELECT \n",
    "  CASE \n",
    "    WHEN _change_type LIKE 'update%' THEN 'update'\n",
    "    ELSE _change_type \n",
    "  END as change_type,\n",
    "  COUNT(*) as change_count\n",
    "FROM table_changes('acme_corp.retail.customers', 3)\n",
    "GROUP BY change_type\n",
    "ORDER BY change_type;\n",
    "\n",
    "/* generate a bar chart visualization, "
   ]
  },
  {
   "cell_type": "markdown",
   "metadata": {
    "application/vnd.databricks.v1+cell": {
     "cellMetadata": {},
     "inputWidgets": {},
     "nuid": "5ae2452a-2cbe-4ca1-913b-2f165cadb041",
     "showTitle": false,
     "tableResultSettingsMap": {},
     "title": ""
    }
   },
   "source": [
    "## Step 6: Create a Share with CDF-Enabled Table\n",
    "\n",
    "Now let's create a new share and add our CDF-enabled table to it."
   ]
  },
  {
   "cell_type": "code",
   "execution_count": 0,
   "metadata": {
    "application/vnd.databricks.v1+cell": {
     "cellMetadata": {
      "byteLimit": 2048000,
      "rowLimit": 10000
     },
     "inputWidgets": {},
     "nuid": "0ccb194b-486e-4960-9e46-aa33638b0019",
     "showTitle": false,
     "tableResultSettingsMap": {},
     "title": ""
    }
   },
   "outputs": [],
   "source": [
    "-- Create a share for CDF demonstration\n",
    "CREATE SHARE IF NOT EXISTS cdf_retail\n",
    "COMMENT 'Share with Change Data Feed enabled for incremental processing';"
   ]
  },
  {
   "cell_type": "code",
   "execution_count": 0,
   "metadata": {
    "application/vnd.databricks.v1+cell": {
     "cellMetadata": {
      "byteLimit": 2048000,
      "rowLimit": 10000
     },
     "inputWidgets": {},
     "nuid": "a322a17d-b26a-4939-92c1-ac1b5a327e62",
     "showTitle": false,
     "tableResultSettingsMap": {},
     "title": ""
    }
   },
   "outputs": [],
   "source": [
    "-- Add CDF-enabled table to the share\n",
    "ALTER SHARE cdf_retail \n",
    "ADD TABLE acme_corp.retail.customers\n",
    "COMMENT 'Customer data with Change Data Feed enabled';"
   ]
  },
  {
   "cell_type": "code",
   "execution_count": 0,
   "metadata": {
    "application/vnd.databricks.v1+cell": {
     "cellMetadata": {
      "byteLimit": 2048000,
      "rowLimit": 10000
     },
     "inputWidgets": {},
     "nuid": "3782db30-0e6c-4800-a0f3-cdf142ba178e",
     "showTitle": false,
     "tableResultSettingsMap": {},
     "title": ""
    }
   },
   "outputs": [],
   "source": [
    "-- Verify share contents\n",
    "SHOW ALL IN SHARE cdf_retail;"
   ]
  },
  {
   "cell_type": "markdown",
   "metadata": {
    "application/vnd.databricks.v1+cell": {
     "cellMetadata": {},
     "inputWidgets": {},
     "nuid": "ae351712-f766-41c4-98dc-fd67c93cf1df",
     "showTitle": false,
     "tableResultSettingsMap": {},
     "title": ""
    }
   },
   "source": [
    "## Step 7: Create Recipient and Grant Access\n",
    "\n",
    "Create a D2D recipient and grant them access to the CDF-enabled share.\n",
    "\n",
    "**Note:** Get the recipient's metastore ID before running this step."
   ]
  },
  {
   "cell_type": "code",
   "execution_count": 0,
   "metadata": {
    "application/vnd.databricks.v1+cell": {
     "cellMetadata": {
      "byteLimit": 2048000,
      "rowLimit": 10000
     },
     "inputWidgets": {},
     "nuid": "9f90d720-b55f-4236-9cdd-3ab0e7043c40",
     "showTitle": false,
     "tableResultSettingsMap": {},
     "title": ""
    }
   },
   "outputs": [],
   "source": [
    "-- Create recipient (replace with actual metastore ID from recipient workspace)\n",
    "CREATE RECIPIENT IF NOT EXISTS cdf_recipient\n",
    "USING ID 'aws:us-west-2:adc48801-0d35-4e94-9cbc-0ff7f29ce611'\n",
    "COMMENT 'Recipient for Change Data Feed demonstration';"
   ]
  },
  {
   "cell_type": "code",
   "execution_count": 0,
   "metadata": {
    "application/vnd.databricks.v1+cell": {
     "cellMetadata": {
      "byteLimit": 2048000,
      "rowLimit": 10000
     },
     "inputWidgets": {},
     "nuid": "5bf3e817-081d-4d49-ad4e-e83167330b08",
     "showTitle": false,
     "tableResultSettingsMap": {},
     "title": ""
    }
   },
   "outputs": [],
   "source": [
    "-- Grant access to the share\n",
    "GRANT SELECT ON SHARE cdf_retail TO RECIPIENT cdf_recipient;"
   ]
  },
  {
   "cell_type": "code",
   "execution_count": 0,
   "metadata": {
    "application/vnd.databricks.v1+cell": {
     "cellMetadata": {
      "byteLimit": 2048000,
      "rowLimit": 10000
     },
     "inputWidgets": {},
     "nuid": "4eb2ac2b-c1a5-4f0f-8b62-e7df0c1f5f3e",
     "showTitle": false,
     "tableResultSettingsMap": {},
     "title": ""
    }
   },
   "outputs": [],
   "source": [
    "-- Verify grants\n",
    "SHOW GRANTS ON SHARE cdf_retail;"
   ]
  },
  {
   "cell_type": "markdown",
   "metadata": {
    "application/vnd.databricks.v1+cell": {
     "cellMetadata": {},
     "inputWidgets": {},
     "nuid": "be94bd2d-097e-4198-b0c3-512447bc4ad3",
     "showTitle": false,
     "tableResultSettingsMap": {},
     "title": ""
    }
   },
   "source": [
    "## Next Steps\n",
    "The recipient will now mount this share and use the Change Data Feed to incrementally process changes using `MERGE INTO` operations!"
   ]
  },
  {
   "cell_type": "markdown",
   "metadata": {
    "application/vnd.databricks.v1+cell": {
     "cellMetadata": {},
     "inputWidgets": {},
     "nuid": "1b2c7d9a-3z89-8y23-2d60-b8c2b7d9b7c2",
     "showTitle": false,
     "tableResultSettingsMap": {},
     "title": ""
    }
   },
   "source": [
    "## Best Practices and Considerations\n",
    "\n",
    "### CDF Retention and History\n",
    "\n",
    "- **Not a permanent record**: CDF is not designed to store all historical changes forever\n",
    "- **Retention policy**: Change data files follow the table's retention policy\n",
    "- **`VACUUM` impact**: Running `VACUUM` removes old change data files\n",
    "- **Checkpoint policy**: Changes reconstructed from transaction log follow checkpoint retention\n",
    "\n",
    "### When to Use CDF\n",
    "\n",
    "✅ **Good use cases:**\n",
    "- Incremental ETL/ELT pipelines\n",
    "- Downstream system synchronization\n",
    "- Audit and compliance tracking\n",
    "- Real-time data warehousing\n",
    "- Change data capture (CDC) patterns\n",
    "\n",
    "❌ **Not ideal for:**\n",
    "- Complete historical replay (use table snapshots instead)\n",
    "- Long-term audit archives (copy CDF to separate archive table)\n",
    "- Tables with very frequent small updates\n",
    "\n",
    "### Streaming vs Batch Reads\n",
    "\n",
    "**Streaming (Recommended):**\n",
    "- Automatically tracks processed versions\n",
    "- Checkpoint-based progress tracking\n",
    "- Ideal for continuous incremental processing\n",
    "- Default behavior includes initial snapshot\n",
    "\n",
    "**Batch:**\n",
    "- Must specify starting version or timestamp\n",
    "- Useful for ad-hoc analysis\n",
    "- Good for backfilling specific version ranges\n",
    "- Requires manual version tracking\n",
    "\n",
    "### Performance Tips\n",
    "\n",
    "- Enable CDF before making changes (can't capture historical changes)\n",
    "- Use appropriate starting versions to avoid reprocessing\n",
    "- Consider rate limiting for streaming reads\n",
    "- Monitor storage costs (CDF may add additional overhead)\n",
    "- Archive old changes if long-term history needed"
   ]
  },
  {
   "cell_type": "markdown",
   "metadata": {
    "application/vnd.databricks.v1+cell": {
     "cellMetadata": {},
     "inputWidgets": {},
     "nuid": "2c3d8e0b-4a90-9z34-3e71-c9d3c8e0c8d3",
     "showTitle": false,
     "tableResultSettingsMap": {},
     "title": ""
    }
   },
   "source": [
    "## Summary\n",
    "\n",
    "✅ **What we accomplished:**\n",
    "\n",
    "1. Enabled Change Data Feed on Delta tables\n",
    "2. Generated various data changes (inserts, updates, deletes)\n",
    "3. Queried change data using `table_changes()` function\n",
    "4. Created a share with CDF-enabled tables\n",
    "5. Configured a recipient for incremental processing\n",
    "6. Understood CDF metadata and change types\n",
    "\n",
    "**Key Takeaways:**\n",
    "\n",
    "- **CDF tracks row-level changes** with metadata indicating operation type\n",
    "- **Enables efficient incremental processing** for Delta Sharing recipients\n",
    "- **Supports both streaming and batch** processing patterns\n",
    "- **Provides audit trail** with version and timestamp information\n",
    "- **Updates include both pre and post images** for complete change tracking"
   ]
  },
  {
   "cell_type": "markdown",
   "metadata": {
    "application/vnd.databricks.v1+cell": {
     "cellMetadata": {},
     "inputWidgets": {},
     "nuid": "9ec16e66-63f4-48b1-874d-993589fe5854",
     "showTitle": false,
     "tableResultSettingsMap": {},
     "title": ""
    }
   },
   "source": [
    "---\n",
    "&copy; 2025 Databricks, Inc. All rights reserved. Apache, Apache Spark, Spark, the Spark Logo, Apache Iceberg, Iceberg, and the Apache Iceberg logo are trademarks of the <a href=\"https://www.apache.org/\" target=\"_blank\">Apache Software Foundation</a>.<br/><br/><a href=\"https://databricks.com/privacy-policy\" target=\"_blank\">Privacy Policy</a> | <a href=\"https://databricks.com/terms-of-use\" target=\"_blank\">Terms of Use</a> | <a href=\"https://help.databricks.com/\" target=\"_blank\">Support</a>"
   ]
  }
 ],
 "metadata": {
  "application/vnd.databricks.v1+notebook": {
   "computePreferences": null,
   "dashboards": [],
   "environmentMetadata": {
    "base_environment": "",
    "environment_version": "4"
   },
   "inputWidgetPreferences": null,
   "language": "sql",
   "notebookMetadata": {
    "mostRecentlyExecutedCommandWithImplicitDF": {
     "commandId": 7913436217247262,
     "dataframes": [
      "_sqldf"
     ]
    },
    "pythonIndentUnit": 4
   },
   "notebookName": "2.4 DEMO Implementing Change Data Feed",
   "widgets": {}
  },
  "language_info": {
   "name": "sql"
  }
 },
 "nbformat": 4,
 "nbformat_minor": 0
}
