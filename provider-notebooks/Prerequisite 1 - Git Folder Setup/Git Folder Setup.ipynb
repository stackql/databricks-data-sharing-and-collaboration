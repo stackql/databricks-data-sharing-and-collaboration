{
 "cells": [
  {
   "cell_type": "markdown",
   "id": "8ea24b80",
   "metadata": {},
   "source": []
  },
  {
   "cell_type": "markdown",
   "id": "0adcb271",
   "metadata": {},
   "source": [
    "<div style=\"text-align: center; line-height: 0; padding-top: 9px;\">\n",
    "  <img\n",
    "    src=\"https://github.com/stackql/databricks-data-sharing-and-collaboration/blob/main/images/step%203%20-%20create%20git%20folder.png?raw=true\"\n",
    "    alt=\"Create Git Folder - Step 1\"\n",
    "  >\n",
    "</div>"
   ]
  },
  {
   "cell_type": "markdown",
   "id": "75827029",
   "metadata": {},
   "source": []
  },
  {
   "cell_type": "markdown",
   "id": "48af1f6a",
   "metadata": {},
   "source": [
    "<div style=\"text-align: center; line-height: 0; padding-top: 9px;\">\n",
    "  <img\n",
    "    src=\"https://github.com/stackql/databricks-data-sharing-and-collaboration/blob/main/images/step%204%20-%20create%20git%20folder.png?raw=true\"\n",
    "    alt=\"Create Git Folder - Step 2\"\n",
    "  >\n",
    "</div>"
   ]
  },
  {
   "cell_type": "markdown",
   "id": "08c246c8",
   "metadata": {},
   "source": []
  },
  {
   "cell_type": "markdown",
   "id": "44084f7e",
   "metadata": {},
   "source": [
    "<div style=\"text-align: center; line-height: 0; padding-top: 9px;\">\n",
    "  <img\n",
    "    src=\"https://github.com/stackql/databricks-data-sharing-and-collaboration/blob/main/images/step%205%20-%20create%20git%20folder.png?raw=true\"\n",
    "    alt=\"Create Git Folder - Step 3\"\n",
    "  >\n",
    "</div>"
   ]
  }
 ],
 "metadata": {
  "language_info": {
   "name": "python"
  }
 },
 "nbformat": 4,
 "nbformat_minor": 5
}
