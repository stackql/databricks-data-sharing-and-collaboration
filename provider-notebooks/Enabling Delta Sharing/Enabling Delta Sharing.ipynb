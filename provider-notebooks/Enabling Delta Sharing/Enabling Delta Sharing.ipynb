{
 "cells": [
  {
   "cell_type": "markdown",
   "id": "0202e28d",
   "metadata": {},
   "source": [
    "<div style=\"text-align: center; line-height: 0; padding-top: 9px;\">\n",
    "  <img\n",
    "    src=\"https://github.com/stackql/databricks-data-sharing-and-collaboration/blob/main/images/step%201%20-%20enable%20external%20data%20sharing%20-%20account.png?raw=true\"\n",
    "    alt=\"Enable Delta Sharing (Account level)\"\n",
    "  >\n",
    "</div>"
   ]
  },
  {
   "cell_type": "code",
   "execution_count": null,
   "id": "01e15e7c",
   "metadata": {
    "vscode": {
     "languageId": "plaintext"
    }
   },
   "outputs": [],
   "source": [
    "<div style=\"text-align: center; line-height: 0; padding-top: 9px;\">\n",
    "  <img\n",
    "    src=\"https://github.com/stackql/databricks-data-sharing-and-collaboration/blob/main/images/step%202%20-%20enable%20external%20data%20sharing%20-%20workspace.png?raw=true\"\n",
    "    alt=\"Enable Delta Sharing (Workspace view)\"\n",
    "  >\n",
    "</div>"
   ]
  },
  {
   "cell_type": "markdown",
   "id": "d18497cb",
   "metadata": {},
   "source": [
    "<div style=\"text-align: center; line-height: 0; padding-top: 9px;\">\n",
    "  <img\n",
    "    src=\"https://github.com/stackql/databricks-data-sharing-and-collaboration/blob/main/images/step%203%20-%20create%20git%20folder.png?raw=true\"\n",
    "    alt=\"Create Git Folder - Step 1\"\n",
    "  >\n",
    "</div>"
   ]
  },
  {
   "cell_type": "markdown",
   "id": "c2acd1ab",
   "metadata": {},
   "source": [
    "<div style=\"text-align: center; line-height: 0; padding-top: 9px;\">\n",
    "  <img\n",
    "    src=\"https://github.com/stackql/databricks-data-sharing-and-collaboration/blob/main/images/step%204%20-%20create%20git%20folder.png?raw=true\"\n",
    "    alt=\"Create Git Folder - Step 2\"\n",
    "  >\n",
    "</div>"
   ]
  },
  {
   "cell_type": "markdown",
   "id": "8e3fc40f",
   "metadata": {},
   "source": [
    "<div style=\"text-align: center; line-height: 0; padding-top: 9px;\">\n",
    "  <img\n",
    "    src=\"https://github.com/stackql/databricks-data-sharing-and-collaboration/blob/main/images/step%205%20-%20create%20git%20folder.png?raw=true\"\n",
    "    alt=\"Create Git Folder - Step 3\"\n",
    "  >\n",
    "</div>"
   ]
  }
 ],
 "metadata": {
  "language_info": {
   "name": "python"
  }
 },
 "nbformat": 4,
 "nbformat_minor": 5
}
