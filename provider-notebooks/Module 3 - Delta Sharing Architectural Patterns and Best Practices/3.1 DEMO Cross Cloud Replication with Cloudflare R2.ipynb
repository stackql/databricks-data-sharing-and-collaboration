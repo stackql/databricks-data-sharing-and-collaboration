{
 "cells": [
  {
   "cell_type": "markdown",
   "metadata": {
    "application/vnd.databricks.v1+cell": {
     "cellMetadata": {},
     "inputWidgets": {},
     "nuid": "f335d6a9-208c-4e4b-84eb-f08ec8d9e6cf",
     "showTitle": false,
     "tableResultSettingsMap": {},
     "title": ""
    }
   },
   "source": [
    "\n",
    "<div style=\"text-align: center; line-height: 0; padding-top: 9px;\">\n",
    "  <img\n",
    "    src=\"https://databricks.com/wp-content/uploads/2018/03/db-academy-rgb-1200px.png\"\n",
    "    alt=\"Databricks Learning\"\n",
    "  >\n",
    "</div>"
   ]
  },
  {
   "cell_type": "markdown",
   "metadata": {
    "application/vnd.databricks.v1+cell": {
     "cellMetadata": {},
     "inputWidgets": {},
     "nuid": "374b6c68-8db4-4d5d-8f5c-58aa76bcb70c",
     "showTitle": false,
     "tableResultSettingsMap": {},
     "title": ""
    }
   },
   "source": [
    "# 3.1 DEMO: Cross Cloud Replication with Cloudflare R2 [Provider]\n",
    "\n",
    "## Overview\n",
    "This demo showcases how to set up cross-cloud replication using Cloudflare R2 as an intermediary storage layer. The provider creates a managed table, then replicates data to an external table on R2 for global, cost-effective data sharing.\n",
    "\n",
    "## Learning Objectives\n",
    "By the end of this demo, you will understand:\n",
    "1. How to configure Cloudflare R2 external storage\n",
    "2. How to replicate table data to R2 using insert-only MERGE operations\n",
    "3. How to use R2 as a bridge for cross-cloud data sharing\n",
    "4. How to automate replication using Databricks Jobs\n",
    "\n",
    "## Architecture\n",
    "We will use a Cloudflare R2 bucket as the storage location for an External Table which serves as an intermediary between the provider and recipients. Changes from a Managed source table are replicated to R2, and recipients can then pull the data asynchronously into their own Managed table in their region/provider.\n",
    "\n",
    "> **Note:** For more sophisticated use cases, you could leverage Change Data Feed (CDF) to capture and replicate only incremental changes. In this demo, we'll use a simpler insert-only MERGE approach for clarity.\n",
    "\n",
    "<div style=\"text-align: center; line-height: 0; padding-top: 9px;\">\n",
    "  <img\n",
    "    src=\"https://github.com/stackql/databricks-data-sharing-and-collaboration/blob/main/images/cloudflare-r2-replication-arch.png?raw=true\"\n",
    "    alt=\"Cloudflare R2 replication\"\n",
    "  >\n",
    "</div>\n",
    "\n",
    "**Benefits:**\n",
    "- Zero egress costs with Cloudflare R2\n",
    "- Global data distribution without provider dependencies\n",
    "- Simple replication strategy using standard SQL\n",
    "- Cost-effective sharing with unlimited recipients"
   ]
  },
  {
   "cell_type": "markdown",
   "metadata": {
    "application/vnd.databricks.v1+cell": {
     "cellMetadata": {},
     "inputWidgets": {},
     "nuid": "18e9c195-698b-4dae-9ecf-2005809d9db3",
     "showTitle": false,
     "tableResultSettingsMap": {},
     "title": ""
    }
   },
   "source": [
    "## Prerequisites\n",
    "\n",
    "Before starting this demo, you'll need to set up Cloudflare R2 and gather the required connection details. From your Cloudflare dashboard, create an R2 bucket and generate API credentials with read/write permissions. The key information you'll need includes your R2 Access Key ID and Secret Access Key, which authenticate your Databricks workspace to the R2 storage service. You'll also need the S3-compatible API endpoint URL for your R2 bucket and the specific bucket name where the replicated data will be stored.\n",
    "\n",
    "These credentials will be configured in Databricks as a storage credential and external location, enabling secure access to your R2 bucket. The receiving party will also need access to these same R2 credentials to read the replicated data from their own Databricks environment.\n",
    "\n",
    "<br />\n",
    "<br />\n",
    "<div style=\"text-align: center; line-height: 0; padding-top: 9px;\">\n",
    "  <img\n",
    "    src=\"https://github.com/stackql/databricks-data-sharing-and-collaboration/blob/main/images/cloudflare-r2-setup.png?raw=true\"\n",
    "    alt=\"Cloudflare R2 Setup\"\n",
    "  >\n",
    "</div>\n",
    "<br />\n",
    "<br />"
   ]
  },
  {
   "cell_type": "markdown",
   "metadata": {
    "application/vnd.databricks.v1+cell": {
     "cellMetadata": {},
     "inputWidgets": {},
     "nuid": "c113fd31-ea87-4fe6-94a7-3a2caf47af82",
     "showTitle": false,
     "tableResultSettingsMap": {},
     "title": ""
    }
   },
   "source": [
    "## Setup\n",
    "\n",
    "Run the common setup and demo configuration scripts."
   ]
  },
  {
   "cell_type": "code",
   "execution_count": 0,
   "metadata": {
    "application/vnd.databricks.v1+cell": {
     "cellMetadata": {
      "byteLimit": 2048000,
      "implicitDf": true,
      "rowLimit": 10000
     },
     "inputWidgets": {},
     "nuid": "69f14ceb-e454-496c-a9d2-571f209e95a6",
     "showTitle": false,
     "tableResultSettingsMap": {},
     "title": ""
    }
   },
   "outputs": [],
   "source": [
    "%run ./Includes/Demo-Setup-3.1"
   ]
  },
  {
   "cell_type": "markdown",
   "metadata": {
    "application/vnd.databricks.v1+cell": {
     "cellMetadata": {},
     "inputWidgets": {},
     "nuid": "4ed6dc5f-3bee-4427-b18c-4cf78f91b8e4",
     "showTitle": false,
     "tableResultSettingsMap": {},
     "title": ""
    }
   },
   "source": [
    "## Step 1: Create Storage Credential for Cloudflare R2\n",
    "\n",
    "A storage credential in Databricks provides the authentication mechanism to access external cloud storage. For Cloudflare R2, we'll create a credential using the R2 API tokens (Access Key ID and Secret Access Key).\n",
    "\n",
    "### Creating the Credential in the Databricks UI\n",
    "\n",
    "1. Navigate to **Catalog** in the left sidebar, then select **External Data** → **Credentials**\n",
    "\n",
    "<div style=\"text-align: center; line-height: 0; padding-top: 9px;\">\n",
    "  <img\n",
    "    src=\"https://github.com/stackql/databricks-data-sharing-and-collaboration/blob/main/images/create-cloudflare-r2-storage-cred-1.png?raw=true\"\n",
    "    alt=\"Navigate to Credentials\"\n",
    "  >\n",
    "</div>\n",
    "\n",
    "2. Click the **Create credential** button in the top right corner\n",
    "\n",
    "<div style=\"text-align: center; line-height: 0; padding-top: 9px;\">\n",
    "  <img\n",
    "    src=\"https://github.com/stackql/databricks-data-sharing-and-collaboration/blob/main/images/create-cloudflare-r2-storage-cred-2.png?raw=true\"\n",
    "    alt=\"Navigate to Credentials\"\n",
    "  >\n",
    "</div>\n",
    "\n",
    "3. In the **Create a new credential** dialog, configure the following:\n",
    "   - **Storage Credential**: Select this radio button (not Service Credential)\n",
    "   - **Credential Type**: Select **Cloudflare API Token** from the dropdown\n",
    "   - **Credential name**: Enter `r2_credential` (or your preferred name)\n",
    "   - **Account ID**: Enter your Cloudflare Account ID (from R2 dashboard)\n",
    "   - **Access key ID**: Enter your R2 Access Key ID\n",
    "   - **Secret access key**: Enter your R2 Secret Access Key\n",
    "   - **Comment**: Enter a description like \"Cloudflare R2 credentials for replicated data\"\n",
    "\n",
    "<div style=\"text-align: center; line-height: 0; padding-top: 9px;\">\n",
    "  <img\n",
    "    src=\"https://github.com/stackql/databricks-data-sharing-and-collaboration/blob/main/images/create-cloudflare-r2-storage-cred-3.png?raw=true\"\n",
    "    alt=\"Navigate to Credentials\"\n",
    "  >\n",
    "</div>\n",
    "<br/>\n",
    "<br/>\n",
    "<div style=\"text-align: center; line-height: 0; padding-top: 9px;\">\n",
    "  <img\n",
    "    src=\"https://github.com/stackql/databricks-data-sharing-and-collaboration/blob/main/images/create-cloudflare-r2-storage-cred-4.png?raw=true\"\n",
    "    alt=\"Navigate to Credentials\"\n",
    "  >\n",
    "</div>\n",
    "\n",
    "4. Click **Create** to save the credential\n",
    "\n",
    "5. Once created, you'll see your credential in the list with its configuration details. The credential is now ready to use for accessing your R2 bucket.\n",
    "\n",
    "<div style=\"text-align: center; line-height: 0; padding-top: 9px;\">\n",
    "  <img\n",
    "    src=\"https://github.com/stackql/databricks-data-sharing-and-collaboration/blob/main/images/create-cloudflare-r2-storage-cred-5.png?raw=true\"\n",
    "    alt=\"Navigate to Credentials\"\n",
    "  >\n",
    "</div>"
   ]
  },
  {
   "cell_type": "markdown",
   "metadata": {
    "application/vnd.databricks.v1+cell": {
     "cellMetadata": {},
     "inputWidgets": {},
     "nuid": "4da60a78-74fd-4b83-b65b-f2b52136b10b",
     "showTitle": false,
     "tableResultSettingsMap": {},
     "title": ""
    }
   },
   "source": [
    "### Verify the Credential\n",
    "\n",
    "You can verify your storage credential was created successfully by running the following SQL command:"
   ]
  },
  {
   "cell_type": "code",
   "execution_count": 0,
   "metadata": {
    "application/vnd.databricks.v1+cell": {
     "cellMetadata": {
      "byteLimit": 2048000,
      "rowLimit": 10000
     },
     "inputWidgets": {},
     "nuid": "e9651ecf-b7a1-463d-b15a-81c7e6bba862",
     "showTitle": false,
     "tableResultSettingsMap": {},
     "title": ""
    }
   },
   "outputs": [],
   "source": [
    "-- show available storage credenials\n",
    "SHOW STORAGE CREDENTIALS;"
   ]
  },
  {
   "cell_type": "code",
   "execution_count": 0,
   "metadata": {
    "application/vnd.databricks.v1+cell": {
     "cellMetadata": {
      "byteLimit": 2048000,
      "rowLimit": 10000
     },
     "inputWidgets": {},
     "nuid": "883fe658-cfdc-4b28-882d-fa5cae9601e0",
     "showTitle": false,
     "tableResultSettingsMap": {},
     "title": ""
    }
   },
   "outputs": [],
   "source": [
    "-- see details of a storage credential\n",
    "DESCRIBE STORAGE CREDENTIAL r2_credential;"
   ]
  },
  {
   "cell_type": "markdown",
   "metadata": {
    "application/vnd.databricks.v1+cell": {
     "cellMetadata": {},
     "inputWidgets": {},
     "nuid": "fec64850-c081-4431-90e9-30b5640f931c",
     "showTitle": false,
     "tableResultSettingsMap": {},
     "title": ""
    }
   },
   "source": [
    "## Step 2: Create External Location for R2 Bucket\n",
    "\n",
    "Create an external location pointing to your Cloudflare R2 bucket.  The URL is in the form of:  \n",
    "\n",
    "`r2://{r2_bucket_name}@{cloudflare_account_id}.r2.cloudflarestorage.com`"
   ]
  },
  {
   "cell_type": "code",
   "execution_count": 0,
   "metadata": {
    "application/vnd.databricks.v1+cell": {
     "cellMetadata": {
      "byteLimit": 2048000,
      "rowLimit": 10000
     },
     "inputWidgets": {},
     "nuid": "46ddb516-088c-4ad6-a3a9-ade7692968e5",
     "showTitle": false,
     "tableResultSettingsMap": {},
     "title": ""
    }
   },
   "outputs": [],
   "source": [
    "-- create an external location for your cloudflare r2 bucket\n",
    "CREATE EXTERNAL LOCATION r2_location\n",
    "URL 'r2://databricks-demo@4132d7d5587ee99b9d482ecfc2c1853c.r2.cloudflarestorage.com'\n",
    "WITH (\n",
    "  STORAGE CREDENTIAL r2_credential\n",
    "  )\n",
    "COMMENT 'Cloudflare R2 bucket for cross-cloud data replication'"
   ]
  },
  {
   "cell_type": "markdown",
   "metadata": {
    "application/vnd.databricks.v1+cell": {
     "cellMetadata": {},
     "inputWidgets": {},
     "nuid": "c39cc976-7633-4608-a5cb-7d0861c6aa33",
     "showTitle": false,
     "tableResultSettingsMap": {},
     "title": ""
    }
   },
   "source": [
    "## Step 3: Create Source Managed Table\n",
    "\n",
    "Create a managed table to serve as our data source."
   ]
  },
  {
   "cell_type": "code",
   "execution_count": 0,
   "metadata": {
    "application/vnd.databricks.v1+cell": {
     "cellMetadata": {
      "byteLimit": 2048000,
      "rowLimit": 10000
     },
     "inputWidgets": {},
     "nuid": "54623d76-4a09-4dfd-906a-cce6b3868085",
     "showTitle": false,
     "tableResultSettingsMap": {},
     "title": ""
    }
   },
   "outputs": [],
   "source": [
    "DROP TABLE IF EXISTS global_analytics.transactions.transactions;\n",
    "\n",
    "CREATE OR REPLACE TABLE global_analytics.transactions.transactions (\n",
    "  transaction_id STRING,\n",
    "  customer_id STRING,\n",
    "  product_category STRING,\n",
    "  amount DECIMAL(10,2),\n",
    "  transaction_date DATE,\n",
    "  region STRING,\n",
    "  created_at TIMESTAMP\n",
    ")\n",
    "PARTITIONED BY (transaction_date)\n",
    "TBLPROPERTIES (\n",
    "  'delta.autoOptimize.optimizeWrite' = 'true'\n",
    ");"
   ]
  },
  {
   "cell_type": "markdown",
   "metadata": {
    "application/vnd.databricks.v1+cell": {
     "cellMetadata": {},
     "inputWidgets": {},
     "nuid": "f09c87c2-ccf0-42e8-93b5-b88cae079db6",
     "showTitle": false,
     "tableResultSettingsMap": {},
     "title": ""
    }
   },
   "source": [
    "## Step 4: Insert Sample Data\n",
    "\n",
    "Insert some sample transaction data into our source table."
   ]
  },
  {
   "cell_type": "code",
   "execution_count": 0,
   "metadata": {
    "application/vnd.databricks.v1+cell": {
     "cellMetadata": {
      "byteLimit": 2048000,
      "rowLimit": 10000
     },
     "inputWidgets": {},
     "nuid": "01586552-42ab-464f-8e13-b21758c0802e",
     "showTitle": false,
     "tableResultSettingsMap": {},
     "title": ""
    }
   },
   "outputs": [],
   "source": [
    "INSERT INTO global_analytics.transactions.transactions\n",
    "VALUES \n",
    "  ('txn_001', 'cust_001', 'Electronics', 299.99, '2024-10-26', 'North America', current_timestamp()),\n",
    "  ('txn_002', 'cust_002', 'Clothing', 79.50, '2024-10-26', 'Europe', current_timestamp()),\n",
    "  ('txn_003', 'cust_003', 'Books', 24.99, '2024-10-26', 'Asia Pacific', current_timestamp()),\n",
    "  ('txn_004', 'cust_004', 'Home & Garden', 149.00, '2024-10-26', 'Latin America', current_timestamp()),\n",
    "  ('txn_005', 'cust_005', 'Sports', 89.99, '2024-10-26', 'North America', current_timestamp());"
   ]
  },
  {
   "cell_type": "markdown",
   "metadata": {
    "application/vnd.databricks.v1+cell": {
     "cellMetadata": {},
     "inputWidgets": {},
     "nuid": "61220d6a-2ec7-4a5e-bc0a-0b62c894dd72",
     "showTitle": false,
     "tableResultSettingsMap": {},
     "title": ""
    }
   },
   "source": [
    "## Step 5: Verify Source Table\n",
    "\n",
    "Verify the source table was created successfully and contains data."
   ]
  },
  {
   "cell_type": "code",
   "execution_count": 0,
   "metadata": {
    "application/vnd.databricks.v1+cell": {
     "cellMetadata": {
      "byteLimit": 2048000,
      "rowLimit": 10000
     },
     "inputWidgets": {},
     "nuid": "aff09d9a-6062-4447-a2dd-271280edd16e",
     "showTitle": false,
     "tableResultSettingsMap": {},
     "title": ""
    }
   },
   "outputs": [],
   "source": [
    "-- Check table properties\n",
    "DESCRIBE DETAIL global_analytics.transactions.transactions;"
   ]
  },
  {
   "cell_type": "code",
   "execution_count": 0,
   "metadata": {
    "application/vnd.databricks.v1+cell": {
     "cellMetadata": {
      "byteLimit": 2048000,
      "rowLimit": 10000
     },
     "inputWidgets": {},
     "nuid": "412d8a31-d0ba-4416-82f2-fb409f4cecd9",
     "showTitle": false,
     "tableResultSettingsMap": {},
     "title": ""
    }
   },
   "outputs": [],
   "source": [
    "-- View current data\n",
    "SELECT * FROM global_analytics.transactions.transactions\n",
    "ORDER BY transaction_date, transaction_id;"
   ]
  },
  {
   "cell_type": "markdown",
   "metadata": {
    "application/vnd.databricks.v1+cell": {
     "cellMetadata": {},
     "inputWidgets": {},
     "nuid": "c3ca353a-5db9-4baa-a7e7-36a182729623",
     "showTitle": false,
     "tableResultSettingsMap": {},
     "title": ""
    }
   },
   "source": [
    "## Step 6: Create External Table on Cloudflare R2\n",
    "\n",
    "Create an external table that uses Cloudflare R2 storage for replication."
   ]
  },
  {
   "cell_type": "code",
   "execution_count": 0,
   "metadata": {
    "application/vnd.databricks.v1+cell": {
     "cellMetadata": {
      "byteLimit": 2048000,
      "rowLimit": 10000
     },
     "inputWidgets": {},
     "nuid": "bb7a13bc-d1d0-4cda-9dda-e6596bd3c2ca",
     "showTitle": false,
     "tableResultSettingsMap": {},
     "title": ""
    }
   },
   "outputs": [],
   "source": [
    "DROP TABLE IF EXISTS global_analytics.transactions.transactions_r2_replica;\n",
    "\n",
    "CREATE TABLE global_analytics.transactions.transactions_r2_replica (\n",
    "  transaction_id STRING,\n",
    "  customer_id STRING,\n",
    "  product_category STRING,\n",
    "  amount DECIMAL(10,2),\n",
    "  transaction_date DATE,\n",
    "  region STRING,\n",
    "  created_at TIMESTAMP\n",
    ")\n",
    "LOCATION 'r2://databricks-demo@4132d7d5587ee99b9d482ecfc2c1853c.r2.cloudflarestorage.com/transactions_r2_replica'\n",
    "PARTITIONED BY (transaction_date)\n",
    "TBLPROPERTIES (\n",
    "  'delta.autoOptimize.optimizeWrite' = 'true'\n",
    ")"
   ]
  },
  {
   "cell_type": "markdown",
   "metadata": {
    "application/vnd.databricks.v1+cell": {
     "cellMetadata": {},
     "inputWidgets": {},
     "nuid": "97d630ca-c626-4c75-ac30-ea9f0f84ff79",
     "showTitle": false,
     "tableResultSettingsMap": {},
     "title": ""
    }
   },
   "source": [
    "## Step 7: Initial Data Replication\n",
    "\n",
    "Perform initial full copy of data to the R2 external table."
   ]
  },
  {
   "cell_type": "code",
   "execution_count": 0,
   "metadata": {
    "application/vnd.databricks.v1+cell": {
     "cellMetadata": {
      "byteLimit": 2048000,
      "rowLimit": 10000
     },
     "inputWidgets": {},
     "nuid": "bdd10ce8-40d1-44cf-967e-22fbd578cbff",
     "showTitle": false,
     "tableResultSettingsMap": {},
     "title": ""
    }
   },
   "outputs": [],
   "source": [
    "INSERT OVERWRITE global_analytics.transactions.transactions_r2_replica\n",
    "SELECT * FROM global_analytics.transactions.transactions;"
   ]
  },
  {
   "cell_type": "code",
   "execution_count": 0,
   "metadata": {
    "application/vnd.databricks.v1+cell": {
     "cellMetadata": {
      "byteLimit": 2048000,
      "rowLimit": 10000
     },
     "inputWidgets": {},
     "nuid": "6bcbeda9-a956-4d16-9d7b-b6e2031df54f",
     "showTitle": false,
     "tableResultSettingsMap": {},
     "title": ""
    }
   },
   "outputs": [],
   "source": [
    "-- Verify replication\n",
    "SELECT 'Source' as table_type, COUNT(*) as record_count FROM global_analytics.transactions.transactions\n",
    "UNION ALL\n",
    "SELECT 'R2 Replica' as table_type, COUNT(*) as record_count FROM global_analytics.transactions.transactions_r2_replica;"
   ]
  },
  {
   "cell_type": "markdown",
   "metadata": {
    "application/vnd.databricks.v1+cell": {
     "cellMetadata": {},
     "inputWidgets": {},
     "nuid": "8add4d86-0878-4ee5-9544-2b30a637af9e",
     "showTitle": false,
     "tableResultSettingsMap": {},
     "title": ""
    }
   },
   "source": [
    "## Step 8: Add More Data to Test CDF\n",
    "\n",
    "Add more data to the source table to generate changes."
   ]
  },
  {
   "cell_type": "code",
   "execution_count": 0,
   "metadata": {
    "application/vnd.databricks.v1+cell": {
     "cellMetadata": {
      "byteLimit": 2048000,
      "rowLimit": 10000
     },
     "inputWidgets": {},
     "nuid": "2c56c7d8-8bbd-40ce-90f7-41ec4421a6b4",
     "showTitle": false,
     "tableResultSettingsMap": {},
     "title": ""
    }
   },
   "outputs": [],
   "source": [
    "INSERT INTO global_analytics.transactions.transactions\n",
    "VALUES \n",
    "  ('txn_006', 'cust_006', 'Electronics', 499.99, '2024-10-27', 'Europe', current_timestamp()),\n",
    "  ('txn_007', 'cust_007', 'Clothing', 129.50, '2024-10-27', 'Asia Pacific', current_timestamp()),\n",
    "  ('txn_008', 'cust_008', 'Books', 34.99, '2024-10-27', 'North America', current_timestamp());"
   ]
  },
  {
   "cell_type": "markdown",
   "metadata": {
    "application/vnd.databricks.v1+cell": {
     "cellMetadata": {},
     "inputWidgets": {},
     "nuid": "9d5c532d-3815-4a15-944d-5b9026544172",
     "showTitle": false,
     "tableResultSettingsMap": {},
     "title": ""
    }
   },
   "source": [
    "## Step 9: Replicate Changes to R2 Using MERGE\n",
    "\n",
    "Apply changes to the R2 external table using an insert-only MERGE operation. This approach handles new records efficiently by only inserting rows that don't already exist in the replica table.\n",
    "\n",
    "> **Note:** For more advanced scenarios with updates and deletes, consider using Change Data Feed (CDF) to track all types of changes."
   ]
  },
  {
   "cell_type": "code",
   "execution_count": 0,
   "metadata": {
    "application/vnd.databricks.v1+cell": {
     "cellMetadata": {
      "byteLimit": 2048000,
      "rowLimit": 10000
     },
     "inputWidgets": {},
     "nuid": "eea1bda6-8408-4f4d-9d3d-3fdcc8c373b6",
     "showTitle": false,
     "tableResultSettingsMap": {},
     "title": ""
    }
   },
   "outputs": [],
   "source": [
    "-- Use MERGE to insert only new records\n",
    "MERGE INTO global_analytics.transactions.transactions_r2_replica AS target\n",
    "USING global_analytics.transactions.transactions AS source\n",
    "ON target.transaction_id = source.transaction_id\n",
    "WHEN NOT MATCHED THEN\n",
    "  INSERT (\n",
    "    transaction_id,\n",
    "    customer_id,\n",
    "    product_category,\n",
    "    amount,\n",
    "    transaction_date,\n",
    "    region,\n",
    "    created_at\n",
    "  )\n",
    "  VALUES (\n",
    "    source.transaction_id,\n",
    "    source.customer_id,\n",
    "    source.product_category,\n",
    "    source.amount,\n",
    "    source.transaction_date,\n",
    "    source.region,\n",
    "    source.created_at\n",
    "  );"
   ]
  },
  {
   "cell_type": "markdown",
   "metadata": {
    "application/vnd.databricks.v1+cell": {
     "cellMetadata": {},
     "inputWidgets": {},
     "nuid": "89b7f991-4cf8-4e59-b0dc-9a49c5de8cff",
     "showTitle": false,
     "tableResultSettingsMap": {},
     "title": ""
    }
   },
   "source": [
    "## Step 10: Verify Final Replication Status\n",
    "\n",
    "Confirm that both tables are now in sync."
   ]
  },
  {
   "cell_type": "code",
   "execution_count": 0,
   "metadata": {
    "application/vnd.databricks.v1+cell": {
     "cellMetadata": {
      "byteLimit": 2048000,
      "rowLimit": 10000
     },
     "inputWidgets": {},
     "nuid": "d8fbbe2b-c453-4141-8046-ff0dfc5c431f",
     "showTitle": false,
     "tableResultSettingsMap": {},
     "title": ""
    }
   },
   "outputs": [],
   "source": [
    "-- Final verification\n",
    "SELECT \n",
    "  'Source Table' as table_name,\n",
    "  COUNT(*) as total_records,\n",
    "  SUM(amount) as total_amount,\n",
    "  MAX(transaction_date) as latest_date\n",
    "FROM global_analytics.transactions.transactions\n",
    "\n",
    "UNION ALL\n",
    "\n",
    "SELECT \n",
    "  'R2 Replica' as table_name,\n",
    "  COUNT(*) as total_records,\n",
    "  SUM(amount) as total_amount,\n",
    "  MAX(transaction_date) as latest_date\n",
    "FROM global_analytics.transactions.transactions_r2_replica;"
   ]
  },
  {
   "cell_type": "code",
   "execution_count": 0,
   "metadata": {
    "application/vnd.databricks.v1+cell": {
     "cellMetadata": {
      "byteLimit": 2048000,
      "rowLimit": 10000
     },
     "inputWidgets": {},
     "nuid": "da21e3ca-b3c9-442d-b3b2-901c34e3917a",
     "showTitle": false,
     "tableResultSettingsMap": {},
     "title": ""
    }
   },
   "outputs": [],
   "source": [
    "-- Show sample data from R2 replica\n",
    "SELECT * FROM global_analytics.transactions.transactions_r2_replica\n",
    "ORDER BY created_at DESC;"
   ]
  },
  {
   "cell_type": "markdown",
   "metadata": {
    "application/vnd.databricks.v1+cell": {
     "cellMetadata": {},
     "inputWidgets": {},
     "nuid": "c071f1e9-334b-4cf4-be2d-57e6899e3f41",
     "showTitle": false,
     "tableResultSettingsMap": {},
     "title": ""
    }
   },
   "source": [
    "## Summary\n",
    "\n",
    "### What We Accomplished:\n",
    "\n",
    "✅ **Storage Setup**: Created storage credential and external location for Cloudflare R2  \n",
    "✅ **Source Table**: Created managed table with sample transaction data  \n",
    "✅ **External Table**: Created Delta table on R2 for cross-cloud sharing  \n",
    "✅ **Initial Load**: Performed full data replication to R2  \n",
    "✅ **Incremental Sync**: Used insert-only MERGE to replicate new data to R2  \n",
    "\n",
    "### Key Benefits:\n",
    "\n",
    "**Global Distribution**: Data available worldwide via Cloudflare's network  \n",
    "**Zero Egress Costs**: Eliminate expensive data transfer fees  \n",
    "**High Performance**: Fast access through global CDN  \n",
    "**Simple Replication**: Straightforward MERGE-based approach for insert-only scenarios  \n",
    "\n",
    "### Replication Strategy:\n",
    "\n",
    "This demo uses an **insert-only MERGE** approach where:\n",
    "- New records from the source table are identified by `transaction_id`\n",
    "- Only non-existent records are inserted into the replica table\n",
    "- Updates and deletes are not tracked in this simplified approach\n",
    "\n",
    "**For more sophisticated scenarios**, consider enabling **Change Data Feed (CDF)** to capture inserts, updates, and deletes, enabling full bi-directional synchronization and point-in-time recovery.\n",
    "\n",
    "### Next Steps:\n",
    "\n",
    "1. **Production Setup**: Use Databricks Secrets for R2 credentials\n",
    "2. **Automation**: Schedule this as a Databricks Job for continuous replication\n",
    "3. **Enhanced Change Tracking**: Consider implementing CDF for comprehensive change management\n",
    "4. **Monitoring**: Add alerts and monitoring for replication health\n",
    "\n",
    "The data is now available on R2 for recipients to access with zero egress costs!"
   ]
  },
  {
   "cell_type": "markdown",
   "metadata": {
    "application/vnd.databricks.v1+cell": {
     "cellMetadata": {},
     "inputWidgets": {},
     "nuid": "67fdcff0-8b01-4a83-a272-57da3a88dfa2",
     "showTitle": false,
     "tableResultSettingsMap": {},
     "title": ""
    }
   },
   "source": [
    "---\n",
    "&copy; 2025 Databricks, Inc. All rights reserved. Apache, Apache Spark, Spark, the Spark Logo, Apache Iceberg, Iceberg, and the Apache Iceberg logo are trademarks of the <a href=\"https://www.apache.org/\" target=\"_blank\">Apache Software Foundation</a>.<br/><br/><a href=\"https://databricks.com/privacy-policy\" target=\"_blank\">Privacy Policy</a> | <a href=\"https://databricks.com/terms-of-use\" target=\"_blank\">Terms of Use</a> | <a href=\"https://help.databricks.com/\" target=\"_blank\">Support</a>"
   ]
  }
 ],
 "metadata": {
  "application/vnd.databricks.v1+notebook": {
   "computePreferences": {
    "hardware": {
     "accelerator": null,
     "gpuPoolId": null,
     "memory": null
    }
   },
   "dashboards": [],
   "environmentMetadata": null,
   "inputWidgetPreferences": null,
   "language": "sql",
   "notebookMetadata": {
    "mostRecentlyExecutedCommandWithImplicitDF": {
     "commandId": 6738625790944086,
     "dataframes": [
      "_sqldf"
     ]
    },
    "pythonIndentUnit": 4
   },
   "notebookName": "3.1 DEMO Cross Cloud Replication with Cloudflare R2",
   "widgets": {}
  },
  "language_info": {
   "name": "sql"
  }
 },
 "nbformat": 4,
 "nbformat_minor": 0
}
