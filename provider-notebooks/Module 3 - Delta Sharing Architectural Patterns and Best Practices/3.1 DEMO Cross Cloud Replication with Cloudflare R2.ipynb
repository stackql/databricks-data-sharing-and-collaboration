{
 "cells": [
  {
   "cell_type": "markdown",
   "metadata": {
    "application/vnd.databricks.v1+cell": {
     "cellMetadata": {},
     "inputWidgets": {},
     "nuid": "f335d6a9-208c-4e4b-84eb-f08ec8d9e6cf",
     "showTitle": false,
     "tableResultSettingsMap": {},
     "title": ""
    }
   },
   "source": [
    "\n",
    "<div style=\"text-align: center; line-height: 0; padding-top: 9px;\">\n",
    "  <img\n",
    "    src=\"https://databricks.com/wp-content/uploads/2018/03/db-academy-rgb-1200px.png\"\n",
    "    alt=\"Databricks Learning\"\n",
    "  >\n",
    "</div>"
   ]
  },
  {
   "cell_type": "markdown",
   "metadata": {
    "application/vnd.databricks.v1+cell": {
     "cellMetadata": {},
     "inputWidgets": {},
     "nuid": "374b6c68-8db4-4d5d-8f5c-58aa76bcb70c",
     "showTitle": false,
     "tableResultSettingsMap": {},
     "title": ""
    }
   },
   "source": [
    "# 3.1 DEMO: Cross Cloud Replication with Cloudflare R2 [Provider]\n",
    "\n",
    "## Overview\n",
    "This demo showcases how to set up cross-cloud replication using Cloudflare R2 as an intermediary storage layer. The provider creates a managed table with Change Data Feed (CDF) enabled, then replicates changes to an external table on R2 for global, cost-effective data sharing.\n",
    "\n",
    "## Learning Objectives\n",
    "By the end of this demo, you will understand:\n",
    "1. How to enable Change Data Feed on managed tables\n",
    "2. How to configure Cloudflare R2 external storage\n",
    "3. How to replicate table changes to R2 using CDF\n",
    "4. How to automate replication using Databricks Jobs\n",
    "\n",
    "## Architecture\n",
    "We will use a Cloudflare R2 bucket as the storage location for an External Table which is used between the provider and recipients to store changes from a Managed source table, the changes are then replication asynchronously to another Managed table in the recipients region/provider.\n",
    "<br />\n",
    "<br />\n",
    "<div style=\"text-align: center; line-height: 0; padding-top: 9px;\">\n",
    "  <img\n",
    "    src=\"https://github.com/stackql/databricks-data-sharing-and-collaboration/blob/main/images/cloudflare-r2-replication.png?raw=true\"\n",
    "    alt=\"Cloudflare R2 Replication\"\n",
    "  >\n",
    "</div>\n",
    "<br />\n",
    "<br />\n",
    "\n",
    "**Benefits:**\n",
    "- Zero egress costs with Cloudflare R2\n",
    "- Global data distribution without provider dependencies\n",
    "- Automated change propagation using CDF\n",
    "- Cost-effective sharing with unlimited recipients"
   ]
  },
  {
   "cell_type": "markdown",
   "metadata": {
    "application/vnd.databricks.v1+cell": {
     "cellMetadata": {},
     "inputWidgets": {},
     "nuid": "c113fd31-ea87-4fe6-94a7-3a2caf47af82",
     "showTitle": false,
     "tableResultSettingsMap": {},
     "title": ""
    }
   },
   "source": [
    "## Setup\n",
    "\n",
    "Run the common setup and demo configuration scripts."
   ]
  },
  {
   "cell_type": "code",
   "execution_count": 0,
   "metadata": {
    "application/vnd.databricks.v1+cell": {
     "cellMetadata": {
      "byteLimit": 2048000,
      "rowLimit": 10000
     },
     "inputWidgets": {},
     "nuid": "b0098ffa-9a45-410f-b548-3ca903247e31",
     "showTitle": false,
     "tableResultSettingsMap": {},
     "title": ""
    }
   },
   "outputs": [],
   "source": [
    "%run ./Includes/_common"
   ]
  },
  {
   "cell_type": "code",
   "execution_count": 0,
   "metadata": {
    "application/vnd.databricks.v1+cell": {
     "cellMetadata": {
      "byteLimit": 2048000,
      "implicitDf": true,
      "rowLimit": 10000
     },
     "inputWidgets": {},
     "nuid": "69f14ceb-e454-496c-a9d2-571f209e95a6",
     "showTitle": false,
     "tableResultSettingsMap": {},
     "title": ""
    }
   },
   "outputs": [],
   "source": [
    "%run ./Includes/Demo-Setup-3.1"
   ]
  },
  {
   "cell_type": "markdown",
   "metadata": {
    "application/vnd.databricks.v1+cell": {
     "cellMetadata": {},
     "inputWidgets": {},
     "nuid": "4ed6dc5f-3bee-4427-b18c-4cf78f91b8e4",
     "showTitle": false,
     "tableResultSettingsMap": {},
     "title": ""
    }
   },
   "source": [
    "## Step 1: Create Storage Credential for Cloudflare R2\n",
    "\n",
    "Create a storage credential to access Cloudflare R2. Replace the access key and secret key with your actual R2 credentials."
   ]
  },
  {
   "cell_type": "code",
   "execution_count": 0,
   "metadata": {
    "application/vnd.databricks.v1+cell": {
     "cellMetadata": {},
     "inputWidgets": {},
     "nuid": "6242dd04-7915-4374-9ed8-6fd6eb669fa8",
     "showTitle": false,
     "tableResultSettingsMap": {},
     "title": ""
    }
   },
   "outputs": [],
   "source": [
    "CREATE STORAGE CREDENTIAL r2_credential\n",
    "WITH (\n",
    "  AWS_ACCESS_KEY_ID 'your-r2-access-key',\n",
    "  AWS_SECRET_ACCESS_KEY 'your-r2-secret-key'\n",
    ")\n",
    "COMMENT 'Cloudflare R2 credentials for cross-cloud replication'"
   ]
  },
  {
   "cell_type": "markdown",
   "metadata": {
    "application/vnd.databricks.v1+cell": {
     "cellMetadata": {},
     "inputWidgets": {},
     "nuid": "fec64850-c081-4431-90e9-30b5640f931c",
     "showTitle": false,
     "tableResultSettingsMap": {},
     "title": ""
    }
   },
   "source": [
    "## Step 2: Create External Location for R2 Bucket\n",
    "\n",
    "Create an external location pointing to your Cloudflare R2 bucket."
   ]
  },
  {
   "cell_type": "code",
   "execution_count": 0,
   "metadata": {
    "application/vnd.databricks.v1+cell": {
     "cellMetadata": {},
     "inputWidgets": {},
     "nuid": "46ddb516-088c-4ad6-a3a9-ade7692968e5",
     "showTitle": false,
     "tableResultSettingsMap": {},
     "title": ""
    }
   },
   "outputs": [],
   "source": [
    "CREATE EXTERNAL LOCATION r2_location\n",
    "URL 's3://databricks-demo/'\n",
    "WITH (\n",
    "  STORAGE_CREDENTIAL r2_credential\n",
    ")\n",
    "COMMENT 'Cloudflare R2 bucket for cross-cloud data replication'"
   ]
  },
  {
   "cell_type": "markdown",
   "metadata": {
    "application/vnd.databricks.v1+cell": {
     "cellMetadata": {},
     "inputWidgets": {},
     "nuid": "c39cc976-7633-4608-a5cb-7d0861c6aa33",
     "showTitle": false,
     "tableResultSettingsMap": {},
     "title": ""
    }
   },
   "source": [
    "## Step 3: Create Source Managed Table with CDF Enabled\n",
    "\n",
    "Create a managed table with Change Data Feed enabled to serve as our data source."
   ]
  },
  {
   "cell_type": "code",
   "execution_count": 0,
   "metadata": {
    "application/vnd.databricks.v1+cell": {
     "cellMetadata": {},
     "inputWidgets": {},
     "nuid": "54623d76-4a09-4dfd-906a-cce6b3868085",
     "showTitle": false,
     "tableResultSettingsMap": {},
     "title": ""
    }
   },
   "outputs": [],
   "source": [
    "CREATE OR REPLACE TABLE IDENTIFIER(CONCAT(DA.catalog, '.', DA.schema, '.', DA.source_table)) (\n",
    "  transaction_id STRING,\n",
    "  customer_id STRING,\n",
    "  product_category STRING,\n",
    "  amount DECIMAL(10,2),\n",
    "  transaction_date DATE,\n",
    "  region STRING,\n",
    "  created_at TIMESTAMP\n",
    ")\n",
    "PARTITIONED BY (transaction_date)\n",
    "TBLPROPERTIES (\n",
    "  'delta.enableChangeDataFeed' = 'true',\n",
    "  'delta.autoOptimize.optimizeWrite' = 'true'\n",
    ")"
   ]
  },
  {
   "cell_type": "markdown",
   "metadata": {
    "application/vnd.databricks.v1+cell": {
     "cellMetadata": {},
     "inputWidgets": {},
     "nuid": "f09c87c2-ccf0-42e8-93b5-b88cae079db6",
     "showTitle": false,
     "tableResultSettingsMap": {},
     "title": ""
    }
   },
   "source": [
    "## Step 4: Insert Sample Data\n",
    "\n",
    "Insert some sample transaction data into our source table."
   ]
  },
  {
   "cell_type": "code",
   "execution_count": 0,
   "metadata": {
    "application/vnd.databricks.v1+cell": {
     "cellMetadata": {},
     "inputWidgets": {},
     "nuid": "01586552-42ab-464f-8e13-b21758c0802e",
     "showTitle": false,
     "tableResultSettingsMap": {},
     "title": ""
    }
   },
   "outputs": [],
   "source": [
    "INSERT INTO IDENTIFIER(CONCAT(DA.catalog, '.', DA.schema, '.', DA.source_table))\n",
    "VALUES \n",
    "  ('txn_001', 'cust_001', 'Electronics', 299.99, '2024-10-26', 'North America', current_timestamp()),\n",
    "  ('txn_002', 'cust_002', 'Clothing', 79.50, '2024-10-26', 'Europe', current_timestamp()),\n",
    "  ('txn_003', 'cust_003', 'Books', 24.99, '2024-10-26', 'Asia Pacific', current_timestamp()),\n",
    "  ('txn_004', 'cust_004', 'Home & Garden', 149.00, '2024-10-26', 'Latin America', current_timestamp()),\n",
    "  ('txn_005', 'cust_005', 'Sports', 89.99, '2024-10-26', 'North America', current_timestamp())"
   ]
  },
  {
   "cell_type": "markdown",
   "metadata": {
    "application/vnd.databricks.v1+cell": {
     "cellMetadata": {},
     "inputWidgets": {},
     "nuid": "61220d6a-2ec7-4a5e-bc0a-0b62c894dd72",
     "showTitle": false,
     "tableResultSettingsMap": {},
     "title": ""
    }
   },
   "source": [
    "## Step 5: Verify CDF is Working\n",
    "\n",
    "Check that Change Data Feed is properly enabled and working."
   ]
  },
  {
   "cell_type": "code",
   "execution_count": 0,
   "metadata": {
    "application/vnd.databricks.v1+cell": {
     "cellMetadata": {},
     "inputWidgets": {},
     "nuid": "aff09d9a-6062-4447-a2dd-271280edd16e",
     "showTitle": false,
     "tableResultSettingsMap": {},
     "title": ""
    }
   },
   "outputs": [],
   "source": [
    "-- Check table properties\n",
    "DESCRIBE DETAIL IDENTIFIER(CONCAT(DA.catalog, '.', DA.schema, '.', DA.source_table))"
   ]
  },
  {
   "cell_type": "code",
   "execution_count": 0,
   "metadata": {
    "application/vnd.databricks.v1+cell": {
     "cellMetadata": {},
     "inputWidgets": {},
     "nuid": "f2bb3d24-443c-4658-af6e-7d6203b946e6",
     "showTitle": false,
     "tableResultSettingsMap": {},
     "title": ""
    }
   },
   "outputs": [],
   "source": [
    "-- View table_changes\n",
    "SELECT * FROM table_changes(IDENTIFIER(CONCAT(DA.catalog, '.', DA.schema, '.', DA.source_table)), 0)"
   ]
  },
  {
   "cell_type": "code",
   "execution_count": 0,
   "metadata": {
    "application/vnd.databricks.v1+cell": {
     "cellMetadata": {},
     "inputWidgets": {},
     "nuid": "412d8a31-d0ba-4416-82f2-fb409f4cecd9",
     "showTitle": false,
     "tableResultSettingsMap": {},
     "title": ""
    }
   },
   "outputs": [],
   "source": [
    "-- View current data\n",
    "SELECT * FROM IDENTIFIER(CONCAT(DA.catalog, '.', DA.schema, '.', DA.source_table))"
   ]
  },
  {
   "cell_type": "markdown",
   "metadata": {
    "application/vnd.databricks.v1+cell": {
     "cellMetadata": {},
     "inputWidgets": {},
     "nuid": "c3ca353a-5db9-4baa-a7e7-36a182729623",
     "showTitle": false,
     "tableResultSettingsMap": {},
     "title": ""
    }
   },
   "source": [
    "## Step 6: Create External Table on Cloudflare R2\n",
    "\n",
    "Create an external table that uses Cloudflare R2 storage for replication."
   ]
  },
  {
   "cell_type": "code",
   "execution_count": 0,
   "metadata": {
    "application/vnd.databricks.v1+cell": {
     "cellMetadata": {},
     "inputWidgets": {},
     "nuid": "bb7a13bc-d1d0-4cda-9dda-e6596bd3c2ca",
     "showTitle": false,
     "tableResultSettingsMap": {},
     "title": ""
    }
   },
   "outputs": [],
   "source": [
    "CREATE OR REPLACE TABLE IDENTIFIER(CONCAT(DA.catalog, '.', DA.schema, '.', DA.replica_table)) (\n",
    "  transaction_id STRING,\n",
    "  customer_id STRING,\n",
    "  product_category STRING,\n",
    "  amount DECIMAL(10,2),\n",
    "  transaction_date DATE,\n",
    "  region STRING,\n",
    "  created_at TIMESTAMP\n",
    ")\n",
    "LOCATION CONCAT('s3://databricks-demo/', DA.r2_path)\n",
    "PARTITIONED BY (transaction_date)\n",
    "TBLPROPERTIES (\n",
    "  'delta.autoOptimize.optimizeWrite' = 'true'\n",
    ")"
   ]
  },
  {
   "cell_type": "markdown",
   "metadata": {
    "application/vnd.databricks.v1+cell": {
     "cellMetadata": {},
     "inputWidgets": {},
     "nuid": "97d630ca-c626-4c75-ac30-ea9f0f84ff79",
     "showTitle": false,
     "tableResultSettingsMap": {},
     "title": ""
    }
   },
   "source": [
    "## Step 7: Initial Data Replication\n",
    "\n",
    "Perform initial full copy of data to the R2 external table."
   ]
  },
  {
   "cell_type": "code",
   "execution_count": 0,
   "metadata": {
    "application/vnd.databricks.v1+cell": {
     "cellMetadata": {},
     "inputWidgets": {},
     "nuid": "bdd10ce8-40d1-44cf-967e-22fbd578cbff",
     "showTitle": false,
     "tableResultSettingsMap": {},
     "title": ""
    }
   },
   "outputs": [],
   "source": [
    "INSERT OVERWRITE IDENTIFIER(CONCAT(DA.catalog, '.', DA.schema, '.', DA.replica_table))\n",
    "SELECT * FROM IDENTIFIER(CONCAT(DA.catalog, '.', DA.schema, '.', DA.source_table))"
   ]
  },
  {
   "cell_type": "code",
   "execution_count": 0,
   "metadata": {
    "application/vnd.databricks.v1+cell": {
     "cellMetadata": {},
     "inputWidgets": {},
     "nuid": "6bcbeda9-a956-4d16-9d7b-b6e2031df54f",
     "showTitle": false,
     "tableResultSettingsMap": {},
     "title": ""
    }
   },
   "outputs": [],
   "source": [
    "-- Verify replication\n",
    "SELECT 'Source' as table_type, COUNT(*) as record_count FROM IDENTIFIER(CONCAT(DA.catalog, '.', DA.schema, '.', DA.source_table))\n",
    "UNION ALL\n",
    "SELECT 'R2 Replica' as table_type, COUNT(*) as record_count FROM IDENTIFIER(CONCAT(DA.catalog, '.', DA.schema, '.', DA.replica_table))"
   ]
  },
  {
   "cell_type": "markdown",
   "metadata": {
    "application/vnd.databricks.v1+cell": {
     "cellMetadata": {},
     "inputWidgets": {},
     "nuid": "8add4d86-0878-4ee5-9544-2b30a637af9e",
     "showTitle": false,
     "tableResultSettingsMap": {},
     "title": ""
    }
   },
   "source": [
    "## Step 8: Add More Data to Test CDF\n",
    "\n",
    "Add more data to the source table to generate changes."
   ]
  },
  {
   "cell_type": "code",
   "execution_count": 0,
   "metadata": {
    "application/vnd.databricks.v1+cell": {
     "cellMetadata": {},
     "inputWidgets": {},
     "nuid": "2c56c7d8-8bbd-40ce-90f7-41ec4421a6b4",
     "showTitle": false,
     "tableResultSettingsMap": {},
     "title": ""
    }
   },
   "outputs": [],
   "source": [
    "INSERT INTO IDENTIFIER(CONCAT(DA.catalog, '.', DA.schema, '.', DA.source_table))\n",
    "VALUES \n",
    "  ('txn_006', 'cust_006', 'Electronics', 499.99, '2024-10-27', 'Europe', current_timestamp()),\n",
    "  ('txn_007', 'cust_007', 'Clothing', 129.50, '2024-10-27', 'Asia Pacific', current_timestamp()),\n",
    "  ('txn_008', 'cust_008', 'Books', 34.99, '2024-10-27', 'North America', current_timestamp())"
   ]
  },
  {
   "cell_type": "markdown",
   "metadata": {
    "application/vnd.databricks.v1+cell": {
     "cellMetadata": {},
     "inputWidgets": {},
     "nuid": "6340716d-c9f4-462d-bcaf-97d505bcfc2f",
     "showTitle": false,
     "tableResultSettingsMap": {},
     "title": ""
    }
   },
   "source": [
    "## Step 9: Read Changes Using CDF\n",
    "\n",
    "Read the changes from the source table using Change Data Feed."
   ]
  },
  {
   "cell_type": "code",
   "execution_count": 0,
   "metadata": {
    "application/vnd.databricks.v1+cell": {
     "cellMetadata": {},
     "inputWidgets": {},
     "nuid": "cef7c9f4-c0db-4758-86b2-6a9a89520d7e",
     "showTitle": false,
     "tableResultSettingsMap": {},
     "title": ""
    }
   },
   "outputs": [],
   "source": [
    "-- Read changes from version 1 onwards (after initial load)\n",
    "SELECT \n",
    "  transaction_id,\n",
    "  customer_id,\n",
    "  product_category,\n",
    "  amount,\n",
    "  transaction_date,\n",
    "  region,\n",
    "  created_at,\n",
    "  _change_type,\n",
    "  _commit_version\n",
    "FROM table_changes(CONCAT(DA.catalog, '.', DA.schema, '.', DA.source_table), 1)\n",
    "WHERE _change_type = 'insert'\n",
    "ORDER BY _commit_version"
   ]
  },
  {
   "cell_type": "markdown",
   "metadata": {
    "application/vnd.databricks.v1+cell": {
     "cellMetadata": {},
     "inputWidgets": {},
     "nuid": "9d5c532d-3815-4a15-944d-5b9026544172",
     "showTitle": false,
     "tableResultSettingsMap": {},
     "title": ""
    }
   },
   "source": [
    "## Step 10: Replicate Changes to R2\n",
    "\n",
    "Apply the detected changes to our R2 external table.\n",
    "\n",
    "**Note**: In production, you would store the last processed version as state/checkpoint to avoid reprocessing changes."
   ]
  },
  {
   "cell_type": "code",
   "execution_count": 0,
   "metadata": {
    "application/vnd.databricks.v1+cell": {
     "cellMetadata": {},
     "inputWidgets": {},
     "nuid": "eea1bda6-8408-4f4d-9d3d-3fdcc8c373b6",
     "showTitle": false,
     "tableResultSettingsMap": {},
     "title": ""
    }
   },
   "outputs": [],
   "source": [
    "-- Insert only the new changes (excluding CDF metadata columns)\n",
    "INSERT INTO IDENTIFIER(CONCAT(DA.catalog, '.', DA.schema, '.', DA.replica_table))\n",
    "SELECT \n",
    "  transaction_id,\n",
    "  customer_id,\n",
    "  product_category,\n",
    "  amount,\n",
    "  transaction_date,\n",
    "  region,\n",
    "  created_at\n",
    "FROM table_changes(CONCAT(DA.catalog, '.', DA.schema, '.', DA.source_table), 1)\n",
    "WHERE _change_type = 'insert'"
   ]
  },
  {
   "cell_type": "markdown",
   "metadata": {
    "application/vnd.databricks.v1+cell": {
     "cellMetadata": {},
     "inputWidgets": {},
     "nuid": "89b7f991-4cf8-4e59-b0dc-9a49c5de8cff",
     "showTitle": false,
     "tableResultSettingsMap": {},
     "title": ""
    }
   },
   "source": [
    "## Step 11: Verify Final Replication Status\n",
    "\n",
    "Confirm that both tables are now in sync."
   ]
  },
  {
   "cell_type": "code",
   "execution_count": 0,
   "metadata": {
    "application/vnd.databricks.v1+cell": {
     "cellMetadata": {},
     "inputWidgets": {},
     "nuid": "d8fbbe2b-c453-4141-8046-ff0dfc5c431f",
     "showTitle": false,
     "tableResultSettingsMap": {},
     "title": ""
    }
   },
   "outputs": [],
   "source": [
    "-- Final verification\n",
    "SELECT \n",
    "  'Source Table' as table_name,\n",
    "  COUNT(*) as total_records,\n",
    "  SUM(amount) as total_amount,\n",
    "  MAX(transaction_date) as latest_date\n",
    "FROM IDENTIFIER(CONCAT(DA.catalog, '.', DA.schema, '.', DA.source_table))\n",
    "\n",
    "UNION ALL\n",
    "\n",
    "SELECT \n",
    "  'R2 Replica' as table_name,\n",
    "  COUNT(*) as total_records,\n",
    "  SUM(amount) as total_amount,\n",
    "  MAX(transaction_date) as latest_date\n",
    "FROM IDENTIFIER(CONCAT(DA.catalog, '.', DA.schema, '.', DA.replica_table))"
   ]
  },
  {
   "cell_type": "code",
   "execution_count": 0,
   "metadata": {
    "application/vnd.databricks.v1+cell": {
     "cellMetadata": {},
     "inputWidgets": {},
     "nuid": "da21e3ca-b3c9-442d-b3b2-901c34e3917a",
     "showTitle": false,
     "tableResultSettingsMap": {},
     "title": ""
    }
   },
   "outputs": [],
   "source": [
    "-- Show sample data from R2 replica\n",
    "SELECT * FROM IDENTIFIER(CONCAT(DA.catalog, '.', DA.schema, '.', DA.replica_table))\n",
    "ORDER BY created_at DESC"
   ]
  },
  {
   "cell_type": "markdown",
   "metadata": {
    "application/vnd.databricks.v1+cell": {
     "cellMetadata": {},
     "inputWidgets": {},
     "nuid": "c071f1e9-334b-4cf4-be2d-57e6899e3f41",
     "showTitle": false,
     "tableResultSettingsMap": {},
     "title": ""
    }
   },
   "source": [
    "## Summary\n",
    "\n",
    "### What We Accomplished:\n",
    "\n",
    "✅ **Storage Setup**: Created storage credential and external location for Cloudflare R2  \n",
    "✅ **Source Table**: Created managed table with Change Data Feed enabled  \n",
    "✅ **External Table**: Created Delta table on R2 for cross-cloud sharing  \n",
    "✅ **Initial Load**: Performed full data replication to R2  \n",
    "✅ **Change Detection**: Used CDF to capture incremental changes  \n",
    "✅ **Incremental Sync**: Replicated new changes to R2 external table  \n",
    "\n",
    "### Key Benefits:\n",
    "\n",
    "**Global Distribution**: Data available worldwide via Cloudflare's network  \n",
    "**Zero Egress Costs**: Eliminate expensive data transfer fees  \n",
    "**High Performance**: Fast access through global CDN  \n",
    "**Change Data Feed**: Efficient incremental replication  \n",
    "\n",
    "### Next Steps:\n",
    "\n",
    "1. **Production Setup**: Use Databricks Secrets for R2 credentials\n",
    "2. **Automation**: Schedule this as a Databricks Job for continuous replication\n",
    "3. **State Management**: Store last processed version for efficient incremental processing\n",
    "4. **Monitoring**: Add alerts and monitoring for replication health\n",
    "\n",
    "The data is now available on R2 for recipients to access with zero egress costs!"
   ]
  },
  {
   "cell_type": "markdown",
   "metadata": {
    "application/vnd.databricks.v1+cell": {
     "cellMetadata": {},
     "inputWidgets": {},
     "nuid": "67fdcff0-8b01-4a83-a272-57da3a88dfa2",
     "showTitle": false,
     "tableResultSettingsMap": {},
     "title": ""
    }
   },
   "source": [
    "---\n",
    "&copy; 2025 Databricks, Inc. All rights reserved. Apache, Apache Spark, Spark, the Spark Logo, Apache Iceberg, Iceberg, and the Apache Iceberg logo are trademarks of the <a href=\"https://www.apache.org/\" target=\"_blank\">Apache Software Foundation</a>.<br/><br/><a href=\"https://databricks.com/privacy-policy\" target=\"_blank\">Privacy Policy</a> | <a href=\"https://databricks.com/terms-of-use\" target=\"_blank\">Terms of Use</a> | <a href=\"https://help.databricks.com/\" target=\"_blank\">Support</a>"
   ]
  }
 ],
 "metadata": {
  "application/vnd.databricks.v1+notebook": {
   "computePreferences": null,
   "dashboards": [],
   "environmentMetadata": null,
   "inputWidgetPreferences": null,
   "language": "sql",
   "notebookMetadata": {
    "mostRecentlyExecutedCommandWithImplicitDF": {
     "commandId": 6155482913088277,
     "dataframes": [
      "_sqldf"
     ]
    },
    "pythonIndentUnit": 4
   },
   "notebookName": "3.1 DEMO Cross Cloud Replication with Cloudflare R2",
   "widgets": {}
  },
  "language_info": {
   "name": "sql"
  }
 },
 "nbformat": 4,
 "nbformat_minor": 0
}
