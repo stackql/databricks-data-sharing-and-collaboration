{
 "cells": [
  {
   "cell_type": "markdown",
   "metadata": {
    "application/vnd.databricks.v1+cell": {
     "cellMetadata": {},
     "inputWidgets": {},
     "nuid": "6ed6ba8d-8a9c-496e-ac1e-fc9aa5e27c93",
     "showTitle": false,
     "tableResultSettingsMap": {},
     "title": ""
    }
   },
   "source": [
    "\n",
    "<div style=\"text-align: center; line-height: 0; padding-top: 9px;\">\n",
    "  <img\n",
    "    src=\"https://databricks.com/wp-content/uploads/2018/03/db-academy-rgb-1200px.png\"\n",
    "    alt=\"Databricks Learning\"\n",
    "  >\n",
    "</div>\n"
   ]
  },
  {
   "cell_type": "markdown",
   "metadata": {
    "application/vnd.databricks.v1+cell": {
     "cellMetadata": {},
     "inputWidgets": {},
     "nuid": "45c094f5-236d-465d-aa02-092bb9210c20",
     "showTitle": false,
     "tableResultSettingsMap": {},
     "title": ""
    }
   },
   "source": [
    "# 3.2 DEMO: Fine Grained Access Control using Dynamic Views and Partition Filtering \\[Provider]\n",
    "\n",
    "## Overview\n",
    "This demonstration showcases two key data governance patterns for Delta Sharing:\n",
    "\n",
    "- **Dynamic Views**: Row-level security based on recipient identity using `current_recipient()`\n",
    "- **Partition Filtering**: Region-based data access control through table partitioning\n",
    "\n",
    "**Provider Notebook (This Notebook):** Create source data, implement one dynamic view example and one partition filtering example, then share with recipients.\n",
    "\n",
    "**Recipient Notebook:** Access shared views as different recipients and observe how access controls work."
   ]
  },
  {
   "cell_type": "markdown",
   "metadata": {
    "application/vnd.databricks.v1+cell": {
     "cellMetadata": {},
     "inputWidgets": {},
     "nuid": "50dbcf49-b5ef-491d-ac26-c54637d5bc67",
     "showTitle": false,
     "tableResultSettingsMap": {},
     "title": ""
    }
   },
   "source": [
    "### Learning Objectives\n",
    "By the end of this demo, you will be able to:\n",
    "1. Implement row-level security using dynamic views with `current_recipient()`\n",
    "2. Create partition-based filtering for regional data boundaries\n",
    "3. Share views with recipient-specific access controls"
   ]
  },
  {
   "cell_type": "markdown",
   "metadata": {
    "application/vnd.databricks.v1+cell": {
     "cellMetadata": {},
     "inputWidgets": {},
     "nuid": "aaed4f56-4cb2-4c55-b59e-00886c5f11c2",
     "showTitle": false,
     "tableResultSettingsMap": {},
     "title": ""
    }
   },
   "source": [
    "## Background\n",
    "\n",
    "**Scenario:** You are \"GlobalRetail Inc\" with a sales database containing customer orders across multiple regions (North America, Europe, Asia Pacific). You need to share data with regional sales partners who should only see data from their respective regions."
   ]
  },
  {
   "cell_type": "code",
   "execution_count": 0,
   "metadata": {
    "application/vnd.databricks.v1+cell": {
     "cellMetadata": {
      "byteLimit": 2048000,
      "implicitDf": true,
      "rowLimit": 10000
     },
     "inputWidgets": {},
     "nuid": "29458e5d-a1ec-44e5-9cd1-9116aa67a040",
     "showTitle": false,
     "tableResultSettingsMap": {},
     "title": ""
    }
   },
   "outputs": [],
   "source": [
    "%run ./Includes/Demo-Setup-3.2"
   ]
  },
  {
   "cell_type": "markdown",
   "metadata": {
    "application/vnd.databricks.v1+cell": {
     "cellMetadata": {},
     "inputWidgets": {},
     "nuid": "9a161c3b-5ecd-4996-8ff1-cc7387d03ef6",
     "showTitle": false,
     "tableResultSettingsMap": {},
     "title": ""
    }
   },
   "source": [
    "## Example 1: Dynamic Views with Row-Level Security\n",
    "\n",
    "Dynamic views use the `current_recipient()` function to filter data based on who is accessing it.  \n",
    "\n",
    "<br />\n",
    "<br />\n",
    "<div style=\"text-align: center; line-height: 0; padding-top: 9px;\">\n",
    "  <img\n",
    "    src=\"https://github.com/stackql/databricks-data-sharing-and-collaboration/blob/main/images/dynamic-views.png?raw=true\"\n",
    "    alt=\"Dynamic Views\"\n",
    "  >\n",
    "</div>\n",
    "<br />\n",
    "<br />"
   ]
  },
  {
   "cell_type": "code",
   "execution_count": 0,
   "metadata": {
    "application/vnd.databricks.v1+cell": {
     "cellMetadata": {},
     "inputWidgets": {},
     "nuid": "202d6e49-4a21-463f-802a-c7e391a713bd",
     "showTitle": false,
     "tableResultSettingsMap": {},
     "title": ""
    }
   },
   "outputs": [],
   "source": [
    "-- Step 1: Create source table with customer orders\n",
    "CREATE OR REPLACE TABLE global_retail.sales.customer_orders (\n",
    "  order_id STRING,\n",
    "  customer_name STRING,\n",
    "  email STRING,\n",
    "  region STRING,\n",
    "  product STRING,\n",
    "  amount DECIMAL(10,2),\n",
    "  order_date DATE\n",
    ")\n",
    "USING DELTA\n",
    "COMMENT 'Customer orders across all regions';"
   ]
  },
  {
   "cell_type": "code",
   "execution_count": 0,
   "metadata": {
    "application/vnd.databricks.v1+cell": {
     "cellMetadata": {},
     "inputWidgets": {},
     "nuid": "6cedfeb1-3545-4217-9ce1-35a245e61a15",
     "showTitle": false,
     "tableResultSettingsMap": {},
     "title": ""
    }
   },
   "outputs": [],
   "source": [
    "-- Step 2: Insert sample data\n",
    "INSERT INTO global_retail.sales.customer_orders VALUES\n",
    "  -- North America\n",
    "  ('ORD001', 'John Smith', 'john@example.com', 'North America', 'Laptop', 1200.00, '2025-01-15'),\n",
    "  ('ORD002', 'Mary Johnson', 'mary@example.com', 'North America', 'Monitor', 350.00, '2025-01-16'),\n",
    "  \n",
    "  -- Europe  \n",
    "  ('ORD003', 'Hans Mueller', 'hans@example.com', 'Europe', 'Keyboard', 89.99, '2025-01-15'),\n",
    "  ('ORD004', 'Sophie Martin', 'sophie@example.com', 'Europe', 'Mouse', 45.00, '2025-01-17'),\n",
    "  \n",
    "  -- Asia Pacific\n",
    "  ('ORD005', 'Li Wei', 'li@example.com', 'Asia Pacific', 'Tablet', 599.00, '2025-01-16'),\n",
    "  ('ORD006', 'Yuki Tanaka', 'yuki@example.com', 'Asia Pacific', 'Headphones', 199.00, '2025-01-18');\n",
    "\n",
    "SELECT * FROM global_retail.sales.customer_orders ORDER BY region;"
   ]
  },
  {
   "cell_type": "code",
   "execution_count": 0,
   "metadata": {
    "application/vnd.databricks.v1+cell": {
     "cellMetadata": {},
     "inputWidgets": {},
     "nuid": "edaf5d18-1e92-4faf-ad80-ac91189c79d6",
     "showTitle": false,
     "tableResultSettingsMap": {},
     "title": ""
    }
   },
   "outputs": [],
   "source": [
    "-- Step 3: Create dynamic view that filters by recipient\n",
    "CREATE OR REPLACE VIEW global_retail.sales.regional_orders_view AS\n",
    "SELECT \n",
    "  order_id,\n",
    "  customer_name,\n",
    "  email,\n",
    "  region,\n",
    "  product,\n",
    "  amount,\n",
    "  order_date\n",
    "FROM global_retail.sales.customer_orders\n",
    "WHERE \n",
    "  CASE \n",
    "    WHEN current_recipient() = 'na_partner' THEN region = 'North America'\n",
    "    WHEN current_recipient() = 'eu_partner' THEN region = 'Europe'\n",
    "    WHEN current_recipient() = 'apac_partner' THEN region = 'Asia Pacific'\n",
    "    WHEN current_recipient() IS NULL THEN TRUE  -- Direct query (all data)\n",
    "    ELSE FALSE  -- Unknown recipient (no access)\n",
    "  END;\n",
    "\n",
    "-- When queried directly (current_recipient() is NULL), we see all records\n",
    "SELECT * FROM global_retail.sales.regional_orders_view;"
   ]
  },
  {
   "cell_type": "code",
   "execution_count": 0,
   "metadata": {
    "application/vnd.databricks.v1+cell": {
     "cellMetadata": {},
     "inputWidgets": {},
     "nuid": "7b92a27f-639b-4a00-a945-0f34f6d88093",
     "showTitle": false,
     "tableResultSettingsMap": {},
     "title": ""
    }
   },
   "outputs": [],
   "source": [
    "**Key Concept:** The `current_recipient()` function returns the recipient name when data is accessed through Delta Sharing, enabling automatic row-level filtering. When queried directly, it returns NULL."
   ]
  },
  {
   "cell_type": "markdown",
   "metadata": {
    "application/vnd.databricks.v1+cell": {
     "cellMetadata": {},
     "inputWidgets": {},
     "nuid": "52bb9fc6-8c78-4d5c-b41f-114bbb387605",
     "showTitle": false,
     "tableResultSettingsMap": {},
     "title": ""
    }
   },
   "source": [
    "## Example 2: Partition Filtering\n",
    "\n",
    "Partition filtering leverages table partitioning to restrict data access at the storage level, providing efficient region-based access control.  \n",
    "\n",
    "<br />\n",
    "<br />\n",
    "<div style=\"text-align: center; line-height: 0; padding-top: 9px;\">\n",
    "  <img\n",
    "    src=\"https://github.com/stackql/databricks-data-sharing-and-collaboration/blob/main/images/partition-filtering.png?raw=true\"\n",
    "    alt=\"Partition Filtering\"\n",
    "  >\n",
    "</div>\n",
    "<br />\n",
    "<br />"
   ]
  },
  {
   "cell_type": "code",
   "execution_count": 0,
   "metadata": {
    "application/vnd.databricks.v1+cell": {
     "cellMetadata": {},
     "inputWidgets": {},
     "nuid": "0746b786-406e-48e2-b725-ba9a90b4bd50",
     "showTitle": false,
     "tableResultSettingsMap": {},
     "title": ""
    }
   },
   "outputs": [],
   "source": [
    "-- Step 1: Create partitioned table\n",
    "CREATE OR REPLACE TABLE global_retail.sales.orders_by_region (\n",
    "  order_id STRING,\n",
    "  customer_name STRING,\n",
    "  product STRING,\n",
    "  amount DECIMAL(10,2),\n",
    "  order_date DATE,\n",
    "  region STRING\n",
    ")\n",
    "USING DELTA\n",
    "PARTITIONED BY (region)\n",
    "COMMENT 'Orders partitioned by region for efficient filtering';"
   ]
  },
  {
   "cell_type": "markdown",
   "metadata": {
    "application/vnd.databricks.v1+cell": {
     "cellMetadata": {},
     "inputWidgets": {},
     "nuid": "ae94d976-4e93-4020-b072-8dc437393f5f",
     "showTitle": false,
     "tableResultSettingsMap": {},
     "title": ""
    }
   },
   "source": [
    "-- Step 2: Insert data (automatically partitioned by region)\n",
    "INSERT INTO global_retail.sales.orders_by_region VALUES\n",
    "  ('ORD001', 'John Smith', 'Laptop', 1200.00, '2025-01-15', 'North America'),\n",
    "  ('ORD002', 'Mary Johnson', 'Monitor', 350.00, '2025-01-16', 'North America'),\n",
    "  ('ORD003', 'Hans Mueller', 'Keyboard', 89.99, '2025-01-15', 'Europe'),\n",
    "  ('ORD004', 'Sophie Martin', 'Mouse', 45.00, '2025-01-17', 'Europe'),\n",
    "  ('ORD005', 'Li Wei', 'Tablet', 599.00, '2025-01-16', 'Asia Pacific'),\n",
    "  ('ORD006', 'Yuki Tanaka', 'Headphones', 199.00, '2025-01-18', 'Asia Pacific');\n",
    "\n",
    "-- View data by partition\n",
    "SELECT * FROM global_retail.sales.orders_by_region WHERE region = 'Europe';"
   ]
  },
  {
   "cell_type": "code",
   "execution_count": 0,
   "metadata": {
    "application/vnd.databricks.v1+cell": {
     "cellMetadata": {},
     "inputWidgets": {},
     "nuid": "8b856241-2892-45bd-baea-c03c7cef020d",
     "showTitle": false,
     "tableResultSettingsMap": {},
     "title": ""
    }
   },
   "outputs": [],
   "source": [
    "-- Step 3: Create partition-specific shares\n",
    "-- Share only North America partition\n",
    "CREATE SHARE IF NOT EXISTS na_orders_share\n",
    "COMMENT 'North America orders only';\n",
    "\n",
    "ALTER SHARE na_orders_share \n",
    "ADD TABLE global_retail.sales.orders_by_region \n",
    "PARTITION (region = 'North America');\n",
    "\n",
    "-- Share only Europe partition  \n",
    "CREATE SHARE IF NOT EXISTS eu_orders_share\n",
    "COMMENT 'Europe orders only';\n",
    "\n",
    "ALTER SHARE eu_orders_share \n",
    "ADD TABLE global_retail.sales.orders_by_region \n",
    "PARTITION (region = 'Europe');\n",
    "\n",
    "SHOW SHARES;"
   ]
  },
  {
   "cell_type": "code",
   "execution_count": 0,
   "metadata": {
    "application/vnd.databricks.v1+cell": {
     "cellMetadata": {},
     "inputWidgets": {},
     "nuid": "fef7f4b3-87ce-44c2-90a3-243d43c9a903",
     "showTitle": false,
     "tableResultSettingsMap": {},
     "title": ""
    }
   },
   "outputs": [],
   "source": [
    "**Key Concept:** Partition filtering shares specific partitions of a table with recipients. Recipients can only access data in the shared partitions, providing storage-level access control."
   ]
  },
  {
   "cell_type": "code",
   "execution_count": 0,
   "metadata": {
    "application/vnd.databricks.v1+cell": {
     "cellMetadata": {},
     "inputWidgets": {},
     "nuid": "5efe289b-fedb-4cad-be9d-aba65b1ba7fe",
     "showTitle": false,
     "tableResultSettingsMap": {},
     "title": ""
    }
   },
   "outputs": [],
   "source": [
    "## Setup Recipients and Grant Access"
   ]
  },
  {
   "cell_type": "code",
   "execution_count": 0,
   "metadata": {
    "application/vnd.databricks.v1+cell": {
     "cellMetadata": {},
     "inputWidgets": {},
     "nuid": "6aeec9fd-fdd2-4dc0-9161-db94a0fa01f6",
     "showTitle": false,
     "tableResultSettingsMap": {},
     "title": ""
    }
   },
   "outputs": [],
   "source": [
    "-- Create recipients\n",
    "CREATE RECIPIENT IF NOT EXISTS na_partner\n",
    "COMMENT 'North America regional partner';\n",
    "\n",
    "CREATE RECIPIENT IF NOT EXISTS eu_partner\n",
    "COMMENT 'Europe regional partner';\n",
    "\n",
    "CREATE RECIPIENT IF NOT EXISTS apac_partner\n",
    "COMMENT 'Asia Pacific regional partner';"
   ]
  },
  {
   "cell_type": "markdown",
   "metadata": {
    "application/vnd.databricks.v1+cell": {
     "cellMetadata": {},
     "inputWidgets": {},
     "nuid": "5b3a6ef1-bf30-498e-95e2-ebe1f2fb7332",
     "showTitle": false,
     "tableResultSettingsMap": {},
     "title": ""
    }
   },
   "source": [
    "-- Create share for dynamic views\n",
    "CREATE SHARE IF NOT EXISTS regional_orders_dynamic\n",
    "COMMENT 'Orders with dynamic view filtering';\n",
    "\n",
    "ALTER SHARE regional_orders_dynamic \n",
    "ADD VIEW global_retail.sales.regional_orders_view;\n",
    "\n",
    "-- Grant access to all partners (filtering handled by view logic)\n",
    "GRANT SELECT ON SHARE regional_orders_dynamic TO RECIPIENT na_partner;\n",
    "GRANT SELECT ON SHARE regional_orders_dynamic TO RECIPIENT eu_partner;\n",
    "GRANT SELECT ON SHARE regional_orders_dynamic TO RECIPIENT apac_partner;"
   ]
  },
  {
   "cell_type": "code",
   "execution_count": 0,
   "metadata": {
    "application/vnd.databricks.v1+cell": {
     "cellMetadata": {},
     "inputWidgets": {},
     "nuid": "bf350bda-b5b6-48bc-a9f3-dd14239af37e",
     "showTitle": false,
     "tableResultSettingsMap": {},
     "title": ""
    }
   },
   "outputs": [],
   "source": [
    "-- Grant access to partition-specific shares\n",
    "GRANT SELECT ON SHARE na_orders_share TO RECIPIENT na_partner;\n",
    "GRANT SELECT ON SHARE eu_orders_share TO RECIPIENT eu_partner;\n",
    "\n",
    "-- Show all shares and recipients\n",
    "SELECT 'Shares' as type, name, comment FROM (SHOW SHARES)\n",
    "UNION ALL\n",
    "SELECT 'Recipients' as type, name, comment FROM (SHOW RECIPIENTS);"
   ]
  },
  {
   "cell_type": "markdown",
   "metadata": {
    "application/vnd.databricks.v1+cell": {
     "cellMetadata": {},
     "inputWidgets": {},
     "nuid": "ba14febe-a9b2-45f1-9789-d4000e9dcc0b",
     "showTitle": false,
     "tableResultSettingsMap": {},
     "title": ""
    }
   },
   "source": [
    "## Summary\n",
    "\n",
    "✅ **What we accomplished:**\n",
    "\n",
    "**Example 1 - Dynamic Views:**\n",
    "- Created a view using `current_recipient()` function\n",
    "- Implemented row-level security that filters data based on who is accessing it\n",
    "- All partners access the same share but see different data\n",
    "\n",
    "**Example 2 - Partition Filtering:**\n",
    "- Created a partitioned table by region\n",
    "- Shared specific partitions with specific recipients\n",
    "- Recipients can only access their designated partition\n",
    "\n",
    "**Comparison:**\n",
    "| Pattern | Granularity | Flexibility | Performance |\n",
    "|---------|-------------|-------------|-------------|\n",
    "| Dynamic Views | Row-level | High (logic-based) | Good for moderate data |\n",
    "| Partition Filtering | Partition-level | Low (structural) | Excellent (storage-level) |\n",
    "\n",
    "**Next Steps:** Continue to the recipient notebook to see how these access controls work from the recipient's perspective."
   ]
  },
  {
   "cell_type": "markdown",
   "metadata": {
    "application/vnd.databricks.v1+cell": {
     "cellMetadata": {},
     "inputWidgets": {},
     "nuid": "6ec302e1-9daf-4e8f-8c69-94c1bc7f8631",
     "showTitle": false,
     "tableResultSettingsMap": {},
     "title": ""
    }
   },
   "source": [
    "&copy; 2025 Databricks, Inc. All rights reserved."
   ]
  }
 ],
 "metadata": {
  "application/vnd.databricks.v1+notebook": {
   "computePreferences": null,
   "dashboards": [],
   "environmentMetadata": null,
   "inputWidgetPreferences": null,
   "language": "sql",
   "notebookMetadata": {
    "mostRecentlyExecutedCommandWithImplicitDF": {
     "commandId": 5945718441207329,
     "dataframes": [
      "_sqldf"
     ]
    },
    "pythonIndentUnit": 4
   },
   "notebookName": "3.2 DEMO Fine Grained Access Control using Dynamic Views and Partition Filtering",
   "widgets": {}
  },
  "language_info": {
   "name": "sql"
  }
 },
 "nbformat": 4,
 "nbformat_minor": 0
}
