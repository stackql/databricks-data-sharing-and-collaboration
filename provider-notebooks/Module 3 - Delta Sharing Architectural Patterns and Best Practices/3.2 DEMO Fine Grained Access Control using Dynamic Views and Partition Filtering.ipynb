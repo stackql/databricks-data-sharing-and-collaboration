{
 "cells": [
  {
   "cell_type": "markdown",
   "metadata": {
    "application/vnd.databricks.v1+cell": {
     "cellMetadata": {},
     "inputWidgets": {},
     "nuid": "6ed6ba8d-8a9c-496e-ac1e-fc9aa5e27c93",
     "showTitle": false,
     "tableResultSettingsMap": {},
     "title": ""
    }
   },
   "source": [
    "\n",
    "<div style=\"text-align: center; line-height: 0; padding-top: 9px;\">\n",
    "  <img\n",
    "    src=\"https://databricks.com/wp-content/uploads/2018/03/db-academy-rgb-1200px.png\"\n",
    "    alt=\"Databricks Learning\"\n",
    "  >\n",
    "</div>\n"
   ]
  },
  {
   "cell_type": "markdown",
   "metadata": {
    "application/vnd.databricks.v1+cell": {
     "cellMetadata": {},
     "inputWidgets": {},
     "nuid": "45c094f5-236d-465d-aa02-092bb9210c20",
     "showTitle": false,
     "tableResultSettingsMap": {},
     "title": ""
    }
   },
   "source": [
    "# 3.2 DEMO: Fine Grained Access Control using Dynamic Views and Partition Filtering \\[Provider]\n",
    "\n",
    "## Overview\n",
    "This demonstration showcases two key data governance patterns for Delta Sharing:\n",
    "\n",
    "- **Dynamic Views**: Row-level security based on recipient identity using `current_recipient()`\n",
    "- **Partition Filtering**: Region-based data access control through table partitioning\n",
    "\n",
    "**Provider Notebook (This Notebook):** Create source data, implement one dynamic view example and one partition filtering example, then share with recipients.\n",
    "\n",
    "**Recipient Notebook:** Access shared views as different recipients and observe how access controls work."
   ]
  },
  {
   "cell_type": "markdown",
   "metadata": {
    "application/vnd.databricks.v1+cell": {
     "cellMetadata": {},
     "inputWidgets": {},
     "nuid": "50dbcf49-b5ef-491d-ac26-c54637d5bc67",
     "showTitle": false,
     "tableResultSettingsMap": {},
     "title": ""
    }
   },
   "source": [
    "### Learning Objectives\n",
    "By the end of this demo, you will be able to:\n",
    "1. Implement row-level security using dynamic views with `current_recipient()`\n",
    "2. Create partition-based filtering for regional data boundaries\n",
    "3. Share views with recipient-specific access controls"
   ]
  },
  {
   "cell_type": "markdown",
   "metadata": {
    "application/vnd.databricks.v1+cell": {
     "cellMetadata": {},
     "inputWidgets": {},
     "nuid": "aaed4f56-4cb2-4c55-b59e-00886c5f11c2",
     "showTitle": false,
     "tableResultSettingsMap": {},
     "title": ""
    }
   },
   "source": [
    "## Background\n",
    "\n",
    "**Scenario:** You are \"GlobalRetail Inc\" with a sales database containing customer orders across multiple regions (North America, Europe, Asia Pacific). You need to share data with regional sales partners who should only see data from their respective regions."
   ]
  },
  {
   "cell_type": "code",
   "execution_count": 0,
   "metadata": {
    "application/vnd.databricks.v1+cell": {
     "cellMetadata": {
      "byteLimit": 2048000,
      "implicitDf": true,
      "rowLimit": 10000
     },
     "inputWidgets": {},
     "nuid": "29458e5d-a1ec-44e5-9cd1-9116aa67a040",
     "showTitle": false,
     "tableResultSettingsMap": {},
     "title": ""
    }
   },
   "outputs": [],
   "source": [
    "%run ./Includes/Demo-Setup-3.2"
   ]
  },
  {
   "cell_type": "markdown",
   "metadata": {
    "application/vnd.databricks.v1+cell": {
     "cellMetadata": {},
     "inputWidgets": {},
     "nuid": "9a161c3b-5ecd-4996-8ff1-cc7387d03ef6",
     "showTitle": false,
     "tableResultSettingsMap": {},
     "title": ""
    }
   },
   "source": [
    "## Example 1: Dynamic Views with Row-Level Security\n",
    "\n",
    "Dynamic views use the `current_recipient()` function to filter data based on who is accessing it.  See the following diagram:  \n",
    "<br />\n",
    "<div style=\"text-align: center; line-height: 0; padding-top: 9px;\">\n",
    "  <img\n",
    "    src=\"https://github.com/stackql/databricks-data-sharing-and-collaboration/blob/main/images/dynamic-views.png?raw=true\"\n",
    "    alt=\"Dynamic Views\"\n",
    "  >\n",
    "</div>\n",
    "<br />\n",
    "<br />\n",
    "\n",
    "ℹ️ **IMPORTANT** Dynamic Views will use compute on the provider side when queried by the Delta Sharing recipient."
   ]
  },
  {
   "cell_type": "markdown",
   "metadata": {
    "application/vnd.databricks.v1+cell": {
     "cellMetadata": {},
     "inputWidgets": {},
     "nuid": "96cd0521-1f08-4d09-a458-6f7da1aa6f7f",
     "showTitle": false,
     "tableResultSettingsMap": {},
     "title": ""
    }
   },
   "source": [
    "### Inspect Base Table Data\n",
    "First we will look at the source table to develop our row filtering or column redaction strategy."
   ]
  },
  {
   "cell_type": "code",
   "execution_count": 0,
   "metadata": {
    "application/vnd.databricks.v1+cell": {
     "cellMetadata": {},
     "inputWidgets": {},
     "nuid": "202d6e49-4a21-463f-802a-c7e391a713bd",
     "showTitle": false,
     "tableResultSettingsMap": {},
     "title": ""
    }
   },
   "outputs": [],
   "source": [
    "-- Inspect the source table data\n",
    "SELECT * FROM global_retail.sales.customer_orders ORDER BY region;"
   ]
  },
  {
   "cell_type": "markdown",
   "metadata": {
    "application/vnd.databricks.v1+cell": {
     "cellMetadata": {},
     "inputWidgets": {},
     "nuid": "86646ee7-a750-4e4b-ac6c-7d8f428f66b1",
     "showTitle": false,
     "tableResultSettingsMap": {},
     "title": ""
    }
   },
   "source": [
    "### Step 1. Create the Dynamic View\n",
    "Dynamic views can be used to secure data in multiple ways including:  \n",
    "- column redaction or obfuscation - using a `CASE` statement with the `current_recipient()` function in the `SELECT` column list; **and/or**\n",
    "- row level filtering - using a `CASE` statement with the `current_recipient()` function in the `WHERE` clause\n",
    "\n",
    "In this example we will filter records in the source table based upon the region, using recipients designated to specific regions."
   ]
  },
  {
   "cell_type": "code",
   "execution_count": 0,
   "metadata": {
    "application/vnd.databricks.v1+cell": {
     "cellMetadata": {},
     "inputWidgets": {},
     "nuid": "edaf5d18-1e92-4faf-ad80-ac91189c79d6",
     "showTitle": false,
     "tableResultSettingsMap": {},
     "title": ""
    }
   },
   "outputs": [],
   "source": [
    "-- Create dynamic view that filters by recipient\n",
    "CREATE OR REPLACE VIEW global_retail.sales.regional_orders_view AS\n",
    "SELECT \n",
    "  order_id,\n",
    "  customer_name,\n",
    "  email,\n",
    "  region,\n",
    "  product,\n",
    "  amount,\n",
    "  order_date\n",
    "FROM global_retail.sales.customer_orders\n",
    "WHERE \n",
    "  CASE \n",
    "    WHEN current_recipient() = 'us_partner' THEN region = 'United States'\n",
    "    WHEN current_recipient() = 'eu_partner' THEN region = 'Europe'\n",
    "    WHEN current_recipient() = 'apac_partner' THEN region = 'Asia Pacific'\n",
    "    WHEN current_recipient() IS NULL THEN TRUE  -- Direct query (all data)\n",
    "    ELSE FALSE  -- Unknown recipient (no access)\n",
    "  END;"
   ]
  },
  {
   "cell_type": "code",
   "execution_count": 0,
   "metadata": {
    "application/vnd.databricks.v1+cell": {
     "cellMetadata": {},
     "inputWidgets": {},
     "nuid": "88197334-a1e3-4a0a-a434-1d440936326e",
     "showTitle": false,
     "tableResultSettingsMap": {},
     "title": ""
    }
   },
   "outputs": [],
   "source": [
    "-- When queried directly (current_recipient() is NULL), we see all records\n",
    "SELECT * FROM global_retail.sales.regional_orders_view;"
   ]
  },
  {
   "cell_type": "markdown",
   "metadata": {
    "application/vnd.databricks.v1+cell": {
     "cellMetadata": {},
     "inputWidgets": {},
     "nuid": "7b92a27f-639b-4a00-a945-0f34f6d88093",
     "showTitle": false,
     "tableResultSettingsMap": {},
     "title": ""
    }
   },
   "source": [
    "**Key Concept:** The `current_recipient()` function returns the recipient name when data is accessed through Delta Sharing, enabling automatic row-level filtering. When queried directly, it returns `NULL`."
   ]
  },
  {
   "cell_type": "markdown",
   "metadata": {
    "application/vnd.databricks.v1+cell": {
     "cellMetadata": {},
     "inputWidgets": {},
     "nuid": "605e9b49-f651-4d84-8733-5b1aa32c0e66",
     "showTitle": false,
     "tableResultSettingsMap": {},
     "title": ""
    }
   },
   "source": [
    "### Step 2. Create a Share\n",
    "For Dynamic Views we can create a single share."
   ]
  },
  {
   "cell_type": "code",
   "execution_count": 0,
   "metadata": {
    "application/vnd.databricks.v1+cell": {
     "cellMetadata": {},
     "inputWidgets": {},
     "nuid": "5c2126e6-f134-466a-ba05-8eaba9d25c26",
     "showTitle": false,
     "tableResultSettingsMap": {},
     "title": ""
    }
   },
   "outputs": [],
   "source": [
    "-- Create share for dynamic views\n",
    "CREATE SHARE IF NOT EXISTS regional_orders_dynamic\n",
    "COMMENT 'Orders with dynamic view filtering';"
   ]
  },
  {
   "cell_type": "code",
   "execution_count": 0,
   "metadata": {
    "application/vnd.databricks.v1+cell": {
     "cellMetadata": {},
     "inputWidgets": {},
     "nuid": "0553ef69-6e7f-40dc-a123-296055c9c9a0",
     "showTitle": false,
     "tableResultSettingsMap": {},
     "title": ""
    }
   },
   "outputs": [],
   "source": [
    "-- Describe the share\n",
    "DESCRIBE SHARE regional_orders_dynamic;"
   ]
  },
  {
   "cell_type": "markdown",
   "metadata": {
    "application/vnd.databricks.v1+cell": {
     "cellMetadata": {},
     "inputWidgets": {},
     "nuid": "7c7bd6a3-32b6-47f3-bd92-601c3464631e",
     "showTitle": false,
     "tableResultSettingsMap": {},
     "title": ""
    }
   },
   "source": [
    "### Step 3. Add the Dynamic View to the Share\n",
    "Add our Dynamic View to the Share we just created."
   ]
  },
  {
   "cell_type": "code",
   "execution_count": 0,
   "metadata": {
    "application/vnd.databricks.v1+cell": {
     "cellMetadata": {},
     "inputWidgets": {},
     "nuid": "924c5afe-7819-4ec7-9323-49be97bf185e",
     "showTitle": false,
     "tableResultSettingsMap": {},
     "title": ""
    }
   },
   "outputs": [],
   "source": [
    "-- Add the Dynamic View to the Share\n",
    "ALTER SHARE regional_orders_dynamic \n",
    "ADD VIEW global_retail.sales.regional_orders_view;"
   ]
  },
  {
   "cell_type": "code",
   "execution_count": 0,
   "metadata": {
    "application/vnd.databricks.v1+cell": {
     "cellMetadata": {},
     "inputWidgets": {},
     "nuid": "fb8a0f8b-6ac0-41f0-a9ef-ede166969528",
     "showTitle": false,
     "tableResultSettingsMap": {},
     "title": ""
    }
   },
   "outputs": [],
   "source": [
    "-- Show assets in the share\n",
    "SHOW ALL IN SHARE regional_orders_dynamic;"
   ]
  },
  {
   "cell_type": "markdown",
   "metadata": {
    "application/vnd.databricks.v1+cell": {
     "cellMetadata": {},
     "inputWidgets": {},
     "nuid": "de42697c-3804-41ee-8aec-26038489feaa",
     "showTitle": false,
     "tableResultSettingsMap": {},
     "title": ""
    }
   },
   "source": [
    "### Step 4. Create the Recipients\n",
    "Create *multiple* recipients for our Share"
   ]
  },
  {
   "cell_type": "code",
   "execution_count": 0,
   "metadata": {
    "application/vnd.databricks.v1+cell": {
     "cellMetadata": {},
     "inputWidgets": {},
     "nuid": "977fa08d-0a72-4b3f-a3b8-d608f6f0bd90",
     "showTitle": false,
     "tableResultSettingsMap": {},
     "title": ""
    }
   },
   "outputs": [],
   "source": [
    "-- Create recipients\n",
    "CREATE RECIPIENT IF NOT EXISTS us_partner\n",
    "COMMENT 'United States regional partner';\n",
    "\n",
    "CREATE RECIPIENT IF NOT EXISTS eu_partner\n",
    "COMMENT 'Europe regional partner';\n",
    "\n",
    "CREATE RECIPIENT IF NOT EXISTS apac_partner\n",
    "COMMENT 'Asia Pacific regional partner';"
   ]
  },
  {
   "cell_type": "code",
   "execution_count": 0,
   "metadata": {
    "application/vnd.databricks.v1+cell": {
     "cellMetadata": {},
     "inputWidgets": {},
     "nuid": "73be0784-32da-4d51-b8d1-68781ec8eb89",
     "showTitle": false,
     "tableResultSettingsMap": {},
     "title": ""
    }
   },
   "outputs": [],
   "source": [
    "-- Describe one of the recipients\n",
    "DESCRIBE RECIPIENT us_partner;"
   ]
  },
  {
   "cell_type": "markdown",
   "metadata": {
    "application/vnd.databricks.v1+cell": {
     "cellMetadata": {},
     "inputWidgets": {},
     "nuid": "f7f85365-6db0-42e7-84fe-235ba0705d1c",
     "showTitle": false,
     "tableResultSettingsMap": {},
     "title": ""
    }
   },
   "source": [
    "### Step 5. Add the Dynamic View to the Share\n",
    "Add our Dynamic View to the Share we just created."
   ]
  },
  {
   "cell_type": "code",
   "execution_count": 0,
   "metadata": {
    "application/vnd.databricks.v1+cell": {
     "cellMetadata": {},
     "inputWidgets": {},
     "nuid": "f8a9097b-a353-4fc2-adaf-c19418f18069",
     "showTitle": false,
     "tableResultSettingsMap": {},
     "title": ""
    }
   },
   "outputs": [],
   "source": [
    "-- Grant access to all partners (filtering handled by view logic)\n",
    "GRANT SELECT ON SHARE regional_orders_dynamic TO RECIPIENT us_partner;\n",
    "GRANT SELECT ON SHARE regional_orders_dynamic TO RECIPIENT eu_partner;\n",
    "GRANT SELECT ON SHARE regional_orders_dynamic TO RECIPIENT apac_partner;"
   ]
  },
  {
   "cell_type": "code",
   "execution_count": 0,
   "metadata": {
    "application/vnd.databricks.v1+cell": {
     "cellMetadata": {},
     "inputWidgets": {},
     "nuid": "88502277-0640-4883-9b42-557d4dd88f76",
     "showTitle": false,
     "tableResultSettingsMap": {},
     "title": ""
    }
   },
   "outputs": [],
   "source": [
    "-- Show grants on share\n",
    "SHOW GRANTS ON SHARE regional_orders_dynamic;"
   ]
  },
  {
   "cell_type": "markdown",
   "metadata": {
    "application/vnd.databricks.v1+cell": {
     "cellMetadata": {},
     "inputWidgets": {},
     "nuid": "66a57bc2-626e-4279-ac0f-4100acfd5436",
     "showTitle": false,
     "tableResultSettingsMap": {},
     "title": ""
    }
   },
   "source": [
    "### Next Steps\n",
    "✅ Mount the share to a catalog at a recipient (one of the recipients above)  \n",
    "✅ Confirm that you can only see data for your region  "
   ]
  },
  {
   "cell_type": "markdown",
   "metadata": {
    "application/vnd.databricks.v1+cell": {
     "cellMetadata": {},
     "inputWidgets": {},
     "nuid": "52bb9fc6-8c78-4d5c-b41f-114bbb387605",
     "showTitle": false,
     "tableResultSettingsMap": {},
     "title": ""
    }
   },
   "source": [
    "## Example 2: Partition Filtering\n",
    "\n",
    "Partition filtering leverages table partitioning to restrict data access at the storage level, providing efficient region-based access control.  See the following diagram:  \n",
    "<br />\n",
    "<div style=\"text-align: center; line-height: 0; padding-top: 9px;\">\n",
    "  <img\n",
    "    src=\"https://github.com/stackql/databricks-data-sharing-and-collaboration/blob/main/images/partition-filtering.png?raw=true\"\n",
    "    alt=\"Partition Filtering\"\n",
    "  >\n",
    "</div>\n",
    "<br />\n",
    "<br />\n",
    "\n",
    "ℹ️ **NOTE** Unlike Dynamic Views, Partition Filtering will *NOT* use compute on the provider side when queried by the Delta Sharing recipient, however the provider will need to maintain **multiple shares** instead of a single share.  In addition, **column redaction or obfuscation is not supported** with this approach.  \n",
    "\n",
    "In addition the partition values need to be known up front, an ideally not be of high cardinality.\n"
   ]
  },
  {
   "cell_type": "markdown",
   "metadata": {
    "application/vnd.databricks.v1+cell": {
     "cellMetadata": {},
     "inputWidgets": {},
     "nuid": "43055c02-3b81-4da3-aba0-52e6bdca3213",
     "showTitle": false,
     "tableResultSettingsMap": {},
     "title": ""
    }
   },
   "source": [
    "### Inspect Partitioned Base Table\n",
    "In this example note the partitioning on the base table, we will use this to filter data based upon the recipient."
   ]
  },
  {
   "cell_type": "code",
   "execution_count": 0,
   "metadata": {
    "application/vnd.databricks.v1+cell": {
     "cellMetadata": {},
     "inputWidgets": {},
     "nuid": "24d11a0b-b217-46c4-b2dc-744ddc4469cf",
     "showTitle": false,
     "tableResultSettingsMap": {},
     "title": ""
    }
   },
   "outputs": [],
   "source": [
    "-- Check partitioning on base table\n",
    "DESCRIBE DETAIL global_retail.sales.orders_by_region;"
   ]
  },
  {
   "cell_type": "code",
   "execution_count": 0,
   "metadata": {
    "application/vnd.databricks.v1+cell": {
     "cellMetadata": {},
     "inputWidgets": {},
     "nuid": "ae94d976-4e93-4020-b072-8dc437393f5f",
     "showTitle": false,
     "tableResultSettingsMap": {},
     "title": ""
    }
   },
   "outputs": [],
   "source": [
    "-- View data by partition\n",
    "SELECT * FROM global_retail.sales.orders_by_region WHERE region = 'Europe';"
   ]
  },
  {
   "cell_type": "markdown",
   "metadata": {
    "application/vnd.databricks.v1+cell": {
     "cellMetadata": {},
     "inputWidgets": {},
     "nuid": "2d723d62-3405-4e83-af48-27675ab617b9",
     "showTitle": false,
     "tableResultSettingsMap": {},
     "title": ""
    }
   },
   "source": [
    "### Step 1. Create Shares and Add Table Partitions to the Shares\n",
    "For Partition Filtering we need to create multiple shares (one per partition value)."
   ]
  },
  {
   "cell_type": "code",
   "execution_count": 0,
   "metadata": {
    "application/vnd.databricks.v1+cell": {
     "cellMetadata": {},
     "inputWidgets": {},
     "nuid": "8b856241-2892-45bd-baea-c03c7cef020d",
     "showTitle": false,
     "tableResultSettingsMap": {},
     "title": ""
    }
   },
   "outputs": [],
   "source": [
    "-- Create partition-specific shares\n",
    "-- Share only United States partition\n",
    "CREATE SHARE IF NOT EXISTS us_orders_share\n",
    "COMMENT 'United States orders only';\n",
    "\n",
    "ALTER SHARE us_orders_share \n",
    "ADD TABLE global_retail.sales.orders_by_region \n",
    "PARTITION (region = 'United States');\n",
    "\n",
    "-- Share only Europe partition  \n",
    "CREATE SHARE IF NOT EXISTS eu_orders_share\n",
    "COMMENT 'Europe orders only';\n",
    "\n",
    "ALTER SHARE eu_orders_share \n",
    "ADD TABLE global_retail.sales.orders_by_region \n",
    "PARTITION (region = 'Europe');"
   ]
  },
  {
   "cell_type": "code",
   "execution_count": 0,
   "metadata": {
    "application/vnd.databricks.v1+cell": {
     "cellMetadata": {},
     "inputWidgets": {},
     "nuid": "4123ea98-c51b-4b79-b752-d7f4c912bdc2",
     "showTitle": false,
     "tableResultSettingsMap": {},
     "title": ""
    }
   },
   "outputs": [],
   "source": [
    "-- Describe one of the shares\n",
    "DESCRIBE SHARE us_orders_share;"
   ]
  },
  {
   "cell_type": "code",
   "execution_count": 0,
   "metadata": {
    "application/vnd.databricks.v1+cell": {
     "cellMetadata": {},
     "inputWidgets": {},
     "nuid": "4e64f89b-e98e-48df-a8f2-5b4463f41605",
     "showTitle": false,
     "tableResultSettingsMap": {},
     "title": ""
    }
   },
   "outputs": [],
   "source": [
    "-- Show the assets in a share\n",
    "SHOW ALL IN SHARE us_orders_share;"
   ]
  },
  {
   "cell_type": "markdown",
   "metadata": {
    "application/vnd.databricks.v1+cell": {
     "cellMetadata": {},
     "inputWidgets": {},
     "nuid": "fef7f4b3-87ce-44c2-90a3-243d43c9a903",
     "showTitle": false,
     "tableResultSettingsMap": {},
     "title": ""
    }
   },
   "source": [
    "**Key Concept:** Partition filtering shares specific partitions of a table with recipients. Recipients can only access data in the shared partitions, providing storage-level access control."
   ]
  },
  {
   "cell_type": "markdown",
   "metadata": {
    "application/vnd.databricks.v1+cell": {
     "cellMetadata": {},
     "inputWidgets": {},
     "nuid": "5efe289b-fedb-4cad-be9d-aba65b1ba7fe",
     "showTitle": false,
     "tableResultSettingsMap": {},
     "title": ""
    }
   },
   "source": [
    "### Step 2. Setup Recipients and Grant Access\n",
    "Create the recipients (one per region) and grant them access to the respective share"
   ]
  },
  {
   "cell_type": "code",
   "execution_count": 0,
   "metadata": {
    "application/vnd.databricks.v1+cell": {
     "cellMetadata": {},
     "inputWidgets": {},
     "nuid": "1461c5e0-440c-4e44-8633-4e093241bb92",
     "showTitle": false,
     "tableResultSettingsMap": {},
     "title": ""
    }
   },
   "outputs": [],
   "source": [
    "-- Create recipients\n",
    "CREATE RECIPIENT IF NOT EXISTS us_partner\n",
    "COMMENT 'United States regional partner';\n",
    "\n",
    "CREATE RECIPIENT IF NOT EXISTS eu_partner\n",
    "COMMENT 'Europe regional partner';\n",
    "\n",
    "CREATE RECIPIENT IF NOT EXISTS apac_partner\n",
    "COMMENT 'Asia Pacific regional partner';"
   ]
  },
  {
   "cell_type": "code",
   "execution_count": 0,
   "metadata": {
    "application/vnd.databricks.v1+cell": {
     "cellMetadata": {},
     "inputWidgets": {},
     "nuid": "bf350bda-b5b6-48bc-a9f3-dd14239af37e",
     "showTitle": false,
     "tableResultSettingsMap": {},
     "title": ""
    }
   },
   "outputs": [],
   "source": [
    "-- Grant access to partition-specific shares\n",
    "GRANT SELECT ON SHARE us_orders_share TO RECIPIENT us_partner;\n",
    "GRANT SELECT ON SHARE eu_orders_share TO RECIPIENT eu_partner;"
   ]
  },
  {
   "cell_type": "markdown",
   "metadata": {
    "application/vnd.databricks.v1+cell": {
     "cellMetadata": {},
     "inputWidgets": {},
     "nuid": "95d879b7-4bab-435d-af7c-90cc0afcaf26",
     "showTitle": false,
     "tableResultSettingsMap": {},
     "title": ""
    }
   },
   "source": [
    "### Next Steps\n",
    "✅ Mount one of the shares to a catalog at a recipient (one of the recipients above)  \n",
    "✅ Confirm that you can only see data for your region  "
   ]
  },
  {
   "cell_type": "markdown",
   "metadata": {
    "application/vnd.databricks.v1+cell": {
     "cellMetadata": {},
     "inputWidgets": {},
     "nuid": "ba14febe-a9b2-45f1-9789-d4000e9dcc0b",
     "showTitle": false,
     "tableResultSettingsMap": {},
     "title": ""
    }
   },
   "source": [
    "## Summary\n",
    "\n",
    "✅ **What we accomplished:**\n",
    "\n",
    "**Example 1 - Dynamic Views:**\n",
    "- Created a view using `current_recipient()` function\n",
    "- Implemented row-level security that filters data based on who is accessing it\n",
    "- All partners access the same share but see different data\n",
    "\n",
    "**Example 2 - Partition Filtering:**\n",
    "- Created a partitioned table by region\n",
    "- Shared specific partitions with specific recipients\n",
    "- Recipients can only access their designated partition\n",
    "\n",
    "**Comparison:**\n",
    "| Pattern | Granularity | Flexibility | Performance |\n",
    "|---------|-------------|-------------|-------------|\n",
    "| Dynamic Views | Row-level | High (logic-based) | Good for moderate data |\n",
    "| Partition Filtering | Partition-level | Low (structural) | Excellent (storage-level) |\n",
    "\n",
    "**Next Steps:** Continue to the recipient notebook to see how these access controls work from the recipient's perspective."
   ]
  },
  {
   "cell_type": "markdown",
   "metadata": {
    "application/vnd.databricks.v1+cell": {
     "cellMetadata": {},
     "inputWidgets": {},
     "nuid": "6ec302e1-9daf-4e8f-8c69-94c1bc7f8631",
     "showTitle": false,
     "tableResultSettingsMap": {},
     "title": ""
    }
   },
   "source": [
    "&copy; 2025 Databricks, Inc. All rights reserved."
   ]
  }
 ],
 "metadata": {
  "application/vnd.databricks.v1+notebook": {
   "computePreferences": null,
   "dashboards": [],
   "environmentMetadata": null,
   "inputWidgetPreferences": null,
   "language": "sql",
   "notebookMetadata": {
    "mostRecentlyExecutedCommandWithImplicitDF": {
     "commandId": 5945718441207329,
     "dataframes": [
      "_sqldf"
     ]
    },
    "pythonIndentUnit": 4
   },
   "notebookName": "3.2 DEMO Fine Grained Access Control using Dynamic Views and Partition Filtering",
   "widgets": {}
  },
  "language_info": {
   "name": "sql"
  }
 },
 "nbformat": 4,
 "nbformat_minor": 0
}
