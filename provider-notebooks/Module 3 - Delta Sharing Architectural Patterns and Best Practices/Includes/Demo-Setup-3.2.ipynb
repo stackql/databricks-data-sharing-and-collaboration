{
 "cells": [
  {
   "cell_type": "code",
   "execution_count": 0,
   "metadata": {
    "application/vnd.databricks.v1+cell": {
     "cellMetadata": {},
     "inputWidgets": {},
     "nuid": "b91599d7-fe06-4581-8b4e-bfcc9edbd40b",
     "showTitle": false,
     "tableResultSettingsMap": {},
     "title": ""
    }
   },
   "outputs": [],
   "source": [
    "# provider-notebooks/Module 3 - Delta Sharing Architectural Patterns and Best Practices/Includes/Demo-Setup-3.2.ipynb"
   ]
  },
  {
   "cell_type": "code",
   "execution_count": 0,
   "metadata": {
    "application/vnd.databricks.v1+cell": {
     "cellMetadata": {},
     "inputWidgets": {},
     "nuid": "17d6fc6f-4ef2-4c30-bf46-6feaf80171cf",
     "showTitle": false,
     "tableResultSettingsMap": {},
     "title": ""
    }
   },
   "outputs": [],
   "source": [
    "%run ./_common"
   ]
  },
  {
   "cell_type": "code",
   "execution_count": 0,
   "metadata": {
    "application/vnd.databricks.v1+cell": {
     "cellMetadata": {},
     "inputWidgets": {},
     "nuid": "93df59ca-4aae-41f7-a2bd-d50bcc1b94cb",
     "showTitle": false,
     "tableResultSettingsMap": {},
     "title": ""
    }
   },
   "outputs": [],
   "source": [
    "# Set variables in python and sql\n",
    "config_values = [\n",
    "    (\"catalog\", \"global_retail\"),\n",
    "    (\"schema\", \"sales\"),\n",
    "    (\"base_table_for_dynamic_view\", \"customer_orders\"),\n",
    "    (\"dynamic_view\", \"regional_orders_view\"),\n",
    "    (\"dynamic_view_share\", \"regional_orders_dynamic\"),\n",
    "    (\"base_table_for_partition_filtering\", \"orders_by_region\"),\n",
    "    (\"us_partition_filtered_share\", \"us_orders_share\"),\n",
    "    (\"eu_partition_filtered_share\", \"eu_orders_share\"),\n",
    "    (\"us_recipient\", \"us_partner\"),\n",
    "    (\"eu_recipient\", \"eu_partner\"),\n",
    "    (\"apac_recipient\", \"apac_partner\"),\n",
    "]\n",
    "DA = create_da_objects(config_values)"
   ]
  },
  {
   "cell_type": "code",
   "execution_count": 0,
   "metadata": {
    "application/vnd.databricks.v1+cell": {
     "cellMetadata": {},
     "inputWidgets": {},
     "nuid": "1d8db4ae-1c32-4714-9936-2e032b857fb7",
     "showTitle": false,
     "tableResultSettingsMap": {},
     "title": ""
    }
   },
   "outputs": [],
   "source": [
    "%sql\n",
    "CREATE CATALOG IF NOT EXISTS IDENTIFIER(DA.catalog)\n",
    "COMMENT 'Catalog for fine-grained access control demo';\n",
    "USE CATALOG IDENTIFIER(DA.catalog);"
   ]
  },
  {
   "cell_type": "code",
   "execution_count": 0,
   "metadata": {
    "application/vnd.databricks.v1+cell": {
     "cellMetadata": {},
     "inputWidgets": {},
     "nuid": "7376e9b3-3b34-408f-8304-25d12c990b62",
     "showTitle": false,
     "tableResultSettingsMap": {},
     "title": ""
    }
   },
   "outputs": [],
   "source": [
    "%sql\n",
    "CREATE SCHEMA IF NOT EXISTS IDENTIFIER(DA.schema)\n",
    "COMMENT 'Schema for fine-grained access control demo';\n",
    "USE SCHEMA IDENTIFIER(DA.schema);"
   ]
  },
  {
   "cell_type": "code",
   "execution_count": 0,
   "metadata": {
    "application/vnd.databricks.v1+cell": {
     "cellMetadata": {},
     "inputWidgets": {},
     "nuid": "04546f04-e818-47a8-ae6a-4bc2400a6c32",
     "showTitle": false,
     "tableResultSettingsMap": {},
     "title": ""
    }
   },
   "outputs": [],
   "source": [
    "# Cleanup existing shares and recipients before setup\n",
    "cleanup_commands = [\n",
    "    \"DROP RECIPIENT IF EXISTS us_partner\",\n",
    "    \"DROP RECIPIENT IF EXISTS eu_partner\",\n",
    "    \"DROP RECIPIENT IF EXISTS apac_partner\",\n",
    "    \"DROP SHARE IF EXISTS regional_orders_dynamic\",\n",
    "    \"DROP SHARE IF EXISTS us_orders_share\", \n",
    "    \"DROP SHARE IF EXISTS eu_orders_share\", \n",
    "]\n",
    "\n",
    "for cmd in cleanup_commands:\n",
    "    try:\n",
    "        spark.sql(cmd)\n",
    "    except Exception as e:\n",
    "        print(f\"Note: {cmd} - {str(e)}\")"
   ]
  },
  {
   "cell_type": "markdown",
   "metadata": {
    "application/vnd.databricks.v1+cell": {
     "cellMetadata": {},
     "inputWidgets": {},
     "nuid": "b7508b9e-d6aa-469e-aabc-a0aeb1de79d2",
     "showTitle": false,
     "tableResultSettingsMap": {},
     "title": ""
    }
   },
   "source": [
    "### Create and Populate Table for Dynamic View Demo\n",
    "Create and populate the table for the Dynamic View demo"
   ]
  },
  {
   "cell_type": "code",
   "execution_count": 0,
   "metadata": {
    "application/vnd.databricks.v1+cell": {
     "cellMetadata": {},
     "inputWidgets": {},
     "nuid": "f29ec2d3-579c-4af4-ae30-bcfbec27238c",
     "showTitle": false,
     "tableResultSettingsMap": {},
     "title": ""
    }
   },
   "outputs": [],
   "source": [
    "%sql\n",
    "-- Create source table with customer orders\n",
    "DROP TABLE IF EXISTS global_retail.sales.customer_orders;\n",
    "\n",
    "CREATE OR REPLACE TABLE global_retail.sales.customer_orders (\n",
    "  order_id STRING,\n",
    "  customer_name STRING,\n",
    "  email STRING,\n",
    "  region STRING,\n",
    "  product STRING,\n",
    "  amount DECIMAL(10,2),\n",
    "  order_date DATE\n",
    ")\n",
    "USING DELTA\n",
    "COMMENT 'Customer orders across all regions';"
   ]
  },
  {
   "cell_type": "code",
   "execution_count": 0,
   "metadata": {
    "application/vnd.databricks.v1+cell": {
     "cellMetadata": {},
     "inputWidgets": {},
     "nuid": "8e61d89a-ed2d-4c51-af84-08651e5ca02c",
     "showTitle": false,
     "tableResultSettingsMap": {},
     "title": ""
    }
   },
   "outputs": [],
   "source": [
    "%sql\n",
    "-- Insert sample data\n",
    "INSERT INTO global_retail.sales.customer_orders VALUES\n",
    "  -- North America\n",
    "  ('ORD001', 'John Smith', 'john@example.com', 'United States', 'Laptop', 1200.00, '2025-01-15'),\n",
    "  ('ORD002', 'Mary Johnson', 'mary@example.com', 'United States', 'Monitor', 350.00, '2025-01-16'),\n",
    "  \n",
    "  -- Europe  \n",
    "  ('ORD003', 'Hans Mueller', 'hans@example.com', 'Europe', 'Keyboard', 89.99, '2025-01-15'),\n",
    "  ('ORD004', 'Sophie Martin', 'sophie@example.com', 'Europe', 'Mouse', 45.00, '2025-01-17'),\n",
    "  \n",
    "  -- Asia Pacific\n",
    "  ('ORD005', 'Li Wei', 'li@example.com', 'Asia Pacific', 'Tablet', 599.00, '2025-01-16'),\n",
    "  ('ORD006', 'Yuki Tanaka', 'yuki@example.com', 'Asia Pacific', 'Headphones', 199.00, '2025-01-18');\n"
   ]
  },
  {
   "cell_type": "markdown",
   "metadata": {
    "application/vnd.databricks.v1+cell": {
     "cellMetadata": {},
     "inputWidgets": {},
     "nuid": "4af96253-27f1-435e-9765-552762784ca6",
     "showTitle": false,
     "tableResultSettingsMap": {},
     "title": ""
    }
   },
   "source": [
    "### Create and Populate Table for Partition Filtering Demo\n",
    "Create and populate the table for the Partition Filtering demo"
   ]
  },
  {
   "cell_type": "code",
   "execution_count": 0,
   "metadata": {
    "application/vnd.databricks.v1+cell": {
     "cellMetadata": {},
     "inputWidgets": {},
     "nuid": "c20a4eeb-ef29-42cf-aa43-7faae75f94d1",
     "showTitle": false,
     "tableResultSettingsMap": {},
     "title": ""
    }
   },
   "outputs": [],
   "source": [
    "%sql\n",
    "-- Create partitioned table\n",
    "DROP TABLE IF EXISTS global_retail.sales.orders_by_region;\n",
    "\n",
    "CREATE OR REPLACE TABLE global_retail.sales.orders_by_region (\n",
    "  order_id STRING,\n",
    "  customer_name STRING,\n",
    "  product STRING,\n",
    "  amount DECIMAL(10,2),\n",
    "  order_date DATE,\n",
    "  region STRING\n",
    ")\n",
    "USING DELTA\n",
    "PARTITIONED BY (region)\n",
    "COMMENT 'Orders partitioned by region for efficient filtering';"
   ]
  },
  {
   "cell_type": "code",
   "execution_count": 0,
   "metadata": {
    "application/vnd.databricks.v1+cell": {
     "cellMetadata": {},
     "inputWidgets": {},
     "nuid": "865e510c-a69f-4883-ace7-97cf9411ca87",
     "showTitle": false,
     "tableResultSettingsMap": {},
     "title": ""
    }
   },
   "outputs": [],
   "source": [
    "%sql\n",
    "-- Insert data (automatically partitioned by region)\n",
    "INSERT INTO global_retail.sales.orders_by_region VALUES\n",
    "  ('ORD001', 'John Smith', 'Laptop', 1200.00, '2025-01-15', 'United States'),\n",
    "  ('ORD002', 'Mary Johnson', 'Monitor', 350.00, '2025-01-16', 'United States'),\n",
    "  ('ORD003', 'Hans Mueller', 'Keyboard', 89.99, '2025-01-15', 'Europe'),\n",
    "  ('ORD004', 'Sophie Martin', 'Mouse', 45.00, '2025-01-17', 'Europe'),\n",
    "  ('ORD005', 'Li Wei', 'Tablet', 599.00, '2025-01-16', 'Asia Pacific'),\n",
    "  ('ORD006', 'Yuki Tanaka', 'Headphones', 199.00, '2025-01-18', 'Asia Pacific');"
   ]
  },
  {
   "cell_type": "code",
   "execution_count": 0,
   "metadata": {
    "application/vnd.databricks.v1+cell": {
     "cellMetadata": {},
     "inputWidgets": {},
     "nuid": "d8707957-a269-433d-8e74-7bf6f0b14445",
     "showTitle": false,
     "tableResultSettingsMap": {},
     "title": ""
    }
   },
   "outputs": [],
   "source": [
    "display_config_values(config_values)"
   ]
  }
 ],
 "metadata": {
  "application/vnd.databricks.v1+notebook": {
   "computePreferences": null,
   "dashboards": [],
   "environmentMetadata": null,
   "inputWidgetPreferences": null,
   "language": "python",
   "notebookMetadata": {
    "pythonIndentUnit": 4
   },
   "notebookName": "Demo-Setup-3.2",
   "widgets": {}
  },
  "language_info": {
   "name": "python"
  }
 },
 "nbformat": 4,
 "nbformat_minor": 0
}
