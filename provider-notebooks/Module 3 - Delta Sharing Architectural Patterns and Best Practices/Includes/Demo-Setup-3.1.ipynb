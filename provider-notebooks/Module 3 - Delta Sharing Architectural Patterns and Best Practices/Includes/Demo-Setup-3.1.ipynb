{
 "cells": [
  {
   "cell_type": "code",
   "execution_count": null,
   "metadata": {},
   "outputs": [],
   "source": [
    "# provider-notebooks/Module 3 - Delta Sharing Architectural Patterns and Best Practices/Includes/Demo-Setup-3.1.ipynb"
   ]
  },
  {
   "cell_type": "code",
   "execution_count": 0,
   "metadata": {},
   "outputs": [],
   "source": [
    "%run ./_common"
   ]
  },
  {
   "cell_type": "code",
   "execution_count": 0,
   "metadata": {},
   "outputs": [],
   "source": [
    "# Set variables in python and sql\n",
    "config_values = [\n",
    "    (\"catalog\", \"global_analytics\"),\n",
    "    (\"schema\", \"transactions\"),\n",
    "    (\"source_table\", \"transactions\"),\n",
    "    (\"replica_table\", \"transactions_r2_replica\"),\n",
    "    (\"r2_bucket\", \"global-analytics-replication\"),\n",
    "    (\"r2_path\", \"transactions/\"),\n",
    "]\n",
    "DA = create_da_objects(config_values)"
   ]
  },
  {
   "cell_type": "code",
   "execution_count": 0,
   "metadata": {},
   "outputs": [],
   "source": [
    "%sql\n",
    "CREATE CATALOG IF NOT EXISTS IDENTIFIER(DA.catalog)\n",
    "COMMENT 'Provider catalog for cross-cloud replication demo';\n",
    "USE CATALOG IDENTIFIER(DA.catalog);"
   ]
  },
  {
   "cell_type": "code",
   "execution_count": 0,
   "metadata": {},
   "outputs": [],
   "source": [
    "%sql\n",
    "CREATE SCHEMA IF NOT EXISTS IDENTIFIER(DA.schema)\n",
    "COMMENT 'Schema containing transaction data for R2 replication';\n",
    "USE SCHEMA IDENTIFIER(DA.schema);"
   ]
  },
  {
   "cell_type": "code",
   "execution_count": 0,
   "metadata": {},
   "outputs": [],
   "source": [
    "display_config_values(config_values)"
   ]
  }
 ],
 "metadata": {
  "language_info": {
   "name": "python"
  }
 },
 "nbformat": 4,
 "nbformat_minor": 0
}