{
 "cells": [
  {
   "cell_type": "code",
   "execution_count": null,
   "metadata": {},
   "outputs": [],
   "source": [
    "# provider-notebooks/Module 3 - Delta Sharing Architectural Patterns and Best Practices/Includes/Demo-Setup-3.1.ipynb"
   ]
  },
  {
   "cell_type": "code",
   "execution_count": 0,
   "metadata": {},
   "outputs": [],
   "source": [
    "%run ./_common"
   ]
  },
  {
   "cell_type": "code",
   "execution_count": 0,
   "metadata": {},
   "outputs": [],
   "source": [
    "# Set variables in python and sql\n",
    "config_values = [\n",
    "    (\"catalog\", \"global_analytics\"),\n",
    "    (\"schema\", \"transactions\"),\n",
    "    (\"source_table\", \"transactions\"),\n",
    "    (\"replica_table\", \"transactions_r2_replica\"),\n",
    "    (\"r2_bucket\", \"global-analytics-replication\"),\n",
    "    (\"r2_path\", \"transactions/\"),\n",
    "]\n",
    "DA = create_da_objects(config_values)"
   ]
  },
  {
   "cell_type": "code",
   "execution_count": 0,
   "metadata": {},
   "outputs": [],
   "source": [
    "%sql\n",
    "CREATE CATALOG IF NOT EXISTS IDENTIFIER(DA.catalog)\n",
    "COMMENT 'Provider catalog for cross-cloud replication demo';\n",
    "USE CATALOG IDENTIFIER(DA.catalog);"
   ]
  },
  {
   "cell_type": "code",
   "execution_count": 0,
   "metadata": {},
   "outputs": [],
   "source": [
    "%sql\n",
    "CREATE SCHEMA IF NOT EXISTS IDENTIFIER(DA.schema)\n",
    "COMMENT 'Schema containing transaction data for R2 replication';\n",
    "USE SCHEMA IDENTIFIER(DA.schema);"
   ]
  },
  {
   "cell_type": "code",
   "execution_count": 0,
   "metadata": {},
   "outputs": [],
   "source": [
    "display_config_values(config_values)"
   ]
  },
  {
   "cell_type": "code",
   "execution_count": null,
   "metadata": {},
   "outputs": [],
   "source": [
    "# Cleanup existing resources before setup to ensure idempotent demo runs\n",
    "print(\"Cleaning up existing resources...\")\n",
    "\n",
    "cleanup_commands = [\n",
    "    # Drop existing tables first\n",
    "    f\"DROP TABLE IF EXISTS {DA.catalog}.{DA.schema}.{DA.source_table}\",\n",
    "    f\"DROP TABLE IF EXISTS {DA.catalog}.{DA.schema}.{DA.replica_table}\",\n",
    "    # Drop external location and storage credential\n",
    "    \"DROP EXTERNAL LOCATION IF EXISTS r2_location\",\n",
    "    \"DROP STORAGE CREDENTIAL IF EXISTS r2_credential\",\n",
    "]\n",
    "\n",
    "for cmd in cleanup_commands:\n",
    "    try:\n",
    "        spark.sql(cmd)\n",
    "        print(f\"✓ {cmd}\")\n",
    "    except Exception as e:\n",
    "        print(f\"Note: {cmd} - {str(e)}\")\n",
    "\n",
    "print(\"Cleanup completed.\")"
   ]
  },
  {
   "cell_type": "code",
   "execution_count": null,
   "metadata": {
    "vscode": {
     "languageId": "sql"
    }
   },
   "outputs": [],
   "source": [
    "-- Create and populate the source table with sample transaction data\n",
    "CREATE OR REPLACE TABLE IDENTIFIER(CONCAT(DA.catalog, '.', DA.schema, '.', DA.source_table)) (\n",
    "  transaction_id STRING,\n",
    "  customer_id STRING,\n",
    "  product_category STRING,\n",
    "  amount DECIMAL(10,2),\n",
    "  transaction_date DATE,\n",
    "  region STRING,\n",
    "  created_at TIMESTAMP\n",
    ")\n",
    "PARTITIONED BY (transaction_date)\n",
    "TBLPROPERTIES (\n",
    "  'delta.enableChangeDataFeed' = 'true',\n",
    "  'delta.autoOptimize.optimizeWrite' = 'true'\n",
    ")\n",
    "COMMENT 'Source transaction table with Change Data Feed enabled for R2 replication'"
   ]
  },
  {
   "cell_type": "code",
   "execution_count": null,
   "metadata": {
    "vscode": {
     "languageId": "sql"
    }
   },
   "outputs": [],
   "source": [
    "-- Insert initial sample data for the demo\n",
    "INSERT INTO IDENTIFIER(CONCAT(DA.catalog, '.', DA.schema, '.', DA.source_table))\n",
    "VALUES \n",
    "  ('txn_001', 'cust_001', 'Electronics', 299.99, '2024-10-01', 'North America', '2024-10-01T10:00:00'),\n",
    "  ('txn_002', 'cust_002', 'Clothing', 79.50, '2024-10-01', 'Europe', '2024-10-01T10:15:00'),\n",
    "  ('txn_003', 'cust_003', 'Books', 24.99, '2024-10-01', 'Asia Pacific', '2024-10-01T10:30:00'),\n",
    "  ('txn_004', 'cust_004', 'Home & Garden', 149.00, '2024-10-02', 'Latin America', '2024-10-02T09:00:00'),\n",
    "  ('txn_005', 'cust_005', 'Sports', 89.99, '2024-10-02', 'North America', '2024-10-02T09:15:00'),\n",
    "  ('txn_006', 'cust_006', 'Electronics', 599.99, '2024-10-02', 'Europe', '2024-10-02T14:00:00'),\n",
    "  ('txn_007', 'cust_007', 'Clothing', 159.50, '2024-10-03', 'Asia Pacific', '2024-10-03T08:00:00'),\n",
    "  ('txn_008', 'cust_008', 'Books', 45.99, '2024-10-03', 'North America', '2024-10-03T11:00:00'),\n",
    "  ('txn_009', 'cust_009', 'Sports', 199.99, '2024-10-03', 'Europe', '2024-10-03T16:30:00'),\n",
    "  ('txn_010', 'cust_010', 'Home & Garden', 299.00, '2024-10-04', 'Asia Pacific', '2024-10-04T13:45:00')"
   ]
  },
  {
   "cell_type": "code",
   "execution_count": null,
   "metadata": {
    "vscode": {
     "languageId": "sql"
    }
   },
   "outputs": [],
   "source": [
    "-- Verify the setup is complete\n",
    "SELECT \n",
    "  'Source Table Setup' as status,\n",
    "  COUNT(*) as record_count,\n",
    "  MIN(transaction_date) as earliest_date,\n",
    "  MAX(transaction_date) as latest_date,\n",
    "  ROUND(SUM(amount), 2) as total_amount\n",
    "FROM IDENTIFIER(CONCAT(DA.catalog, '.', DA.schema, '.', DA.source_table))"
   ]
  },
  {
   "cell_type": "code",
   "execution_count": null,
   "metadata": {},
   "outputs": [],
   "source": [
    "print(\"=\" * 80)\n",
    "print(\"🚀 Demo Setup 3.1 Complete!\")\n",
    "print(\"=\" * 80)\n",
    "print(f\"✓ Catalog: {DA.catalog}\")\n",
    "print(f\"✓ Schema: {DA.schema}\")\n",
    "print(f\"✓ Source Table: {DA.source_table} (with Change Data Feed enabled)\")\n",
    "print(f\"✓ R2 Replica Table: {DA.replica_table} (ready to be created)\")\n",
    "print(f\"✓ R2 Bucket: {DA.r2_bucket}\")\n",
    "print(f\"✓ R2 Path: {DA.r2_path}\")\n",
    "print(\"\")\n",
    "print(\"📊 Sample data loaded - ready for cross-cloud replication demo!\")\n",
    "print(\"🔄 Environment is clean and idempotent for repeated demo runs\")\n",
    "print(\"=\" * 80)"
   ]
  }
 ],
 "metadata": {
  "language_info": {
   "name": "python"
  }
 },
 "nbformat": 4,
 "nbformat_minor": 0
}
