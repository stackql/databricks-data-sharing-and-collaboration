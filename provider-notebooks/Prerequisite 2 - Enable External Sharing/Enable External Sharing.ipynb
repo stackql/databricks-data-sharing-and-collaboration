{
 "cells": [
  {
   "cell_type": "markdown",
   "id": "0202e28d",
   "metadata": {},
   "source": [
    "<div style=\"text-align: center; line-height: 0; padding-top: 9px;\">\n",
    "  <img\n",
    "    src=\"https://github.com/stackql/databricks-data-sharing-and-collaboration/blob/main/images/step%201%20-%20enable%20external%20data%20sharing%20-%20account.png?raw=true\"\n",
    "    alt=\"Enable Delta Sharing (Account level)\"\n",
    "  >\n",
    "</div>"
   ]
  },
  {
   "cell_type": "code",
   "execution_count": null,
   "id": "01e15e7c",
   "metadata": {
    "vscode": {
     "languageId": "plaintext"
    }
   },
   "outputs": [],
   "source": [
    "%md\n",
    "<div style=\"text-align: center; line-height: 0; padding-top: 9px;\">\n",
    "  <img\n",
    "    src=\"https://github.com/stackql/databricks-data-sharing-and-collaboration/blob/main/images/step%202%20-%20enable%20external%20data%20sharing%20-%20workspace.png?raw=true\"\n",
    "    alt=\"Enable Delta Sharing (Workspace view)\"\n",
    "  >\n",
    "</div>"
   ]
  }
 ],
 "metadata": {
  "language_info": {
   "name": "python"
  }
 },
 "nbformat": 4,
 "nbformat_minor": 5
}
