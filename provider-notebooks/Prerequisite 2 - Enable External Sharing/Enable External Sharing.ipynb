{
 "cells": [
  {
   "cell_type": "markdown",
   "metadata": {
    "application/vnd.databricks.v1+cell": {
     "cellMetadata": {},
     "inputWidgets": {},
     "nuid": "35a72370-320e-4fdc-962e-9079a9ee64b0",
     "showTitle": false,
     "tableResultSettingsMap": {},
     "title": ""
    }
   },
   "source": [
    "# Enabling External Sharing on the Metastore\n",
    "\n",
    "ℹ️ If you're using Databricks Free Edition, external sharing is enabled automatically. This notebook is for reference only to understand what happens in production environments.\n",
    "\n",
    "## Overview\n",
    "\n",
    "Before you can share data with external organizations using Delta Sharing (D2D or D2O), you need to enable external sharing on your metastore. This is a security setting that controls whether data can be shared outside your Databricks organization.  \n",
    "\n",
    "## Enabling External Sharing\n",
    "\n",
    "This is typically done by a **Metastore Admin** at the __account level__ as seen below:\n",
    "\n",
    "1. Navigate to **Catalog** in the Databricks workspace\n",
    "2. Select your metastore (e.g., `metastore_aws_us_east_1`)\n",
    "3. Go to the **Configuration** tab\n",
    "4. Under **Delta Sharing**, check the box:\n",
    "   - ☑️ **Allow Delta Sharing with parties outside your organization**\n",
    "5. Optionally configure:\n",
    "   - **Delta Sharing recipient token lifetime** (default: 3 months)\n",
    "   - **Organization name** (appears to recipients)\n",
    "\n",
    "Enabling this setting is a one-time configuration step that unlocks Delta Sharing capabilities for your organization."
   ]
  },
  {
   "cell_type": "markdown",
   "metadata": {
    "application/vnd.databricks.v1+cell": {
     "cellMetadata": {},
     "inputWidgets": {},
     "nuid": "a721166a-30ca-44f6-b9c1-33b6d6c9a2f8",
     "showTitle": false,
     "tableResultSettingsMap": {},
     "title": ""
    }
   },
   "source": [
    "<div style=\"text-align: center; line-height: 0; padding-top: 9px;\">\n",
    "  <img\n",
    "    src=\"https://github.com/stackql/databricks-data-sharing-and-collaboration/blob/main/images/step%201%20-%20enable%20external%20data%20sharing%20-%20account.png?raw=true\"\n",
    "    alt=\"Enable Delta Sharing (Account level)\"\n",
    "  >\n",
    "</div>"
   ]
  },
  {
   "cell_type": "markdown",
   "metadata": {
    "application/vnd.databricks.v1+cell": {
     "cellMetadata": {},
     "inputWidgets": {},
     "nuid": "64cfb6f4-6ca8-4c20-8a54-7085a70d45d3",
     "showTitle": false,
     "tableResultSettingsMap": {},
     "title": ""
    }
   },
   "source": [
    "## What Happens Next\n",
    "\n",
    "Once external sharing is enabled, you can see these settings propogated at the __Workspace__ level by navigating to __Catalog Explorer__, then click on the ⚙️ icon, and then the __Delta Sharing__ menu option, you will see a dialog like the below - confirming the account level metastore config is reflected at the workspace level for the provider."
   ]
  },
  {
   "cell_type": "markdown",
   "metadata": {
    "application/vnd.databricks.v1+cell": {
     "cellMetadata": {},
     "inputWidgets": {},
     "nuid": "d62e3a36-06a7-4a67-ab5b-b200ae18dfbb",
     "showTitle": false,
     "tableResultSettingsMap": {},
     "title": ""
    },
    "vscode": {
     "languageId": "plaintext"
    }
   },
   "source": [
    "<div style=\"text-align: center; line-height: 0; padding-top: 9px;\">\n",
    "  <img\n",
    "    src=\"https://github.com/stackql/databricks-data-sharing-and-collaboration/blob/main/images/step%202%20-%20enable%20external%20data%20sharing%20-%20workspace.png?raw=true\"\n",
    "    alt=\"Enable Delta Sharing (Workspace view)\"\n",
    "  >\n",
    "</div>"
   ]
  },
  {
   "cell_type": "markdown",
   "metadata": {
    "application/vnd.databricks.v1+cell": {
     "cellMetadata": {},
     "inputWidgets": {},
     "nuid": "f58d1350-55f2-4923-9e0f-6608f05ccf1d",
     "showTitle": false,
     "tableResultSettingsMap": {},
     "title": ""
    }
   },
   "source": [
    "## Next Steps\n",
    "\n",
    "With **External Sharing** completed from the metastore assigned to the provider's workspace, we can now continue with the demonstrations and labs, starting with [**2.1 DEMO Implementing Delta Sharing (D2D)**]($../Module 2 - Delta Sharing Deep Dive/2.1 DEMO Implementing Delta Sharing %28D2D%29/2.1 DEMO Implementing Delta Sharing %28D2D%29 %28Provider%29)."
   ]
  }
 ],
 "metadata": {
  "application/vnd.databricks.v1+notebook": {
   "computePreferences": null,
   "dashboards": [],
   "environmentMetadata": null,
   "inputWidgetPreferences": null,
   "language": "python",
   "notebookMetadata": {
    "pythonIndentUnit": 4
   },
   "notebookName": "Enable External Sharing",
   "widgets": {}
  },
  "language_info": {
   "name": "python"
  }
 },
 "nbformat": 4,
 "nbformat_minor": 0
}
