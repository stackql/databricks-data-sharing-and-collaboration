{
 "cells": [
  {
   "cell_type": "markdown",
   "id": "9fa3a62c",
   "metadata": {},
   "source": [
    "# 2.2 LAB: Implementing Delta Sharing (Databricks-to-Databricks)\n",
    "\n",
    "## Recipient Workspace - Hands-On Lab\n",
    "\n",
    "**Learning Objectives:**\n",
    "- Activate a Delta Share using an activation link\n",
    "- Create a catalog from shared data\n",
    "- Query and analyze shared tables\n",
    "- Create local views and transformations\n",
    "- Understand recipient permissions\n",
    "\n",
    "**Scenario:**\n",
    "You are a data analyst at a retail company. Your wholesale supplier has shared product inventory and order data with you via Delta Sharing. Your task is to access and analyze this data.\n",
    "\n",
    "**Prerequisites:**\n",
    "- You must have received an activation link from the provider\n",
    "- The provider lab must be completed first\n",
    "\n",
    "**Instructions:**\n",
    "- Look for cells marked with `<FILL-IN>`\n",
    "- Complete the code based on the requirements in the preceding markdown cells\n",
    "- Run each cell to verify your solution"
   ]
  },
  {
   "cell_type": "code",
   "execution_count": null,
   "id": "79cbe91e",
   "metadata": {},
   "outputs": [],
   "source": [
    "%run ../../setup/00-recipient-setup"
   ]
  },
  {
   "cell_type": "markdown",
   "id": "c706fadb",
   "metadata": {},
   "source": [
    "## Exercise 1: Activate the Share\n",
    "\n",
    "**Prerequisites:** You must have received an activation link from the provider.\n",
    "\n",
    "The activation link looks like:\n",
    "```\n",
    "https://accounts.cloud.databricks.com/activation?activationCode=...\n",
    "```\n",
    "\n",
    "**Steps to activate:**\n",
    "1. Click on the activation link in your browser (or paste it)\n",
    "2. Log in to your Databricks workspace if prompted\n",
    "3. Review the share details\n",
    "4. Click \"Activate\" to accept the share\n",
    "5. Note the share name shown after activation\n",
    "\n",
    "**Once activated, proceed to Exercise 2**"
   ]
  },
  {
   "cell_type": "markdown",
   "id": "5d0aaa77",
   "metadata": {},
   "source": [
    "## Exercise 2: Create a Catalog from the Share\n",
    "\n",
    "**Requirements:**\n",
    "1. Create a catalog called `${c.recipient_catalog}` using the activated share\n",
    "2. The share reference format is: `<provider-workspace-name>.<share_name>`\n",
    "3. Add a comment: 'Catalog for accessing shared wholesale data'\n",
    "4. Verify the catalog was created\n",
    "\n",
    "**Hint:**\n",
    "- Use `CREATE CATALOG ... USING SHARE ...`\n",
    "- Replace `<provider-workspace-name>` with the actual provider workspace name from the activation\n",
    "- Use `${c.share_name}` for the share name\n",
    "- Example: `USING SHARE \\`e2-demo-west\\`.${c.share_name}`"
   ]
  },
  {
   "cell_type": "code",
   "execution_count": null,
   "id": "5872a3dc",
   "metadata": {},
   "outputs": [],
   "source": [
    "-- TODO: Create catalog from the share\n",
    "-- Remember to replace <provider-workspace-name> with actual workspace name\n",
    "<FILL-IN>"
   ]
  },
  {
   "cell_type": "markdown",
   "id": "138ca90c",
   "metadata": {},
   "source": [
    "## Exercise 3: Explore the Shared Data\n",
    "\n",
    "**Requirements:**\n",
    "1. List all schemas in the recipient catalog\n",
    "2. List all tables in the shared schema\n",
    "3. Describe one of the shared tables to see its structure\n",
    "\n",
    "**Hint:**\n",
    "- Use `SHOW SCHEMAS IN ...`\n",
    "- Use `SHOW TABLES IN ...`\n",
    "- Use `DESCRIBE TABLE ...` or `DESCRIBE EXTENDED ...`\n",
    "- The schema path will be: `${c.recipient_catalog}.<share_name>.wholesale_data`"
   ]
  },
  {
   "cell_type": "code",
   "execution_count": null,
   "id": "d29f3179",
   "metadata": {},
   "outputs": [],
   "source": [
    "-- TODO: List schemas in the catalog\n",
    "<FILL-IN>"
   ]
  },
  {
   "cell_type": "code",
   "execution_count": null,
   "id": "ab877f02",
   "metadata": {},
   "outputs": [],
   "source": [
    "-- TODO: List tables in the shared schema\n",
    "-- Note: The schema path includes the share name\n",
    "<FILL-IN>"
   ]
  },
  {
   "cell_type": "code",
   "execution_count": null,
   "id": "c73d3fb4",
   "metadata": {},
   "outputs": [],
   "source": [
    "-- TODO: Describe the products table\n",
    "<FILL-IN>"
   ]
  },
  {
   "cell_type": "markdown",
   "id": "d5090023",
   "metadata": {},
   "source": [
    "## Exercise 4: Query Shared Tables\n",
    "\n",
    "**Requirements:**\n",
    "1. Select all products from the shared products table\n",
    "2. Select all orders from the shared orders table\n",
    "3. Order the results appropriately\n",
    "\n",
    "**Hint:**\n",
    "- Table path format: `${c.recipient_catalog}.<share_name>.wholesale_data.<table_name>`\n",
    "- You'll need to construct the full path or set variables"
   ]
  },
  {
   "cell_type": "code",
   "execution_count": null,
   "id": "190472a0",
   "metadata": {},
   "outputs": [],
   "source": [
    "-- TODO: Query all products\n",
    "<FILL-IN>"
   ]
  },
  {
   "cell_type": "code",
   "execution_count": null,
   "id": "2a23c5d9",
   "metadata": {},
   "outputs": [],
   "source": [
    "-- TODO: Query all orders\n",
    "<FILL-IN>"
   ]
  },
  {
   "cell_type": "markdown",
   "id": "d2db182c",
   "metadata": {},
   "source": [
    "## Exercise 5: Analyze Shared Data\n",
    "\n",
    "**Requirements:**\n",
    "1. Write a query to count products by category\n",
    "2. Calculate total order value by customer\n",
    "3. Find products that are below reorder level\n",
    "\n",
    "**Hint:**\n",
    "- Use `GROUP BY` for aggregations\n",
    "- Use `SUM()` for totals\n",
    "- Use `WHERE` to filter products"
   ]
  },
  {
   "cell_type": "code",
   "execution_count": null,
   "id": "adf5c7d9",
   "metadata": {},
   "outputs": [],
   "source": [
    "-- TODO: Count products by category\n",
    "<FILL-IN>"
   ]
  },
  {
   "cell_type": "code",
   "execution_count": null,
   "id": "e73cec41",
   "metadata": {},
   "outputs": [],
   "source": [
    "-- TODO: Calculate total order value by customer\n",
    "<FILL-IN>"
   ]
  },
  {
   "cell_type": "code",
   "execution_count": null,
   "id": "81086754",
   "metadata": {},
   "outputs": [],
   "source": [
    "-- TODO: Find products below reorder level\n",
    "-- (where stock_quantity < reorder_level)\n",
    "<FILL-IN>"
   ]
  },
  {
   "cell_type": "markdown",
   "id": "9e854f71",
   "metadata": {},
   "source": [
    "## Exercise 6: Join Shared Tables\n",
    "\n",
    "**Requirements:**\n",
    "1. Join products and orders tables\n",
    "2. Show: product_name, category, customer_name, quantity ordered, total_amount\n",
    "3. Order by total_amount descending\n",
    "\n",
    "**Hint:**\n",
    "- Join on product_id\n",
    "- Select columns from both tables\n",
    "- Use table aliases for clarity"
   ]
  },
  {
   "cell_type": "code",
   "execution_count": null,
   "id": "4f3dff08",
   "metadata": {},
   "outputs": [],
   "source": [
    "-- TODO: Join products and orders\n",
    "<FILL-IN>"
   ]
  },
  {
   "cell_type": "markdown",
   "id": "4f008d0b",
   "metadata": {},
   "source": [
    "## Exercise 7: Create Local Analysis View\n",
    "\n",
    "**Requirements:**\n",
    "1. Create a local schema in your workspace for analysis (use `main` catalog or your default catalog)\n",
    "2. Create a view that shows product performance metrics\n",
    "3. The view should include:\n",
    "   - product_id, product_name, category\n",
    "   - total_orders (count of orders)\n",
    "   - total_quantity_sold (sum of quantity)\n",
    "   - total_revenue (sum of total_amount)\n",
    "   - current_stock\n",
    "\n",
    "**Hint:**\n",
    "- Use `CREATE SCHEMA IF NOT EXISTS`\n",
    "- Use `CREATE OR REPLACE VIEW`\n",
    "- Join products and orders with aggregation\n",
    "- Use `LEFT JOIN` to include products with no orders"
   ]
  },
  {
   "cell_type": "code",
   "execution_count": null,
   "id": "f44fbbed",
   "metadata": {},
   "outputs": [],
   "source": [
    "-- TODO: Create a local schema for analysis\n",
    "<FILL-IN>"
   ]
  },
  {
   "cell_type": "code",
   "execution_count": null,
   "id": "5b968364",
   "metadata": {},
   "outputs": [],
   "source": [
    "-- TODO: Create a view for product performance\n",
    "<FILL-IN>"
   ]
  },
  {
   "cell_type": "code",
   "execution_count": null,
   "id": "a2ee4ca8",
   "metadata": {},
   "outputs": [],
   "source": [
    "-- TODO: Query your view to see the results\n",
    "<FILL-IN>"
   ]
  },
  {
   "cell_type": "markdown",
   "id": "18d02bbd",
   "metadata": {},
   "source": [
    "## Exercise 8: Test Recipient Limitations\n",
    "\n",
    "**Requirements:**\n",
    "1. Try to insert data into a shared table (this should fail)\n",
    "2. Try to update a shared table (this should fail)\n",
    "3. Try to delete from a shared table (this should fail)\n",
    "\n",
    "**Hint:**\n",
    "- Comment out these statements or expect them to fail\n",
    "- This demonstrates read-only access"
   ]
  },
  {
   "cell_type": "code",
   "execution_count": null,
   "id": "c4c1c024",
   "metadata": {},
   "outputs": [],
   "source": [
    "-- TODO: Try to insert (this will fail - that's expected!)\n",
    "-- Uncomment to test:\n",
    "-- INSERT INTO <shared_products_table> VALUES (999, 'Test Product', 'Test', 1.00, 1, 1, 'Test');"
   ]
  },
  {
   "cell_type": "code",
   "execution_count": null,
   "id": "3c54c877",
   "metadata": {},
   "outputs": [],
   "source": [
    "-- TODO: Try to update (this will fail - that's expected!)\n",
    "-- Uncomment to test:\n",
    "-- UPDATE <shared_products_table> SET unit_price = 999.99 WHERE product_id = 1;"
   ]
  },
  {
   "cell_type": "code",
   "execution_count": null,
   "id": "08716ee4",
   "metadata": {},
   "outputs": [],
   "source": [
    "-- TODO: Try to delete (this will fail - that's expected!)\n",
    "-- Uncomment to test:\n",
    "-- DELETE FROM <shared_products_table> WHERE product_id = 1;"
   ]
  },
  {
   "cell_type": "markdown",
   "id": "79840cf3",
   "metadata": {},
   "source": [
    "## Lab Complete! 🎉\n",
    "\n",
    "**What you accomplished:**\n",
    "\n",
    "✅ Activated a Delta Share\n",
    "✅ Created a catalog from the shared data\n",
    "✅ Explored shared schemas and tables\n",
    "✅ Queried shared data with SQL\n",
    "✅ Performed analytical queries and joins\n",
    "✅ Created local views for analysis\n",
    "✅ Understood recipient limitations (read-only access)\n",
    "\n",
    "**Key Takeaways:**\n",
    "- 🔒 **Secure Access**: Recipients have read-only access to shared data\n",
    "- ⚡ **Real-time Data**: Changes in provider tables are immediately visible\n",
    "- 💾 **No Data Duplication**: Query data directly without copying\n",
    "- 🔧 **Full SQL Capabilities**: Use joins, aggregations, and complex queries\n",
    "- 📊 **Local Analysis**: Create views and transformations in your workspace\n",
    "- 🚫 **No Modification**: Cannot insert, update, or delete shared data\n",
    "\n",
    "**Best Practices:**\n",
    "- Create local views to simplify repeated queries\n",
    "- Materialize shared data locally only when necessary\n",
    "- Document your analysis and transformations\n",
    "- Respect data sharing agreements and use data appropriately"
   ]
  },
  {
   "cell_type": "markdown",
   "id": "02919d45",
   "metadata": {},
   "source": [
    "# 2.2 LAB: Implementing Delta Sharing (Databricks-to-Databricks)\n",
    "\n",
    "## Recipient Workspace - Hands-On Lab\n",
    "\n",
    "**Learning Objectives:**\n",
    "- Activate a Delta Share using an activation link\n",
    "- Create a catalog from shared data\n",
    "- Query and analyze shared tables\n",
    "- Create local views and transformations\n",
    "- Understand recipient permissions\n",
    "\n",
    "**Scenario:**\n",
    "You are a data analyst at a retail company. Your wholesale supplier has shared product inventory and order data with you via Delta Sharing. Your task is to access and analyze this data.\n",
    "\n",
    "**Prerequisites:**\n",
    "- You must have received an activation link from the provider\n",
    "- The provider lab must be completed first\n",
    "\n",
    "**Instructions:**\n",
    "- Look for cells marked with `<FILL-IN>`\n",
    "- Complete the code based on the requirements in the preceding markdown cells\n",
    "- Run each cell to verify your solution"
   ]
  },
  {
   "cell_type": "code",
   "execution_count": null,
   "id": "c246c387",
   "metadata": {},
   "outputs": [],
   "source": [
    "%run ../../setup/00-recipient-setup"
   ]
  },
  {
   "cell_type": "markdown",
   "id": "b13f2da3",
   "metadata": {},
   "source": [
    "## Exercise 1: Activate the Share\n",
    "\n",
    "**Prerequisites:** You must have received an activation link from the provider.\n",
    "\n",
    "The activation link looks like:\n",
    "```\n",
    "https://accounts.cloud.databricks.com/activation?activationCode=...\n",
    "```\n",
    "\n",
    "**Steps to activate:**\n",
    "1. Click on the activation link in your browser (or paste it)\n",
    "2. Log in to your Databricks workspace if prompted\n",
    "3. Review the share details\n",
    "4. Click \"Activate\" to accept the share\n",
    "5. Note the share name shown after activation\n",
    "\n",
    "**Once activated, proceed to Exercise 2**"
   ]
  },
  {
   "cell_type": "markdown",
   "id": "3a55e569",
   "metadata": {},
   "source": [
    "## Exercise 2: Create a Catalog from the Share\n",
    "\n",
    "**Requirements:**\n",
    "1. Create a catalog called `${c.recipient_catalog}` using the activated share\n",
    "2. The share reference format is: `<provider-workspace-name>.<share_name>`\n",
    "3. Add a comment: 'Catalog for accessing shared wholesale data'\n",
    "4. Verify the catalog was created\n",
    "\n",
    "**Hint:**\n",
    "- Use `CREATE CATALOG ... USING SHARE ...`\n",
    "- Replace `<provider-workspace-name>` with the actual provider workspace name from the activation\n",
    "- Use `${c.share_name}` for the share name\n",
    "- Example: `USING SHARE \\`e2-demo-west\\`.${c.share_name}`"
   ]
  },
  {
   "cell_type": "code",
   "execution_count": null,
   "id": "0fe67d1f",
   "metadata": {},
   "outputs": [],
   "source": [
    "-- TODO: Create catalog from the share\n",
    "-- Remember to replace <provider-workspace-name> with actual workspace name\n",
    "<FILL-IN>"
   ]
  },
  {
   "cell_type": "markdown",
   "id": "85f53e9b",
   "metadata": {},
   "source": [
    "## Exercise 3: Explore the Shared Data\n",
    "\n",
    "**Requirements:**\n",
    "1. List all schemas in the recipient catalog\n",
    "2. List all tables in the shared schema\n",
    "3. Describe one of the shared tables to see its structure\n",
    "\n",
    "**Hint:**\n",
    "- Use `SHOW SCHEMAS IN ...`\n",
    "- Use `SHOW TABLES IN ...`\n",
    "- Use `DESCRIBE TABLE ...` or `DESCRIBE EXTENDED ...`\n",
    "- The schema path will be: `${c.recipient_catalog}.<share_name>.wholesale_data`"
   ]
  },
  {
   "cell_type": "code",
   "execution_count": null,
   "id": "a82c411e",
   "metadata": {},
   "outputs": [],
   "source": [
    "-- TODO: List schemas in the catalog\n",
    "<FILL-IN>"
   ]
  },
  {
   "cell_type": "code",
   "execution_count": null,
   "id": "a5da8c76",
   "metadata": {},
   "outputs": [],
   "source": [
    "-- TODO: List tables in the shared schema\n",
    "-- Note: The schema path includes the share name\n",
    "<FILL-IN>"
   ]
  },
  {
   "cell_type": "code",
   "execution_count": null,
   "id": "41186694",
   "metadata": {},
   "outputs": [],
   "source": [
    "-- TODO: Describe the products table\n",
    "<FILL-IN>"
   ]
  },
  {
   "cell_type": "markdown",
   "id": "9cf605dd",
   "metadata": {},
   "source": [
    "## Exercise 4: Query Shared Tables\n",
    "\n",
    "**Requirements:**\n",
    "1. Select all products from the shared products table\n",
    "2. Select all orders from the shared orders table\n",
    "3. Order the results appropriately\n",
    "\n",
    "**Hint:**\n",
    "- Table path format: `${c.recipient_catalog}.<share_name>.wholesale_data.<table_name>`\n",
    "- You'll need to construct the full path or set variables"
   ]
  },
  {
   "cell_type": "code",
   "execution_count": null,
   "id": "52c3069a",
   "metadata": {},
   "outputs": [],
   "source": [
    "-- TODO: Query all products\n",
    "<FILL-IN>"
   ]
  },
  {
   "cell_type": "code",
   "execution_count": null,
   "id": "e404ceb1",
   "metadata": {},
   "outputs": [],
   "source": [
    "-- TODO: Query all orders\n",
    "<FILL-IN>"
   ]
  },
  {
   "cell_type": "markdown",
   "id": "7bac154e",
   "metadata": {},
   "source": [
    "## Exercise 5: Analyze Shared Data\n",
    "\n",
    "**Requirements:**\n",
    "1. Write a query to count products by category\n",
    "2. Calculate total order value by customer\n",
    "3. Find products that are below reorder level\n",
    "\n",
    "**Hint:**\n",
    "- Use `GROUP BY` for aggregations\n",
    "- Use `SUM()` for totals\n",
    "- Use `WHERE` to filter products"
   ]
  },
  {
   "cell_type": "code",
   "execution_count": null,
   "id": "1bd5173d",
   "metadata": {},
   "outputs": [],
   "source": [
    "-- TODO: Count products by category\n",
    "<FILL-IN>"
   ]
  },
  {
   "cell_type": "code",
   "execution_count": null,
   "id": "718056af",
   "metadata": {},
   "outputs": [],
   "source": [
    "-- TODO: Calculate total order value by customer\n",
    "<FILL-IN>"
   ]
  },
  {
   "cell_type": "code",
   "execution_count": null,
   "id": "f032c95c",
   "metadata": {},
   "outputs": [],
   "source": [
    "-- TODO: Find products below reorder level\n",
    "-- (where stock_quantity < reorder_level)\n",
    "<FILL-IN>"
   ]
  },
  {
   "cell_type": "markdown",
   "id": "7c0330ae",
   "metadata": {},
   "source": [
    "## Exercise 6: Join Shared Tables\n",
    "\n",
    "**Requirements:**\n",
    "1. Join products and orders tables\n",
    "2. Show: product_name, category, customer_name, quantity ordered, total_amount\n",
    "3. Order by total_amount descending\n",
    "\n",
    "**Hint:**\n",
    "- Join on product_id\n",
    "- Select columns from both tables\n",
    "- Use table aliases for clarity"
   ]
  },
  {
   "cell_type": "code",
   "execution_count": null,
   "id": "ca1d4f2d",
   "metadata": {},
   "outputs": [],
   "source": [
    "-- TODO: Join products and orders\n",
    "<FILL-IN>"
   ]
  },
  {
   "cell_type": "markdown",
   "id": "de6c5b68",
   "metadata": {},
   "source": [
    "## Exercise 7: Create Local Analysis View\n",
    "\n",
    "**Requirements:**\n",
    "1. Create a local schema in your workspace for analysis (use `main` catalog or your default catalog)\n",
    "2. Create a view that shows product performance metrics\n",
    "3. The view should include:\n",
    "   - product_id, product_name, category\n",
    "   - total_orders (count of orders)\n",
    "   - total_quantity_sold (sum of quantity)\n",
    "   - total_revenue (sum of total_amount)\n",
    "   - current_stock\n",
    "\n",
    "**Hint:**\n",
    "- Use `CREATE SCHEMA IF NOT EXISTS`\n",
    "- Use `CREATE OR REPLACE VIEW`\n",
    "- Join products and orders with aggregation\n",
    "- Use `LEFT JOIN` to include products with no orders"
   ]
  },
  {
   "cell_type": "code",
   "execution_count": null,
   "id": "e291977f",
   "metadata": {},
   "outputs": [],
   "source": [
    "-- TODO: Create a local schema for analysis\n",
    "<FILL-IN>"
   ]
  },
  {
   "cell_type": "code",
   "execution_count": null,
   "id": "16c5fc3e",
   "metadata": {},
   "outputs": [],
   "source": [
    "-- TODO: Create a view for product performance\n",
    "<FILL-IN>"
   ]
  },
  {
   "cell_type": "code",
   "execution_count": null,
   "id": "9bb35180",
   "metadata": {},
   "outputs": [],
   "source": [
    "-- TODO: Query your view to see the results\n",
    "<FILL-IN>"
   ]
  },
  {
   "cell_type": "markdown",
   "id": "864df873",
   "metadata": {},
   "source": [
    "## Exercise 8: Test Recipient Limitations\n",
    "\n",
    "**Requirements:**\n",
    "1. Try to insert data into a shared table (this should fail)\n",
    "2. Try to update a shared table (this should fail)\n",
    "3. Try to delete from a shared table (this should fail)\n",
    "\n",
    "**Hint:**\n",
    "- Comment out these statements or expect them to fail\n",
    "- This demonstrates read-only access"
   ]
  },
  {
   "cell_type": "code",
   "execution_count": null,
   "id": "1cd223ff",
   "metadata": {},
   "outputs": [],
   "source": [
    "-- TODO: Try to insert (this will fail - that's expected!)\n",
    "-- Uncomment to test:\n",
    "-- INSERT INTO <shared_products_table> VALUES (999, 'Test Product', 'Test', 1.00, 1, 1, 'Test');"
   ]
  },
  {
   "cell_type": "code",
   "execution_count": null,
   "id": "c4466218",
   "metadata": {},
   "outputs": [],
   "source": [
    "-- TODO: Try to update (this will fail - that's expected!)\n",
    "-- Uncomment to test:\n",
    "-- UPDATE <shared_products_table> SET unit_price = 999.99 WHERE product_id = 1;"
   ]
  },
  {
   "cell_type": "code",
   "execution_count": null,
   "id": "1dda7e5b",
   "metadata": {},
   "outputs": [],
   "source": [
    "-- TODO: Try to delete (this will fail - that's expected!)\n",
    "-- Uncomment to test:\n",
    "-- DELETE FROM <shared_products_table> WHERE product_id = 1;"
   ]
  },
  {
   "cell_type": "markdown",
   "id": "bfb9808f",
   "metadata": {},
   "source": [
    "## Lab Complete! 🎉\n",
    "\n",
    "**What you accomplished:**\n",
    "\n",
    "✅ Activated a Delta Share\n",
    "✅ Created a catalog from the shared data\n",
    "✅ Explored shared schemas and tables\n",
    "✅ Queried shared data with SQL\n",
    "✅ Performed analytical queries and joins\n",
    "✅ Created local views for analysis\n",
    "✅ Understood recipient limitations (read-only access)\n",
    "\n",
    "**Key Takeaways:**\n",
    "- 🔒 **Secure Access**: Recipients have read-only access to shared data\n",
    "- ⚡ **Real-time Data**: Changes in provider tables are immediately visible\n",
    "- 💾 **No Data Duplication**: Query data directly without copying\n",
    "- 🔧 **Full SQL Capabilities**: Use joins, aggregations, and complex queries\n",
    "- 📊 **Local Analysis**: Create views and transformations in your workspace\n",
    "- 🚫 **No Modification**: Cannot insert, update, or delete shared data\n",
    "\n",
    "**Best Practices:**\n",
    "- Create local views to simplify repeated queries\n",
    "- Materialize shared data locally only when necessary\n",
    "- Document your analysis and transformations\n",
    "- Respect data sharing agreements and use data appropriately"
   ]
  },
  {
   "cell_type": "markdown",
   "id": "5fc7b01b",
   "metadata": {},
   "source": [
    "# 2.2 LAB: Implementing Delta Sharing (Databricks-to-Databricks)\n",
    "\n",
    "## Recipient Workspace - Hands-On Lab\n",
    "\n",
    "**Learning Objectives:**\n",
    "- Activate a Delta Share using an activation link\n",
    "- Create a catalog from shared data\n",
    "- Query and analyze shared tables\n",
    "- Create local views and transformations\n",
    "- Understand recipient permissions\n",
    "\n",
    "**Scenario:**\n",
    "You are a data analyst at a retail company. Your wholesale supplier has shared product inventory and order data with you via Delta Sharing. Your task is to access and analyze this data.\n",
    "\n",
    "**Prerequisites:**\n",
    "- You must have received an activation link from the provider\n",
    "- The provider lab must be completed first\n",
    "\n",
    "**Instructions:**\n",
    "- Look for cells marked with `<FILL-IN>`\n",
    "- Complete the code based on the requirements in the preceding markdown cells\n",
    "- Run each cell to verify your solution"
   ]
  },
  {
   "cell_type": "code",
   "execution_count": null,
   "id": "e557c74f",
   "metadata": {},
   "outputs": [],
   "source": [
    "%run ../../setup/00-recipient-setup"
   ]
  },
  {
   "cell_type": "markdown",
   "id": "635bfe54",
   "metadata": {},
   "source": [
    "## Exercise 1: Activate the Share\n",
    "\n",
    "**Prerequisites:** You must have received an activation link from the provider.\n",
    "\n",
    "The activation link looks like:\n",
    "```\n",
    "https://accounts.cloud.databricks.com/activation?activationCode=...\n",
    "```\n",
    "\n",
    "**Steps to activate:**\n",
    "1. Click on the activation link in your browser (or paste it)\n",
    "2. Log in to your Databricks workspace if prompted\n",
    "3. Review the share details\n",
    "4. Click \"Activate\" to accept the share\n",
    "5. Note the share name shown after activation\n",
    "\n",
    "**Once activated, proceed to Exercise 2**"
   ]
  },
  {
   "cell_type": "markdown",
   "id": "afad7a2b",
   "metadata": {},
   "source": [
    "## Exercise 2: Create a Catalog from the Share\n",
    "\n",
    "**Requirements:**\n",
    "1. Create a catalog called `${c.recipient_catalog}` using the activated share\n",
    "2. The share reference format is: `<provider-workspace-name>.<share_name>`\n",
    "3. Add a comment: 'Catalog for accessing shared wholesale data'\n",
    "4. Verify the catalog was created\n",
    "\n",
    "**Hint:**\n",
    "- Use `CREATE CATALOG ... USING SHARE ...`\n",
    "- Replace `<provider-workspace-name>` with the actual provider workspace name from the activation\n",
    "- Use `${c.share_name}` for the share name\n",
    "- Example: `USING SHARE \\`e2-demo-west\\`.${c.share_name}`"
   ]
  },
  {
   "cell_type": "code",
   "execution_count": null,
   "id": "3b4784ed",
   "metadata": {},
   "outputs": [],
   "source": [
    "-- TODO: Create catalog from the share\n",
    "-- Remember to replace <provider-workspace-name> with actual workspace name\n",
    "<FILL-IN>"
   ]
  },
  {
   "cell_type": "markdown",
   "id": "516824dc",
   "metadata": {},
   "source": [
    "## Exercise 3: Explore the Shared Data\n",
    "\n",
    "**Requirements:**\n",
    "1. List all schemas in the recipient catalog\n",
    "2. List all tables in the shared schema\n",
    "3. Describe one of the shared tables to see its structure\n",
    "\n",
    "**Hint:**\n",
    "- Use `SHOW SCHEMAS IN ...`\n",
    "- Use `SHOW TABLES IN ...`\n",
    "- Use `DESCRIBE TABLE ...` or `DESCRIBE EXTENDED ...`\n",
    "- The schema path will be: `${c.recipient_catalog}.<share_name>.wholesale_data`"
   ]
  },
  {
   "cell_type": "code",
   "execution_count": null,
   "id": "15c119eb",
   "metadata": {},
   "outputs": [],
   "source": [
    "-- TODO: List schemas in the catalog\n",
    "<FILL-IN>"
   ]
  },
  {
   "cell_type": "code",
   "execution_count": null,
   "id": "a9819131",
   "metadata": {},
   "outputs": [],
   "source": [
    "-- TODO: List tables in the shared schema\n",
    "-- Note: The schema path includes the share name\n",
    "<FILL-IN>"
   ]
  },
  {
   "cell_type": "code",
   "execution_count": null,
   "id": "e3e159cd",
   "metadata": {},
   "outputs": [],
   "source": [
    "-- TODO: Describe the products table\n",
    "<FILL-IN>"
   ]
  },
  {
   "cell_type": "markdown",
   "id": "59d6124d",
   "metadata": {},
   "source": [
    "## Exercise 4: Query Shared Tables\n",
    "\n",
    "**Requirements:**\n",
    "1. Select all products from the shared products table\n",
    "2. Select all orders from the shared orders table\n",
    "3. Order the results appropriately\n",
    "\n",
    "**Hint:**\n",
    "- Table path format: `${c.recipient_catalog}.<share_name>.wholesale_data.<table_name>`\n",
    "- You'll need to construct the full path or set variables"
   ]
  },
  {
   "cell_type": "code",
   "execution_count": null,
   "id": "3c5886a6",
   "metadata": {},
   "outputs": [],
   "source": [
    "-- TODO: Query all products\n",
    "<FILL-IN>"
   ]
  },
  {
   "cell_type": "code",
   "execution_count": null,
   "id": "a28212f0",
   "metadata": {},
   "outputs": [],
   "source": [
    "-- TODO: Query all orders\n",
    "<FILL-IN>"
   ]
  },
  {
   "cell_type": "markdown",
   "id": "43b63564",
   "metadata": {},
   "source": [
    "## Exercise 5: Analyze Shared Data\n",
    "\n",
    "**Requirements:**\n",
    "1. Write a query to count products by category\n",
    "2. Calculate total order value by customer\n",
    "3. Find products that are below reorder level\n",
    "\n",
    "**Hint:**\n",
    "- Use `GROUP BY` for aggregations\n",
    "- Use `SUM()` for totals\n",
    "- Use `WHERE` to filter products"
   ]
  },
  {
   "cell_type": "code",
   "execution_count": null,
   "id": "b72129b5",
   "metadata": {},
   "outputs": [],
   "source": [
    "-- TODO: Count products by category\n",
    "<FILL-IN>"
   ]
  },
  {
   "cell_type": "code",
   "execution_count": null,
   "id": "ff82ed6c",
   "metadata": {},
   "outputs": [],
   "source": [
    "-- TODO: Calculate total order value by customer\n",
    "<FILL-IN>"
   ]
  },
  {
   "cell_type": "code",
   "execution_count": null,
   "id": "ccf26e12",
   "metadata": {},
   "outputs": [],
   "source": [
    "-- TODO: Find products below reorder level\n",
    "-- (where stock_quantity < reorder_level)\n",
    "<FILL-IN>"
   ]
  },
  {
   "cell_type": "markdown",
   "id": "250de128",
   "metadata": {},
   "source": [
    "## Exercise 6: Join Shared Tables\n",
    "\n",
    "**Requirements:**\n",
    "1. Join products and orders tables\n",
    "2. Show: product_name, category, customer_name, quantity ordered, total_amount\n",
    "3. Order by total_amount descending\n",
    "\n",
    "**Hint:**\n",
    "- Join on product_id\n",
    "- Select columns from both tables\n",
    "- Use table aliases for clarity"
   ]
  },
  {
   "cell_type": "code",
   "execution_count": null,
   "id": "79692010",
   "metadata": {},
   "outputs": [],
   "source": [
    "-- TODO: Join products and orders\n",
    "<FILL-IN>"
   ]
  },
  {
   "cell_type": "markdown",
   "id": "39bc953a",
   "metadata": {},
   "source": [
    "## Exercise 7: Create Local Analysis View\n",
    "\n",
    "**Requirements:**\n",
    "1. Create a local schema in your workspace for analysis (use `main` catalog or your default catalog)\n",
    "2. Create a view that shows product performance metrics\n",
    "3. The view should include:\n",
    "   - product_id, product_name, category\n",
    "   - total_orders (count of orders)\n",
    "   - total_quantity_sold (sum of quantity)\n",
    "   - total_revenue (sum of total_amount)\n",
    "   - current_stock\n",
    "\n",
    "**Hint:**\n",
    "- Use `CREATE SCHEMA IF NOT EXISTS`\n",
    "- Use `CREATE OR REPLACE VIEW`\n",
    "- Join products and orders with aggregation\n",
    "- Use `LEFT JOIN` to include products with no orders"
   ]
  },
  {
   "cell_type": "code",
   "execution_count": null,
   "id": "851b0bb5",
   "metadata": {},
   "outputs": [],
   "source": [
    "-- TODO: Create a local schema for analysis\n",
    "<FILL-IN>"
   ]
  },
  {
   "cell_type": "code",
   "execution_count": null,
   "id": "d2602e53",
   "metadata": {},
   "outputs": [],
   "source": [
    "-- TODO: Create a view for product performance\n",
    "<FILL-IN>"
   ]
  },
  {
   "cell_type": "code",
   "execution_count": null,
   "id": "a5a41530",
   "metadata": {},
   "outputs": [],
   "source": [
    "-- TODO: Query your view to see the results\n",
    "<FILL-IN>"
   ]
  },
  {
   "cell_type": "markdown",
   "id": "0f03aafa",
   "metadata": {},
   "source": [
    "## Exercise 8: Test Recipient Limitations\n",
    "\n",
    "**Requirements:**\n",
    "1. Try to insert data into a shared table (this should fail)\n",
    "2. Try to update a shared table (this should fail)\n",
    "3. Try to delete from a shared table (this should fail)\n",
    "\n",
    "**Hint:**\n",
    "- Comment out these statements or expect them to fail\n",
    "- This demonstrates read-only access"
   ]
  },
  {
   "cell_type": "code",
   "execution_count": null,
   "id": "20643f5a",
   "metadata": {},
   "outputs": [],
   "source": [
    "-- TODO: Try to insert (this will fail - that's expected!)\n",
    "-- Uncomment to test:\n",
    "-- INSERT INTO <shared_products_table> VALUES (999, 'Test Product', 'Test', 1.00, 1, 1, 'Test');"
   ]
  },
  {
   "cell_type": "code",
   "execution_count": null,
   "id": "d27a5cc8",
   "metadata": {},
   "outputs": [],
   "source": [
    "-- TODO: Try to update (this will fail - that's expected!)\n",
    "-- Uncomment to test:\n",
    "-- UPDATE <shared_products_table> SET unit_price = 999.99 WHERE product_id = 1;"
   ]
  },
  {
   "cell_type": "code",
   "execution_count": null,
   "id": "68241457",
   "metadata": {},
   "outputs": [],
   "source": [
    "-- TODO: Try to delete (this will fail - that's expected!)\n",
    "-- Uncomment to test:\n",
    "-- DELETE FROM <shared_products_table> WHERE product_id = 1;"
   ]
  },
  {
   "cell_type": "markdown",
   "id": "9178bcfb",
   "metadata": {},
   "source": [
    "## Lab Complete! 🎉\n",
    "\n",
    "**What you accomplished:**\n",
    "\n",
    "✅ Activated a Delta Share\n",
    "✅ Created a catalog from the shared data\n",
    "✅ Explored shared schemas and tables\n",
    "✅ Queried shared data with SQL\n",
    "✅ Performed analytical queries and joins\n",
    "✅ Created local views for analysis\n",
    "✅ Understood recipient limitations (read-only access)\n",
    "\n",
    "**Key Takeaways:**\n",
    "- 🔒 **Secure Access**: Recipients have read-only access to shared data\n",
    "- ⚡ **Real-time Data**: Changes in provider tables are immediately visible\n",
    "- 💾 **No Data Duplication**: Query data directly without copying\n",
    "- 🔧 **Full SQL Capabilities**: Use joins, aggregations, and complex queries\n",
    "- 📊 **Local Analysis**: Create views and transformations in your workspace\n",
    "- 🚫 **No Modification**: Cannot insert, update, or delete shared data\n",
    "\n",
    "**Best Practices:**\n",
    "- Create local views to simplify repeated queries\n",
    "- Materialize shared data locally only when necessary\n",
    "- Document your analysis and transformations\n",
    "- Respect data sharing agreements and use data appropriately"
   ]
  }
 ],
 "metadata": {
  "language_info": {
   "name": "python"
  }
 },
 "nbformat": 4,
 "nbformat_minor": 5
}
