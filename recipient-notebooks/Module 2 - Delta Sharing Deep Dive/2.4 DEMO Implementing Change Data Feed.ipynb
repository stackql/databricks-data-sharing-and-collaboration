{
 "cells": [
  {
   "cell_type": "markdown",
   "metadata": {
    "application/vnd.databricks.v1+cell": {
     "cellMetadata": {},
     "inputWidgets": {},
     "nuid": "2bd1f3a7-1384-49db-9aa8-d7bd378f787b",
     "showTitle": false,
     "tableResultSettingsMap": {},
     "title": ""
    }
   },
   "source": [
    "\n",
    "<div style=\"text-align: center; line-height: 0; padding-top: 9px;\">\n",
    "  <img\n",
    "    src=\"https://databricks.com/wp-content/uploads/2018/03/db-academy-rgb-1200px.png\"\n",
    "    alt=\"Databricks Learning\"\n",
    "  >\n",
    "</div>"
   ]
  },
  {
   "cell_type": "markdown",
   "metadata": {
    "application/vnd.databricks.v1+cell": {
     "cellMetadata": {},
     "inputWidgets": {},
     "nuid": "5fb06144-7f99-45a1-8f77-a3e1a87485e3",
     "showTitle": false,
     "tableResultSettingsMap": {},
     "title": ""
    }
   },
   "source": [
    "# 2.4 DEMO: Implementing Change Data Feed (CDF) with Delta Sharing \\[Recipient]\n",
    "\n",
    "## Overview\n",
    "In this demo, you will process incremental changes from a shared table using Change Data Feed (CDF). You'll learn how to efficiently track and apply only the changes (inserts, updates, deletes) using two different Slowly Changing Dimension (SCD) patterns.\n",
    "\n",
    "**Your Role:** Regional Division (West Division) of Acme Corp\n",
    "\n",
    "**Scenario:**\n",
    "You work in the West Division of Acme Corp, operating in a different region with a separate Databricks workspace and Unity Catalog metastore. The central corporate division (East Division) is sharing customer and sales data with you via Delta Sharing. Instead of receiving full table snapshots, you'll use Change Data Feed to incrementally process only the data that has changed.\n",
    "\n",
    "You'll implement two different patterns:\n",
    "1. **Type 1 SCD**: Maintain current state only (overwrite changes)\n",
    "2. **Type 2 SCD**: Maintain full history with effective dates\n",
    "\n",
    "**Learning Objectives:**\n",
    "By the end of this demo, you will:\n",
    "1. Mount a D2D share containing CDF-enabled tables\n",
    "2. Read and understand CDF metadata columns\n",
    "3. Implement Type 1 SCD using `MERGE INTO` (current state)\n",
    "4. Implement Type 2 SCD with historical tracking\n",
    "5. Track processed versions for incremental updates\n",
    "6. Understand use cases for each SCD pattern"
   ]
  },
  {
   "cell_type": "markdown",
   "metadata": {
    "application/vnd.databricks.v1+cell": {
     "cellMetadata": {},
     "inputWidgets": {},
     "nuid": "29f2375d-d4b3-42b5-aa42-29c3ad8e34fb",
     "showTitle": false,
     "tableResultSettingsMap": {},
     "title": ""
    }
   },
   "source": [
    "## Background: SCD Patterns with Change Data Feed\n",
    "\n",
    "### What You'll Learn\n",
    "\n",
    "Change Data Feed (CDF) enables you to:\n",
    "- **Track row-level changes** between table versions\n",
    "- **Process only changes**, not entire tables\n",
    "- **Maintain synchronized copies** efficiently\n",
    "- **Build incremental ETL pipelines** within your organization\n",
    "\n",
    "### CDF Metadata Columns\n",
    "\n",
    "When reading CDF, you get these additional columns:\n",
    "\n",
    "| Column | Type | Description |\n",
    "|--------|------|-------------|\n",
    "| `_change_type` | String | `insert`, `update_preimage`, `update_postimage`, `delete` |\n",
    "| `_commit_version` | Long | Table version where change occurred |\n",
    "| `_commit_timestamp` | Timestamp | When the change was committed |\n",
    "\n",
    "### SCD Type 1 vs Type 2\n",
    "\n",
    "**Type 1 SCD (Current State Only)**\n",
    "- Maintains only the latest version of each record\n",
    "- Updates overwrite previous values\n",
    "- No historical tracking\n",
    "- Use case: When you only need current state (e.g., current customer segment, current contact info)\n",
    "- Simple, efficient, smaller storage footprint\n",
    "\n",
    "**Type 2 SCD (Historical Tracking)**\n",
    "- Maintains full history of changes\n",
    "- New row for each change with effective dates\n",
    "- Historical analysis capability\n",
    "- Use case: When you need to track changes over time (e.g., customer segment changes for analysis, price history)\n",
    "- More complex, larger storage, enables time-travel analytics"
   ]
  },
  {
   "cell_type": "code",
   "execution_count": 0,
   "metadata": {
    "application/vnd.databricks.v1+cell": {
     "cellMetadata": {
      "byteLimit": 2048000,
      "rowLimit": 10000
     },
     "inputWidgets": {},
     "nuid": "f3665585-e746-47fc-9e43-60848818d849",
     "showTitle": false,
     "tableResultSettingsMap": {},
     "title": ""
    }
   },
   "outputs": [],
   "source": [
    "%run ./Includes/Demo-Setup-2"
   ]
  },
  {
   "cell_type": "markdown",
   "metadata": {
    "application/vnd.databricks.v1+cell": {
     "cellMetadata": {},
     "inputWidgets": {},
     "nuid": "68b11a70-58c2-4564-95dd-51737db6eb09",
     "showTitle": false,
     "tableResultSettingsMap": {},
     "title": ""
    }
   },
   "source": [
    "## Prerequisites\n",
    "\n",
    "- Central division (East) has created the share `cdf_retail` and granted you access\n",
    "- Change Data Feed is enabled on the source tables\n",
    "- You have your metastore ID ready (for D2D sharing)\n",
    "- You have permissions to create catalogs and tables in your workspace"
   ]
  },
  {
   "cell_type": "markdown",
   "metadata": {
    "application/vnd.databricks.v1+cell": {
     "cellMetadata": {},
     "inputWidgets": {},
     "nuid": "3de4b626-e3a7-495e-a285-b7af2c4ddc03",
     "showTitle": false,
     "tableResultSettingsMap": {},
     "title": ""
    }
   },
   "source": [
    "## Step 1: Mount the Share (D2D)\n",
    "\n",
    "First, let's mount the CDF-enabled share from the central division. Since this is Databricks-to-Databricks sharing within the same organization, the provider (East Division) will have used your metastore ID to configure the recipient."
   ]
  },
  {
   "cell_type": "code",
   "execution_count": 0,
   "metadata": {
    "application/vnd.databricks.v1+cell": {
     "cellMetadata": {
      "byteLimit": 2048000,
      "rowLimit": 10000
     },
     "inputWidgets": {},
     "nuid": "4a75739c-c504-4f56-8db8-f1240a981089",
     "showTitle": false,
     "tableResultSettingsMap": {},
     "title": ""
    }
   },
   "outputs": [],
   "source": [
    "-- View your metastore ID (this was shared with East Division)\n",
    "SELECT global_metastore_id FROM system.information_schema.metastores;"
   ]
  },
  {
   "cell_type": "code",
   "execution_count": 0,
   "metadata": {
    "application/vnd.databricks.v1+cell": {
     "cellMetadata": {
      "byteLimit": 2048000,
      "rowLimit": 10000
     },
     "inputWidgets": {},
     "nuid": "77aa7b02-1d50-4b6d-bb96-ac3eacc8979b",
     "showTitle": false,
     "tableResultSettingsMap": {},
     "title": ""
    }
   },
   "outputs": [],
   "source": [
    "-- View available providers (should see acme_corp from East Division)\n",
    "SHOW PROVIDERS;"
   ]
  },
  {
   "cell_type": "code",
   "execution_count": 0,
   "metadata": {
    "application/vnd.databricks.v1+cell": {
     "cellMetadata": {
      "byteLimit": 2048000,
      "rowLimit": 10000
     },
     "inputWidgets": {},
     "nuid": "3c04431b-b557-417f-90b1-cbb643e034ba",
     "showTitle": false,
     "tableResultSettingsMap": {},
     "title": ""
    }
   },
   "outputs": [],
   "source": [
    "-- View available shares from the East Division provider\n",
    "SHOW SHARES IN PROVIDER acme_corp;"
   ]
  },
  {
   "cell_type": "code",
   "execution_count": 0,
   "metadata": {
    "application/vnd.databricks.v1+cell": {
     "cellMetadata": {
      "byteLimit": 2048000,
      "rowLimit": 10000
     },
     "inputWidgets": {},
     "nuid": "5110c203-a797-4562-8bcf-36dc9b80fc70",
     "showTitle": false,
     "tableResultSettingsMap": {},
     "title": ""
    }
   },
   "outputs": [],
   "source": [
    "-- Mount the share to a catalog in West Division\n",
    "CREATE CATALOG IF NOT EXISTS east_division_shared\n",
    "USING SHARE acme_corp.cdf_retail\n",
    "COMMENT 'Data shared from East Division via Delta Sharing';"
   ]
  },
  {
   "cell_type": "code",
   "execution_count": 0,
   "metadata": {
    "application/vnd.databricks.v1+cell": {
     "cellMetadata": {
      "byteLimit": 2048000,
      "rowLimit": 10000
     },
     "inputWidgets": {},
     "nuid": "5ae2452a-2cbe-4ca1-913b-2f165cadb041",
     "showTitle": false,
     "tableResultSettingsMap": {},
     "title": ""
    }
   },
   "outputs": [],
   "source": [
    "-- Verify the mounted catalog (should show type DELTASHARING)\n",
    "DESCRIBE CATALOG east_division_shared;"
   ]
  },
  {
   "cell_type": "code",
   "execution_count": 0,
   "metadata": {
    "application/vnd.databricks.v1+cell": {
     "cellMetadata": {
      "byteLimit": 2048000,
      "rowLimit": 10000
     },
     "inputWidgets": {},
     "nuid": "0ccb194b-486e-4960-9e46-aa33638b0019",
     "showTitle": false,
     "tableResultSettingsMap": {},
     "title": ""
    }
   },
   "outputs": [],
   "source": [
    "-- List schemas and tables in the shared catalog\n",
    "SHOW SCHEMAS IN east_division_shared;"
   ]
  },
  {
   "cell_type": "code",
   "execution_count": 0,
   "metadata": {
    "application/vnd.databricks.v1+cell": {
     "cellMetadata": {
      "byteLimit": 2048000,
      "rowLimit": 10000
     },
     "inputWidgets": {},
     "nuid": "a322a17d-b26a-4939-92c1-ac1b5a327e62",
     "showTitle": false,
     "tableResultSettingsMap": {},
     "title": ""
    }
   },
   "outputs": [],
   "source": [
    "-- List tables in the retail schema\n",
    "SHOW TABLES IN east_division_shared.retail;"
   ]
  },
  {
   "cell_type": "markdown",
   "metadata": {
    "application/vnd.databricks.v1+cell": {
     "cellMetadata": {},
     "inputWidgets": {},
     "nuid": "3782db30-0e6c-4800-a0f3-cdf142ba178e",
     "showTitle": false,
     "tableResultSettingsMap": {},
     "title": ""
    }
   },
   "source": [
    "## Step 2: Explore the Shared Data\n",
    "\n",
    "Let's examine the shared tables and their change data feed."
   ]
  },
  {
   "cell_type": "code",
   "execution_count": 0,
   "metadata": {
    "application/vnd.databricks.v1+cell": {
     "cellMetadata": {
      "byteLimit": 2048000,
      "rowLimit": 10000
     },
     "inputWidgets": {},
     "nuid": "ae351712-f766-41c4-98dc-fd67c93cf1df",
     "showTitle": false,
     "tableResultSettingsMap": {},
     "title": ""
    }
   },
   "outputs": [],
   "source": [
    "-- View current customer data (current snapshot from East Division)\n",
    "SELECT * FROM east_division_shared.retail.customers \n",
    "ORDER BY customer_id\n",
    "LIMIT 5;"
   ]
  },
  {
   "cell_type": "code",
   "execution_count": 0,
   "metadata": {
    "application/vnd.databricks.v1+cell": {
     "cellMetadata": {
      "byteLimit": 2048000,
      "rowLimit": 10000
     },
     "inputWidgets": {},
     "nuid": "9f90d720-b55f-4236-9cdd-3ab0e7043c40",
     "showTitle": false,
     "tableResultSettingsMap": {},
     "title": ""
    }
   },
   "outputs": [],
   "source": [
    "-- Query the change data feed to see changes\n",
    "-- This shows inserts, updates (pre and post), and deletes\n",
    "SELECT \n",
    "  _change_type,\n",
    "  _commit_version,\n",
    "  _commit_timestamp,\n",
    "  customer_id,\n",
    "  customer_name,\n",
    "  customer_segment\n",
    "FROM table_changes('east_division_shared.retail.customers', 2) -- the minimum version must be on or after the version where ChangeDataFeed was enabled\n",
    "ORDER BY _commit_version, customer_id, _change_type\n",
    "LIMIT 10;"
   ]
  },
  {
   "cell_type": "code",
   "execution_count": 0,
   "metadata": {
    "application/vnd.databricks.v1+cell": {
     "cellMetadata": {
      "byteLimit": 2048000,
      "rowLimit": 10000
     },
     "inputWidgets": {},
     "nuid": "1ae2dea2-09f9-43af-a193-5efd872c0b5d",
     "showTitle": false,
     "tableResultSettingsMap": {},
     "title": ""
    }
   },
   "outputs": [],
   "source": [
    "-- inspect shared table history\n",
    "-- IMPORTANT: note the starting version when changeDataFeed was enabled\n",
    "-- this is the minimum version to start processing changes from\n",
    "DESCRIBE HISTORY east_division_shared.retail.customers;"
   ]
  },
  {
   "cell_type": "markdown",
   "metadata": {
    "application/vnd.databricks.v1+cell": {
     "cellMetadata": {},
     "inputWidgets": {},
     "nuid": "5bf3e817-081d-4d49-ad4e-e83167330b08",
     "showTitle": false,
     "tableResultSettingsMap": {},
     "title": ""
    }
   },
   "source": [
    "## Step 3: Create Target Catalog and Schema (West Division)\n",
    "\n",
    "Create a local catalog and schema where we'll maintain our copies of the data."
   ]
  },
  {
   "cell_type": "code",
   "execution_count": 0,
   "metadata": {
    "application/vnd.databricks.v1+cell": {
     "cellMetadata": {
      "byteLimit": 2048000,
      "rowLimit": 10000
     },
     "inputWidgets": {},
     "nuid": "4eb2ac2b-c1a5-4f0f-8b62-e7df0c1f5f3e",
     "showTitle": false,
     "tableResultSettingsMap": {},
     "title": ""
    }
   },
   "outputs": [],
   "source": [
    "-- Create a catalog for West Division's replicated data\n",
    "CREATE CATALOG IF NOT EXISTS west_division\n",
    "COMMENT 'West Division catalog for incrementally replicated data from East';"
   ]
  },
  {
   "cell_type": "code",
   "execution_count": 0,
   "metadata": {
    "application/vnd.databricks.v1+cell": {
     "cellMetadata": {
      "byteLimit": 2048000,
      "rowLimit": 10000
     },
     "inputWidgets": {},
     "nuid": "f5bbeb99-7d02-49ec-88e2-05d112ee085e",
     "showTitle": false,
     "tableResultSettingsMap": {},
     "title": ""
    }
   },
   "outputs": [],
   "source": [
    "-- Create a schema\n",
    "CREATE SCHEMA IF NOT EXISTS west_division.retail_data\n",
    "COMMENT 'Schema for retail data synchronized via CDF from East Division';\n",
    "\n",
    "USE west_division.retail_data;"
   ]
  },
  {
   "cell_type": "markdown",
   "metadata": {
    "application/vnd.databricks.v1+cell": {
     "cellMetadata": {},
     "inputWidgets": {},
     "nuid": "9ec16e66-63f4-48b1-874d-993589fe5854",
     "showTitle": false,
     "tableResultSettingsMap": {},
     "title": ""
    }
   },
   "source": [
    "## Part 1: Type 1 SCD - Current State Only\n",
    "\n",
    "In this section, we'll implement a **Type 1 Slowly Changing Dimension** pattern. This maintains only the current state of each record, with updates overwriting previous values.\n",
    "\n",
    "### Type 1 SCD Characteristics:\n",
    "- ✅ Simple to implement and understand\n",
    "- ✅ Efficient - one row per customer\n",
    "- ✅ Fast queries - no date filtering needed\n",
    "- ❌ No historical tracking\n",
    "- ❌ Can't answer \"what was the value on date X?\"\n",
    "\n",
    "### Use Cases:\n",
    "- Current customer contact information\n",
    "- Latest account status\n",
    "- Current product prices (when history not needed)\n",
    "- Reference data that changes infrequently"
   ]
  },
  {
   "cell_type": "markdown",
   "metadata": {
    "application/vnd.databricks.v1+cell": {
     "cellMetadata": {},
     "inputWidgets": {},
     "nuid": "0a1b6c8z-2y78-7x12-1c59-a7b1a6c8a6b1",
     "showTitle": false,
     "tableResultSettingsMap": {},
     "title": ""
    }
   },
   "source": [
    "## Step 4: Create Type 1 SCD Target Table"
   ]
  },
  {
   "cell_type": "code",
   "execution_count": 0,
   "metadata": {
    "application/vnd.databricks.v1+cell": {
     "cellMetadata": {
      "byteLimit": 2048000,
      "rowLimit": 10000
     },
     "inputWidgets": {},
     "nuid": "1b2c7d9a-3z89-8y23-2d60-b8c2b7d9b7c2",
     "showTitle": false,
     "tableResultSettingsMap": {},
     "title": ""
    }
   },
   "outputs": [],
   "source": [
    "-- Drop table if it exists (for demo purposes)\n",
    "DROP TABLE IF EXISTS west_division.retail_data.customers_type1;"
   ]
  },
  {
   "cell_type": "code",
   "execution_count": 0,
   "metadata": {
    "application/vnd.databricks.v1+cell": {
     "cellMetadata": {
      "byteLimit": 2048000,
      "rowLimit": 10000
     },
     "inputWidgets": {},
     "nuid": "2c3d8e0b-4a90-9z34-3e71-c9d3c8e0c8d3",
     "showTitle": false,
     "tableResultSettingsMap": {},
     "title": ""
    }
   },
   "outputs": [],
   "source": [
    "-- Create Type 1 SCD table using CTAS with initial \n",
    "CREATE TABLE west_division.retail_data.customers_type1\n",
    "COMMENT 'Type 1 SCD: Current state only - updates overwrite previous values'\n",
    "AS\n",
    "SELECT \n",
    "  customer_id,\n",
    "  customer_name,\n",
    "  email,\n",
    "  country,\n",
    "  signup_date,\n",
    "  customer_segment\n",
    "FROM east_division_shared.retail.customers VERSION AS OF 2; -- initialize the table from the version changeDataFeed was enabled"
   ]
  },
  {
   "cell_type": "markdown",
   "metadata": {
    "application/vnd.databricks.v1+cell": {
     "cellMetadata": {},
     "inputWidgets": {},
     "nuid": "3d4e9f1c-5b01-0a45-4f82-d0e4d9f1d0e4",
     "showTitle": false,
     "tableResultSettingsMap": {},
     "title": ""
    }
   },
   "source": [
    "## Step 5: Verify Initial Load\n",
    "\n",
    "Let's verify the initial load captured the inserts and update (before the delete)."
   ]
  },
  {
   "cell_type": "code",
   "execution_count": 0,
   "metadata": {
    "application/vnd.databricks.v1+cell": {
     "cellMetadata": {
      "byteLimit": 2048000,
      "rowLimit": 10000
     },
     "inputWidgets": {},
     "nuid": "8i9j4k6h-0g56-5f90-9k37-i5j9j4k6i5j9",
     "showTitle": false,
     "tableResultSettingsMap": {},
     "title": ""
    }
   },
   "outputs": [],
   "source": [
    "-- Verify Type 1 data after initial load\n",
    "-- Should include customer_id 41, 42, 43 (inserts) and customer_id 1 with updated email\n",
    "SELECT * FROM west_division.retail_data.customers_type1 \n",
    "WHERE customer_id IN (1, 41, 42, 43)\n",
    "ORDER BY customer_id;"
   ]
  },
  {
   "cell_type": "code",
   "execution_count": 0,
   "metadata": {
    "application/vnd.databricks.v1+cell": {
     "cellMetadata": {
      "byteLimit": 2048000,
      "rowLimit": 10000
     },
     "inputWidgets": {},
     "nuid": "1l2m7n9k-3j89-8i23-2n60-l8m2m7n9l8m2",
     "showTitle": false,
     "tableResultSettingsMap": {},
     "title": ""
    }
   },
   "outputs": [],
   "source": [
    "-- Row counts should match between the source and target tables (before the delete)\n",
    "SELECT \n",
    "  (SELECT COUNT(*) FROM west_division.retail_data.customers_type1) as customers_type1_count,\n",
    "  (SELECT COUNT(*) FROM east_division_shared.retail.customers VERSION AS OF 5) as customers_source_count;"
   ]
  },
  {
   "cell_type": "markdown",
   "metadata": {
    "application/vnd.databricks.v1+cell": {
     "cellMetadata": {},
     "inputWidgets": {},
     "nuid": "6f8252da-fbeb-4783-b222-62a722ba43f8",
     "showTitle": false,
     "tableResultSettingsMap": {},
     "title": ""
    }
   },
   "source": [
    "## Step 6: Process Incremental Changes\n",
    "\n",
    "Now let's process the delete that occurred after our initial load. We'll use MERGE INTO to apply only the new changes.\n",
    "\n",
    "**Note:** In production, you should track the last processed version (e.g., in a separate table or job parameter) to process only new changes incrementally."
   ]
  },
  {
   "cell_type": "code",
   "execution_count": 0,
   "metadata": {
    "application/vnd.databricks.v1+cell": {
     "cellMetadata": {},
     "inputWidgets": {},
     "nuid": "5a238cfe-719e-4b1c-b9c5-4982d1a3a093",
     "showTitle": false,
     "tableResultSettingsMap": {},
     "title": ""
    }
   },
   "outputs": [],
   "source": [
    "-- Apply incremental changes using MERGE INTO (Type 1 SCD pattern)\n",
    "-- Process changes from version 6 onwards (the delete operation)\n",
    "-- NOTE: In production, track the last processed version to avoid reprocessing\n",
    "\n",
    "MERGE INTO west_division.retail_data.customers_type1 AS target\n",
    "USING (\n",
    "  SELECT \n",
    "    customer_id,\n",
    "    customer_name,\n",
    "    email,\n",
    "    country,\n",
    "    signup_date,\n",
    "    customer_segment,\n",
    "    _change_type\n",
    "  FROM table_changes('east_division_shared.retail.customers', 6)\n",
    "  WHERE _change_type IN ('insert', 'update_postimage', 'delete')\n",
    ") AS source\n",
    "ON target.customer_id = source.customer_id\n",
    "WHEN MATCHED AND source._change_type = 'delete' THEN\n",
    "  DELETE\n",
    "WHEN MATCHED AND source._change_type = 'update_postimage' THEN\n",
    "  UPDATE SET\n",
    "    target.customer_name = source.customer_name,\n",
    "    target.email = source.email,\n",
    "    target.country = source.country,\n",
    "    target.signup_date = source.signup_date,\n",
    "    target.customer_segment = source.customer_segment\n",
    "WHEN NOT MATCHED THEN\n",
    "  INSERT (\n",
    "    customer_id,\n",
    "    customer_name,\n",
    "    email,\n",
    "    country,\n",
    "    signup_date,\n",
    "    customer_segment\n",
    "  )\n",
    "  VALUES (\n",
    "    source.customer_id,\n",
    "    source.customer_name,\n",
    "    source.email,\n",
    "    source.country,\n",
    "    source.signup_date,\n",
    "    source.customer_segment\n",
    "  );"
   ]
  },
  {
   "cell_type": "code",
   "execution_count": 0,
   "metadata": {
    "application/vnd.databricks.v1+cell": {
     "cellMetadata": {},
     "inputWidgets": {},
     "nuid": "dbe4b05e-1c91-4867-9d35-e1ac35afa122",
     "showTitle": false,
     "tableResultSettingsMap": {},
     "title": ""
    }
   },
   "outputs": [],
   "source": [
    "-- Verify the delete was applied - customer_id 11 should be gone\n",
    "SELECT * FROM west_division.retail_data.customers_type1 \n",
    "WHERE customer_id = 11;"
   ]
  },
  {
   "cell_type": "code",
   "execution_count": 0,
   "metadata": {
    "application/vnd.databricks.v1+cell": {
     "cellMetadata": {},
     "inputWidgets": {},
     "nuid": "eb7dc932-8779-43eb-be6a-62e1c8b48032",
     "showTitle": false,
     "tableResultSettingsMap": {},
     "title": ""
    }
   },
   "outputs": [],
   "source": [
    "-- Final row counts should now match\n",
    "SELECT \n",
    "  (SELECT COUNT(*) FROM west_division.retail_data.customers_type1) as customers_type1_count,\n",
    "  (SELECT COUNT(*) FROM east_division_shared.retail.customers) as customers_source_count;"
   ]
  },
  {
   "cell_type": "code",
   "execution_count": 0,
   "metadata": {
    "application/vnd.databricks.v1+cell": {
     "cellMetadata": {
      "byteLimit": 2048000,
      "rowLimit": 10000
     },
     "inputWidgets": {},
     "nuid": "e265d762-a955-4b8e-be01-a57457d36d08",
     "showTitle": false,
     "tableResultSettingsMap": {},
     "title": ""
    }
   },
   "outputs": [],
   "source": [
    "-- Row counts should match between the source and target tables\n",
    "SELECT \n",
    "  (SELECT COUNT(*) FROM west_division.retail_data.customers_type1) as customers_type1_count,\n",
    "  (SELECT COUNT(*) FROM east_division_shared.retail.customers) as customers_count;"
   ]
  },
  {
   "cell_type": "markdown",
   "metadata": {
    "application/vnd.databricks.v1+cell": {
     "cellMetadata": {},
     "inputWidgets": {},
     "nuid": "3n4o9p1m-5l01-0k45-4p82-n0o4o9p1n0o4",
     "showTitle": false,
     "tableResultSettingsMap": {},
     "title": ""
    }
   },
   "source": [
    "## Part 2: Type 2 SCD - Historical Tracking\n",
    "\n",
    "Now let's implement a **Type 2 Slowly Changing Dimension** pattern. This maintains full history by creating new rows for each change with effective dates.\n",
    "\n",
    "### Type 2 SCD Characteristics:\n",
    "- ✅ Full historical tracking\n",
    "- ✅ Can answer \"what was the value on date X?\"\n",
    "- ✅ Time-travel analytics enabled\n",
    "- ✅ Audit trail of all changes\n",
    "- ❌ More complex logic\n",
    "- ❌ Larger storage footprint\n",
    "- ❌ Queries need date filtering\n",
    "\n",
    "### Use Cases:\n",
    "- Customer segment changes over time (analyze customer lifecycle)\n",
    "- Product price history (trend analysis)\n",
    "- Employee role/department changes\n",
    "- Compliance and audit requirements\n",
    "- Historical reporting (\"as of\" queries)\n",
    "\n",
    "### Type 2 Table Design:\n",
    "We'll add these columns to track history:\n",
    "- `start_date`: When this version became active\n",
    "- `end_date`: When this version was superseded (NULL = current)\n",
    "- `is_current`: Boolean flag for active record"
   ]
  },
  {
   "cell_type": "markdown",
   "metadata": {
    "application/vnd.databricks.v1+cell": {
     "cellMetadata": {},
     "inputWidgets": {},
     "nuid": "4o5p0q2n-6m12-1l56-5q93-o1p5p0q2o1p5",
     "showTitle": false,
     "tableResultSettingsMap": {},
     "title": ""
    }
   },
   "source": [
    "## Step 7: Create Type 2 SCD Target Table"
   ]
  },
  {
   "cell_type": "code",
   "execution_count": 0,
   "metadata": {
    "application/vnd.databricks.v1+cell": {
     "cellMetadata": {},
     "inputWidgets": {},
     "nuid": "5p6q1r3o-7n23-2m67-6r04-p2q6q1r3p2q6",
     "showTitle": false,
     "tableResultSettingsMap": {},
     "title": ""
    }
   },
   "outputs": [],
   "source": [
    "-- Drop table if exists (for demo)\n",
    "DROP TABLE IF EXISTS west_division.retail_data.customers_type2;"
   ]
  },
  {
   "cell_type": "code",
   "execution_count": 0,
   "metadata": {
    "application/vnd.databricks.v1+cell": {
     "cellMetadata": {},
     "inputWidgets": {},
     "nuid": "6q7r2s4p-8o34-3n78-7s15-q3r7r2s4q3r7",
     "showTitle": false,
     "tableResultSettingsMap": {},
     "title": ""
    }
   },
   "outputs": [],
   "source": [
    "-- Create Type 2 SCD table with history tracking columns\n",
    "CREATE TABLE west_division.retail_data.customers_type2 (\n",
    "  customer_id INT,\n",
    "  customer_name STRING,\n",
    "  email STRING,\n",
    "  country STRING,\n",
    "  signup_date DATE,\n",
    "  customer_segment STRING,\n",
    "  -- Type 2 SCD columns\n",
    "  start_date TIMESTAMP,\n",
    "  end_date TIMESTAMP,\n",
    "  is_current BOOLEAN\n",
    ")\n",
    "USING DELTA\n",
    "COMMENT 'Type 2 SCD: Full history with effective dates';"
   ]
  },
  {
   "cell_type": "markdown",
   "metadata": {
    "application/vnd.databricks.v1+cell": {
     "cellMetadata": {},
     "inputWidgets": {},
     "nuid": "8s9t4u6r-0q56-5p90-9u37-s5t9t4u6s5t9",
     "showTitle": false,
     "tableResultSettingsMap": {},
     "title": ""
    }
   },
   "source": [
    "## Step 8: Process Changes for Type 2 SCD\n",
    "\n",
    "Type 2 SCD processing requires:\n",
    "1. **Close out current records** (set end_date, is_current = false) for updates and deletes\n",
    "2. **Insert new versions** for inserts and updates\n",
    "3. **NOT insert for deletes** (just close the current record)\n",
    "\n",
    "**Note:** In production, you should track the last processed version somewhere to process only new changes incrementally."
   ]
  },
  {
   "cell_type": "code",
   "execution_count": 0,
   "metadata": {
    "application/vnd.databricks.v1+cell": {
     "cellMetadata": {},
     "inputWidgets": {},
     "nuid": "9t0u5v7s-1r67-6q01-0v48-t6u0u5v7t6u0",
     "showTitle": false,
     "tableResultSettingsMap": {},
     "title": ""
    }
   },
   "outputs": [],
   "source": [
    "-- Step 1: Close out current records for updates and deletes\n",
    "MERGE INTO west_division.retail_data.customers_type2 AS target\n",
    "USING (\n",
    "  SELECT DISTINCT\n",
    "    customer_id,\n",
    "    _commit_timestamp\n",
    "  FROM table_changes('east_division_shared.retail.customers', 0)\n",
    "  WHERE _change_type IN ('update_postimage', 'delete')\n",
    ") AS source\n",
    "ON target.customer_id = source.customer_id AND target.is_current = true\n",
    "WHEN MATCHED THEN\n",
    "  UPDATE SET\n",
    "    target.end_date = source._commit_timestamp,\n",
    "    target.is_current = false;"
   ]
  },
  {
   "cell_type": "code",
   "execution_count": 0,
   "metadata": {
    "application/vnd.databricks.v1+cell": {
     "cellMetadata": {},
     "inputWidgets": {},
     "nuid": "0u1v6w8t-2s78-7r12-1w59-u7v1v6w8u7v1",
     "showTitle": false,
     "tableResultSettingsMap": {},
     "title": ""
    }
   },
   "outputs": [],
   "source": [
    "-- Step 2: Insert new versions for inserts and updates (NOT for deletes)\n",
    "INSERT INTO west_division.retail_data.customers_type2\n",
    "SELECT \n",
    "  customer_id,\n",
    "  customer_name,\n",
    "  email,\n",
    "  country,\n",
    "  signup_date,\n",
    "  customer_segment,\n",
    "  _commit_timestamp as start_date,\n",
    "  NULL as end_date,\n",
    "  true as is_current\n",
    "FROM table_changes('east_division_shared.retail.customers', 0)\n",
    "WHERE _change_type IN ('insert', 'update_postimage');"
   ]
  },
  {
   "cell_type": "code",
   "execution_count": 0,
   "metadata": {
    "application/vnd.databricks.v1+cell": {
     "cellMetadata": {},
     "inputWidgets": {},
     "nuid": "2w3x8y0v-4u90-9t34-3y71-w9x3x8y0w9x3",
     "showTitle": false,
     "tableResultSettingsMap": {},
     "title": ""
    }
   },
   "outputs": [],
   "source": [
    "-- Verify Type 2 data (should see multiple rows per customer if updated)\n",
    "SELECT \n",
    "  customer_id,\n",
    "  customer_name,\n",
    "  customer_segment,\n",
    "  start_date,\n",
    "  end_date,\n",
    "  is_current\n",
    "FROM west_division.retail_data.customers_type2 \n",
    "ORDER BY customer_id, start_date;"
   ]
  },
  {
   "cell_type": "markdown",
   "metadata": {
    "application/vnd.databricks.v1+cell": {
     "cellMetadata": {},
     "inputWidgets": {},
     "nuid": "4y5z0a2x-6w12-1v56-5a93-y1z5z0a2y1z5",
     "showTitle": false,
     "tableResultSettingsMap": {},
     "title": ""
    }
   },
   "source": [
    "## Step 9: Query Type 2 SCD Data\n",
    "\n",
    "Let's see how to query Type 2 data for different use cases."
   ]
  },
  {
   "cell_type": "code",
   "execution_count": 0,
   "metadata": {
    "application/vnd.databricks.v1+cell": {
     "cellMetadata": {},
     "inputWidgets": {},
     "nuid": "5z6a1b3y-7x23-2w67-6b04-z2a6a1b3z2a6",
     "showTitle": false,
     "tableResultSettingsMap": {},
     "title": ""
    }
   },
   "outputs": [],
   "source": [
    "-- Query 1: Get current state only (equivalent to Type 1)\n",
    "SELECT \n",
    "  customer_id,\n",
    "  customer_name,\n",
    "  customer_segment,\n",
    "  start_date as current_since\n",
    "FROM west_division.retail_data.customers_type2\n",
    "WHERE is_current = true\n",
    "ORDER BY customer_id;"
   ]
  },
  {
   "cell_type": "code",
   "execution_count": 0,
   "metadata": {
    "application/vnd.databricks.v1+cell": {
     "cellMetadata": {},
     "inputWidgets": {},
     "nuid": "6a7b2c4z-8y34-3x78-7c15-a3b7b2c4a3b7",
     "showTitle": false,
     "tableResultSettingsMap": {},
     "title": ""
    }
   },
   "outputs": [],
   "source": [
    "-- Query 2: Show full history for a specific customer (e.g., customer_id = 1 or 2)\n",
    "SELECT \n",
    "  customer_id,\n",
    "  customer_name,\n",
    "  email,\n",
    "  customer_segment,\n",
    "  start_date,\n",
    "  end_date,\n",
    "  is_current,\n",
    "  CASE \n",
    "    WHEN is_current THEN 'Current'\n",
    "    ELSE 'Historical'\n",
    "  END as record_status\n",
    "FROM west_division.retail_data.customers_type2\n",
    "WHERE customer_id IN (1, 2, 6)\n",
    "ORDER BY customer_id, start_date;"
   ]
  },
  {
   "cell_type": "code",
   "execution_count": 0,
   "metadata": {
    "application/vnd.databricks.v1+cell": {
     "cellMetadata": {},
     "inputWidgets": {},
     "nuid": "7b8c3d5a-9z45-4y89-8d26-b4c8c3d5b4c8",
     "showTitle": false,
     "tableResultSettingsMap": {},
     "title": ""
    }
   },
   "outputs": [],
   "source": [
    "-- Query 3: Count customers by segment over time (track segment changes)\n",
    "SELECT \n",
    "  customer_segment,\n",
    "  COUNT(*) as customer_count,\n",
    "  MIN(start_date) as first_seen,\n",
    "  MAX(start_date) as last_changed\n",
    "FROM west_division.retail_data.customers_type2\n",
    "WHERE is_current = true\n",
    "GROUP BY customer_segment\n",
    "ORDER BY customer_count DESC;"
   ]
  },
  {
   "cell_type": "code",
   "execution_count": 0,
   "metadata": {
    "application/vnd.databricks.v1+cell": {
     "cellMetadata": {},
     "inputWidgets": {},
     "nuid": "8c9d4e6b-0a56-5z90-9e37-c5d9d4e6c5d9",
     "showTitle": false,
     "tableResultSettingsMap": {},
     "title": ""
    }
   },
   "outputs": [],
   "source": [
    "-- Query 4: Find customers whose segment changed (segment migration analysis)\n",
    "WITH customer_history AS (\n",
    "  SELECT \n",
    "    customer_id,\n",
    "    customer_name,\n",
    "    COUNT(*) as version_count,\n",
    "    COUNT(DISTINCT customer_segment) as segment_count\n",
    "  FROM west_division.retail_data.customers_type2\n",
    "  GROUP BY customer_id, customer_name\n",
    ")\n",
    "SELECT \n",
    "  ch.customer_id,\n",
    "  ch.customer_name,\n",
    "  ch.version_count,\n",
    "  ch.segment_count\n",
    "FROM customer_history ch\n",
    "WHERE ch.segment_count > 1\n",
    "ORDER BY ch.version_count DESC;"
   ]
  },
  {
   "cell_type": "markdown",
   "metadata": {
    "application/vnd.databricks.v1+cell": {
     "cellMetadata": {},
     "inputWidgets": {},
     "nuid": "9d0e5f7c-1b67-6a01-0f48-d6e0e5f7d6e0",
     "showTitle": false,
     "tableResultSettingsMap": {},
     "title": ""
    }
   },
   "source": [
    "## Step 10: Compare Type 1 vs Type 2\n",
    "\n",
    "Let's compare the two approaches side by side."
   ]
  },
  {
   "cell_type": "code",
   "execution_count": 0,
   "metadata": {
    "application/vnd.databricks.v1+cell": {
     "cellMetadata": {},
     "inputWidgets": {},
     "nuid": "0e1f6g8d-2c78-7b12-1g59-e7f1f6g8e7f1",
     "showTitle": false,
     "tableResultSettingsMap": {},
     "title": ""
    }
   },
   "outputs": [],
   "source": [
    "-- Compare row counts\n",
    "SELECT 'Type 1 SCD' as table_type, COUNT(*) as row_count \n",
    "FROM west_division.retail_data.customers_type1\n",
    "UNION ALL\n",
    "SELECT 'Type 2 SCD (all)' as table_type, COUNT(*) as row_count \n",
    "FROM west_division.retail_data.customers_type2\n",
    "UNION ALL\n",
    "SELECT 'Type 2 SCD (current only)' as table_type, COUNT(*) as row_count \n",
    "FROM west_division.retail_data.customers_type2\n",
    "WHERE is_current = true;"
   ]
  },
  {
   "cell_type": "code",
   "execution_count": 0,
   "metadata": {
    "application/vnd.databricks.v1+cell": {
     "cellMetadata": {},
     "inputWidgets": {},
     "nuid": "1f2g7h9e-3d89-8c23-2h60-f8g2g7h9f8g2",
     "showTitle": false,
     "tableResultSettingsMap": {},
     "title": ""
    }
   },
   "outputs": [],
   "source": [
    "-- Compare a specific customer in both tables\n",
    "SELECT \n",
    "  'Type 1' as scd_type,\n",
    "  customer_id,\n",
    "  customer_name,\n",
    "  customer_segment,\n",
    "  NULL as start_date,\n",
    "  NULL as end_date,\n",
    "  true as is_current\n",
    "FROM west_division.retail_data.customers_type1\n",
    "WHERE customer_id = 2\n",
    "UNION ALL\n",
    "SELECT \n",
    "  'Type 2' as scd_type,\n",
    "  customer_id,\n",
    "  customer_name,\n",
    "  customer_segment,\n",
    "  start_date,\n",
    "  end_date,\n",
    "  is_current\n",
    "FROM west_division.retail_data.customers_type2\n",
    "WHERE customer_id = 2\n",
    "ORDER BY scd_type, start_date;"
   ]
  },
  {
   "cell_type": "markdown",
   "metadata": {
    "application/vnd.databricks.v1+cell": {
     "cellMetadata": {},
     "inputWidgets": {},
     "nuid": "2g3h8i0f-4e90-9d34-3i71-g9h3h8i0g9h3",
     "showTitle": false,
     "tableResultSettingsMap": {},
     "title": ""
    }
   },
   "source": [
    "## Summary\n",
    "\n",
    "Congratulations! You've successfully implemented both Type 1 and Type 2 SCD patterns using Change Data Feed with Delta Sharing in a D2D scenario.\n",
    "\n",
    "✅ **What we accomplished:**\n",
    "\n",
    "1. Mounted a D2D share with CDF-enabled tables from East Division\n",
    "2. **Type 1 SCD (Current State)**:\n",
    "   - Created simple target table\n",
    "   - Applied changes with `MERGE INTO`\n",
    "   - Maintained only current values\n",
    "3. **Type 2 SCD (Historical Tracking)**:\n",
    "   - Created table with start_date, end_date, and is_current columns\n",
    "   - Closed out old records on updates/deletes\n",
    "   - Inserted new versions for inserts/updates\n",
    "   - Maintained full audit trail\n",
    "4. Compared both approaches with example queries\n",
    "\n",
    "### Decision Guide: Type 1 vs Type 2\n",
    "\n",
    "**Use Type 1 when:**\n",
    "- ✅ Current state is sufficient\n",
    "- ✅ Storage efficiency is critical\n",
    "- ✅ Query simplicity is preferred\n",
    "- ✅ Historical analysis not needed\n",
    "- Examples: current contact info, latest prices, reference data\n",
    "\n",
    "**Use Type 2 when:**\n",
    "- ✅ Historical analysis required\n",
    "- ✅ Compliance/audit needs\n",
    "- ✅ \"Point-in-time\" queries needed\n",
    "- ✅ Trend analysis valuable\n",
    "- Examples: customer segments, product categories, organizational changes\n",
    "\n",
    "**Hybrid Approach (Both!):**\n",
    "- Type 1 for operational dashboards (current state)\n",
    "- Type 2 for analytical/historical reporting\n",
    "- Both fed from same CDF source\n",
    "\n",
    "### Production Considerations:\n",
    "\n",
    "**State Management:**\n",
    "- Track the last processed version (e.g., in a separate table, job parameter, or checkpoint)\n",
    "- Use the tracked version to process only new changes incrementally\n",
    "- Example: `table_changes('table_name', last_processed_version + 1)`\n",
    "\n",
    "**Incremental Processing:**\n",
    "- Process changes in batches to avoid reprocessing\n",
    "- Store version checkpoints after successful processing\n",
    "- Implement error handling and retry logic\n",
    "\n",
    "### Key Benefits Demonstrated:\n",
    "\n",
    "- **Efficient Processing**: Only process changed data within organization\n",
    "- **Flexible Patterns**: Choose SCD type based on use case\n",
    "- **Version Tracking**: CDF provides reliable change tracking\n",
    "- **D2D Simplicity**: Seamless sharing between Databricks workspaces\n",
    "- **Enterprise Ready**: Scales for large organizations\n",
    "\n",
    "### Next Steps:\n",
    "- Implement state tracking for incremental processing\n",
    "- Apply similar patterns to other shared tables\n",
    "- Schedule as recurring Databricks job\n",
    "- Add monitoring and alerting\n",
    "- Consider Lakeflow Declarative Pipelines for production pipelines\n",
    "- Explore streaming with Structured Streaming for real-time processing"
   ]
  },
  {
   "cell_type": "code",
   "execution_count": 0,
   "metadata": {
    "application/vnd.databricks.v1+cell": {
     "cellMetadata": {
      "byteLimit": 2048000,
      "rowLimit": 10000
     },
     "inputWidgets": {},
     "nuid": "2671dcb8-d59c-49f4-a9fb-a9b29c374989",
     "showTitle": false,
     "tableResultSettingsMap": {},
     "title": ""
    }
   },
   "outputs": [],
   "source": [
    "-- drop the mounted share and provider for workspace cleanup\n",
    "DROP CATALOG east_division_shared;\n",
    "DROP CATALOG west_division CASCADE;\n",
    "DROP PROVIDER acme_corp;"
   ]
  },
  {
   "cell_type": "markdown",
   "metadata": {
    "application/vnd.databricks.v1+cell": {
     "cellMetadata": {},
     "inputWidgets": {},
     "nuid": "3h4i9j1g-5f01-0e45-4j82-h0i4i9j1h0i4",
     "showTitle": false,
     "tableResultSettingsMap": {},
     "title": ""
    }
   },
   "source": [
    "---\n",
    "&copy; 2025 Databricks, Inc. All rights reserved. Apache, Apache Spark, Spark, the Spark Logo, Apache Iceberg, Iceberg, and the Apache Iceberg logo are trademarks of the <a href=\"https://www.apache.org/\" target=\"_blank\">Apache Software Foundation</a>.<br/><br/><a href=\"https://databricks.com/privacy-policy\" target=\"_blank\">Privacy Policy</a> | <a href=\"https://databricks.com/terms-of-use\" target=\"_blank\">Terms of Use</a> | <a href=\"https://help.databricks.com/\" target=\"_blank\">Support</a>"
   ]
  }
 ],
 "metadata": {
  "application/vnd.databricks.v1+notebook": {
   "computePreferences": null,
   "dashboards": [],
   "environmentMetadata": null,
   "inputWidgetPreferences": null,
   "language": "sql",
   "notebookMetadata": {
    "mostRecentlyExecutedCommandWithImplicitDF": {
     "commandId": 6518066173703574,
     "dataframes": [
      "_sqldf"
     ]
    },
    "pythonIndentUnit": 4
   },
   "notebookName": "2.4 DEMO Implementing Change Data Feed",
   "widgets": {}
  },
  "language_info": {
   "name": "sql"
  }
 },
 "nbformat": 4,
 "nbformat_minor": 0
}
