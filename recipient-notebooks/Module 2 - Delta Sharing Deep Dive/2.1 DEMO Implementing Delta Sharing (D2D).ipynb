{
 "cells": [
  {
   "cell_type": "markdown",
   "metadata": {
    "application/vnd.databricks.v1+cell": {
     "cellMetadata": {},
     "inputWidgets": {},
     "nuid": "2bd1f3a7-1384-49db-9aa8-d7bd378f787b",
     "showTitle": false,
     "tableResultSettingsMap": {},
     "title": ""
    }
   },
   "source": [
    "\n",
    "<div style=\"text-align: center; line-height: 0; padding-top: 9px;\">\n",
    "  <img\n",
    "    src=\"https://databricks.com/wp-content/uploads/2018/03/db-academy-rgb-1200px.png\"\n",
    "    alt=\"Databricks Learning\"\n",
    "  >\n",
    "</div>"
   ]
  },
  {
   "cell_type": "markdown",
   "metadata": {
    "application/vnd.databricks.v1+cell": {
     "cellMetadata": {},
     "inputWidgets": {},
     "nuid": "5fb06144-7f99-45a1-8f77-a3e1a87485e3",
     "showTitle": false,
     "tableResultSettingsMap": {},
     "title": ""
    }
   },
   "source": [
    "# 2.1 DEMO: Implementing Delta Sharing (Databricks-to-Databricks)\n",
    "\n",
    "## Overview\n",
    "In this demo, we will implement Delta Sharing to securely share data between Databricks workspaces. This demonstration is split into two parts:\n",
    "\n",
    "**Provider Notebook:** We will create a Unity Catalog with sample customer and sales data, configure Delta Sharing by creating a share, set up a recipient organization, and generate an activation link for secure access.\n",
    "\n",
    "**Recipient Notebook (This Notebook):** The receiving organization (using Databricks) will mount the share in a local catalog and query the shared tables directly without copying data, and perform analytics using the shared datasets.\n",
    "\n",
    "This demo showcases the Databricks-to-Databricks (D2D) sharing pattern, where both the provider and recipient use Databricks workspaces. You'll see how Delta Sharing enables secure, live data sharing without data duplication or complex ETL processes."
   ]
  },
  {
   "cell_type": "markdown",
   "metadata": {
    "application/vnd.databricks.v1+cell": {
     "cellMetadata": {},
     "inputWidgets": {},
     "nuid": "29f2375d-d4b3-42b5-aa42-29c3ad8e34fb",
     "showTitle": false,
     "tableResultSettingsMap": {},
     "title": ""
    }
   },
   "source": [
    "## Background\n",
    "\n",
    "**Scenario:**\n",
    "You are a in the __West Division__ of a fictitious compant __*\"Acme Corp\"*__.  An administrator in the __East Division__ has shared their customer data with you. In this notebook, you'll set up the recipient side of Delta Sharing by mounting the Delta Share to a catalog to enable immediate access without copying or moving data."
   ]
  },
  {
   "cell_type": "code",
   "execution_count": 0,
   "metadata": {
    "application/vnd.databricks.v1+cell": {
     "cellMetadata": {
      "byteLimit": 2048000,
      "rowLimit": 10000
     },
     "inputWidgets": {},
     "nuid": "d4cc9182-976f-402e-90b1-68a3b6ab0be0",
     "showTitle": false,
     "tableResultSettingsMap": {},
     "title": ""
    }
   },
   "outputs": [],
   "source": [
    "%run ./Includes/Demo-Setup-2"
   ]
  },
  {
   "cell_type": "markdown",
   "metadata": {
    "application/vnd.databricks.v1+cell": {
     "cellMetadata": {},
     "inputWidgets": {},
     "nuid": "68b11a70-58c2-4564-95dd-51737db6eb09",
     "showTitle": false,
     "tableResultSettingsMap": {},
     "title": ""
    }
   },
   "source": [
    "## Step 1: View Available Providers\n",
    "\n",
    "Execute the command below to show all of the providers you have access to on the metastore assigned to your workspace.  \n",
    "\n",
    "⚠️ The recipient user mounting the share needs to have the `USE PROVIDER` privilege for the provider OR needs to be a __Metastore Admin__ for the metastore assigned to the recipient workspace."
   ]
  },
  {
   "cell_type": "code",
   "execution_count": 0,
   "metadata": {
    "application/vnd.databricks.v1+cell": {
     "cellMetadata": {
      "byteLimit": 2048000,
      "rowLimit": 10000
     },
     "inputWidgets": {},
     "nuid": "3de4b626-e3a7-495e-a285-b7af2c4ddc03",
     "showTitle": false,
     "tableResultSettingsMap": {},
     "title": ""
    }
   },
   "outputs": [],
   "source": [
    "-- show all providers available (that the calling user has USE PROVIDER privilege on)\n",
    "SHOW PROVIDERS;"
   ]
  },
  {
   "cell_type": "code",
   "execution_count": 0,
   "metadata": {
    "application/vnd.databricks.v1+cell": {
     "cellMetadata": {
      "byteLimit": 2048000,
      "rowLimit": 10000
     },
     "inputWidgets": {},
     "nuid": "4a75739c-c504-4f56-8db8-f1240a981089",
     "showTitle": false,
     "tableResultSettingsMap": {},
     "title": ""
    }
   },
   "outputs": [],
   "source": [
    "-- describe a provider\n",
    "DESCRIBE PROVIDER acme_corp;"
   ]
  },
  {
   "cell_type": "markdown",
   "metadata": {
    "application/vnd.databricks.v1+cell": {
     "cellMetadata": {},
     "inputWidgets": {},
     "nuid": "77aa7b02-1d50-4b6d-bb96-ac3eacc8979b",
     "showTitle": false,
     "tableResultSettingsMap": {},
     "title": ""
    }
   },
   "source": [
    "## Step 2: Show the Shares Available in the Provider\n",
    "\n",
    "Execute the command below to show all of the shares available from the provider.  "
   ]
  },
  {
   "cell_type": "code",
   "execution_count": 0,
   "metadata": {
    "application/vnd.databricks.v1+cell": {
     "cellMetadata": {
      "byteLimit": 2048000,
      "rowLimit": 10000
     },
     "inputWidgets": {},
     "nuid": "3c04431b-b557-417f-90b1-cbb643e034ba",
     "showTitle": false,
     "tableResultSettingsMap": {},
     "title": ""
    }
   },
   "outputs": [],
   "source": [
    "-- show all of the shares available in a provider\n",
    "SHOW SHARES IN PROVIDER acme_corp;"
   ]
  },
  {
   "cell_type": "markdown",
   "metadata": {
    "application/vnd.databricks.v1+cell": {
     "cellMetadata": {},
     "inputWidgets": {},
     "nuid": "5f5c1f7a-bcb2-45d6-944b-29021caaa895",
     "showTitle": false,
     "tableResultSettingsMap": {},
     "title": ""
    }
   },
   "source": [
    "## Step 3: Mount the Share to a Catalog\n",
    "\n",
    "On the **recipient side**, a privileged user must create a catalog from the share to make the shared data accessible. This catalog acts as a container for the shared tables and allows you to query them using standard SQL.\n",
    "\n",
    "**Permissions required (recipient side):**\n",
    "- Metastore admin, OR\n",
    "- User with both `CREATE CATALOG` and `USE PROVIDER` privileges, OR  \n",
    "- User with `CREATE CATALOG` privilege and ownership of the provider object\n",
    "\n",
    "The catalog created from a share has a catalog type of \"Delta Sharing\" and provides read-only access to the shared tables. All shared data appears under the standard three-level namespace: `catalog.schema.table`.\n",
    "\n",
    "**Note:** If the recipient workspace is using Databricks Community Edition (Free), these permissions are automatically granted.\n"
   ]
  },
  {
   "cell_type": "code",
   "execution_count": 0,
   "metadata": {
    "application/vnd.databricks.v1+cell": {
     "cellMetadata": {
      "byteLimit": 2048000,
      "rowLimit": 10000
     },
     "inputWidgets": {},
     "nuid": "5110c203-a797-4562-8bcf-36dc9b80fc70",
     "showTitle": false,
     "tableResultSettingsMap": {},
     "title": ""
    }
   },
   "outputs": [],
   "source": [
    "-- mount the remote share to a local catalog (recipient side)\n",
    "-- this creates a Delta Sharing catalog that provides read-only access to shared tables\n",
    "CREATE CATALOG IF NOT EXISTS recipient_retail_catalog\n",
    "USING SHARE acme_corp.internal_retail;"
   ]
  },
  {
   "cell_type": "markdown",
   "metadata": {
    "application/vnd.databricks.v1+cell": {
     "cellMetadata": {},
     "inputWidgets": {},
     "nuid": "0ccb194b-486e-4960-9e46-aa33638b0019",
     "showTitle": false,
     "tableResultSettingsMap": {},
     "title": ""
    }
   },
   "source": [
    "You will see your mounted share in __Delta Shares Received__ in the __Catalog__ view or in __Catalog Explorer__, the schema(s) - __retail__ in this case -  are inherited from the Delta Share.\n",
    "<br />\n",
    "<br />\n",
    "<div style=\"text-align: center; line-height: 0; padding-top: 9px;\">\n",
    "  <img\n",
    "    src=\"https://github.com/stackql/databricks-data-sharing-and-collaboration/blob/main/images/recipient%20-%20delta%20shares%20received.png?raw=true\"\n",
    "    alt=\"Get Provider Name\"\n",
    "  >\n",
    "</div>\n",
    "<br />\n",
    "<br />"
   ]
  },
  {
   "cell_type": "markdown",
   "metadata": {
    "application/vnd.databricks.v1+cell": {
     "cellMetadata": {},
     "inputWidgets": {},
     "nuid": "6414900e-8927-4fc8-9bb0-79f3a1203c75",
     "showTitle": false,
     "tableResultSettingsMap": {},
     "title": ""
    }
   },
   "source": [
    "# 2.1 DEMO: Implementing Delta Sharing (Databricks-to-Databricks)\n",
    "\n",
    "## Recipient Workspace Setup\n",
    "\n",
    "**Learning Objectives:**\n",
    "- Activate a Delta Share using an activation link\n",
    "- Create a catalog from the shared data\n",
    "- Query shared tables\n",
    "- Understand recipient permissions and limitations\n",
    "\n",
    "**Scenario:**\n",
    "You are a data analyst at a partner organization who has been granted access to customer and sales data via Delta Sharing."
   ]
  },
  {
   "cell_type": "code",
   "execution_count": 0,
   "metadata": {
    "application/vnd.databricks.v1+cell": {
     "cellMetadata": {},
     "inputWidgets": {},
     "nuid": "9a93cf46-e768-4fc7-a3cc-50dfd95a0f23",
     "showTitle": false,
     "tableResultSettingsMap": {},
     "title": ""
    }
   },
   "outputs": [],
   "source": [
    "%run ../Includes/00-recipient-setup"
   ]
  },
  {
   "cell_type": "markdown",
   "metadata": {
    "application/vnd.databricks.v1+cell": {
     "cellMetadata": {},
     "inputWidgets": {},
     "nuid": "d0cd1b1b-461b-430f-8b22-300caf29d192",
     "showTitle": false,
     "tableResultSettingsMap": {},
     "title": ""
    }
   },
   "source": [
    "## Step 1: Activate the Share\n",
    "\n",
    "**Prerequisites:** You must have received an activation link from the provider.\n",
    "\n",
    "The activation link looks like:\n",
    "```\n",
    "https://accounts.cloud.databricks.com/activation?activationCode=...\n",
    "```\n",
    "\n",
    "**To activate:**\n",
    "1. Click on the activation link in your browser\n",
    "2. Log in to your Databricks workspace\n",
    "3. Accept the share\n",
    "4. Note the share name (you'll use it to create a catalog)"
   ]
  },
  {
   "cell_type": "markdown",
   "metadata": {
    "application/vnd.databricks.v1+cell": {
     "cellMetadata": {},
     "inputWidgets": {},
     "nuid": "c4003dec-5420-4ac9-9e4b-995b9905df5a",
     "showTitle": false,
     "tableResultSettingsMap": {},
     "title": ""
    }
   },
   "source": [
    "## Step 2: Create a Catalog from the Share\n",
    "\n",
    "After activating the share, create a catalog in your workspace that references the shared data."
   ]
  },
  {
   "cell_type": "code",
   "execution_count": 0,
   "metadata": {
    "application/vnd.databricks.v1+cell": {
     "cellMetadata": {},
     "inputWidgets": {},
     "nuid": "0df791d7-b77f-4477-a902-bd697a82b8f0",
     "showTitle": false,
     "tableResultSettingsMap": {},
     "title": ""
    }
   },
   "outputs": [],
   "source": [
    "%python\n",
    "-- Create a catalog from the activated share\n",
    "-- Replace 'share_name' with the actual share name from the activation\n",
    "CREATE CATALOG IF NOT EXISTS ${c.recipient_catalog}\n",
    "USING SHARE `<provider-workspace-name>`.${c.share_name}\n",
    "COMMENT 'Catalog for accessing shared customer and sales data';\n",
    "\n",
    "-- Note: Update <provider-workspace-name> with the actual provider workspace name\n",
    "-- Example: `e2-demo-west`.user_customer_share"
   ]
  },
  {
   "cell_type": "code",
   "execution_count": 0,
   "metadata": {
    "application/vnd.databricks.v1+cell": {
     "cellMetadata": {},
     "inputWidgets": {},
     "nuid": "4ab64af4-b877-4085-b381-3f0190060e72",
     "showTitle": false,
     "tableResultSettingsMap": {},
     "title": ""
    }
   },
   "outputs": [],
   "source": [
    "%python\n",
    "-- Verify the catalog was created\n",
    "SHOW CATALOGS LIKE '${c.recipient_catalog}';"
   ]
  },
  {
   "cell_type": "markdown",
   "metadata": {
    "application/vnd.databricks.v1+cell": {
     "cellMetadata": {},
     "inputWidgets": {},
     "nuid": "a322a17d-b26a-4939-92c1-ac1b5a327e62",
     "showTitle": false,
     "tableResultSettingsMap": {},
     "title": ""
    }
   },
   "source": [
    "## Step 3: Explore the Shared Data\n",
    "\n",
    "Let's explore what's available in the shared catalog."
   ]
  },
  {
   "cell_type": "code",
   "execution_count": 0,
   "metadata": {
    "application/vnd.databricks.v1+cell": {
     "cellMetadata": {},
     "inputWidgets": {},
     "nuid": "065ab23f-f033-4bb2-b82d-e58a5b732e2c",
     "showTitle": false,
     "tableResultSettingsMap": {},
     "title": ""
    }
   },
   "outputs": [],
   "source": [
    "%python\n",
    "-- List all schemas in the shared catalog\n",
    "SHOW SCHEMAS IN ${c.recipient_catalog};"
   ]
  },
  {
   "cell_type": "code",
   "execution_count": 0,
   "metadata": {
    "application/vnd.databricks.v1+cell": {
     "cellMetadata": {},
     "inputWidgets": {},
     "nuid": "f5bbeb99-7d02-49ec-88e2-05d112ee085e",
     "showTitle": false,
     "tableResultSettingsMap": {},
     "title": ""
    }
   },
   "outputs": [],
   "source": [
    "%python\n",
    "-- List all tables in the shared schema\n",
    "SHOW TABLES IN ${c.shared_schema};"
   ]
  },
  {
   "cell_type": "markdown",
   "metadata": {
    "application/vnd.databricks.v1+cell": {
     "cellMetadata": {},
     "inputWidgets": {},
     "nuid": "3782db30-0e6c-4800-a0f3-cdf142ba178e",
     "showTitle": false,
     "tableResultSettingsMap": {},
     "title": ""
    }
   },
   "source": [
    "## Step 4: Query Shared Tables\n",
    "\n",
    "Now let's query the shared data. Note that you have read-only access."
   ]
  },
  {
   "cell_type": "code",
   "execution_count": 0,
   "metadata": {
    "application/vnd.databricks.v1+cell": {
     "cellMetadata": {},
     "inputWidgets": {},
     "nuid": "358ea74c-1551-4e60-8d02-dff3d45a45f5",
     "showTitle": false,
     "tableResultSettingsMap": {},
     "title": ""
    }
   },
   "outputs": [],
   "source": [
    "%python\n",
    "-- Query the shared customers table\n",
    "SELECT * FROM ${c.shared_customers}\n",
    "ORDER BY customer_id;"
   ]
  },
  {
   "cell_type": "code",
   "execution_count": 0,
   "metadata": {
    "application/vnd.databricks.v1+cell": {
     "cellMetadata": {},
     "inputWidgets": {},
     "nuid": "c5337c64-ba06-4aa9-8ec4-82519b316f4e",
     "showTitle": false,
     "tableResultSettingsMap": {},
     "title": ""
    }
   },
   "outputs": [],
   "source": [
    "%python\n",
    "-- Query the shared sales transactions table\n",
    "SELECT * FROM ${c.shared_sales}\n",
    "ORDER BY transaction_date DESC;"
   ]
  },
  {
   "cell_type": "markdown",
   "metadata": {
    "application/vnd.databricks.v1+cell": {
     "cellMetadata": {},
     "inputWidgets": {},
     "nuid": "a119203b-d534-4a68-8385-1cb38798b361",
     "showTitle": false,
     "tableResultSettingsMap": {},
     "title": ""
    }
   },
   "source": [
    "## Step 5: Perform Analytics on Shared Data\n",
    "\n",
    "Let's run some analytical queries to demonstrate the power of Delta Sharing."
   ]
  },
  {
   "cell_type": "code",
   "execution_count": 0,
   "metadata": {
    "application/vnd.databricks.v1+cell": {
     "cellMetadata": {},
     "inputWidgets": {},
     "nuid": "84fc705d-6f07-43ae-afd9-20c12ac0ddc8",
     "showTitle": false,
     "tableResultSettingsMap": {},
     "title": ""
    }
   },
   "outputs": [],
   "source": [
    "%python\n",
    "-- Customer segmentation analysis\n",
    "SELECT \n",
    "  customer_segment,\n",
    "  COUNT(*) as customer_count,\n",
    "  COUNT(DISTINCT country) as countries\n",
    "FROM ${c.shared_customers}\n",
    "GROUP BY customer_segment\n",
    "ORDER BY customer_count DESC;"
   ]
  },
  {
   "cell_type": "code",
   "execution_count": 0,
   "metadata": {
    "application/vnd.databricks.v1+cell": {
     "cellMetadata": {},
     "inputWidgets": {},
     "nuid": "fe0ab4f5-bb38-4f7e-b3e1-2f808d621abd",
     "showTitle": false,
     "tableResultSettingsMap": {},
     "title": ""
    }
   },
   "outputs": [],
   "source": [
    "%python\n",
    "-- Sales analysis by customer\n",
    "SELECT \n",
    "  c.customer_name,\n",
    "  c.customer_segment,\n",
    "  c.country,\n",
    "  COUNT(s.transaction_id) as total_transactions,\n",
    "  SUM(s.total_amount) as total_revenue\n",
    "FROM ${c.shared_customers} c\n",
    "JOIN ${c.shared_sales} s ON c.customer_id = s.customer_id\n",
    "GROUP BY c.customer_name, c.customer_segment, c.country\n",
    "ORDER BY total_revenue DESC;"
   ]
  },
  {
   "cell_type": "code",
   "execution_count": 0,
   "metadata": {
    "application/vnd.databricks.v1+cell": {
     "cellMetadata": {},
     "inputWidgets": {},
     "nuid": "bcca0342-b018-44dd-8b71-26294ff3f16e",
     "showTitle": false,
     "tableResultSettingsMap": {},
     "title": ""
    }
   },
   "outputs": [],
   "source": [
    "%python\n",
    "-- Revenue by region and product\n",
    "SELECT \n",
    "  region,\n",
    "  product_name,\n",
    "  SUM(quantity) as total_quantity,\n",
    "  SUM(total_amount) as total_revenue\n",
    "FROM ${c.shared_sales}\n",
    "GROUP BY region, product_name\n",
    "ORDER BY region, total_revenue DESC;"
   ]
  },
  {
   "cell_type": "markdown",
   "metadata": {
    "application/vnd.databricks.v1+cell": {
     "cellMetadata": {},
     "inputWidgets": {},
     "nuid": "42651abf-7c43-4814-9fdd-d915772e92e7",
     "showTitle": false,
     "tableResultSettingsMap": {},
     "title": ""
    }
   },
   "source": [
    "## Step 6: Create Local Views or Tables\n",
    "\n",
    "Recipients can create local views or materialize shared data into their own tables for further analysis."
   ]
  },
  {
   "cell_type": "code",
   "execution_count": 0,
   "metadata": {
    "application/vnd.databricks.v1+cell": {
     "cellMetadata": {},
     "inputWidgets": {},
     "nuid": "070fb918-4610-4a26-8b42-8c27e69cc463",
     "showTitle": false,
     "tableResultSettingsMap": {},
     "title": ""
    }
   },
   "outputs": [],
   "source": [
    "%python\n",
    "# Create a local schema for our analysis\n",
    "local_catalog = \"main\"  # or your default catalog\n",
    "local_schema = f\"{username}_analysis\"\n",
    "\n",
    "spark.sql(f\"CREATE SCHEMA IF NOT EXISTS {local_catalog}.{local_schema}\")\n",
    "print(f\"Created schema: {local_catalog}.{local_schema}\")"
   ]
  },
  {
   "cell_type": "code",
   "execution_count": 0,
   "metadata": {
    "application/vnd.databricks.v1+cell": {
     "cellMetadata": {},
     "inputWidgets": {},
     "nuid": "6b16fe5d-7fe2-4617-be98-25609db415bc",
     "showTitle": false,
     "tableResultSettingsMap": {},
     "title": ""
    }
   },
   "outputs": [],
   "source": [
    "%python\n",
    "-- Create a view combining shared data\n",
    "CREATE OR REPLACE VIEW main.${c.username}_analysis.customer_revenue_summary AS\n",
    "SELECT \n",
    "  c.customer_id,\n",
    "  c.customer_name,\n",
    "  c.customer_segment,\n",
    "  c.country,\n",
    "  COUNT(s.transaction_id) as transaction_count,\n",
    "  SUM(s.total_amount) as lifetime_value,\n",
    "  MAX(s.transaction_date) as last_purchase_date\n",
    "FROM ${c.shared_customers} c\n",
    "LEFT JOIN ${c.shared_sales} s ON c.customer_id = s.customer_id\n",
    "GROUP BY c.customer_id, c.customer_name, c.customer_segment, c.country;"
   ]
  },
  {
   "cell_type": "markdown",
   "metadata": {
    "application/vnd.databricks.v1+cell": {
     "cellMetadata": {},
     "inputWidgets": {},
     "nuid": "38e22eb0-42e1-4da7-903d-8660b7f7ce0f",
     "showTitle": false,
     "tableResultSettingsMap": {},
     "title": ""
    }
   },
   "source": [
    "## Step 7: Understanding Limitations\n",
    "\n",
    "As a recipient, there are some limitations to be aware of:"
   ]
  },
  {
   "cell_type": "code",
   "execution_count": 0,
   "metadata": {
    "application/vnd.databricks.v1+cell": {
     "cellMetadata": {},
     "inputWidgets": {},
     "nuid": "ab7578e1-cc8f-42a9-8de1-4b7eaeba3101",
     "showTitle": false,
     "tableResultSettingsMap": {},
     "title": ""
    }
   },
   "outputs": [],
   "source": [
    "%python\n",
    "-- This will FAIL - recipients have read-only access\n",
    "-- INSERT INTO ${c.shared_customers} VALUES (999, 'Test', 'test@test.com', 'USA', current_date(), 'Test');"
   ]
  },
  {
   "cell_type": "code",
   "execution_count": 0,
   "metadata": {
    "application/vnd.databricks.v1+cell": {
     "cellMetadata": {},
     "inputWidgets": {},
     "nuid": "7544fe80-ce3c-4158-89b2-12130d2fe193",
     "showTitle": false,
     "tableResultSettingsMap": {},
     "title": ""
    }
   },
   "outputs": [],
   "source": [
    "%python\n",
    "-- This will FAIL - cannot modify shared tables\n",
    "-- UPDATE ${c.shared_customers} SET customer_segment = 'VIP' WHERE customer_id = 1;"
   ]
  },
  {
   "cell_type": "code",
   "execution_count": 0,
   "metadata": {
    "application/vnd.databricks.v1+cell": {
     "cellMetadata": {},
     "inputWidgets": {},
     "nuid": "a1dccf8a-66be-4a40-acc9-51c0fb48c567",
     "showTitle": false,
     "tableResultSettingsMap": {},
     "title": ""
    }
   },
   "outputs": [],
   "source": [
    "%python\n",
    "-- This will FAIL - cannot delete from shared tables\n",
    "-- DELETE FROM ${c.shared_customers} WHERE customer_id = 1;"
   ]
  },
  {
   "cell_type": "markdown",
   "metadata": {
    "application/vnd.databricks.v1+cell": {
     "cellMetadata": {},
     "inputWidgets": {},
     "nuid": "9f90d720-b55f-4236-9cdd-3ab0e7043c40",
     "showTitle": false,
     "tableResultSettingsMap": {},
     "title": ""
    }
   },
   "source": [
    "## Summary\n",
    "\n",
    "✅ **What we accomplished:**\n",
    "\n",
    "1. Activated a Delta Share using the activation link\n",
    "2. Created a catalog in our workspace from the share\n",
    "3. Explored the shared schemas and tables\n",
    "4. Queried shared data with full SQL capabilities\n",
    "5. Performed analytical queries joining shared tables\n",
    "6. Created local views based on shared data\n",
    "7. Understood recipient limitations (read-only access)\n",
    "\n",
    "**Key Benefits:**\n",
    "- 🚀 **No Data Copying**: Query data directly from the provider\n",
    "- 🔒 **Secure**: Provider controls access and can revoke at any time\n",
    "- ⚡ **Real-time**: Always access the latest data from the provider\n",
    "- 💰 **Cost-effective**: No storage costs for recipients\n",
    "- 🔧 **Standard SQL**: Use familiar SQL syntax for queries\n",
    "\n",
    "**Key Concepts:**\n",
    "- **Activation**: One-time process to accept a share\n",
    "- **Read-only Access**: Recipients can query but not modify shared data\n",
    "- **Live Data**: Changes in provider tables are immediately visible\n",
    "- **Local Materialization**: Recipients can create local copies if needed"
   ]
  }
 ],
 "metadata": {
  "application/vnd.databricks.v1+notebook": {
   "computePreferences": null,
   "dashboards": [],
   "environmentMetadata": null,
   "inputWidgetPreferences": null,
   "language": "sql",
   "notebookMetadata": {
    "pythonIndentUnit": 4
   },
   "notebookName": "2.1 DEMO Implementing Delta Sharing (D2D)",
   "widgets": {}
  },
  "language_info": {
   "name": "sql"
  }
 },
 "nbformat": 4,
 "nbformat_minor": 0
}
