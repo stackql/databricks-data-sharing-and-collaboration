{
 "cells": [
  {
   "cell_type": "markdown",
   "id": "30fb4a03",
   "metadata": {},
   "source": [
    "\n",
    "<div style=\"text-align: center; line-height: 0; padding-top: 9px;\">\n",
    "  <img\n",
    "    src=\"https://databricks.com/wp-content/uploads/2018/03/db-academy-rgb-1200px.png\"\n",
    "    alt=\"Databricks Learning\"\n",
    "  >\n",
    "</div>"
   ]
  },
  {
   "cell_type": "markdown",
   "id": "f67c02b8",
   "metadata": {},
   "source": [
    "# 2.1 DEMO: Implementing Delta Sharing (Databricks-to-Databricks)\n",
    "\n",
    "## Overview\n",
    "In this demo, we will implement Delta Sharing to securely share data between Databricks workspaces. This demonstration is split into two parts:\n",
    "\n",
    "**Provider Notebook:** We will create a Unity Catalog with sample customer and sales data, configure Delta Sharing by creating a share, set up a recipient organization, and generate an activation link for secure access.\n",
    "\n",
    "**Recipient Notebook (This Notebook):** The receiving organization (using Databricks) will mount the share in a local catalog and query the shared tables directly without copying data, and perform analytics using the shared datasets.\n",
    "\n",
    "This demo showcases the Databricks-to-Databricks (D2D) sharing pattern, where both the provider and recipient use Databricks workspaces. You'll see how Delta Sharing enables secure, live data sharing without data duplication or complex ETL processes."
   ]
  },
  {
   "cell_type": "markdown",
   "id": "414be932",
   "metadata": {},
   "source": [
    "# 2.1 DEMO: Implementing Delta Sharing (Databricks-to-Databricks)\n",
    "\n",
    "## Recipient Workspace Setup\n",
    "\n",
    "**Learning Objectives:**\n",
    "- Activate a Delta Share using an activation link\n",
    "- Create a catalog from the shared data\n",
    "- Query shared tables\n",
    "- Understand recipient permissions and limitations\n",
    "\n",
    "**Scenario:**\n",
    "You are a data analyst at a partner organization who has been granted access to customer and sales data via Delta Sharing."
   ]
  },
  {
   "cell_type": "code",
   "execution_count": null,
   "id": "137aae0a",
   "metadata": {},
   "outputs": [],
   "source": [
    "%run ../Includes/00-recipient-setup"
   ]
  },
  {
   "cell_type": "markdown",
   "id": "94e81d52",
   "metadata": {},
   "source": [
    "## Step 1: Activate the Share\n",
    "\n",
    "**Prerequisites:** You must have received an activation link from the provider.\n",
    "\n",
    "The activation link looks like:\n",
    "```\n",
    "https://accounts.cloud.databricks.com/activation?activationCode=...\n",
    "```\n",
    "\n",
    "**To activate:**\n",
    "1. Click on the activation link in your browser\n",
    "2. Log in to your Databricks workspace\n",
    "3. Accept the share\n",
    "4. Note the share name (you'll use it to create a catalog)"
   ]
  },
  {
   "cell_type": "markdown",
   "id": "2b791105",
   "metadata": {},
   "source": [
    "## Step 2: Create a Catalog from the Share\n",
    "\n",
    "After activating the share, create a catalog in your workspace that references the shared data."
   ]
  },
  {
   "cell_type": "code",
   "execution_count": null,
   "id": "82dc524c",
   "metadata": {},
   "outputs": [],
   "source": [
    "-- Create a catalog from the activated share\n",
    "-- Replace 'share_name' with the actual share name from the activation\n",
    "CREATE CATALOG IF NOT EXISTS ${c.recipient_catalog}\n",
    "USING SHARE `<provider-workspace-name>`.${c.share_name}\n",
    "COMMENT 'Catalog for accessing shared customer and sales data';\n",
    "\n",
    "-- Note: Update <provider-workspace-name> with the actual provider workspace name\n",
    "-- Example: `e2-demo-west`.user_customer_share"
   ]
  },
  {
   "cell_type": "code",
   "execution_count": null,
   "id": "93376116",
   "metadata": {},
   "outputs": [],
   "source": [
    "-- Verify the catalog was created\n",
    "SHOW CATALOGS LIKE '${c.recipient_catalog}';"
   ]
  },
  {
   "cell_type": "markdown",
   "id": "1d75fdf6",
   "metadata": {},
   "source": [
    "## Step 3: Explore the Shared Data\n",
    "\n",
    "Let's explore what's available in the shared catalog."
   ]
  },
  {
   "cell_type": "code",
   "execution_count": null,
   "id": "1656f1ae",
   "metadata": {},
   "outputs": [],
   "source": [
    "-- List all schemas in the shared catalog\n",
    "SHOW SCHEMAS IN ${c.recipient_catalog};"
   ]
  },
  {
   "cell_type": "code",
   "execution_count": null,
   "id": "027448d9",
   "metadata": {},
   "outputs": [],
   "source": [
    "-- List all tables in the shared schema\n",
    "SHOW TABLES IN ${c.shared_schema};"
   ]
  },
  {
   "cell_type": "markdown",
   "id": "a9525e5c",
   "metadata": {},
   "source": [
    "## Step 4: Query Shared Tables\n",
    "\n",
    "Now let's query the shared data. Note that you have read-only access."
   ]
  },
  {
   "cell_type": "code",
   "execution_count": null,
   "id": "b886a3fa",
   "metadata": {},
   "outputs": [],
   "source": [
    "-- Query the shared customers table\n",
    "SELECT * FROM ${c.shared_customers}\n",
    "ORDER BY customer_id;"
   ]
  },
  {
   "cell_type": "code",
   "execution_count": null,
   "id": "dcd523ce",
   "metadata": {},
   "outputs": [],
   "source": [
    "-- Query the shared sales transactions table\n",
    "SELECT * FROM ${c.shared_sales}\n",
    "ORDER BY transaction_date DESC;"
   ]
  },
  {
   "cell_type": "markdown",
   "id": "ce0a7e18",
   "metadata": {},
   "source": [
    "## Step 5: Perform Analytics on Shared Data\n",
    "\n",
    "Let's run some analytical queries to demonstrate the power of Delta Sharing."
   ]
  },
  {
   "cell_type": "code",
   "execution_count": null,
   "id": "bef77a34",
   "metadata": {},
   "outputs": [],
   "source": [
    "-- Customer segmentation analysis\n",
    "SELECT \n",
    "  customer_segment,\n",
    "  COUNT(*) as customer_count,\n",
    "  COUNT(DISTINCT country) as countries\n",
    "FROM ${c.shared_customers}\n",
    "GROUP BY customer_segment\n",
    "ORDER BY customer_count DESC;"
   ]
  },
  {
   "cell_type": "code",
   "execution_count": null,
   "id": "fa62f36c",
   "metadata": {},
   "outputs": [],
   "source": [
    "-- Sales analysis by customer\n",
    "SELECT \n",
    "  c.customer_name,\n",
    "  c.customer_segment,\n",
    "  c.country,\n",
    "  COUNT(s.transaction_id) as total_transactions,\n",
    "  SUM(s.total_amount) as total_revenue\n",
    "FROM ${c.shared_customers} c\n",
    "JOIN ${c.shared_sales} s ON c.customer_id = s.customer_id\n",
    "GROUP BY c.customer_name, c.customer_segment, c.country\n",
    "ORDER BY total_revenue DESC;"
   ]
  },
  {
   "cell_type": "code",
   "execution_count": null,
   "id": "17a87c5a",
   "metadata": {},
   "outputs": [],
   "source": [
    "-- Revenue by region and product\n",
    "SELECT \n",
    "  region,\n",
    "  product_name,\n",
    "  SUM(quantity) as total_quantity,\n",
    "  SUM(total_amount) as total_revenue\n",
    "FROM ${c.shared_sales}\n",
    "GROUP BY region, product_name\n",
    "ORDER BY region, total_revenue DESC;"
   ]
  },
  {
   "cell_type": "markdown",
   "id": "cb978e0c",
   "metadata": {},
   "source": [
    "## Step 6: Create Local Views or Tables\n",
    "\n",
    "Recipients can create local views or materialize shared data into their own tables for further analysis."
   ]
  },
  {
   "cell_type": "code",
   "execution_count": null,
   "id": "7ad21b37",
   "metadata": {},
   "outputs": [],
   "source": [
    "%python\n",
    "# Create a local schema for our analysis\n",
    "local_catalog = \"main\"  # or your default catalog\n",
    "local_schema = f\"{username}_analysis\"\n",
    "\n",
    "spark.sql(f\"CREATE SCHEMA IF NOT EXISTS {local_catalog}.{local_schema}\")\n",
    "print(f\"Created schema: {local_catalog}.{local_schema}\")"
   ]
  },
  {
   "cell_type": "code",
   "execution_count": null,
   "id": "c74a9254",
   "metadata": {},
   "outputs": [],
   "source": [
    "%python\n",
    "-- Create a view combining shared data\n",
    "CREATE OR REPLACE VIEW main.${c.username}_analysis.customer_revenue_summary AS\n",
    "SELECT \n",
    "  c.customer_id,\n",
    "  c.customer_name,\n",
    "  c.customer_segment,\n",
    "  c.country,\n",
    "  COUNT(s.transaction_id) as transaction_count,\n",
    "  SUM(s.total_amount) as lifetime_value,\n",
    "  MAX(s.transaction_date) as last_purchase_date\n",
    "FROM ${c.shared_customers} c\n",
    "LEFT JOIN ${c.shared_sales} s ON c.customer_id = s.customer_id\n",
    "GROUP BY c.customer_id, c.customer_name, c.customer_segment, c.country;"
   ]
  },
  {
   "cell_type": "markdown",
   "id": "e60f0f3e",
   "metadata": {},
   "source": [
    "## Step 7: Understanding Limitations\n",
    "\n",
    "As a recipient, there are some limitations to be aware of:"
   ]
  },
  {
   "cell_type": "code",
   "execution_count": null,
   "id": "4e4013b8",
   "metadata": {},
   "outputs": [],
   "source": [
    "-- This will FAIL - recipients have read-only access\n",
    "-- INSERT INTO ${c.shared_customers} VALUES (999, 'Test', 'test@test.com', 'USA', current_date(), 'Test');"
   ]
  },
  {
   "cell_type": "code",
   "execution_count": null,
   "id": "b94f82c5",
   "metadata": {},
   "outputs": [],
   "source": [
    "-- This will FAIL - cannot modify shared tables\n",
    "-- UPDATE ${c.shared_customers} SET customer_segment = 'VIP' WHERE customer_id = 1;"
   ]
  },
  {
   "cell_type": "code",
   "execution_count": null,
   "id": "8a795e81",
   "metadata": {},
   "outputs": [],
   "source": [
    "-- This will FAIL - cannot delete from shared tables\n",
    "-- DELETE FROM ${c.shared_customers} WHERE customer_id = 1;"
   ]
  },
  {
   "cell_type": "markdown",
   "id": "225b82d6",
   "metadata": {},
   "source": [
    "## Summary\n",
    "\n",
    "✅ **What we accomplished:**\n",
    "\n",
    "1. Activated a Delta Share using the activation link\n",
    "2. Created a catalog in our workspace from the share\n",
    "3. Explored the shared schemas and tables\n",
    "4. Queried shared data with full SQL capabilities\n",
    "5. Performed analytical queries joining shared tables\n",
    "6. Created local views based on shared data\n",
    "7. Understood recipient limitations (read-only access)\n",
    "\n",
    "**Key Benefits:**\n",
    "- 🚀 **No Data Copying**: Query data directly from the provider\n",
    "- 🔒 **Secure**: Provider controls access and can revoke at any time\n",
    "- ⚡ **Real-time**: Always access the latest data from the provider\n",
    "- 💰 **Cost-effective**: No storage costs for recipients\n",
    "- 🔧 **Standard SQL**: Use familiar SQL syntax for queries\n",
    "\n",
    "**Key Concepts:**\n",
    "- **Activation**: One-time process to accept a share\n",
    "- **Read-only Access**: Recipients can query but not modify shared data\n",
    "- **Live Data**: Changes in provider tables are immediately visible\n",
    "- **Local Materialization**: Recipients can create local copies if needed"
   ]
  }
 ],
 "metadata": {
  "language_info": {
   "name": "python"
  }
 },
 "nbformat": 4,
 "nbformat_minor": 5
}
