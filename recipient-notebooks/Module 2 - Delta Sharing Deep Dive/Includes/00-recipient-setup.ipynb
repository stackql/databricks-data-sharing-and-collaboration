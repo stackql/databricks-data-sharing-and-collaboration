{
 "cells": [
  {
   "cell_type": "markdown",
   "id": "5d8db970",
   "metadata": {},
   "source": [
    "# Recipient Workspace Setup\n",
    "\n",
    "This notebook sets up common variables and configurations for the Recipient workspace.\n",
    "\n",
    "**Usage:** Include `%run ../setup/00-recipient-setup` at the top of your recipient notebooks"
   ]
  },
  {
   "cell_type": "markdown",
   "id": "0a22bac4",
   "metadata": {},
   "source": [
    "## Get Current User and Setup Variables"
   ]
  },
  {
   "cell_type": "code",
   "execution_count": null,
   "id": "6c893ff1",
   "metadata": {},
   "outputs": [],
   "source": [
    "%python\n",
    "# Get current user information\n",
    "current_user = spark.sql(\"SELECT current_user() as user\").collect()[0][\"user\"]\n",
    "username = current_user.split(\"@\")[0].replace(\".\", \"_\").replace(\"-\", \"_\")\n",
    "\n",
    "# Recipient configuration\n",
    "recipient_catalog = f\"{username}_recipient_catalog\"\n",
    "\n",
    "# Expected provider share names (must match provider configuration)\n",
    "provider_username = username  # Adjust if provider uses different username\n",
    "share_name = f\"{provider_username}_customer_share\"\n",
    "cdf_share_name = f\"{provider_username}_cdf_share\"\n",
    "\n",
    "# Shared object paths (after catalog is created)\n",
    "shared_schema = f\"{recipient_catalog}.{share_name}.sales_data\"\n",
    "shared_customers = f\"{shared_schema}.customers\"\n",
    "shared_sales = f\"{shared_schema}.sales_transactions\"\n",
    "shared_inventory = f\"{shared_schema}.product_inventory\"\n",
    "\n",
    "# CDF shared objects\n",
    "cdf_schema = f\"{recipient_catalog}.{cdf_share_name}.sales_data\"\n",
    "cdf_events = f\"{cdf_schema}.customer_events\"\n",
    "\n",
    "# Set as Spark configuration for SQL access\n",
    "spark.conf.set(\"c.recipient_catalog\", recipient_catalog)\n",
    "spark.conf.set(\"c.share_name\", share_name)\n",
    "spark.conf.set(\"c.cdf_share_name\", cdf_share_name)\n",
    "spark.conf.set(\"c.shared_schema\", shared_schema)\n",
    "spark.conf.set(\"c.shared_customers\", shared_customers)\n",
    "spark.conf.set(\"c.shared_sales\", shared_sales)\n",
    "spark.conf.set(\"c.shared_inventory\", shared_inventory)\n",
    "spark.conf.set(\"c.cdf_schema\", cdf_schema)\n",
    "spark.conf.set(\"c.cdf_events\", cdf_events)\n",
    "\n",
    "print(\"=\"*80)\n",
    "print(\"RECIPIENT WORKSPACE CONFIGURATION\")\n",
    "print(\"=\"*80)\n",
    "print(f\"Current User: {current_user}\")\n",
    "print(f\"Username: {username}\")\n",
    "print(f\"\")\n",
    "print(f\"Recipient Catalog: {recipient_catalog}\")\n",
    "print(f\"Expected Share Name: {share_name}\")\n",
    "print(f\"Expected CDF Share: {cdf_share_name}\")\n",
    "print(f\"\")\n",
    "print(f\"Shared Tables:\")\n",
    "print(f\"  - {shared_customers}\")\n",
    "print(f\"  - {shared_sales}\")\n",
    "print(f\"  - {shared_inventory}\")\n",
    "print(f\"  - {cdf_events} (CDF)\")\n",
    "print(\"=\"*80)\n",
    "print(\"✅ Variables configured! Use ${c.variable_name} in SQL cells\")\n",
    "print(\"=\"*80)"
   ]
  },
  {
   "cell_type": "markdown",
   "id": "c4d2abcf",
   "metadata": {},
   "source": [
    "## Verify Configuration\n",
    "\n",
    "The variables are now available in SQL using the `${c.variable_name}` syntax"
   ]
  },
  {
   "cell_type": "code",
   "execution_count": null,
   "id": "9cf09579",
   "metadata": {},
   "outputs": [],
   "source": [
    "SELECT \n",
    "  '${c.recipient_catalog}' as recipient_catalog,\n",
    "  '${c.share_name}' as share_name,\n",
    "  '${c.shared_customers}' as shared_customers_table,\n",
    "  current_user() as current_user"
   ]
  }
 ],
 "metadata": {
  "language_info": {
   "name": "python"
  }
 },
 "nbformat": 4,
 "nbformat_minor": 5
}
