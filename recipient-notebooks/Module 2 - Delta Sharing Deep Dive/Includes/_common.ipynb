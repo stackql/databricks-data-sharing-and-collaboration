{
 "cells": [
  {
   "cell_type": "code",
   "execution_count": null,
   "metadata": {},
   "outputs": [],
   "source": [
    "# recipient-notebooks/Module 2 - Delta Sharing Deep Dive/Includes/_common.ipynb"
   ]
  },
  {
   "cell_type": "code",
   "execution_count": 0,
   "metadata": {
    "application/vnd.databricks.v1+cell": {
     "cellMetadata": {},
     "inputWidgets": {},
     "nuid": "7fe70a6d-4b0b-48e0-9779-b8b70215ed1f",
     "showTitle": false,
     "tableResultSettingsMap": {},
     "title": ""
    }
   },
   "outputs": [],
   "source": [
    "class DAConfig:\n",
    "    \"\"\"Configuration object with attribute access.\"\"\"\n",
    "    def __init__(self, config_dict):\n",
    "        for key, value in config_dict.items():\n",
    "            setattr(self, key, value)\n",
    "    \n",
    "    def __repr__(self):\n",
    "        attrs = ', '.join([f\"{k}={v}\" for k, v in self.__dict__.items()])\n",
    "        return f\"DAConfig({attrs})\"\n",
    "\n",
    "def create_da_objects(config_values):\n",
    "    \"\"\"\n",
    "    Create DA configuration object and SQL variables from config values.\n",
    "    \n",
    "    Args:\n",
    "        config_values: List of tuples containing (key, value) pairs\n",
    "    \n",
    "    Returns:\n",
    "        DAConfig: Configuration object with attribute access\n",
    "    \"\"\"\n",
    "    # Create dictionary from config_values\n",
    "    config_dict = {key: value for key, value in config_values}\n",
    "    \n",
    "    # Create DA object with attribute access for Python\n",
    "    DA = DAConfig(config_dict)\n",
    "    \n",
    "    # Create a temp view storing the configuration as key-value pairs\n",
    "    spark.createDataFrame(\n",
    "        [(key, value) for key, value in config_dict.items()],\n",
    "        [\"key\", \"value\"]\n",
    "    ).createOrReplaceTempView(\"da_config_temp\")\n",
    "    \n",
    "    # Create SQL dictionary var (map) from the temp view\n",
    "    spark.sql(\"\"\"\n",
    "        CREATE OR REPLACE TEMP VIEW da_map_view AS\n",
    "        SELECT map_from_arrays(collect_list(key), collect_list(value)) as config_map\n",
    "        FROM da_config_temp\n",
    "    \"\"\")\n",
    "    \n",
    "    # Declare the DA variable\n",
    "    spark.sql(\"DECLARE OR REPLACE VARIABLE DA MAP<STRING, STRING>\")\n",
    "    \n",
    "    # Set the DA variable from the temp view\n",
    "    spark.sql(\"SET VAR DA = (SELECT config_map FROM da_map_view)\")\n",
    "    \n",
    "    # Clean up temp views\n",
    "    spark.sql(\"DROP VIEW IF EXISTS da_config_temp\")\n",
    "    spark.sql(\"DROP VIEW IF EXISTS da_map_view\")\n",
    "    \n",
    "    return DA"
   ]
  },
  {
   "cell_type": "code",
   "execution_count": 0,
   "metadata": {
    "application/vnd.databricks.v1+cell": {
     "cellMetadata": {},
     "inputWidgets": {},
     "nuid": "77208e4a-f977-4d94-8d39-d6ceac551768",
     "showTitle": false,
     "tableResultSettingsMap": {},
     "title": ""
    }
   },
   "outputs": [],
   "source": [
    "def display_config_values(config_values):\n",
    "    \"\"\"\n",
    "    Displays list of key-value pairs as rows of HTML text and textboxes\n",
    "    :param config_values: list of (key, value) tuples\n",
    "\n",
    "    Returns\n",
    "    ----------\n",
    "    HTML output displaying the config values\n",
    "\n",
    "    Example\n",
    "    --------\n",
    "    DA.display_config_values([('catalog',DA.catalog_name),('schema',DA.schema_name)])\n",
    "    \"\"\"\n",
    "    html = \"\"\"<table style=\"width:100%\">\"\"\"\n",
    "    for name, value in config_values:\n",
    "        html += f\"\"\"\n",
    "        <tr>\n",
    "            <td style=\"white-space:nowrap; width:1em\">{name}:</td>\n",
    "            <td><input type=\"text\" value=\"{value}\" style=\"width: 100%\"></td></tr>\"\"\"\n",
    "    html += \"</table>\"\n",
    "    displayHTML(html)"
   ]
  }
 ],
 "metadata": {
  "application/vnd.databricks.v1+notebook": {
   "computePreferences": null,
   "dashboards": [],
   "environmentMetadata": {
    "base_environment": "",
    "environment_version": "4"
   },
   "inputWidgetPreferences": null,
   "language": "python",
   "notebookMetadata": {
    "pythonIndentUnit": 4
   },
   "notebookName": "_common",
   "widgets": {}
  },
  "language_info": {
   "name": "python"
  }
 },
 "nbformat": 4,
 "nbformat_minor": 0
}
