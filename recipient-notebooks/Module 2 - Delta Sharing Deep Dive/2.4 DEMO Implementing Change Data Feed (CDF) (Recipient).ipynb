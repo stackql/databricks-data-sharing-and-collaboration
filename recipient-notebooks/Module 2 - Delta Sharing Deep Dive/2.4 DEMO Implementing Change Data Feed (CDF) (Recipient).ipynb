{
 "cells": [
  {
   "cell_type": "markdown",
   "id": "60df10c2",
   "metadata": {},
   "source": [
    "# 2.4 DEMO: Consuming Change Data Feed (CDF) with Delta Sharing\n",
    "\n",
    "## Recipient Workspace - Tracking Changes\n",
    "\n",
    "**Learning Objectives:**\n",
    "- Access CDF-enabled shared tables\n",
    "- Query change data using `table_changes()`\n",
    "- Build incremental data pipelines\n",
    "- Track INSERT, UPDATE, and DELETE operations\n",
    "- Understand versioning and timestamps\n",
    "\n",
    "**Scenario:**\n",
    "You are a data consumer who receives shared customer data. Instead of processing the entire dataset every time, you want to track only the changes (deltas) to efficiently update your systems.\n",
    "\n",
    "**Benefits of Using CDF:**\n",
    "- Process only changed records, not full datasets\n",
    "- Reduce processing time and costs\n",
    "- Enable real-time or near-real-time synchronization\n",
    "- Build event-driven architectures\n",
    "- Maintain complete audit trails"
   ]
  },
  {
   "cell_type": "code",
   "execution_count": null,
   "id": "56dd7230",
   "metadata": {},
   "outputs": [],
   "source": [
    "%run ../../setup/00-recipient-setup"
   ]
  },
  {
   "cell_type": "markdown",
   "id": "8a52a510",
   "metadata": {},
   "source": [
    "## Step 1: Activate the Share\n",
    "\n",
    "**Instructions:**\n",
    "1. Obtain the activation link from the provider\n",
    "2. Open the link in a web browser to activate access\n",
    "3. Return here to create the catalog"
   ]
  },
  {
   "cell_type": "code",
   "execution_count": null,
   "id": "28255f90",
   "metadata": {
    "vscode": {
     "languageId": "sql"
    }
   },
   "outputs": [],
   "source": [
    "-- Create catalog from the CDF share\n",
    "CREATE CATALOG IF NOT EXISTS cdf_recipient_catalog\n",
    "USING SHARE `<provider_name>`.${c.cdf_share_name}\n",
    "COMMENT 'Catalog for CDF-enabled shared data';\n",
    "\n",
    "-- View the shared schema and tables\n",
    "SHOW SCHEMAS IN cdf_recipient_catalog;\n",
    "SHOW TABLES IN cdf_recipient_catalog.${c.schema_name};"
   ]
  },
  {
   "cell_type": "markdown",
   "id": "e9e3f6f7",
   "metadata": {},
   "source": [
    "## Step 2: View the Current Shared Data\n",
    "\n",
    "Let's query the current state of the shared table."
   ]
  },
  {
   "cell_type": "code",
   "execution_count": null,
   "id": "11f493d4",
   "metadata": {
    "vscode": {
     "languageId": "sql"
    }
   },
   "outputs": [],
   "source": [
    "-- Query the shared customer accounts table\n",
    "SELECT * \n",
    "FROM cdf_recipient_catalog.${c.schema_name}.customer_accounts\n",
    "ORDER BY customer_id;"
   ]
  },
  {
   "cell_type": "markdown",
   "id": "7c888356",
   "metadata": {},
   "source": [
    "## Step 3: Query Change Data Feed\n",
    "\n",
    "**Key Concept:** The `table_changes()` function allows you to see what changed in the table between versions or timestamps.\n",
    "\n",
    "Let's query all changes since the beginning (version 0)."
   ]
  },
  {
   "cell_type": "code",
   "execution_count": null,
   "id": "987f1539",
   "metadata": {
    "vscode": {
     "languageId": "sql"
    }
   },
   "outputs": [],
   "source": [
    "-- Query all changes from version 0 to current\n",
    "SELECT \n",
    "  _change_type,\n",
    "  _commit_version,\n",
    "  _commit_timestamp,\n",
    "  customer_id,\n",
    "  account_number,\n",
    "  customer_name,\n",
    "  email,\n",
    "  account_status,\n",
    "  account_balance,\n",
    "  last_activity_date\n",
    "FROM table_changes('cdf_recipient_catalog.${c.schema_name}.customer_accounts', 0)\n",
    "ORDER BY _commit_version, customer_id;"
   ]
  },
  {
   "cell_type": "markdown",
   "id": "e2562e72",
   "metadata": {},
   "source": [
    "### Understanding Change Types\n",
    "\n",
    "The `_change_type` column shows:\n",
    "- **insert** - New rows added to the table\n",
    "- **update_preimage** - Old values before an update\n",
    "- **update_postimage** - New values after an update  \n",
    "- **delete** - Rows that were removed\n",
    "\n",
    "For incremental processing, we typically care about:\n",
    "- **insert** and **update_postimage** - These are the \"current\" values\n",
    "- **delete** - Records to remove from our local copy"
   ]
  },
  {
   "cell_type": "markdown",
   "id": "66a7c3e4",
   "metadata": {},
   "source": [
    "## Step 4: Create a Local Target Table\n",
    "\n",
    "Now let's create a local table in our own catalog where we'll maintain a synchronized copy of the shared data."
   ]
  },
  {
   "cell_type": "code",
   "execution_count": null,
   "id": "a2566b32",
   "metadata": {
    "vscode": {
     "languageId": "sql"
    }
   },
   "outputs": [],
   "source": [
    "-- Create our local catalog and schema\n",
    "CREATE CATALOG IF NOT EXISTS ${c.recipient_catalog};\n",
    "USE CATALOG ${c.recipient_catalog};\n",
    "\n",
    "CREATE SCHEMA IF NOT EXISTS analytics;\n",
    "USE SCHEMA analytics;\n",
    "\n",
    "-- Create a local table to store synchronized customer data\n",
    "CREATE OR REPLACE TABLE ${c.recipient_catalog}.analytics.customer_accounts_local (\n",
    "  customer_id INT,\n",
    "  account_number STRING,\n",
    "  customer_name STRING,\n",
    "  email STRING,\n",
    "  account_status STRING,\n",
    "  account_balance DECIMAL(10,2),\n",
    "  last_activity_date DATE,\n",
    "  created_date DATE,\n",
    "  synced_at TIMESTAMP,\n",
    "  source_version BIGINT\n",
    ")\n",
    "COMMENT 'Local copy of shared customer accounts, synchronized using CDF';\n",
    "\n",
    "-- Verify empty table\n",
    "SELECT * FROM ${c.recipient_catalog}.analytics.customer_accounts_local;"
   ]
  },
  {
   "cell_type": "markdown",
   "id": "a67cf504",
   "metadata": {},
   "source": [
    "## Step 5: Initial Load Using MERGE INTO\n",
    "\n",
    "**Key Pattern:** Use `MERGE INTO` with CDF to perform incremental updates. This is more efficient than full reloads.\n",
    "\n",
    "For the initial load, we'll process all changes from version 0."
   ]
  },
  {
   "cell_type": "code",
   "execution_count": null,
   "id": "4801a6ae",
   "metadata": {
    "vscode": {
     "languageId": "sql"
    }
   },
   "outputs": [],
   "source": [
    "-- MERGE changes from the shared table into our local table\n",
    "MERGE INTO ${c.recipient_catalog}.analytics.customer_accounts_local AS target\n",
    "USING (\n",
    "  SELECT \n",
    "    customer_id,\n",
    "    account_number,\n",
    "    customer_name,\n",
    "    email,\n",
    "    account_status,\n",
    "    account_balance,\n",
    "    last_activity_date,\n",
    "    created_date,\n",
    "    _change_type,\n",
    "    _commit_version\n",
    "  FROM table_changes('cdf_recipient_catalog.${c.schema_name}.customer_accounts', 0)\n",
    "  WHERE _change_type IN ('insert', 'update_postimage')  -- Only get current values\n",
    ") AS source\n",
    "ON target.customer_id = source.customer_id\n",
    "WHEN MATCHED THEN \n",
    "  UPDATE SET\n",
    "    target.account_number = source.account_number,\n",
    "    target.customer_name = source.customer_name,\n",
    "    target.email = source.email,\n",
    "    target.account_status = source.account_status,\n",
    "    target.account_balance = source.account_balance,\n",
    "    target.last_activity_date = source.last_activity_date,\n",
    "    target.created_date = source.created_date,\n",
    "    target.synced_at = current_timestamp(),\n",
    "    target.source_version = source._commit_version\n",
    "WHEN NOT MATCHED THEN\n",
    "  INSERT (\n",
    "    customer_id,\n",
    "    account_number,\n",
    "    customer_name,\n",
    "    email,\n",
    "    account_status,\n",
    "    account_balance,\n",
    "    last_activity_date,\n",
    "    created_date,\n",
    "    synced_at,\n",
    "    source_version\n",
    "  )\n",
    "  VALUES (\n",
    "    source.customer_id,\n",
    "    source.account_number,\n",
    "    source.customer_name,\n",
    "    source.email,\n",
    "    source.account_status,\n",
    "    source.account_balance,\n",
    "    source.last_activity_date,\n",
    "    source.created_date,\n",
    "    current_timestamp(),\n",
    "    source._commit_version\n",
    "  );"
   ]
  },
  {
   "cell_type": "code",
   "execution_count": null,
   "id": "1f18d924",
   "metadata": {
    "vscode": {
     "languageId": "sql"
    }
   },
   "outputs": [],
   "source": [
    "-- Verify the data was loaded\n",
    "SELECT * FROM ${c.recipient_catalog}.analytics.customer_accounts_local\n",
    "ORDER BY customer_id;"
   ]
  },
  {
   "cell_type": "markdown",
   "id": "164a350e",
   "metadata": {},
   "source": [
    "## Step 6: Handle Deletes with MERGE INTO\n",
    "\n",
    "Now let's create a more comprehensive MERGE that also handles deletions."
   ]
  },
  {
   "cell_type": "code",
   "execution_count": null,
   "id": "bd3c09ee",
   "metadata": {
    "vscode": {
     "languageId": "sql"
    }
   },
   "outputs": [],
   "source": [
    "-- First, let's process deletes separately\n",
    "MERGE INTO ${c.recipient_catalog}.analytics.customer_accounts_local AS target\n",
    "USING (\n",
    "  SELECT \n",
    "    customer_id,\n",
    "    _change_type\n",
    "  FROM table_changes('cdf_recipient_catalog.${c.schema_name}.customer_accounts', 0)\n",
    "  WHERE _change_type = 'delete'\n",
    ") AS source\n",
    "ON target.customer_id = source.customer_id\n",
    "WHEN MATCHED THEN DELETE;\n",
    "\n",
    "-- Verify the delete was processed (customer_id 1004 should be gone)\n",
    "SELECT * FROM ${c.recipient_catalog}.analytics.customer_accounts_local\n",
    "ORDER BY customer_id;"
   ]
  },
  {
   "cell_type": "markdown",
   "id": "13732788",
   "metadata": {},
   "source": [
    "## Step 7: Incremental Sync - Track Last Processed Version\n",
    "\n",
    "**Best Practice:** Store the last processed version so you can query only new changes on subsequent syncs.\n",
    "\n",
    "Let's create a tracking table and then process only changes since our last sync."
   ]
  },
  {
   "cell_type": "code",
   "execution_count": null,
   "id": "f13f1887",
   "metadata": {
    "vscode": {
     "languageId": "sql"
    }
   },
   "outputs": [],
   "source": [
    "-- Create a sync tracking table\n",
    "CREATE TABLE IF NOT EXISTS ${c.recipient_catalog}.analytics.sync_metadata (\n",
    "  source_table STRING,\n",
    "  last_synced_version BIGINT,\n",
    "  last_synced_timestamp TIMESTAMP,\n",
    "  PRIMARY KEY(source_table)\n",
    ");\n",
    "\n",
    "-- Record our current sync position (get max version from local table)\n",
    "MERGE INTO ${c.recipient_catalog}.analytics.sync_metadata AS target\n",
    "USING (\n",
    "  SELECT \n",
    "    'customer_accounts' as source_table,\n",
    "    MAX(source_version) as last_version,\n",
    "    current_timestamp() as sync_time\n",
    "  FROM ${c.recipient_catalog}.analytics.customer_accounts_local\n",
    ") AS source\n",
    "ON target.source_table = source.source_table\n",
    "WHEN MATCHED THEN UPDATE SET\n",
    "  target.last_synced_version = source.last_version,\n",
    "  target.last_synced_timestamp = source.sync_time\n",
    "WHEN NOT MATCHED THEN INSERT (\n",
    "  source_table,\n",
    "  last_synced_version,\n",
    "  last_synced_timestamp\n",
    ") VALUES (\n",
    "  source.source_table,\n",
    "  source.last_version,\n",
    "  source.sync_time\n",
    ");\n",
    "\n",
    "-- View tracking table\n",
    "SELECT * FROM ${c.recipient_catalog}.analytics.sync_metadata;"
   ]
  },
  {
   "cell_type": "markdown",
   "id": "45dcd711",
   "metadata": {},
   "source": [
    "## Step 8: Process Only New Changes (Incremental Pattern)\n",
    "\n",
    "**The Magic:** Now we query only changes AFTER our last synced version. This is the power of CDF!\n",
    "\n",
    "```sql\n",
    "-- Get last synced version\n",
    "DECLARE last_version BIGINT;\n",
    "SET last_version = (SELECT last_synced_version FROM sync_metadata WHERE source_table = 'customer_accounts');\n",
    "\n",
    "-- Query only NEW changes\n",
    "FROM table_changes('shared_table', last_version + 1)\n",
    "```\n",
    "\n",
    "Let's simulate this pattern:"
   ]
  },
  {
   "cell_type": "code",
   "execution_count": null,
   "id": "084daa42",
   "metadata": {
    "vscode": {
     "languageId": "sql"
    }
   },
   "outputs": [],
   "source": [
    "-- Check what NEW changes exist since our last sync\n",
    "-- (Provider made additional changes in Step 8 of their notebook)\n",
    "SELECT \n",
    "  _change_type,\n",
    "  _commit_version,\n",
    "  _commit_timestamp,\n",
    "  customer_id,\n",
    "  customer_name,\n",
    "  account_status,\n",
    "  account_balance\n",
    "FROM table_changes('cdf_recipient_catalog.${c.schema_name}.customer_accounts', \n",
    "  (SELECT last_synced_version + 1 FROM ${c.recipient_catalog}.analytics.sync_metadata \n",
    "   WHERE source_table = 'customer_accounts'))\n",
    "ORDER BY _commit_version, customer_id;"
   ]
  },
  {
   "cell_type": "markdown",
   "id": "c56abff7",
   "metadata": {},
   "source": [
    "## Step 9: Complete Incremental Sync with MERGE INTO\n",
    "\n",
    "Now let's apply these new changes to our local table using the complete pattern."
   ]
  },
  {
   "cell_type": "code",
   "execution_count": null,
   "id": "0eaa86e9",
   "metadata": {
    "vscode": {
     "languageId": "sql"
    }
   },
   "outputs": [],
   "source": [
    "-- Step 9a: Apply inserts and updates\n",
    "MERGE INTO ${c.recipient_catalog}.analytics.customer_accounts_local AS target\n",
    "USING (\n",
    "  SELECT \n",
    "    customer_id,\n",
    "    account_number,\n",
    "    customer_name,\n",
    "    email,\n",
    "    account_status,\n",
    "    account_balance,\n",
    "    last_activity_date,\n",
    "    created_date,\n",
    "    _change_type,\n",
    "    _commit_version\n",
    "  FROM table_changes('cdf_recipient_catalog.${c.schema_name}.customer_accounts',\n",
    "    (SELECT last_synced_version + 1 FROM ${c.recipient_catalog}.analytics.sync_metadata \n",
    "     WHERE source_table = 'customer_accounts'))\n",
    "  WHERE _change_type IN ('insert', 'update_postimage')\n",
    ") AS source\n",
    "ON target.customer_id = source.customer_id\n",
    "WHEN MATCHED THEN \n",
    "  UPDATE SET\n",
    "    target.account_number = source.account_number,\n",
    "    target.customer_name = source.customer_name,\n",
    "    target.email = source.email,\n",
    "    target.account_status = source.account_status,\n",
    "    target.account_balance = source.account_balance,\n",
    "    target.last_activity_date = source.last_activity_date,\n",
    "    target.created_date = source.created_date,\n",
    "    target.synced_at = current_timestamp(),\n",
    "    target.source_version = source._commit_version\n",
    "WHEN NOT MATCHED THEN\n",
    "  INSERT (\n",
    "    customer_id,\n",
    "    account_number,\n",
    "    customer_name,\n",
    "    email,\n",
    "    account_status,\n",
    "    account_balance,\n",
    "    last_activity_date,\n",
    "    created_date,\n",
    "    synced_at,\n",
    "    source_version\n",
    "  )\n",
    "  VALUES (\n",
    "    source.customer_id,\n",
    "    source.account_number,\n",
    "    source.customer_name,\n",
    "    source.email,\n",
    "    source.account_status,\n",
    "    source.account_balance,\n",
    "    source.last_activity_date,\n",
    "    source.created_date,\n",
    "    current_timestamp(),\n",
    "    source._commit_version\n",
    "  );"
   ]
  },
  {
   "cell_type": "code",
   "execution_count": null,
   "id": "08cdaf09",
   "metadata": {
    "vscode": {
     "languageId": "sql"
    }
   },
   "outputs": [],
   "source": [
    "-- Step 9b: Process deletes\n",
    "MERGE INTO ${c.recipient_catalog}.analytics.customer_accounts_local AS target\n",
    "USING (\n",
    "  SELECT customer_id\n",
    "  FROM table_changes('cdf_recipient_catalog.${c.schema_name}.customer_accounts',\n",
    "    (SELECT last_synced_version + 1 FROM ${c.recipient_catalog}.analytics.sync_metadata \n",
    "     WHERE source_table = 'customer_accounts'))\n",
    "  WHERE _change_type = 'delete'\n",
    ") AS source\n",
    "ON target.customer_id = source.customer_id\n",
    "WHEN MATCHED THEN DELETE;"
   ]
  },
  {
   "cell_type": "code",
   "execution_count": null,
   "id": "808b33de",
   "metadata": {
    "vscode": {
     "languageId": "sql"
    }
   },
   "outputs": [],
   "source": [
    "-- Step 9c: Update sync metadata\n",
    "MERGE INTO ${c.recipient_catalog}.analytics.sync_metadata AS target\n",
    "USING (\n",
    "  SELECT \n",
    "    'customer_accounts' as source_table,\n",
    "    MAX(source_version) as last_version,\n",
    "    current_timestamp() as sync_time\n",
    "  FROM ${c.recipient_catalog}.analytics.customer_accounts_local\n",
    ") AS source\n",
    "ON target.source_table = source.source_table\n",
    "WHEN MATCHED THEN UPDATE SET\n",
    "  target.last_synced_version = source.last_version,\n",
    "  target.last_synced_timestamp = source.sync_time;\n",
    "\n",
    "-- View updated metadata\n",
    "SELECT * FROM ${c.recipient_catalog}.analytics.sync_metadata;"
   ]
  },
  {
   "cell_type": "code",
   "execution_count": null,
   "id": "9d38dd37",
   "metadata": {
    "vscode": {
     "languageId": "sql"
    }
   },
   "outputs": [],
   "source": [
    "-- View final synchronized data\n",
    "SELECT * FROM ${c.recipient_catalog}.analytics.customer_accounts_local\n",
    "ORDER BY customer_id;"
   ]
  },
  {
   "cell_type": "markdown",
   "id": "c72e58da",
   "metadata": {},
   "source": [
    "## Step 10: Compare Source vs Local\n",
    "\n",
    "Let's verify our local copy matches the source."
   ]
  },
  {
   "cell_type": "code",
   "execution_count": null,
   "id": "273c843a",
   "metadata": {
    "vscode": {
     "languageId": "sql"
    }
   },
   "outputs": [],
   "source": [
    "-- Compare shared data vs local copy\n",
    "SELECT \n",
    "  'Shared Source' as source,\n",
    "  COUNT(*) as record_count,\n",
    "  SUM(account_balance) as total_balance\n",
    "FROM cdf_recipient_catalog.${c.schema_name}.customer_accounts\n",
    "\n",
    "UNION ALL\n",
    "\n",
    "SELECT \n",
    "  'Local Copy' as source,\n",
    "  COUNT(*) as record_count,\n",
    "  SUM(account_balance) as total_balance\n",
    "FROM ${c.recipient_catalog}.analytics.customer_accounts_local;"
   ]
  },
  {
   "cell_type": "markdown",
   "id": "60333d80",
   "metadata": {},
   "source": [
    "## Summary: CDF with MERGE INTO Pattern\n",
    "\n",
    "### What We Accomplished:\n",
    "✅ Activated and accessed CDF-enabled shared data  \n",
    "✅ Queried change data using `table_changes()`  \n",
    "✅ Created local table for synchronized copy  \n",
    "✅ Performed initial load with MERGE INTO  \n",
    "✅ Handled INSERT, UPDATE, and DELETE operations  \n",
    "✅ Implemented incremental sync tracking  \n",
    "✅ Processed only new changes efficiently  \n",
    "\n",
    "### The Complete Incremental Pattern:\n",
    "\n",
    "```sql\n",
    "-- 1. Get last synced version\n",
    "DECLARE last_version = (SELECT last_synced_version FROM sync_metadata);\n",
    "\n",
    "-- 2. Apply inserts/updates\n",
    "MERGE INTO local_table USING (\n",
    "  SELECT * FROM table_changes('shared_table', last_version + 1)\n",
    "  WHERE _change_type IN ('insert', 'update_postimage')\n",
    ") ON local_table.id = source.id\n",
    "WHEN MATCHED THEN UPDATE SET ...\n",
    "WHEN NOT MATCHED THEN INSERT ...;\n",
    "\n",
    "-- 3. Apply deletes\n",
    "MERGE INTO local_table USING (\n",
    "  SELECT * FROM table_changes('shared_table', last_version + 1)\n",
    "  WHERE _change_type = 'delete'\n",
    ") ON local_table.id = source.id\n",
    "WHEN MATCHED THEN DELETE;\n",
    "\n",
    "-- 4. Update tracking metadata\n",
    "UPDATE sync_metadata SET last_synced_version = current_version;\n",
    "```\n",
    "\n",
    "### Key Benefits:\n",
    "- **Efficiency** - Process only changed data, not full table\n",
    "- **Performance** - Reduce data transfer by 90%+ after initial load\n",
    "- **Real-time** - Sync as frequently as needed\n",
    "- **Cost Savings** - Pay only for data that changed\n",
    "- **Flexibility** - Control sync frequency and scheduling\n",
    "\n",
    "### Production Considerations:\n",
    "1. **Error Handling** - Wrap in try/catch, retry logic\n",
    "2. **Transaction Management** - Use transactions for consistency\n",
    "3. **Monitoring** - Alert on sync failures or delays\n",
    "4. **Scheduling** - Use Delta Live Tables or scheduled jobs\n",
    "5. **Performance** - Add indexes on join keys\n",
    "6. **Data Quality** - Validate data before applying changes\n",
    "\n",
    "### Use Cases:\n",
    "- **Data Warehousing** - Efficient ETL from operational systems\n",
    "- **Data Lakes** - Keep multiple lakes synchronized\n",
    "- **Analytics** - Real-time dashboards with fresh data\n",
    "- **Replication** - Disaster recovery and geo-distribution\n",
    "- **Compliance** - Audit trail of all changes"
   ]
  }
 ],
 "metadata": {
  "language_info": {
   "name": "python"
  }
 },
 "nbformat": 4,
 "nbformat_minor": 5
}
