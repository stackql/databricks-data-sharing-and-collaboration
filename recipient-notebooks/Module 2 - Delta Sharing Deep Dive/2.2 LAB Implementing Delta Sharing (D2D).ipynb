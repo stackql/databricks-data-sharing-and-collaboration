{
  "cells": [
    {
      "cell_type": "markdown",
      "metadata": {},
      "source": [
        "\n",
        "<div style=\"text-align: center; line-height: 0; padding-top: 9px;\">\n",
        "  <img\n",
        "    src=\"https://databricks.com/wp-content/uploads/2018/03/db-academy-rgb-1200px.png\"\n",
        "    alt=\"Databricks Learning\"\n",
        "  >\n",
        "</div>"
      ]
    },
    {
      "cell_type": "markdown",
      "metadata": {},
      "source": [
        "# 2.2 LAB: Implementing Delta Sharing (Databricks-to-Databricks) \\[Recipient]\n",
        "## Lab Overview\n",
        "In this hands-on lab, you will implement Delta Sharing as a data recipient. You'll work with a warehouse inventory management scenario where you are a **Regional Warehouse Manager** receiving shared data from **TechWare Labs** central inventory system.\n",
        "\n",
        "**Your Role:** Data Recipient (Regional Warehouse Manager)\n",
        "\n",
        "**Scenario:**\n",
        "You manage a regional warehouse for TechWare Labs. The central inventory management team has offered to share live product and stock data with you through Delta Sharing. Instead of receiving periodic data dumps or building complex integrations, you'll mount their share directly into your workspace and access the data in real-time using standard SQL queries.\n",
        "\n",
        "**Lab Objectives:**\n",
        "By the end of this lab, you will be able to:\n",
        "1. Obtain and share your metastore ID with data providers\n",
        "2. Discover available providers and their shares\n",
        "3. Mount a remote share to a local catalog\n",
        "4. Explore and query shared data\n",
        "5. Perform analytics on shared data\n",
        "6. Understand the limitations and capabilities of shared data access"
      ]
    },
    {
      "cell_type": "markdown",
      "metadata": {},
      "source": [
        "## Prerequisites\n",
        "\n",
        "Before starting this lab, ensure that:\n",
        "1. The provider has completed their lab and created the share\n",
        "2. The provider has your metastore ID and has created a recipient for you\n",
        "3. The provider has granted you access to the share\n",
        "\n",
        "**Required Permissions:**\n",
        "- `USE PROVIDER` privilege on the provider, OR\n",
        "- Metastore admin role"
      ]
    },
    {
      "cell_type": "markdown",
      "metadata": {},
      "source": [
        "## Setup\n",
        "\n",
        "Run the following cell to set up your lab environment with configuration variables."
      ]
    },
    {
      "cell_type": "code",
      "execution_count": null,
      "metadata": {},
      "outputs": [],
      "source": [
        "%run ./Includes/Lab-Setup-2"
      ]
    },
    {
      "cell_type": "markdown",
      "metadata": {},
      "source": [
        "## Exercise 1: Obtain Your Metastore ID (10 minutes)\n",
        "\n",
        "Before you can receive shared data, you need to provide your metastore ID to the data provider. This unique identifier allows the provider to configure you as a recipient.\n",
        "\n",
        "### Task 1.1: Get Your Metastore ID Using SQL\n",
        "**TODO:** Query the system tables to retrieve your metastore's global ID."
      ]
    },
    {
      "cell_type": "code",
      "execution_count": null,
      "metadata": {},
      "outputs": [],
      "source": [
        "-- TODO: SELECT global_metastore_id FROM system.information_schema.metastores\n",
        "SELECT global_metastore_id FROM system.information_schema.metastores"
      ]
    },
    {
      "cell_type": "markdown",
      "metadata": {},
      "source": [
        "### Task 1.2: Alternative Method - Using DESCRIBE METASTORE\n",
        "**TODO:** Use the DESCRIBE METASTORE command to view detailed metastore information.\n",
        "\n",
        "**Look for:** The \"Global Metastore ID\" field in the output."
      ]
    },
    {
      "cell_type": "code",
      "execution_count": null,
      "metadata": {},
      "outputs": [],
      "source": [
        "-- TODO: DESCRIBE METASTORE\n",
        "DESCRIBE METASTORE"
      ]
    },
    {
      "cell_type": "markdown",
      "metadata": {},
      "source": [
        "**Action Required:** Copy your metastore ID from the output above and provide it to the data provider (your instructor or lab partner). The provider needs this to create a recipient for you.\n",
        "\n",
        "**Note:** You can also obtain this ID through the UI:\n",
        "1. Navigate to Catalog Explorer\n",
        "2. Click the Delta Sharing (gear) icon\n",
        "3. Click \"Copy Sharing Identifier\""
      ]
    },
    {
      "cell_type": "markdown",
      "metadata": {},
      "source": [
        "## Exercise 2: Discover Available Providers and Shares (10 minutes)\n",
        "\n",
        "Once the provider has configured you as a recipient, you can discover what providers and shares are available to you.\n",
        "\n",
        "### Task 2.1: List Available Providers\n",
        "**TODO:** Display all providers that you have access to."
      ]
    },
    {
      "cell_type": "code",
      "execution_count": null,
      "metadata": {},
      "outputs": [],
      "source": [
        "-- TODO: SHOW PROVIDERS\n",
        "SHOW PROVIDERS"
      ]
    },
    {
      "cell_type": "markdown",
      "metadata": {},
      "source": [
        "### Task 2.2: Describe the Provider\n",
        "**TODO:** Get detailed information about the TechWare Labs provider.\n",
        "\n",
        "**Look for:** Region, cloud provider, and other metadata about the provider."
      ]
    },
    {
      "cell_type": "code",
      "execution_count": null,
      "metadata": {},
      "outputs": [],
      "source": [
        "-- TODO: DESCRIBE PROVIDER techware_labs\n",
        "DESCRIBE PROVIDER techware_labs"
      ]
    },
    {
      "cell_type": "markdown",
      "metadata": {},
      "source": [
        "### Task 2.3: List Available Shares from the Provider\n",
        "**TODO:** Display all shares available from the TechWare Labs provider."
      ]
    },
    {
      "cell_type": "code",
      "execution_count": null,
      "metadata": {},
      "outputs": [],
      "source": [
        "-- TODO: SHOW SHARES IN PROVIDER techware_labs\n",
        "SHOW SHARES IN PROVIDER techware_labs"
      ]
    },
    {
      "cell_type": "markdown",
      "metadata": {},
      "source": [
        "**Question:** How many shares are available from TechWare Labs? What is the name of the share containing inventory data?"
      ]
    },
    {
      "cell_type": "markdown",
      "metadata": {},
      "source": [
        "## Exercise 3: Mount the Share to a Local Catalog (15 minutes)\n",
        "\n",
        "Now you'll mount the shared data to a catalog in your workspace. This creates a local reference to the remote share without copying any data.\n",
        "\n",
        "### Task 3.1: Create a Catalog from the Share\n",
        "**TODO:** Create a catalog named `shared_inventory_catalog` that mounts the `warehouse_inventory` share from the `techware_labs` provider.\n",
        "\n",
        "**Syntax reminder:** The share reference should be in the format: `<provider_name>.<share_name>`"
      ]
    },
    {
      "cell_type": "code",
      "execution_count": null,
      "metadata": {},
      "outputs": [],
      "source": [
        "-- TODO: CREATE CATALOG IF NOT EXISTS shared_inventory_catalog\n",
        "-- TODO: USING SHARE <provider_name>.<share_name>\n",
        "CREATE CATALOG IF NOT EXISTS shared_inventory_catalog\n",
        "USING SHARE techware_labs.warehouse_inventory"
      ]
    },
    {
      "cell_type": "markdown",
      "metadata": {},
      "source": [
        "### Task 3.2: Verify the Catalog Type\n",
        "**TODO:** Describe the catalog you just created and verify its type.\n",
        "\n",
        "**Look for:** The \"Catalog Type\" should be \"DELTASHARING\""
      ]
    },
    {
      "cell_type": "code",
      "execution_count": null,
      "metadata": {},
      "outputs": [],
      "source": [
        "-- TODO: DESCRIBE CATALOG shared_inventory_catalog\n",
        "DESCRIBE CATALOG shared_inventory_catalog"
      ]
    },
    {
      "cell_type": "markdown",
      "metadata": {},
      "source": [
        "## Exercise 4: Explore the Shared Data (15 minutes)\n",
        "\n",
        "With the share mounted, let's explore the data structure and contents.\n",
        "\n",
        "### Task 4.1: List Schemas in the Shared Catalog\n",
        "**TODO:** Display all schemas available in the shared catalog."
      ]
    },
    {
      "cell_type": "code",
      "execution_count": null,
      "metadata": {},
      "outputs": [],
      "source": [
        "-- TODO: SHOW SCHEMAS IN shared_inventory_catalog\n",
        "SHOW SCHEMAS IN shared_inventory_catalog"
      ]
    },
    {
      "cell_type": "markdown",
      "metadata": {},
      "source": [
        "### Task 4.2: List Tables in the Inventory Schema\n",
        "**TODO:** Display all tables in the `inventory` schema."
      ]
    },
    {
      "cell_type": "code",
      "execution_count": null,
      "metadata": {},
      "outputs": [],
      "source": [
        "-- TODO: SHOW TABLES IN shared_inventory_catalog.inventory\n",
        "SHOW TABLES IN shared_inventory_catalog.inventory"
      ]
    },
    {
      "cell_type": "markdown",
      "metadata": {},
      "source": [
        "**Question:** How many tables are shared? What are their names?"
      ]
    },
    {
      "cell_type": "markdown",
      "metadata": {},
      "source": [
        "### Task 4.3: Examine the Products Table Structure\n",
        "**TODO:** Describe the structure of the products table to understand its schema."
      ]
    },
    {
      "cell_type": "code",
      "execution_count": null,
      "metadata": {},
      "outputs": [],
      "source": [
        "-- TODO: DESCRIBE TABLE shared_inventory_catalog.inventory.products\n",
        "DESCRIBE TABLE shared_inventory_catalog.inventory.products"
      ]
    },
    {
      "cell_type": "markdown",
      "metadata": {},
      "source": [
        "## Exercise 5: Query and Analyze Shared Data (20 minutes)\n",
        "\n",
        "Now let's query the shared data and perform some analysis relevant to warehouse management.\n",
        "\n",
        "### Task 5.1: View All Products\n",
        "**TODO:** Query all records from the products table."
      ]
    },
    {
      "cell_type": "code",
      "execution_count": null,
      "metadata": {},
      "outputs": [],
      "source": [
        "-- TODO: SELECT * FROM shared_inventory_catalog.inventory.products\n",
        "SELECT * FROM shared_inventory_catalog.inventory.products"
      ]
    },
    {
      "cell_type": "markdown",
      "metadata": {},
      "source": [
        "### Task 5.2: View Current Warehouse Stock\n",
        "**TODO:** Query all records from the warehouse_stock table."
      ]
    },
    {
      "cell_type": "code",
      "execution_count": null,
      "metadata": {},
      "outputs": [],
      "source": [
        "-- TODO: SELECT * FROM shared_inventory_catalog.inventory.warehouse_stock\n",
        "SELECT * FROM shared_inventory_catalog.inventory.warehouse_stock"
      ]
    },
    {
      "cell_type": "markdown",
      "metadata": {},
      "source": [
        "### Task 5.3: Join Products with Stock Levels\n",
        "**TODO:** Write a query that joins the products and warehouse_stock tables to show product details along with stock levels.\n",
        "\n",
        "**Include these columns:**\n",
        "- product_name\n",
        "- category\n",
        "- unit_price\n",
        "- warehouse_location\n",
        "- quantity_on_hand\n",
        "- reorder_level (from products table)\n",
        "\n",
        "**Order by:** warehouse_location and product_name"
      ]
    },
    {
      "cell_type": "code",
      "execution_count": null,
      "metadata": {},
      "outputs": [],
      "source": [
        "-- TODO: Write a SELECT statement joining products (p) and warehouse_stock (w)\n",
        "-- TODO: ON p.product_id = w.product_id\n",
        "-- TODO: SELECT the required columns\n",
        "-- TODO: ORDER BY warehouse_location, product_name\n",
        "SELECT \n",
        "  p.product_name,\n",
        "  p.category,\n",
        "  p.unit_price,\n",
        "  w.warehouse_location,\n",
        "  w.quantity_on_hand,\n",
        "  p.reorder_level\n",
        "FROM shared_inventory_catalog.inventory.products p\n",
        "JOIN shared_inventory_catalog.inventory.warehouse_stock w\n",
        "  ON p.product_id = w.product_id\n",
        "ORDER BY w.warehouse_location, p.product_name"
      ]
    },
    {
      "cell_type": "markdown",
      "metadata": {},
      "source": [
        "### Task 5.4: Identify Low Stock Items\n",
        "**TODO:** Write a query to identify products that are below their reorder level at any warehouse.\n",
        "\n",
        "**Requirements:**\n",
        "- Join products and warehouse_stock tables\n",
        "- Filter WHERE quantity_on_hand < reorder_level\n",
        "- Show product_name, warehouse_location, quantity_on_hand, reorder_level\n",
        "- Calculate how many units below reorder level (reorder_level - quantity_on_hand) as `units_needed`\n",
        "- Order by units_needed DESC"
      ]
    },
    {
      "cell_type": "code",
      "execution_count": null,
      "metadata": {},
      "outputs": [],
      "source": [
        "-- TODO: Write query to find products below reorder level\n",
        "SELECT \n",
        "  p.product_name,\n",
        "  w.warehouse_location,\n",
        "  w.quantity_on_hand,\n",
        "  p.reorder_level,\n",
        "  (p.reorder_level - w.quantity_on_hand) AS units_needed\n",
        "FROM shared_inventory_catalog.inventory.products p\n",
        "JOIN shared_inventory_catalog.inventory.warehouse_stock w\n",
        "  ON p.product_id = w.product_id\n",
        "WHERE w.quantity_on_hand < p.reorder_level\n",
        "ORDER BY units_needed DESC"
      ]
    },
    {
      "cell_type": "markdown",
      "metadata": {},
      "source": [
        "**Question:** Which products need immediate reordering? Which warehouse has the most critical stock shortage?"
      ]
    },
    {
      "cell_type": "markdown",
      "metadata": {},
      "source": [
        "### Task 5.5: Calculate Total Inventory Value by Warehouse\n",
        "**TODO:** Write a query to calculate the total inventory value at each warehouse.\n",
        "\n",
        "**Requirements:**\n",
        "- Join products and warehouse_stock\n",
        "- Calculate: quantity_on_hand * unit_price for each item\n",
        "- GROUP BY warehouse_location\n",
        "- Show warehouse_location and total_inventory_value\n",
        "- Format the value to 2 decimal places\n",
        "- Order by total_inventory_value DESC"
      ]
    },
    {
      "cell_type": "code",
      "execution_count": null,
      "metadata": {},
      "outputs": [],
      "source": [
        "-- TODO: Write query to calculate total inventory value by warehouse\n",
        "SELECT \n",
        "  w.warehouse_location,\n",
        "  ROUND(SUM(w.quantity_on_hand * p.unit_price), 2) AS total_inventory_value\n",
        "FROM shared_inventory_catalog.inventory.products p\n",
        "JOIN shared_inventory_catalog.inventory.warehouse_stock w\n",
        "  ON p.product_id = w.product_id\n",
        "GROUP BY w.warehouse_location\n",
        "ORDER BY total_inventory_value DESC"
      ]
    },
    {
      "cell_type": "markdown",
      "metadata": {},
      "source": [
        "### Task 5.6: Analyze Stock by Category\n",
        "**TODO:** Write a query to show total quantity and number of different products by category across all warehouses.\n",
        "\n",
        "**Requirements:**\n",
        "- Join products and warehouse_stock\n",
        "- GROUP BY category\n",
        "- Calculate SUM(quantity_on_hand) as total_units\n",
        "- Calculate COUNT(DISTINCT product_id) as product_count\n",
        "- Order by total_units DESC"
      ]
    },
    {
      "cell_type": "code",
      "execution_count": null,
      "metadata": {},
      "outputs": [],
      "source": [
        "-- TODO: Write query to analyze stock by category\n",
        "SELECT \n",
        "  p.category,\n",
        "  SUM(w.quantity_on_hand) AS total_units,\n",
        "  COUNT(DISTINCT p.product_id) AS product_count\n",
        "FROM shared_inventory_catalog.inventory.products p\n",
        "JOIN shared_inventory_catalog.inventory.warehouse_stock w\n",
        "  ON p.product_id = w.product_id\n",
        "GROUP BY p.category\n",
        "ORDER BY total_units DESC"
      ]
    },
    {
      "cell_type": "markdown",
      "metadata": {},
      "source": [
        "## Exercise 6: Understand Read-Only Limitations (5 minutes)\n",
        "\n",
        "Delta Sharing provides read-only access to shared data. Let's verify this.\n",
        "\n",
        "### Task 6.1: Attempt to Modify Shared Data\n",
        "**TODO:** Try to delete a record from the shared products table.\n",
        "\n",
        "**Expected Result:** This should fail with an error indicating the table is read-only.\n",
        "\n",
        "**Note:** The DELETE statement below is commented out. Uncomment it to test."
      ]
    },
    {
      "cell_type": "code",
      "execution_count": null,
      "metadata": {},
      "outputs": [],
      "source": [
        "-- TODO: Uncomment the line below and run to see the read-only error\n",
        "-- DELETE FROM shared_inventory_catalog.inventory.products WHERE product_id = 1001;"
      ]
    },
    {
      "cell_type": "markdown",
      "metadata": {},
      "source": [
        "**Question:** Why is read-only access beneficial for data sharing scenarios?"
      ]
    },
    {
      "cell_type": "markdown",
      "metadata": {},
      "source": [
        "## Exercise 7: (Optional) Create Views on Shared Data (10 minutes)\n",
        "\n",
        "While you can't modify shared data, you can create views that reference it in your own catalogs.\n",
        "\n",
        "### Task 7.1: Create a View for Low Stock Alert\n",
        "**TODO:** Create a view in your default catalog that shows products below reorder level.\n",
        "\n",
        "**Note:** You'll need to use your own catalog (not the shared catalog) to create the view. Use the catalog assigned to your workspace."
      ]
    },
    {
      "cell_type": "code",
      "execution_count": null,
      "metadata": {},
      "outputs": [],
      "source": [
        "-- TODO: First, create a schema in your default catalog if needed\n",
        "-- CREATE SCHEMA IF NOT EXISTS <your_catalog>.warehouse_analysis;\n",
        "\n",
        "-- TODO: Create a view that references the shared data\n",
        "-- CREATE OR REPLACE VIEW <your_catalog>.warehouse_analysis.low_stock_alert AS\n",
        "-- SELECT \n",
        "--   p.product_name,\n",
        "--   w.warehouse_location,\n",
        "--   w.quantity_on_hand,\n",
        "--   p.reorder_level,\n",
        "--   (p.reorder_level - w.quantity_on_hand) AS units_needed\n",
        "-- FROM shared_inventory_catalog.inventory.products p\n",
        "-- JOIN shared_inventory_catalog.inventory.warehouse_stock w\n",
        "--   ON p.product_id = w.product_id\n",
        "-- WHERE w.quantity_on_hand < p.reorder_level;"
      ]
    },
    {
      "cell_type": "markdown",
      "metadata": {},
      "source": [
        "## Lab Cleanup\n",
        "\n",
        "When you're finished with the lab, you can clean up the mounted catalog.\n",
        "\n",
        "**Note:** This only removes your local mount point - it doesn't affect the provider's data or other recipients' access."
      ]
    },
    {
      "cell_type": "code",
      "execution_count": null,
      "metadata": {},
      "outputs": [],
      "source": [
        "-- Uncomment to drop the mounted catalog when finished\n",
        "-- DROP CATALOG IF EXISTS shared_inventory_catalog;"
      ]
    },
    {
      "cell_type": "markdown",
      "metadata": {},
      "source": [
        "## Summary\n",
        "\n",
        "Congratulations! You've successfully completed the recipient lab. You:\n",
        "\n",
        "✅ Obtained and shared your metastore ID with the provider\n",
        "✅ Discovered available providers and shares\n",
        "✅ Mounted a remote share to a local catalog\n",
        "✅ Explored the structure of shared data\n",
        "✅ Performed analytical queries on shared data\n",
        "✅ Joined multiple shared tables\n",
        "✅ Created business insights from shared inventory data\n",
        "✅ Understood read-only access limitations\n",
        "\n",
        "**Key Takeaways:**\n",
        "\n",
        "1. **Zero Data Movement**: You accessed live data from the provider without any data copying\n",
        "2. **Real-Time Access**: Any updates the provider makes are immediately available to you\n",
        "3. **Standard SQL**: You used familiar SQL syntax - Delta Sharing is transparent to analysts\n",
        "4. **Read-Only Security**: The provider maintains control while you get safe, read-only access\n",
        "5. **No Storage Costs**: You pay no storage costs for shared data\n",
        "\n",
        "**Real-World Applications:**\n",
        "- Supply chain partners sharing inventory and logistics data\n",
        "- Financial institutions sharing market data\n",
        "- Healthcare organizations sharing anonymized patient data\n",
        "- Retail chains sharing sales data with vendors\n",
        "- Government agencies sharing public datasets\n",
        "\n",
        "**Next Steps:**\n",
        "In the next module, you'll learn about:\n",
        "- Sharing data with non-Databricks recipients\n",
        "- Advanced security features (row-level, column-level filtering)\n",
        "- Sharing views and materialized views\n",
        "- Monitoring and governance best practices"
      ]
    },
    {
      "cell_type": "markdown",
      "metadata": {},
      "source": [
        "---\n",
        "&copy; 2025 Databricks, Inc. All rights reserved. Apache, Apache Spark, Spark, the Spark Logo, Apache Iceberg, Iceberg, and the Apache Iceberg logo are trademarks of the <a href=\"https://www.apache.org/\" target=\"_blank\">Apache Software Foundation</a>.<br/><br/><a href=\"https://databricks.com/privacy-policy\" target=\"_blank\">Privacy Policy</a> | <a href=\"https://databricks.com/terms-of-use\" target=\"_blank\">Terms of Use</a> | <a href=\"https://help.databricks.com/\" target=\"_blank\">Support</a>"
      ]
    }
  ],
  "metadata": {
    "application/vnd.databricks.v1+notebook": {
      "computePreferences": null,
      "dashboards": [],
      "environmentMetadata": null,
      "language": "sql",
      "notebookMetadata": {
        "pythonIndentUnit": 4
      },
      "notebookName": "2.2 LAB Implementing Delta Sharing (D2D) - Recipient",
      "widgets": {}
    },
    "language_info": {
      "name": "sql"
    }
  },
  "nbformat": 4,
  "nbformat_minor": 0
}
