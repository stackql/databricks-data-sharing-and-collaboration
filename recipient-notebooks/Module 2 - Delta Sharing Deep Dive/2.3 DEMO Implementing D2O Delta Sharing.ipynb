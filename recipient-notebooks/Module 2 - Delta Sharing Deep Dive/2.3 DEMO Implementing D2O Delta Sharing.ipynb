{
 "cells": [
  {
   "cell_type": "markdown",
   "metadata": {},
   "source": [
    "\n",
    "<div style=\"text-align: center; line-height: 0; padding-top: 9px;\">\n",
    "  <img\n",
    "    src=\"https://databricks.com/wp-content/uploads/2018/03/db-academy-rgb-1200px.png\"\n",
    "    alt=\"Databricks Learning\"\n",
    "  >\n",
    "</div>\n"
   ]
  },
  {
   "cell_type": "markdown",
   "metadata": {},
   "source": [
    "# 2.3 DEMO: Implementing Delta Sharing (Databricks-to-Open) \\[Recipient]\n",
    "\n",
    "## Overview\n",
    "In this demo, you will access data shared via Delta Sharing as a recipient without using a Databricks workspace. You'll learn how to download and use credential files to access shared data using various tools.\n",
    "\n",
    "**Your Role:** External Partner (non-Databricks recipient)\n",
    "\n",
    "**Scenario:**\n",
    "You are an external partner receiving shared data from Acme Corp. You don't have access to a Databricks workspace, but you can access the shared data using open-source tools like Python/pandas, or commercial tools like Power BI.\n",
    "\n",
    "**Learning Objectives:**\n",
    "By the end of this demo, you will:\n",
    "1. Understand how to download and secure Delta Sharing credential files\n",
    "2. Access shared data using Python and the `delta-sharing` library\n",
    "3. Query shared data with pandas\n",
    "4. Understand how to connect Power BI Desktop to Delta Sharing\n",
    "5. Learn security best practices for managing credentials"
   ]
  },
  {
   "cell_type": "markdown",
   "metadata": {},
   "source": [
    "## Prerequisites\n",
    "\n",
    "Before starting, ensure you have:\n",
    "- Received the activation link from your data provider (via secure channel)\n",
    "- Python 3.7+ installed (if using Python/pandas)\n",
    "- Power BI Desktop installed (if using Power BI)\n",
    "\n",
    "**Note:** This demo can be run in a standard Python environment or Jupyter notebook outside of Databricks."
   ]
  },
  {
   "cell_type": "markdown",
   "metadata": {},
   "source": [
    "## Step 1: Download the Credential File\n",
    "\n",
    "The data provider will share an **activation link** with you securely. This link allows you to download your credential file.\n",
    "\n",
    "### Instructions:\n",
    "\n",
    "1. **Access the Activation Link**\n",
    "   - Click the activation link provided by your data provider\n",
    "   - You'll be redirected to a Databricks page\n",
    "\n",
    "2. **Download the Credential File**\n",
    "   - Click the **Download credential file** button\n",
    "   - Save the file (typically named `config.share`) to a secure location\n",
    "\n",
    "<br />\n",
    "<br />\n",
    "<div style=\"text-align: center; line-height: 0; padding-top: 9px;\">\n",
    "  <img\n",
    "    src=\"https://github.com/stackql/databricks-data-sharing-and-collaboration/blob/main/images/recipient-activation-link.png?raw=true\"\n",
    "    alt=\"Delta Sharing activation page\"\n",
    "  >\n",
    "</div>\n",
    "<br />\n",
    "<br />\n",
    "\n",
    "3. **Secure the Credential File** ⚠️\n",
    "   - **IMPORTANT**: The credential file contains authentication tokens\n",
    "   - Store it securely (e.g., encrypted folder, password manager)\n",
    "   - Do NOT commit it to version control (add `*.share` to `.gitignore`)\n",
    "   - Do NOT share it outside your organization\n",
    "   - Treat it like a password or API key\n",
    "\n",
    "4. **Credential File Format**\n",
    "   The downloaded file is a JSON file with the `.share` extension containing:\n",
    "   ```json\n",
    "   {\n",
    "     \"shareCredentialsVersion\": 1,\n",
    "     \"endpoint\": \"https://<workspace-url>/api/2.0/delta-sharing\",\n",
    "     \"bearerToken\": \"<long-token-string>\",\n",
    "     \"expirationTime\": \"<timestamp>\"\n",
    "   }\n",
    "   ```\n",
    "\n",
    "**Note:** The activation link can only be used once to download the credential file. If you lose the file, contact your data provider to rotate the token and receive a new activation link."
   ]
  },
  {
   "cell_type": "markdown",
   "metadata": {},
   "source": [
    "## Step 2: Verify Credential File\n",
    "\n",
    "Let's verify that you've downloaded the credential file correctly."
   ]
  },
  {
   "cell_type": "code",
   "execution_count": null,
   "metadata": {},
   "outputs": [],
   "source": [
    "import os\n",
    "import json\n",
    "\n",
    "# Path to your downloaded credential file\n",
    "# Update this path to where you saved the file\n",
    "CREDENTIAL_FILE = \"path/to/your/config.share\"\n",
    "\n",
    "# Verify the file exists\n",
    "if os.path.exists(CREDENTIAL_FILE):\n",
    "    print(\"✓ Credential file found\")\n",
    "    \n",
    "    # Load and verify structure (without printing sensitive data)\n",
    "    with open(CREDENTIAL_FILE, 'r') as f:\n",
    "        config = json.load(f)\n",
    "    \n",
    "    print(f\"✓ Credential version: {config.get('shareCredentialsVersion')}\")\n",
    "    print(f\"✓ Endpoint configured: {config.get('endpoint')[:50]}...\")\n",
    "    print(f\"✓ Bearer token present: {len(config.get('bearerToken', '')) > 0}\")\n",
    "    \n",
    "    if 'expirationTime' in config:\n",
    "        print(f\"✓ Token expiration: {config.get('expirationTime')}\")\n",
    "else:\n",
    "    print(\"✗ Credential file not found. Please update the CREDENTIAL_FILE path.\")"
   ]
  },
  {
   "cell_type": "markdown",
   "metadata": {},
   "source": [
    "## Step 3: Install Delta Sharing Library\n",
    "\n",
    "The `delta-sharing` library is an open-source Python connector for accessing Delta Sharing data."
   ]
  },
  {
   "cell_type": "code",
   "execution_count": null,
   "metadata": {},
   "outputs": [],
   "source": [
    "# Install the delta-sharing library\n",
    "# Uncomment the line below if you haven't installed it yet\n",
    "# !pip install delta-sharing"
   ]
  },
  {
   "cell_type": "code",
   "execution_count": null,
   "metadata": {},
   "outputs": [],
   "source": [
    "# python3 -m venv myenv\n",
    "# source myenv/bin/activate\n",
    "# pip install delta-sharing pandas"
   ]
  },
  {
   "cell_type": "markdown",
   "metadata": {},
   "source": [
    "## Step 4: List Available Shares and Tables\n",
    "\n",
    "Let's explore what data has been shared with you."
   ]
  },
  {
   "cell_type": "code",
   "execution_count": null,
   "metadata": {},
   "outputs": [],
   "source": [
    "import delta_sharing\n",
    "\n",
    "# Create a SharingClient\n",
    "client = delta_sharing.SharingClient('.creds/config.share')\n",
    "\n",
    "# List all shares available to you\n",
    "shares = client.list_shares()\n",
    "print(f\"Available shares: {len(shares)}\\n\")\n",
    "\n",
    "for share in shares:\n",
    "    print(f\"Share: {share.name}\")"
   ]
  },
  {
   "cell_type": "code",
   "execution_count": null,
   "metadata": {},
   "outputs": [],
   "source": [
    "# List schemas in the share\n",
    "# Update share_name with the actual share name from the previous output\n",
    "share_name = \"external_retail\"\n",
    "\n",
    "schemas = client.list_schemas(delta_sharing.Share(share_name))\n",
    "print(f\"\\nSchemas in '{share_name}': {len(schemas)}\\n\")\n",
    "\n",
    "for schema in schemas:\n",
    "    print(f\"Schema: {schema.name}\")"
   ]
  },
  {
   "cell_type": "code",
   "execution_count": null,
   "metadata": {},
   "outputs": [],
   "source": [
    "# List tables in a schema\n",
    "schema_name = \"external_retail\"\n",
    "\n",
    "tables = client.list_tables(delta_sharing.Schema(share_name, schema_name))\n",
    "print(f\"\\nTables in '{share_name}.{schema_name}': {len(tables)}\\n\")\n",
    "\n",
    "for table in tables:\n",
    "    print(f\"Table: {table.name}\")\n",
    "    print(f\"  Share: {table.share}\")\n",
    "    print(f\"  Schema: {table.schema}\")\n",
    "    print()"
   ]
  },
  {
   "cell_type": "markdown",
   "metadata": {},
   "source": [
    "## Step 5: Query Shared Data with pandas\n",
    "\n",
    "Now let's query the shared data and load it into pandas DataFrames."
   ]
  },
  {
   "cell_type": "code",
   "execution_count": null,
   "metadata": {},
   "outputs": [],
   "source": [
    "# Load customers table into pandas DataFrame\n",
    "customers_url = f\"{CREDENTIAL_FILE}#{share_name}.{schema_name}.customers\"\n",
    "customers_df = delta_sharing.load_as_pandas(customers_url)\n",
    "\n",
    "print(\"Customers Data:\")\n",
    "print(f\"Shape: {customers_df.shape}\")\n",
    "print(\"\\nFirst few rows:\")\n",
    "customers_df.head()"
   ]
  },
  {
   "cell_type": "code",
   "execution_count": null,
   "metadata": {},
   "outputs": [],
   "source": [
    "# Load sales_transactions table\n",
    "sales_url = f\"{CREDENTIAL_FILE}#{share_name}.{schema_name}.sales_transactions\"\n",
    "sales_df = delta_sharing.load_as_pandas(sales_url)\n",
    "\n",
    "print(\"Sales Transactions Data:\")\n",
    "print(f\"Shape: {sales_df.shape}\")\n",
    "print(\"\\nFirst few rows:\")\n",
    "sales_df.head()"
   ]
  },
  {
   "cell_type": "markdown",
   "metadata": {},
   "source": [
    "## Step 6: Perform Analysis\n",
    "\n",
    "With the data loaded into pandas, you can perform any analysis you need."
   ]
  },
  {
   "cell_type": "code",
   "execution_count": null,
   "metadata": {},
   "outputs": [],
   "source": [
    "# Join customers and sales data\n",
    "import pandas as pd\n",
    "\n",
    "# Merge the dataframes\n",
    "merged_df = pd.merge(\n",
    "    sales_df,\n",
    "    customers_df,\n",
    "    on='customer_id',\n",
    "    how='left'\n",
    ")\n",
    "\n",
    "print(\"Merged Data:\")\n",
    "print(merged_df[['customer_name', 'product_name', 'total_amount', 'region']].head())"
   ]
  },
  {
   "cell_type": "code",
   "execution_count": null,
   "metadata": {},
   "outputs": [],
   "source": [
    "# Calculate total sales by customer segment\n",
    "segment_sales = merged_df.groupby('customer_segment')['total_amount'].agg(['sum', 'count', 'mean'])\n",
    "segment_sales.columns = ['Total Sales', 'Transaction Count', 'Avg Transaction']\n",
    "segment_sales = segment_sales.sort_values('Total Sales', ascending=False)\n",
    "\n",
    "print(\"\\nSales by Customer Segment:\")\n",
    "print(segment_sales)"
   ]
  },
  {
   "cell_type": "code",
   "execution_count": null,
   "metadata": {},
   "outputs": [],
   "source": [
    "# Calculate sales by region\n",
    "region_sales = merged_df.groupby('region')['total_amount'].sum().sort_values(ascending=False)\n",
    "\n",
    "print(\"\\nSales by Region:\")\n",
    "print(region_sales)"
   ]
  },
  {
   "cell_type": "markdown",
   "metadata": {},
   "source": [
    "## Step 7: Visualize the Data\n",
    "\n",
    "Let's create some visualizations using matplotlib."
   ]
  },
  {
   "cell_type": "code",
   "execution_count": null,
   "metadata": {},
   "outputs": [],
   "source": [
    "import matplotlib.pyplot as plt\n",
    "\n",
    "# Sales by customer segment\n",
    "fig, (ax1, ax2) = plt.subplots(1, 2, figsize=(14, 5))\n",
    "\n",
    "segment_sales['Total Sales'].plot(kind='bar', ax=ax1, color='steelblue')\n",
    "ax1.set_title('Total Sales by Customer Segment')\n",
    "ax1.set_ylabel('Total Sales ($)')\n",
    "ax1.set_xlabel('Customer Segment')\n",
    "\n",
    "region_sales.plot(kind='bar', ax=ax2, color='coral')\n",
    "ax2.set_title('Total Sales by Region')\n",
    "ax2.set_ylabel('Total Sales ($)')\n",
    "ax2.set_xlabel('Region')\n",
    "\n",
    "plt.tight_layout()\n",
    "plt.show()"
   ]
  },
  {
   "cell_type": "markdown",
   "metadata": {},
   "source": [
    "## Step 8: Access Data with Power BI Desktop\n",
    "\n",
    "You can also connect Power BI Desktop to Delta Sharing to create interactive dashboards.\n",
    "\n",
    "### Instructions for Power BI:\n",
    "\n",
    "1. **Open Power BI Desktop**\n",
    "\n",
    "2. **Get Data**\n",
    "   - Click **Get Data** on the Home ribbon\n",
    "   - Search for and select **Delta Sharing** connector\n",
    "   - Click **Connect**\n",
    "\n",
    "<div style=\"padding: 10px; border: 2px solid #0078d4; background-color: #e3f2fd; margin: 10px 0;\">\n",
    "  <img src=\"https://docs.databricks.com/_images/power-bi-delta-sharing-connector.png\" alt=\"Power BI Delta Sharing Connector\" style=\"max-width: 600px;\"/>\n",
    "  <p><i>Screenshot: Power BI Get Data dialog with Delta Sharing connector</i></p>\n",
    "</div>\n",
    "\n",
    "3. **Configure Connection**\n",
    "   - Click **Browse** and select your credential file (`config.share`)\n",
    "   - Or paste the file path directly\n",
    "   - Click **OK**\n",
    "\n",
    "<div style=\"padding: 10px; border: 2px solid #0078d4; background-color: #e3f2fd; margin: 10px 0;\">\n",
    "  <img src=\"https://docs.databricks.com/_images/power-bi-select-credential.png\" alt=\"Select Credential File\" style=\"max-width: 600px;\"/>\n",
    "  <p><i>Screenshot: Delta Sharing credential file selection dialog</i></p>\n",
    "</div>\n",
    "\n",
    "4. **Select Tables**\n",
    "   - Navigator window will show available shares, schemas, and tables\n",
    "   - Check the tables you want to import (e.g., `customers`, `sales_transactions`)\n",
    "   - You can preview the data before loading\n",
    "   - Click **Load** or **Transform Data** (to use Power Query Editor)\n",
    "\n",
    "<div style=\"padding: 10px; border: 2px solid #0078d4; background-color: #e3f2fd; margin: 10px 0;\">\n",
    "  <img src=\"https://docs.databricks.com/_images/power-bi-navigator.png\" alt=\"Power BI Navigator\" style=\"max-width: 600px;\"/>\n",
    "  <p><i>Screenshot: Power BI Navigator showing Delta Sharing tables</i></p>\n",
    "</div>\n",
    "\n",
    "5. **Build Reports**\n",
    "   - Once data is loaded, create visualizations using Power BI's tools\n",
    "   - Create relationships between tables if needed\n",
    "   - Build interactive dashboards\n",
    "\n",
    "### Power BI Features with Delta Sharing:\n",
    "\n",
    "- **DirectQuery Mode**: Query data on-demand without importing (requires proper configuration)\n",
    "- **Import Mode**: Load data into Power BI for faster performance\n",
    "- **Scheduled Refresh**: Set up automatic data refreshes\n",
    "- **Relationships**: Create relationships between shared tables\n",
    "- **DAX Calculations**: Use Power BI's calculation engine on shared data\n",
    "\n",
    "### Security Considerations:\n",
    "\n",
    "- The credential file is stored in your Power BI Desktop file\n",
    "- When publishing to Power BI Service, configure data source credentials\n",
    "- Do not share `.pbix` files containing credentials\n",
    "- Use Power BI Service gateway for enterprise deployments"
   ]
  },
  {
   "cell_type": "markdown",
   "metadata": {},
   "source": [
    "## Step 9: Access with Apache Spark (Optional)\n",
    "\n",
    "If you have Apache Spark available, you can also use it to access Delta Sharing data."
   ]
  },
  {
   "cell_type": "code",
   "execution_count": null,
   "metadata": {},
   "outputs": [],
   "source": [
    "# Example Spark code (requires Spark environment with delta-sharing connector)\n",
    "\n",
    "# from pyspark.sql import SparkSession\n",
    "# \n",
    "# spark = SparkSession.builder \\\n",
    "#     .appName(\"DeltaSharingExample\") \\\n",
    "#     .config(\"spark.jars.packages\", \"io.delta:delta-sharing-spark_2.12:1.0.0\") \\\n",
    "#     .getOrCreate()\n",
    "# \n",
    "# # Read shared table into Spark DataFrame\n",
    "# customers_spark_df = spark.read.format(\"deltaSharing\") \\\n",
    "#     .option(\"responseFormat\", \"delta\") \\\n",
    "#     .load(customers_url)\n",
    "# \n",
    "# customers_spark_df.show()\n",
    "# \n",
    "# # Perform Spark SQL operations\n",
    "# customers_spark_df.createOrReplaceTempView(\"customers\")\n",
    "# spark.sql(\"SELECT customer_segment, COUNT(*) as count FROM customers GROUP BY customer_segment\").show()"
   ]
  },
  {
   "cell_type": "markdown",
   "metadata": {},
   "source": [
    "## Step 10: Accessing Data from External Python Script\n",
    "\n",
    "For production use cases, you'll typically access Delta Sharing data from standalone Python scripts or applications. See the accompanying `external_client_example.py` file for a complete example.\n",
    "\n",
    "The external script demonstrates:\n",
    "- Loading credentials from a file\n",
    "- Listing available shares and tables\n",
    "- Querying data into pandas DataFrames\n",
    "- Performing data analysis\n",
    "- Error handling and best practices\n",
    "- Secure credential management"
   ]
  },
  {
   "cell_type": "markdown",
   "metadata": {},
   "source": [
    "## Best Practices and Security\n",
    "\n",
    "### Credential Management\n",
    "\n",
    "✅ **DO:**\n",
    "- Store credential files in secure, encrypted locations\n",
    "- Use environment variables or secure credential stores\n",
    "- Add `*.share` to `.gitignore`\n",
    "- Rotate credentials if compromised\n",
    "- Use service accounts for production applications\n",
    "- Implement proper access controls on credential files\n",
    "\n",
    "❌ **DON'T:**\n",
    "- Commit credential files to version control\n",
    "- Share credentials outside your organization\n",
    "- Hardcode credentials in source code\n",
    "- Email credentials in plain text\n",
    "- Store credentials in publicly accessible locations\n",
    "\n",
    "### Performance Tips\n",
    "\n",
    "- Use column pruning when possible (select only needed columns)\n",
    "- Apply filters server-side when supported\n",
    "- Consider caching frequently accessed data\n",
    "- Use appropriate data formats for your use case\n",
    "- Monitor query performance and optimize as needed\n",
    "\n",
    "### Monitoring and Troubleshooting\n",
    "\n",
    "- Check token expiration dates regularly\n",
    "- Monitor for authentication errors\n",
    "- Contact provider if shares become unavailable\n",
    "- Keep the `delta-sharing` library updated\n",
    "- Review provider's data update schedule"
   ]
  },
  {
   "cell_type": "markdown",
   "metadata": {},
   "source": [
    "## Summary\n",
    "\n",
    "Congratulations! You've successfully:\n",
    "\n",
    "✅ Downloaded and secured your Delta Sharing credential file\n",
    "✅ Accessed shared data using Python and the `delta-sharing` library\n",
    "✅ Queried and analyzed shared data with pandas\n",
    "✅ Learned how to connect Power BI Desktop to Delta Sharing\n",
    "✅ Understood security best practices for credential management\n",
    "\n",
    "**Key Takeaways:**\n",
    "\n",
    "- 🔓 **Platform Freedom**: Access data without requiring Databricks\n",
    "- 🛠️ **Tool Flexibility**: Use Python, Power BI, Spark, Tableau, or other compatible tools\n",
    "- 🚀 **Zero Setup**: No complex infrastructure or ETL processes needed\n",
    "- ⚡ **Real-time Access**: Always query the latest data from the provider\n",
    "- 💰 **Cost Effective**: No data storage or compute costs for recipients\n",
    "- 🔒 **Secure**: Token-based authentication with provider-controlled access\n",
    "\n",
    "**Compatible Tools:**\n",
    "- Python (pandas, Spark)\n",
    "- Power BI Desktop\n",
    "- Tableau\n",
    "- AWS Glue\n",
    "- Presto/Trino\n",
    "- Any tool supporting the open Delta Sharing protocol"
   ]
  },
  {
   "cell_type": "markdown",
   "metadata": {},
   "source": [
    "---\n",
    "&copy; 2025 Databricks, Inc. All rights reserved. Apache, Apache Spark, Spark, the Spark Logo, Apache Iceberg, Iceberg, and the Apache Iceberg logo are trademarks of the <a href=\"https://www.apache.org/\" target=\"_blank\">Apache Software Foundation</a>.<br/><br/><a href=\"https://databricks.com/privacy-policy\" target=\"_blank\">Privacy Policy</a> | <a href=\"https://databricks.com/terms-of-use\" target=\"_blank\">Terms of Use</a> | <a href=\"https://help.databricks.com/\" target=\"_blank\">Support</a>"
   ]
  }
 ],
 "metadata": {
  "kernelspec": {
   "display_name": "Python 3",
   "language": "python",
   "name": "python3"
  },
  "language_info": {
   "codemirror_mode": {
    "name": "ipython",
    "version": 3
   },
   "file_extension": ".py",
   "mimetype": "text/x-python",
   "name": "python",
   "nbconvert_exporter": "python",
   "pygments_lexer": "ipython3",
   "version": "3.8.0"
  }
 },
 "nbformat": 4,
 "nbformat_minor": 4
}
