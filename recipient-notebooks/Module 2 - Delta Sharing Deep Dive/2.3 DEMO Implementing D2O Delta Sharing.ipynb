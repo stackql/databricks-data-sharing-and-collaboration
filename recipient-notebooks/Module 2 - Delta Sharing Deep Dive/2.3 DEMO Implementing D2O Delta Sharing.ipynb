{
 "cells": [
  {
   "cell_type": "markdown",
   "metadata": {
    "application/vnd.databricks.v1+cell": {
     "cellMetadata": {},
     "inputWidgets": {},
     "nuid": "1aedfc97-69ff-4889-bde2-ab948f901a5a",
     "showTitle": false,
     "tableResultSettingsMap": {},
     "title": ""
    }
   },
   "source": [
    "\n",
    "<div style=\"text-align: center; line-height: 0; padding-top: 9px;\">\n",
    "  <img\n",
    "    src=\"https://databricks.com/wp-content/uploads/2018/03/db-academy-rgb-1200px.png\"\n",
    "    alt=\"Databricks Learning\"\n",
    "  >\n",
    "</div>\n"
   ]
  },
  {
   "cell_type": "markdown",
   "metadata": {
    "application/vnd.databricks.v1+cell": {
     "cellMetadata": {},
     "inputWidgets": {},
     "nuid": "31ab4cb9-f4d8-414b-9f05-ea01e630678a",
     "showTitle": false,
     "tableResultSettingsMap": {},
     "title": ""
    }
   },
   "source": [
    "# 2.3 DEMO: Implementing Delta Sharing (Databricks-to-Open) \\[Recipient]\n",
    "\n",
    "## Overview\n",
    "In this demo, you will access data shared via Delta Sharing as a recipient without using a Databricks workspace. You'll learn how to download and use credential files to access shared data using various tools.\n",
    "\n",
    "**Your Role:** External Partner (non-Databricks recipient)\n",
    "\n",
    "**Scenario:**\n",
    "You are an external partner receiving shared data from Acme Corp. You don't have access to a Databricks workspace, but you can access the shared data using open-source tools like Python/pandas, or commercial tools like Power BI.\n",
    "\n",
    "**Learning Objectives:**\n",
    "By the end of this demo, you will:\n",
    "1. Understand how to download and secure Delta Sharing credential files\n",
    "2. Access shared data using Python and the `delta-sharing` library\n",
    "3. Query shared data with pandas\n",
    "4. Understand how to connect Power BI Desktop to Delta Sharing\n",
    "5. Learn security best practices for managing credentials"
   ]
  },
  {
   "cell_type": "markdown",
   "metadata": {
    "application/vnd.databricks.v1+cell": {
     "cellMetadata": {},
     "inputWidgets": {},
     "nuid": "510a6eda-4db3-44ab-a592-bff4ba5b6de1",
     "showTitle": false,
     "tableResultSettingsMap": {},
     "title": ""
    }
   },
   "source": [
    "## Prerequisites\n",
    "\n",
    "Before starting, ensure you have:\n",
    "- Received the activation link from your data provider (via secure channel)\n",
    "- Python 3.7+ installed (if using Python/pandas)\n",
    "- Power BI Desktop installed (if using Power BI)\n",
    "\n",
    "**Note:** This demo can be run in a standard Python environment or Jupyter notebook outside of Databricks."
   ]
  },
  {
   "cell_type": "markdown",
   "metadata": {
    "application/vnd.databricks.v1+cell": {
     "cellMetadata": {},
     "inputWidgets": {},
     "nuid": "09365b53-3ddd-49d8-a9c2-2e1be7c53cda",
     "showTitle": false,
     "tableResultSettingsMap": {},
     "title": ""
    }
   },
   "source": [
    "## Step 1: Download the Credential File\n",
    "\n",
    "The data provider will share an **activation link** with you securely. This link allows you to download your credential file.\n",
    "\n",
    "### Instructions:\n",
    "\n",
    "1. **Access the Activation Link**\n",
    "   - Click the activation link provided by your data provider\n",
    "   - You'll be redirected to a Databricks page\n",
    "\n",
    "2. **Download the Credential File**\n",
    "   - Click the **Download credential file** button\n",
    "   - Save the file (typically named `config.share`) to a secure location\n",
    "\n",
    "<br />\n",
    "<br />\n",
    "<div style=\"text-align: center; line-height: 0; padding-top: 9px;\">\n",
    "  <img\n",
    "    src=\"https://github.com/stackql/databricks-data-sharing-and-collaboration/blob/main/images/recipient-activation-link.png?raw=true\"\n",
    "    alt=\"Delta Sharing activation page\"\n",
    "  >\n",
    "</div>\n",
    "<br />\n",
    "<br />\n",
    "\n",
    "3. **Secure the Credential File** ⚠️\n",
    "   - **IMPORTANT**: The credential file contains authentication tokens\n",
    "   - Store it securely (e.g., encrypted folder, password manager)\n",
    "   - Do NOT commit it to version control (add `*.share` to `.gitignore`)\n",
    "   - Do NOT share it outside your organization\n",
    "   - Treat it like a password or API key\n",
    "\n",
    "4. **Credential File Format**\n",
    "   The downloaded file is a JSON file with the `.share` extension containing:\n",
    "   ```json\n",
    "   {\n",
    "     \"shareCredentialsVersion\": 1,\n",
    "     \"endpoint\": \"https://<workspace-url>/api/2.0/delta-sharing\",\n",
    "     \"bearerToken\": \"<long-token-string>\",\n",
    "     \"expirationTime\": \"<timestamp>\"\n",
    "   }\n",
    "   ```\n",
    "\n",
    "**Note:** The activation link can only be used once to download the credential file. If you lose the file, contact your data provider to rotate the token and receive a new activation link."
   ]
  },
  {
   "cell_type": "markdown",
   "metadata": {
    "application/vnd.databricks.v1+cell": {
     "cellMetadata": {},
     "inputWidgets": {},
     "nuid": "3165bd90-a187-411f-9c5a-966eb3bc99d0",
     "showTitle": false,
     "tableResultSettingsMap": {},
     "title": ""
    }
   },
   "source": [
    "## Step 2: Analyze data in Python using the `delta-sharing` open client\n",
    "\n",
    "> Run the subsequent steps outside of a Databricks environment\n",
    "\n",
    "Use the Jupyter notebook provided in the GitHub repo or a local Python environment to test open sharing (to a non Databricks client).\n",
    "\n",
    "### 1. Install the `delta-sharing` Python package\n",
    "\n",
    "The `delta-sharing` library is an open-source Python connector for accessing Delta Sharing data. Install this using:\n",
    "\n",
    "```bash\n",
    "pip install delta-sharing\n",
    "```\n",
    "\n",
    "### 2. Instantiate a `SharingClient` instance\n",
    "\n",
    "Using the `delta_sharing` package installed previously and the `config.share` file downloaded using the activation link provided to you by the provider, instantiate a `SharignClient` instance:\n",
    "\n",
    "```python\n",
    "import delta_sharing\n",
    "CREDENTIAL_FILE = '.creds/config.share'\n",
    "\n",
    "# Create a SharingClient\n",
    "client = delta_sharing.SharingClient(CREDENTIAL_FILE)\n",
    "```\n",
    "\n",
    "### 3. List shares and assets accessible using your credential\n",
    "\n",
    "Let's explore what data has been shared with you.\n",
    "\n",
    "```python\n",
    "# List all shares available to you\n",
    "shares = client.list_shares()\n",
    "print(f\"Available shares: {len(shares)}\\n\")\n",
    "\n",
    "for share in shares:\n",
    "    print(f\"Share: {share.name}\")\n",
    "\n",
    "# List schemas in the share\n",
    "share_name = \"external_retail\"\n",
    "\n",
    "schemas = client.list_schemas(delta_sharing.Share(share_name))\n",
    "print(f\"\\nSchemas in '{share_name}': {len(schemas)}\\n\")\n",
    "\n",
    "for schema in schemas:\n",
    "    print(f\"Schema: {schema.name}\")\n",
    "\n",
    "# List tables in a schema\n",
    "schema_name = \"external_retail\"\n",
    "\n",
    "tables = client.list_tables(delta_sharing.Schema(share_name, schema_name))\n",
    "print(f\"\\nTables in '{share_name}.{schema_name}': {len(tables)}\\n\")\n",
    "\n",
    "for table in tables:\n",
    "    print(f\"Table: {table.name}\")\n",
    "    print(f\"  Share: {table.share}\")\n",
    "    print(f\"  Schema: {table.schema}\")\n",
    "    print()\n",
    "```\n",
    "\n",
    "### 4. Query Shared Data with pandas\n",
    "\n",
    "Now let's query the shared data and load it into pandas DataFrames.\n",
    "\n",
    "```python\n",
    "# Load customers table into pandas DataFrame\n",
    "customers_url = f\"{CREDENTIAL_FILE}#{share_name}.{schema_name}.customers\"\n",
    "customers_df = delta_sharing.load_as_pandas(customers_url)\n",
    "\n",
    "print(\"Customers Data:\")\n",
    "print(f\"Shape: {customers_df.shape}\")\n",
    "print(\"\\nFirst few rows:\")\n",
    "customers_df.head()\n",
    "\n",
    "# Load sales_transactions table\n",
    "sales_url = f\"{CREDENTIAL_FILE}#{share_name}.{schema_name}.sales_transactions\"\n",
    "sales_df = delta_sharing.load_as_pandas(sales_url)\n",
    "\n",
    "print(\"Sales Transactions Data:\")\n",
    "print(f\"Shape: {sales_df.shape}\")\n",
    "print(\"\\nFirst few rows:\")\n",
    "sales_df.head()\n",
    "```\n",
    "\n",
    "### 5. Perform Analysis\n",
    "\n",
    "With the data loaded into pandas dataframes, you can perform any analysis you need, including visualizations using `seaborn` or `matplotlib`."
   ]
  },
  {
   "cell_type": "markdown",
   "metadata": {
    "application/vnd.databricks.v1+cell": {
     "cellMetadata": {},
     "inputWidgets": {},
     "nuid": "d9dda800-d775-476d-9b18-8c122ebbc3bb",
     "showTitle": false,
     "tableResultSettingsMap": {},
     "title": ""
    }
   },
   "source": [
    "## Step 3: Access Data with Power BI\n",
    "\n",
    "You can also connect Power BI to Delta Sharing to create interactive dashboards.\n",
    "\n",
    "### Instructions for Power BI:\n",
    "\n",
    "1. **Open Power BI**\n",
    "\n",
    "2. **Get Data**\n",
    "   - Click **Get Data** on the Home ribbon\n",
    "   - Search for and select **Delta Sharing** connector\n",
    "   - Click **Connect**\n",
    "\n",
    "<div style=\"padding: 10px; border: 2px solid #0078d4; background-color: #e3f2fd; margin: 10px 0;\">\n",
    "  <img src=\"https://github.com/stackql/databricks-data-sharing-and-collaboration/blob/main/images/power-bi-delta-sharing-1.png?raw=true\" alt=\"Power BI Delta Sharing Connector\" style=\"max-width: 600px;\"/>\n",
    "  <p><i>Power BI Get Data dialog with Delta Sharing connector</i></p>\n",
    "</div>\n",
    "\n",
    "3. **Configure Connection**\n",
    "   - In the **Delta Sharing Server URL** text box paste the `endpoint` from your `config.share` file\n",
    "   - In the **Authentication** text box paste the `bearerToken` from your `config.share` file\n",
    "   - Click **Next**\n",
    "\n",
    "<div style=\"padding: 10px; border: 2px solid #0078d4; background-color: #e3f2fd; margin: 10px 0;\">\n",
    "  <img src=\"https://github.com/stackql/databricks-data-sharing-and-collaboration/blob/main/images/power-bi-delta-sharing-2.png?raw=true\" alt=\"Select Credential File\" style=\"max-width: 600px;\"/>\n",
    "  <p><i>Screenshot: Delta Sharing credential file selection dialog</i></p>\n",
    "</div>\n",
    "\n",
    "4. **Select Tables**\n",
    "   - Navigator window will show available shares, schemas, and tables\n",
    "   - Check the tables you want to import (e.g., `customers`, `sales_transactions`)\n",
    "   - You can preview the data before loading\n",
    "   - Click **Load** or **Transform Data** (to use Power Query Editor)\n",
    "\n",
    "5. **Build Reports**\n",
    "   - Once data is loaded, create visualizations using Power BI's tools\n",
    "   - Create relationships between tables if needed\n",
    "   - Build interactive dashboards\n",
    "\n",
    "### Security Considerations:\n",
    "\n",
    "- The credential file is stored in your Power BI Desktop file\n",
    "- When publishing to Power BI Service, configure data source credentials\n",
    "- Do not share `.pbix` files containing credentials\n",
    "- Use Power BI Service gateway for enterprise deployments"
   ]
  },
  {
   "cell_type": "markdown",
   "metadata": {
    "application/vnd.databricks.v1+cell": {
     "cellMetadata": {},
     "inputWidgets": {},
     "nuid": "ee2217ea-74d6-4e81-b496-94eb0c57d20b",
     "showTitle": false,
     "tableResultSettingsMap": {},
     "title": ""
    }
   },
   "source": [
    "## Step 4: Access with Apache Spark (Optional)\n",
    "\n",
    "If you have Apache Spark available, you can also use it to access Delta Sharing data.\n",
    "\n",
    "```python\n",
    "# Example Spark code (requires Spark environment with delta-sharing connector)\n",
    "\n",
    "from pyspark.sql import SparkSession\n",
    "\n",
    "spark = SparkSession.builder \\\n",
    "    .appName(\"DeltaSharingExample\") \\\n",
    "    .config(\"spark.jars.packages\", \"io.delta:delta-sharing-spark_2.12:1.0.0\") \\\n",
    "    .getOrCreate()\n",
    "\n",
    "df = (spark.read\n",
    "  .format(\"deltasharing\")\n",
    "  .load(\"<profile-path>#<share-name>.<schema-name>.<table-name>\")\n",
    ")\n",
    "\n",
    "# Read shared table into Spark DataFrame\n",
    "customers_spark_df = spark.read.format(\"deltaSharing\") \\\n",
    "    .option(\"responseFormat\", \"delta\") \\\n",
    "    .load(customers_url)\n",
    "\n",
    "customers_spark_df.show()\n",
    "\n",
    "# Perform Spark SQL operations\n",
    "customers_spark_df.createOrReplaceTempView(\"customers\")\n",
    "spark.sql(\"SELECT customer_segment, COUNT(*) as count FROM customers GROUP BY customer_segment\").show()\n",
    "```"
   ]
  },
  {
   "cell_type": "markdown",
   "metadata": {
    "application/vnd.databricks.v1+cell": {
     "cellMetadata": {},
     "inputWidgets": {},
     "nuid": "ae72f917-89ee-4831-af40-d37e39e3744a",
     "showTitle": false,
     "tableResultSettingsMap": {},
     "title": ""
    }
   },
   "source": [
    "## Best Practices and Security\n",
    "\n",
    "### Credential Management\n",
    "\n",
    "✅ **DO:**\n",
    "- Store credential files in secure, encrypted locations\n",
    "- Use environment variables or secure credential stores\n",
    "- Add `*.share` to `.gitignore`\n",
    "- Rotate credentials if compromised\n",
    "- Use service accounts for production applications\n",
    "- Implement proper access controls on credential files\n",
    "\n",
    "❌ **DON'T:**\n",
    "- Commit credential files to version control\n",
    "- Share credentials outside your organization\n",
    "- Hardcode credentials in source code\n",
    "- Email credentials in plain text\n",
    "- Store credentials in publicly accessible locations\n",
    "\n",
    "### Performance Tips\n",
    "\n",
    "- Use column pruning when possible (select only needed columns)\n",
    "- Apply filters server-side when supported\n",
    "- Consider caching frequently accessed data\n",
    "- Use appropriate data formats for your use case\n",
    "- Monitor query performance and optimize as needed\n",
    "\n",
    "### Monitoring and Troubleshooting\n",
    "\n",
    "- Check token expiration dates regularly\n",
    "- Monitor for authentication errors\n",
    "- Contact provider if shares become unavailable\n",
    "- Keep the `delta-sharing` library updated\n",
    "- Review provider's data update schedule"
   ]
  },
  {
   "cell_type": "markdown",
   "metadata": {
    "application/vnd.databricks.v1+cell": {
     "cellMetadata": {},
     "inputWidgets": {},
     "nuid": "88acd41a-bf24-4a71-a6a9-256d7f8c52f8",
     "showTitle": false,
     "tableResultSettingsMap": {},
     "title": ""
    }
   },
   "source": [
    "## Summary\n",
    "\n",
    "Congratulations! You've successfully:\n",
    "\n",
    "✅ Downloaded and secured your Delta Sharing credential file  \n",
    "✅ Accessed shared data using Python and the `delta-sharing` library  \n",
    "✅ Queried and analyzed shared data with pandas  \n",
    "✅ Learned how to connect Power BI Desktop to Delta Sharing  \n",
    "✅ Understood security best practices for credential management  \n",
    "\n",
    "**Key Takeaways:**\n",
    "\n",
    "- **Tool Flexibility**: Use Python, Power BI, Spark, Tableau, or other compatible tools\n",
    "- **Zero Setup**: No complex infrastructure or ETL processes needed\n",
    "- **Real-time Access**: Always query the latest data from the provider\n",
    "- **Cost Effective**: No data storage or compute costs for recipients\n",
    "- **Secure**: Token-based authentication with provider-controlled access\n",
    "\n",
    "**Compatible Tools:**\n",
    "- Python (pandas, Spark)\n",
    "- Power BI Desktop\n",
    "- Tableau\n",
    "- AWS Glue\n",
    "- Presto/Trino\n",
    "- Any tool supporting the open Delta Sharing protocol"
   ]
  },
  {
   "cell_type": "markdown",
   "metadata": {
    "application/vnd.databricks.v1+cell": {
     "cellMetadata": {},
     "inputWidgets": {},
     "nuid": "5ce40167-3ebb-4d70-81bc-6fdf305f11ea",
     "showTitle": false,
     "tableResultSettingsMap": {},
     "title": ""
    }
   },
   "source": [
    "---\n",
    "&copy; 2025 Databricks, Inc. All rights reserved. Apache, Apache Spark, Spark, the Spark Logo, Apache Iceberg, Iceberg, and the Apache Iceberg logo are trademarks of the <a href=\"https://www.apache.org/\" target=\"_blank\">Apache Software Foundation</a>.<br/><br/><a href=\"https://databricks.com/privacy-policy\" target=\"_blank\">Privacy Policy</a> | <a href=\"https://databricks.com/terms-of-use\" target=\"_blank\">Terms of Use</a> | <a href=\"https://help.databricks.com/\" target=\"_blank\">Support</a>"
   ]
  }
 ],
 "metadata": {
  "application/vnd.databricks.v1+notebook": {
   "computePreferences": null,
   "dashboards": [],
   "environmentMetadata": null,
   "inputWidgetPreferences": null,
   "language": "python",
   "notebookMetadata": {
    "pythonIndentUnit": 4
   },
   "notebookName": "2.3 DEMO Implementing D2O Delta Sharing",
   "widgets": {}
  },
  "kernelspec": {
   "display_name": "Python 3",
   "language": "python",
   "name": "python3"
  },
  "language_info": {
   "name": "python"
  }
 },
 "nbformat": 4,
 "nbformat_minor": 0
}
