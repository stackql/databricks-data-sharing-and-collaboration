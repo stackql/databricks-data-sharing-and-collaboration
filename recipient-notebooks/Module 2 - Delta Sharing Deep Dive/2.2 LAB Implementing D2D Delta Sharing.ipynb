{
 "cells": [
  {
   "cell_type": "markdown",
   "metadata": {
    "application/vnd.databricks.v1+cell": {
     "cellMetadata": {},
     "inputWidgets": {},
     "nuid": "97d1d5ee-9a67-4180-8078-133aaac45e90",
     "showTitle": false,
     "tableResultSettingsMap": {},
     "title": ""
    }
   },
   "source": [
    "\n",
    "<div style=\"text-align: center; line-height: 0; padding-top: 9px;\">\n",
    "  <img\n",
    "    src=\"https://databricks.com/wp-content/uploads/2018/03/db-academy-rgb-1200px.png\"\n",
    "    alt=\"Databricks Learning\"\n",
    "  >\n",
    "</div>"
   ]
  },
  {
   "cell_type": "markdown",
   "metadata": {
    "application/vnd.databricks.v1+cell": {
     "cellMetadata": {},
     "inputWidgets": {},
     "nuid": "40f11d5f-fe56-4b24-9d1e-1cfa634bf369",
     "showTitle": false,
     "tableResultSettingsMap": {},
     "title": ""
    }
   },
   "source": [
    "# 2.2 LAB: Implementing Delta Sharing (Databricks-to-Databricks) \\[Recipient]\n",
    "## Lab Overview\n",
    "In this hands-on lab, you will implement Delta Sharing as a data recipient. You'll work with a warehouse inventory management scenario where you are a **Regional Warehouse Manager** receiving shared data from **TechWare Labs** central inventory system.\n",
    "\n",
    "**Your Role:** Data Recipient (Regional Warehouse Manager)\n",
    "\n",
    "**Scenario:**\n",
    "You manage a regional warehouse for TechWare Labs. The central inventory management team has offered to share live product and stock data with you through Delta Sharing. Instead of receiving periodic data dumps or building complex integrations, you'll mount their share directly into your workspace and access the data in real-time using standard SQL queries.\n",
    "\n",
    "**Lab Objectives:**\n",
    "By the end of this lab, you will be able to:\n",
    "1. Obtain and share your metastore ID with data providers\n",
    "2. Discover available providers and their shares\n",
    "3. Mount a remote share to a local catalog\n",
    "4. Explore and query shared data\n",
    "5. Perform analytics on shared data\n",
    "6. Understand the limitations and capabilities of shared data access"
   ]
  },
  {
   "cell_type": "markdown",
   "metadata": {
    "application/vnd.databricks.v1+cell": {
     "cellMetadata": {},
     "inputWidgets": {},
     "nuid": "f5eee46d-8dac-4e81-92a2-b11eb628dc62",
     "showTitle": false,
     "tableResultSettingsMap": {},
     "title": ""
    }
   },
   "source": [
    "## Prerequisites\n",
    "\n",
    "Before starting this lab, ensure that:\n",
    "1. The provider has completed their lab and created the share\n",
    "2. The provider has your metastore ID and has created a recipient for you\n",
    "3. The provider has granted you access to the share\n",
    "\n",
    "**Required Permissions:**\n",
    "- `USE PROVIDER` privilege on the provider, OR\n",
    "- Metastore admin role"
   ]
  },
  {
   "cell_type": "markdown",
   "metadata": {
    "application/vnd.databricks.v1+cell": {
     "cellMetadata": {},
     "inputWidgets": {},
     "nuid": "68d41ded-cfc9-495b-a091-61d12418bd7e",
     "showTitle": false,
     "tableResultSettingsMap": {},
     "title": ""
    }
   },
   "source": [
    "## Setup\n",
    "\n",
    "Run the following cell to set up your lab environment with configuration variables."
   ]
  },
  {
   "cell_type": "code",
   "execution_count": 0,
   "metadata": {
    "application/vnd.databricks.v1+cell": {
     "cellMetadata": {},
     "inputWidgets": {},
     "nuid": "53233250-6259-4dbe-ba87-7262a07418ad",
     "showTitle": false,
     "tableResultSettingsMap": {},
     "title": ""
    }
   },
   "outputs": [],
   "source": [
    "%run ./Includes/Lab-Setup-2"
   ]
  },
  {
   "cell_type": "markdown",
   "metadata": {
    "application/vnd.databricks.v1+cell": {
     "cellMetadata": {},
     "inputWidgets": {},
     "nuid": "6be51f22-2974-4777-890c-cba853737eb9",
     "showTitle": false,
     "tableResultSettingsMap": {},
     "title": ""
    }
   },
   "source": [
    "## Exercise 1: Obtain Your Metastore ID\n",
    "\n",
    "Before you can receive shared data, you need to provide your metastore ID to the data provider. This unique identifier allows the provider to configure you as a recipient.\n",
    "\n",
    "### Task 1.1: Get Your Metastore ID Using SQL\n",
    "**TODO:** Query the system tables or use a `describe` statement to retrieve your metastore's global ID."
   ]
  },
  {
   "cell_type": "code",
   "execution_count": 0,
   "metadata": {
    "application/vnd.databricks.v1+cell": {
     "cellMetadata": {},
     "inputWidgets": {},
     "nuid": "885a24bf-5c05-4651-856c-823bcd63edfb",
     "showTitle": false,
     "tableResultSettingsMap": {},
     "title": ""
    }
   },
   "outputs": [],
   "source": [
    "-- TODO: Write a query or statement to retrieve your Metastore ID, then use this in your Provider notebook\n"
   ]
  },
  {
   "cell_type": "markdown",
   "metadata": {
    "application/vnd.databricks.v1+cell": {
     "cellMetadata": {},
     "inputWidgets": {},
     "nuid": "73950e63-eb1b-4e7d-b0c5-03baab263c08",
     "showTitle": false,
     "tableResultSettingsMap": {},
     "title": ""
    }
   },
   "source": [
    "**Action Required:** Copy your metastore ID from the output above and provide it to the data provider (your instructor or lab partner). The provider needs this to create a recipient for you.\n",
    "\n",
    "**Note:** You can also obtain this ID through the UI:\n",
    "1. Navigate to Catalog Explorer\n",
    "2. Click the Delta Sharing (gear) icon\n",
    "3. Click \"Copy Sharing Identifier\""
   ]
  },
  {
   "cell_type": "markdown",
   "metadata": {
    "application/vnd.databricks.v1+cell": {
     "cellMetadata": {},
     "inputWidgets": {},
     "nuid": "fe427959-a3c8-42f3-af4e-a74ab69a73dd",
     "showTitle": false,
     "tableResultSettingsMap": {},
     "title": ""
    }
   },
   "source": [
    "## Exercise 2: Discover Available Providers and Shares\n",
    "\n",
    "Once the provider has configured you as a recipient, you can discover what providers and shares are available to you.\n",
    "\n",
    "### Task 2.1: List Available Providers\n",
    "**TODO:** Display all providers that you have access to."
   ]
  },
  {
   "cell_type": "code",
   "execution_count": 0,
   "metadata": {
    "application/vnd.databricks.v1+cell": {
     "cellMetadata": {},
     "inputWidgets": {},
     "nuid": "c97a29fc-35e8-4211-bb66-5759ff669499",
     "showTitle": false,
     "tableResultSettingsMap": {},
     "title": ""
    }
   },
   "outputs": [],
   "source": [
    "-- TODO: Write a statement to show providers to your recipient workspace/metastore\n"
   ]
  },
  {
   "cell_type": "markdown",
   "metadata": {
    "application/vnd.databricks.v1+cell": {
     "cellMetadata": {},
     "inputWidgets": {},
     "nuid": "5b36a9d4-fe5a-40ef-a5e2-9ae0813c36aa",
     "showTitle": false,
     "tableResultSettingsMap": {},
     "title": ""
    }
   },
   "source": [
    "### Task 2.2: Describe the Provider\n",
    "**TODO:** Get detailed information about the TechWare Labs provider.\n",
    "\n",
    "**Look for:** Region, cloud provider, and other metadata about the provider."
   ]
  },
  {
   "cell_type": "code",
   "execution_count": 0,
   "metadata": {
    "application/vnd.databricks.v1+cell": {
     "cellMetadata": {},
     "inputWidgets": {},
     "nuid": "fcf010ba-d792-46d2-a8a5-a2314ac2ba7d",
     "showTitle": false,
     "tableResultSettingsMap": {},
     "title": ""
    }
   },
   "outputs": [],
   "source": [
    "-- TODO: Write a statement to inspect the provider\n"
   ]
  },
  {
   "cell_type": "markdown",
   "metadata": {
    "application/vnd.databricks.v1+cell": {
     "cellMetadata": {},
     "inputWidgets": {},
     "nuid": "ea8b8160-9a45-47a7-82d4-87e1e2a8da04",
     "showTitle": false,
     "tableResultSettingsMap": {},
     "title": ""
    }
   },
   "source": [
    "### Task 2.3: List Available Shares from the Provider\n",
    "**TODO:** Display all shares available from the TechWare Labs provider."
   ]
  },
  {
   "cell_type": "code",
   "execution_count": 0,
   "metadata": {
    "application/vnd.databricks.v1+cell": {
     "cellMetadata": {},
     "inputWidgets": {},
     "nuid": "31ea8d03-57b0-47e0-933d-ab6f4973b248",
     "showTitle": false,
     "tableResultSettingsMap": {},
     "title": ""
    }
   },
   "outputs": [],
   "source": [
    "-- TODO: Write a statement to list all of the shares available in the provider\n"
   ]
  },
  {
   "cell_type": "markdown",
   "metadata": {
    "application/vnd.databricks.v1+cell": {
     "cellMetadata": {},
     "inputWidgets": {},
     "nuid": "833d7d4f-eb24-4b33-b541-b59f148a3118",
     "showTitle": false,
     "tableResultSettingsMap": {},
     "title": ""
    }
   },
   "source": [
    "**Question:** How many shares are available from TechWare Labs? What is the name of the share containing inventory data?"
   ]
  },
  {
   "cell_type": "markdown",
   "metadata": {
    "application/vnd.databricks.v1+cell": {
     "cellMetadata": {},
     "inputWidgets": {},
     "nuid": "f34fcefb-1959-4f60-b217-2b2faedd5ac2",
     "showTitle": false,
     "tableResultSettingsMap": {},
     "title": ""
    }
   },
   "source": [
    "## Exercise 3: Mount the Share to a Local Catalog\n",
    "\n",
    "Now you'll mount the shared data to a catalog in your workspace. This creates a local reference to the remote share without copying any data.\n",
    "\n",
    "### Task 3.1: Create a Catalog from the Share\n",
    "**TODO:** Create a catalog named `shared_inventory_catalog` that mounts the `warehouse_inventory` share from the `techware_labs` provider.\n",
    "\n",
    "**Syntax reminder:** The share reference should be in the format: `<provider_name>.<share_name>`"
   ]
  },
  {
   "cell_type": "code",
   "execution_count": 0,
   "metadata": {
    "application/vnd.databricks.v1+cell": {
     "cellMetadata": {},
     "inputWidgets": {},
     "nuid": "3d8f2e69-70e6-4150-806a-cc567c8f4533",
     "showTitle": false,
     "tableResultSettingsMap": {},
     "title": ""
    }
   },
   "outputs": [],
   "source": [
    "-- TODO: Mount the share to a local catalog\n"
   ]
  },
  {
   "cell_type": "markdown",
   "metadata": {
    "application/vnd.databricks.v1+cell": {
     "cellMetadata": {},
     "inputWidgets": {},
     "nuid": "081eca7d-a284-44af-b5e7-453fbad4aaee",
     "showTitle": false,
     "tableResultSettingsMap": {},
     "title": ""
    }
   },
   "source": [
    "### Task 3.2: Verify the Catalog Type\n",
    "**TODO:** Describe the catalog you just created and verify its type.\n",
    "\n",
    "*Look for The \"Catalog Type\"*"
   ]
  },
  {
   "cell_type": "code",
   "execution_count": 0,
   "metadata": {
    "application/vnd.databricks.v1+cell": {
     "cellMetadata": {},
     "inputWidgets": {},
     "nuid": "ced6c27d-afb9-427b-ad93-aa784f83ccbb",
     "showTitle": false,
     "tableResultSettingsMap": {},
     "title": ""
    }
   },
   "outputs": [],
   "source": [
    "-- TODO: Show details about the catalog you just created\n"
   ]
  },
  {
   "cell_type": "markdown",
   "metadata": {
    "application/vnd.databricks.v1+cell": {
     "cellMetadata": {},
     "inputWidgets": {},
     "nuid": "9ea15145-c5ac-47cd-ab07-ee967f1996ff",
     "showTitle": false,
     "tableResultSettingsMap": {},
     "title": ""
    }
   },
   "source": [
    "## Exercise 4: Explore the Shared Data\n",
    "\n",
    "With the share mounted, let's explore the data structure and contents.\n",
    "\n",
    "### Task 4.1: List Schemas in the Shared Catalog\n",
    "**TODO:** Display all schemas available in the shared catalog."
   ]
  },
  {
   "cell_type": "code",
   "execution_count": 0,
   "metadata": {
    "application/vnd.databricks.v1+cell": {
     "cellMetadata": {},
     "inputWidgets": {},
     "nuid": "4e6cfa69-c097-4a0a-b215-e58bf5950026",
     "showTitle": false,
     "tableResultSettingsMap": {},
     "title": ""
    }
   },
   "outputs": [],
   "source": [
    "-- TODO: Write a statement to show the schemas in your mounted share (catalog)\n"
   ]
  },
  {
   "cell_type": "markdown",
   "metadata": {
    "application/vnd.databricks.v1+cell": {
     "cellMetadata": {},
     "inputWidgets": {},
     "nuid": "6eea4dba-4955-4ab7-a1d5-6b73afb20c3c",
     "showTitle": false,
     "tableResultSettingsMap": {},
     "title": ""
    }
   },
   "source": [
    "### Task 4.2: List Tables in the Inventory Schema\n",
    "**TODO:** Display all tables in the `inventory` schema."
   ]
  },
  {
   "cell_type": "code",
   "execution_count": 0,
   "metadata": {
    "application/vnd.databricks.v1+cell": {
     "cellMetadata": {},
     "inputWidgets": {},
     "nuid": "f978893d-857c-4b02-95ae-462be337d907",
     "showTitle": false,
     "tableResultSettingsMap": {},
     "title": ""
    }
   },
   "outputs": [],
   "source": [
    "-- TODO: Write a statement to show the tables in the inventory schema\n"
   ]
  },
  {
   "cell_type": "markdown",
   "metadata": {
    "application/vnd.databricks.v1+cell": {
     "cellMetadata": {},
     "inputWidgets": {},
     "nuid": "8431904d-9cb2-418c-b04f-25edb4b956d0",
     "showTitle": false,
     "tableResultSettingsMap": {},
     "title": ""
    }
   },
   "source": [
    "**Question:** How many tables are shared? What are their names?"
   ]
  },
  {
   "cell_type": "markdown",
   "metadata": {
    "application/vnd.databricks.v1+cell": {
     "cellMetadata": {},
     "inputWidgets": {},
     "nuid": "c5584c4e-c86f-41d6-9df9-6a0675ea657b",
     "showTitle": false,
     "tableResultSettingsMap": {},
     "title": ""
    }
   },
   "source": [
    "### Task 4.3: Examine the Products Table Structure\n",
    "**TODO:** Describe the structure of the products table to understand its schema."
   ]
  },
  {
   "cell_type": "code",
   "execution_count": 0,
   "metadata": {
    "application/vnd.databricks.v1+cell": {
     "cellMetadata": {},
     "inputWidgets": {},
     "nuid": "85d541aa-bdc3-4088-8e6d-e7d1fddb8761",
     "showTitle": false,
     "tableResultSettingsMap": {},
     "title": ""
    }
   },
   "outputs": [],
   "source": [
    "-- TODO: Write a statement to show information about the products table\n"
   ]
  },
  {
   "cell_type": "markdown",
   "metadata": {
    "application/vnd.databricks.v1+cell": {
     "cellMetadata": {},
     "inputWidgets": {},
     "nuid": "6fe00d52-7e09-4cf4-9503-e6fb75ae77bd",
     "showTitle": false,
     "tableResultSettingsMap": {},
     "title": ""
    }
   },
   "source": [
    "## Exercise 5: Query and Analyze Shared Data\n",
    "\n",
    "Now let's query the shared data and perform some analysis relevant to warehouse management.\n",
    "\n",
    "### Task 5.1: View All Products\n",
    "**TODO:** Query all records from the products table."
   ]
  },
  {
   "cell_type": "code",
   "execution_count": 0,
   "metadata": {
    "application/vnd.databricks.v1+cell": {
     "cellMetadata": {},
     "inputWidgets": {},
     "nuid": "4cbe420a-0802-424a-b49f-89a341faa9dd",
     "showTitle": false,
     "tableResultSettingsMap": {},
     "title": ""
    }
   },
   "outputs": [],
   "source": [
    "-- TODO: Query the products table\n"
   ]
  },
  {
   "cell_type": "markdown",
   "metadata": {
    "application/vnd.databricks.v1+cell": {
     "cellMetadata": {},
     "inputWidgets": {},
     "nuid": "9f1ee4a6-d537-42b3-b987-55b4c3de6e45",
     "showTitle": false,
     "tableResultSettingsMap": {},
     "title": ""
    }
   },
   "source": [
    "### Task 5.2: View Current Warehouse Stock\n",
    "**TODO:** Query all records from the warehouse_stock table."
   ]
  },
  {
   "cell_type": "code",
   "execution_count": 0,
   "metadata": {
    "application/vnd.databricks.v1+cell": {
     "cellMetadata": {},
     "inputWidgets": {},
     "nuid": "c942e4d9-e4ba-468e-afb8-3630c7dedf93",
     "showTitle": false,
     "tableResultSettingsMap": {},
     "title": ""
    }
   },
   "outputs": [],
   "source": [
    "-- TODO: Query the warehouse_stock table\n"
   ]
  },
  {
   "cell_type": "markdown",
   "metadata": {
    "application/vnd.databricks.v1+cell": {
     "cellMetadata": {},
     "inputWidgets": {},
     "nuid": "1584f4f5-054e-497c-86cb-439b04372a04",
     "showTitle": false,
     "tableResultSettingsMap": {},
     "title": ""
    }
   },
   "source": [
    "### Task 5.3: Join Products with Stock Levels\n",
    "**TODO:** Write a query that joins the products and warehouse_stock tables to show product details along with stock levels.\n",
    "\n",
    "**Include these columns:**\n",
    "- product_name\n",
    "- category\n",
    "- unit_price\n",
    "- warehouse_location\n",
    "- quantity_on_hand\n",
    "- reorder_level (from products table)\n",
    "\n",
    "**Order by:** warehouse_location and product_name"
   ]
  },
  {
   "cell_type": "code",
   "execution_count": 0,
   "metadata": {
    "application/vnd.databricks.v1+cell": {
     "cellMetadata": {},
     "inputWidgets": {},
     "nuid": "03ca7dbe-d035-4e7f-a0b5-030fe0bfeaf4",
     "showTitle": false,
     "tableResultSettingsMap": {},
     "title": ""
    }
   },
   "outputs": [],
   "source": [
    "-- TODO: Write a SELECT statement joining products (p) and warehouse_stock (w) on product_id\n"
   ]
  },
  {
   "cell_type": "markdown",
   "metadata": {
    "application/vnd.databricks.v1+cell": {
     "cellMetadata": {},
     "inputWidgets": {},
     "nuid": "774e17e0-173e-49a3-871e-ef4737bd259c",
     "showTitle": false,
     "tableResultSettingsMap": {},
     "title": ""
    }
   },
   "source": [
    "## Summary\n",
    "\n",
    "Congratulations! You've successfully completed the recipient lab. You:\n",
    "\n",
    "✅ Obtained and shared your metastore ID with the provider  \n",
    "✅ Discovered available providers and shares  \n",
    "✅ Mounted a remote share to a local catalog  \n",
    "✅ Explored the structure of shared data  \n",
    "✅ Performed analytical queries on shared data  \n",
    "✅ Joined multiple shared tables  \n",
    "✅ Created business insights from shared inventory data  \n",
    "\n",
    "**Key Takeaways:**\n",
    "\n",
    "1. **Zero Data Movement**: You accessed live data from the provider without any data copying\n",
    "2. **Real-Time Access**: Any updates the provider makes are immediately available to you\n",
    "3. **Standard SQL**: You used familiar SQL syntax - Delta Sharing is transparent to analysts\n",
    "4. **Read-Only Security**: The provider maintains control while you get safe, read-only access\n",
    "5. **No Storage Costs**: You pay no storage costs for shared data\n",
    "\n",
    "**Real-World Applications:**\n",
    "- Supply chain partners sharing inventory and logistics data\n",
    "- Financial institutions sharing market data\n",
    "- Healthcare organizations sharing anonymized patient data\n",
    "- Retail chains sharing sales data with vendors\n",
    "- Government agencies sharing public datasets\n",
    "\n",
    "**Next Steps:**\n",
    "In the next module, you'll learn about:\n",
    "- Sharing data with non-Databricks recipients\n",
    "- Advanced security features (row-level, column-level filtering)\n",
    "- Sharing views and materialized views\n",
    "- Monitoring and governance best practices"
   ]
  },
  {
   "cell_type": "markdown",
   "metadata": {
    "application/vnd.databricks.v1+cell": {
     "cellMetadata": {},
     "inputWidgets": {},
     "nuid": "b809a85b-a227-437e-a927-f545fa40fb1d",
     "showTitle": false,
     "tableResultSettingsMap": {},
     "title": ""
    }
   },
   "source": [
    "---\n",
    "&copy; 2025 Databricks, Inc. All rights reserved. Apache, Apache Spark, Spark, the Spark Logo, Apache Iceberg, Iceberg, and the Apache Iceberg logo are trademarks of the <a href=\"https://www.apache.org/\" target=\"_blank\">Apache Software Foundation</a>.<br/><br/><a href=\"https://databricks.com/privacy-policy\" target=\"_blank\">Privacy Policy</a> | <a href=\"https://databricks.com/terms-of-use\" target=\"_blank\">Terms of Use</a> | <a href=\"https://help.databricks.com/\" target=\"_blank\">Support</a>"
   ]
  }
 ],
 "metadata": {
  "application/vnd.databricks.v1+notebook": {
   "computePreferences": null,
   "dashboards": [],
   "environmentMetadata": null,
   "inputWidgetPreferences": null,
   "language": "sql",
   "notebookMetadata": {
    "pythonIndentUnit": 4
   },
   "notebookName": "2.2 LAB Implementing D2D Delta Sharing",
   "widgets": {}
  },
  "language_info": {
   "name": "sql"
  }
 },
 "nbformat": 4,
 "nbformat_minor": 0
}
