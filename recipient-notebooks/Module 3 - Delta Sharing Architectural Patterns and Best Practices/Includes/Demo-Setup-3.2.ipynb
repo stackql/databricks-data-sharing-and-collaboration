{
 "cells": [
  {
   "cell_type": "code",
   "execution_count": null,
   "metadata": {},
   "outputs": [],
   "source": [
    "# recipient-notebooks/Module 3 - Delta Sharing Architectural Patterns and Best Practices/Includes/Demo-Setup-3.2.ipynb"
   ]
  },
  {
   "cell_type": "code",
   "execution_count": 0,
   "metadata": {},
   "outputs": [],
   "source": [
    "%run ./_common"
   ]
  },
  {
   "cell_type": "code",
   "execution_count": 0,
   "metadata": {},
   "outputs": [],
   "source": [
    "# Set variables in python and sql\n",
    "config_values = [\n",
    "    (\"provider_name\", \"secure_bank_provider\"),\n",
    "    (\"regional_catalog\", \"na_regional_customers\"),\n",
    "    (\"marketing_catalog\", \"marketing_insights\"),\n",
    "    (\"risk_catalog\", \"risk_analytics_data\"),\n",
    "    (\"audit_catalog\", \"compliance_audit\"),\n",
    "    (\"comparison_catalog\", \"access_comparison\"),\n",
    "    (\"regional_share\", \"regional_customer_data\"),\n",
    "    (\"marketing_share\", \"marketing_safe_data\"),\n",
    "    (\"risk_share\", \"risk_analytics_data\"),\n",
    "    (\"audit_share\", \"compliance_audit_data\"),\n",
    "]\n",
    "DA = create_da_objects(config_values)"
   ]
  },
  {
   "cell_type": "code",
   "execution_count": 0,
   "metadata": {},
   "outputs": [],
   "source": [
    "display_config_values(config_values)"
   ]
  }
 ],
 "metadata": {
  "language_info": {
   "name": "python"
  }
 },
 "nbformat": 4,
 "nbformat_minor": 0
}