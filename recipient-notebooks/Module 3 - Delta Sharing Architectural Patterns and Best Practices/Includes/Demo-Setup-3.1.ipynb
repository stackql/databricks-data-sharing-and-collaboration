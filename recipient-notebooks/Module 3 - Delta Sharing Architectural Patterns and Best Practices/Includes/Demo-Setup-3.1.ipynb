{
 "cells": [
  {
   "cell_type": "code",
   "execution_count": null,
   "id": "a0b53bcf",
   "metadata": {},
   "outputs": [],
   "source": [
    "# recipient-notebooks/Module 3 - Delta Sharing Architectural Patterns and Best Practices/Includes/Demo-Setup-3.1.ipynb"
   ]
  },
  {
   "cell_type": "code",
   "execution_count": null,
   "id": "95850c5c",
   "metadata": {},
   "outputs": [],
   "source": [
    "%run ./_common"
   ]
  },
  {
   "cell_type": "code",
   "execution_count": null,
   "id": "f93e2307",
   "metadata": {},
   "outputs": [],
   "source": [
    "# Set variables in python and sql for recipient\n",
    "config_values = [\n",
    "    (\"catalog\", \"recipient_analytics\"),\n",
    "    (\"schema\", \"transactions\"),\n",
    "    (\"r2_source_table\", \"r2_source_data\"),\n",
    "    (\"local_table\", \"local_transactions\"),\n",
    "    (\"sync_status_view\", \"sync_status\"),\n",
    "]\n",
    "DA = create_da_objects(config_values)"
   ]
  },
  {
   "cell_type": "code",
   "execution_count": null,
   "id": "24c6dd3c",
   "metadata": {},
   "outputs": [],
   "source": [
    "%sql\n",
    "CREATE CATALOG IF NOT EXISTS IDENTIFIER(DA.catalog)\n",
    "COMMENT 'Recipient catalog for cross-cloud replication demo';\n",
    "USE CATALOG IDENTIFIER(DA.catalog);"
   ]
  },
  {
   "cell_type": "code",
   "execution_count": null,
   "id": "3031e641",
   "metadata": {},
   "outputs": [],
   "source": [
    "%sql\n",
    "CREATE SCHEMA IF NOT EXISTS IDENTIFIER(DA.schema)\n",
    "COMMENT 'Schema for synchronized transaction data from R2';\n",
    "USE SCHEMA IDENTIFIER(DA.schema);"
   ]
  },
  {
   "cell_type": "code",
   "execution_count": null,
   "id": "ecf39634",
   "metadata": {},
   "outputs": [],
   "source": [
    "display_config_values(config_values)"
   ]
  }
 ],
 "metadata": {
  "language_info": {
   "name": "python"
  }
 },
 "nbformat": 4,
 "nbformat_minor": 5
}
