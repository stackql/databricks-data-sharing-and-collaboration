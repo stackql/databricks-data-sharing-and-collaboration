{
 "cells": [
  {
   "cell_type": "markdown",
   "metadata": {
    "application/vnd.databricks.v1+cell": {
     "cellMetadata": {},
     "inputWidgets": {},
     "nuid": "af911173-d0a8-4a38-9470-50f071d53a98",
     "showTitle": false,
     "tableResultSettingsMap": {},
     "title": ""
    }
   },
   "source": [
    "\n",
    "<div style=\"text-align: center; line-height: 0; padding-top: 9px;\">\n",
    "  <img\n",
    "    src=\"https://databricks.com/wp-content/uploads/2018/03/db-academy-rgb-1200px.png\"\n",
    "    alt=\"Databricks Learning\"\n",
    "  >\n",
    "</div>"
   ]
  },
  {
   "cell_type": "markdown",
   "metadata": {
    "application/vnd.databricks.v1+cell": {
     "cellMetadata": {},
     "inputWidgets": {},
     "nuid": "a4f341a9-6326-49f1-9edc-25bceed67dfe",
     "showTitle": false,
     "tableResultSettingsMap": {},
     "title": ""
    }
   },
   "source": [
    "# 3.1 DEMO: Cross Cloud Replication with Cloudflare R2 [Recipient]\n",
    "\n",
    "## Overview\n",
    "This demo showcases how recipients can access replicated data from Cloudflare R2 and maintain synchronized local copies using `MERGE` operations. Recipients read changes from the R2-hosted delta table location (using a view) and apply them to their local tables.\n",
    "\n",
    "## Learning Objectives\n",
    "By the end of this demo, you will understand:\n",
    "1. How to access data hosted on Cloudflare R2\n",
    "3. How to implement replication from a provider's external table hosted on Cloudflare R2 to a local managed table\n",
    "\n",
    "We will use a Cloudflare R2 bucket as the storage location for a view which is used between the provider and recipients to store changes from a Managed source table, the changes are then replication asynchronously to another Managed table in the recipients region/provider.\n",
    "\n",
    "**Benefits:**\n",
    "- Zero egress costs with Cloudflare R2\n",
    "- Global data distribution without provider dependencies\n",
    "- Automated change propagation (e.g. using CDF)\n",
    "- Cost-effective sharing with unlimited recipients"
   ]
  },
  {
   "cell_type": "markdown",
   "metadata": {
    "application/vnd.databricks.v1+cell": {
     "cellMetadata": {},
     "inputWidgets": {},
     "nuid": "e85740d5-5475-4598-b711-eec48dfb5651",
     "showTitle": false,
     "tableResultSettingsMap": {},
     "title": ""
    }
   },
   "source": [
    "## Prerequisites\n",
    "\n",
    "The provider should have completed the setup described in the corresponding provider notebook and provided you with:\n",
    "- The Cloudflare R2 bucket path (S3-compatible endpoint)\n",
    "- Cloudflare R2 Access Key ID\n",
    "- Cloudflare R2 Secret Access Key\n",
    "\n",
    "**For instructions on setting up a storage credential for Cloudflare R2**, see the corresponding demo notebook for the provider.  \n",
    "\n",
    "> **Note:** The storage credential and external location setup is identical for both provider and recipient. You'll need read access to the R2 bucket where the provider stores replicated data."
   ]
  },
  {
   "cell_type": "markdown",
   "metadata": {
    "application/vnd.databricks.v1+cell": {
     "cellMetadata": {},
     "inputWidgets": {},
     "nuid": "2233cc57-369d-4ade-bf15-4e3c99b5a5dc",
     "showTitle": false,
     "tableResultSettingsMap": {},
     "title": ""
    }
   },
   "source": [
    "## Setup\n",
    "\n",
    "Run the common setup and demo configuration scripts."
   ]
  },
  {
   "cell_type": "code",
   "execution_count": 0,
   "metadata": {
    "application/vnd.databricks.v1+cell": {
     "cellMetadata": {
      "byteLimit": 2048000,
      "implicitDf": true,
      "rowLimit": 10000
     },
     "inputWidgets": {},
     "nuid": "6b2b7891-e6a8-4479-b890-8b74ec653278",
     "showTitle": false,
     "tableResultSettingsMap": {},
     "title": ""
    }
   },
   "outputs": [],
   "source": [
    "%run ./Includes/Demo-Setup-3.1"
   ]
  },
  {
   "cell_type": "markdown",
   "metadata": {
    "application/vnd.databricks.v1+cell": {
     "cellMetadata": {},
     "inputWidgets": {},
     "nuid": "882ebaf0-29ba-4a1b-85d0-a50b57722f32",
     "showTitle": false,
     "tableResultSettingsMap": {},
     "title": ""
    }
   },
   "source": [
    "## Step 1: Create Storage Credential for R2 Access\n",
    "\n",
    "Create a storage credential to access the Cloudflare R2 bucket (read-only access for recipients).\n",
    "\n",
    "**For detailed step-by-step instructions with screenshots**, see **Step 1** in the provider notebook. The process is identical for recipients, except you only need read access to the R2 bucket."
   ]
  },
  {
   "cell_type": "code",
   "execution_count": 0,
   "metadata": {
    "application/vnd.databricks.v1+cell": {
     "cellMetadata": {
      "byteLimit": 2048000,
      "rowLimit": 10000
     },
     "inputWidgets": {},
     "nuid": "a686ef24-392d-4e62-a5ce-c0ca5afb9b4b",
     "showTitle": false,
     "tableResultSettingsMap": {},
     "title": ""
    }
   },
   "outputs": [],
   "source": [
    "-- show details of r2 storage credential\n",
    "DESCRIBE STORAGE CREDENTIAL r2_credential;"
   ]
  },
  {
   "cell_type": "markdown",
   "metadata": {
    "application/vnd.databricks.v1+cell": {
     "cellMetadata": {},
     "inputWidgets": {},
     "nuid": "28aae078-2957-4f51-a411-c336f8d809b9",
     "showTitle": false,
     "tableResultSettingsMap": {},
     "title": ""
    }
   },
   "source": [
    "## Step 2: Create External Location for R2\n",
    "\n",
    "Create an external location pointing to the R2 bucket where the provider stores data."
   ]
  },
  {
   "cell_type": "code",
   "execution_count": 0,
   "metadata": {
    "application/vnd.databricks.v1+cell": {
     "cellMetadata": {
      "byteLimit": 2048000,
      "rowLimit": 10000
     },
     "inputWidgets": {},
     "nuid": "0ea64690-70c7-42b8-9842-1d94dfc7f896",
     "showTitle": false,
     "tableResultSettingsMap": {},
     "title": ""
    }
   },
   "outputs": [],
   "source": [
    "CREATE EXTERNAL LOCATION IF NOT EXISTS r2_location\n",
    "URL 'r2://databricks-demo@4132d7d5587ee99b9d482ecfc2c1853c.r2.cloudflarestorage.com'\n",
    "WITH (\n",
    "  STORAGE CREDENTIAL r2_credential\n",
    ")\n",
    "COMMENT 'Cloudflare R2 bucket for accessing replicated data'"
   ]
  },
  {
   "cell_type": "markdown",
   "metadata": {
    "application/vnd.databricks.v1+cell": {
     "cellMetadata": {},
     "inputWidgets": {},
     "nuid": "13c46149-3e27-46d1-9dab-a49228d4edf0",
     "showTitle": false,
     "tableResultSettingsMap": {},
     "title": ""
    }
   },
   "source": [
    "## Step 3: Create a View Referencing R2 Replica Location\n",
    "\n",
    "Create a view that points to the provider's data on R2.\n",
    "\n",
    "⚠️ **Do not create an external table on the recipient side as this could corrupt the tables metadata**\n"
   ]
  },
  {
   "cell_type": "code",
   "execution_count": 0,
   "metadata": {
    "application/vnd.databricks.v1+cell": {
     "cellMetadata": {
      "byteLimit": 2048000,
      "rowLimit": 10000
     },
     "inputWidgets": {},
     "nuid": "c1f994f0-1348-4644-9494-876138f7ed06",
     "showTitle": false,
     "tableResultSettingsMap": {},
     "title": ""
    }
   },
   "outputs": [],
   "source": [
    "CREATE OR REPLACE VIEW recipient_analytics.transactions.vw_r2_replicated_data AS\n",
    "SELECT * FROM delta.`r2://databricks-demo@4132d7d5587ee99b9d482ecfc2c1853c.r2.cloudflarestorage.com/transactions_r2_replica`;"
   ]
  },
  {
   "cell_type": "markdown",
   "metadata": {
    "application/vnd.databricks.v1+cell": {
     "cellMetadata": {},
     "inputWidgets": {},
     "nuid": "7313f251-003e-4263-b4e1-3f5a7150926c",
     "showTitle": false,
     "tableResultSettingsMap": {},
     "title": ""
    }
   },
   "source": [
    "## Step 4: Verify R2 Data Access\n",
    "\n",
    "Check that we can successfully access the data from R2."
   ]
  },
  {
   "cell_type": "code",
   "execution_count": 0,
   "metadata": {
    "application/vnd.databricks.v1+cell": {
     "cellMetadata": {
      "byteLimit": 2048000,
      "rowLimit": 10000
     },
     "inputWidgets": {},
     "nuid": "1a6af13a-1c9e-4a94-b5e1-b0cdc2321270",
     "showTitle": false,
     "tableResultSettingsMap": {},
     "title": ""
    }
   },
   "outputs": [],
   "source": [
    "-- test access to the view\n",
    "SELECT * FROM recipient_analytics.transactions.vw_r2_replicated_data LIMIT 5;"
   ]
  },
  {
   "cell_type": "markdown",
   "metadata": {
    "application/vnd.databricks.v1+cell": {
     "cellMetadata": {},
     "inputWidgets": {},
     "nuid": "b54e9872-9128-4bf7-ad3a-0ccf4299b8b9",
     "showTitle": false,
     "tableResultSettingsMap": {},
     "title": ""
    }
   },
   "source": [
    "## Step 5: Create Local Managed Table\n",
    "\n",
    "Create a local managed table to store synchronized data."
   ]
  },
  {
   "cell_type": "code",
   "execution_count": 0,
   "metadata": {
    "application/vnd.databricks.v1+cell": {
     "cellMetadata": {
      "byteLimit": 2048000,
      "rowLimit": 10000
     },
     "inputWidgets": {},
     "nuid": "34350aa4-4b0a-43f3-8beb-9ef78153155c",
     "showTitle": false,
     "tableResultSettingsMap": {},
     "title": ""
    }
   },
   "outputs": [],
   "source": [
    "DROP TABLE IF EXISTS recipient_analytics.transactions.local_transactions;\n",
    "\n",
    "CREATE TABLE recipient_analytics.transactions.local_transactions (\n",
    "  transaction_id STRING,\n",
    "  customer_id STRING,\n",
    "  product_category STRING,\n",
    "  amount DECIMAL(10,2),\n",
    "  transaction_date DATE,\n",
    "  region STRING,\n",
    "  created_at TIMESTAMP\n",
    ")\n",
    "PARTITIONED BY (transaction_date)\n",
    "TBLPROPERTIES (\n",
    "  'delta.autoOptimize.optimizeWrite' = 'true'\n",
    ")\n",
    "COMMENT 'Local synchronized table with Type 1 SCD metadata'"
   ]
  },
  {
   "cell_type": "markdown",
   "metadata": {
    "application/vnd.databricks.v1+cell": {
     "cellMetadata": {},
     "inputWidgets": {},
     "nuid": "57127f58-76ea-41d7-98d5-49b03beabd2a",
     "showTitle": false,
     "tableResultSettingsMap": {},
     "title": ""
    }
   },
   "source": [
    "## Step 6: Synchronize Data Using `MERGE`\n",
    "\n",
    "Synchronize data from R2 to local table using `MERGE` operation.  For simplicity, we are doing a simple insert only `MERGE`.\n",
    "\n",
    "> You could optionally maintain temporality on the target table (e.g. Type1 or Type2 SCDs)"
   ]
  },
  {
   "cell_type": "code",
   "execution_count": 0,
   "metadata": {
    "application/vnd.databricks.v1+cell": {
     "cellMetadata": {
      "byteLimit": 2048000,
      "rowLimit": 10000
     },
     "inputWidgets": {},
     "nuid": "d6c8d98d-a362-4694-9311-f029e6e6ecdf",
     "showTitle": false,
     "tableResultSettingsMap": {},
     "title": ""
    }
   },
   "outputs": [],
   "source": [
    "-- Use MERGE to insert only new records\n",
    "MERGE INTO recipient_analytics.transactions.local_transactions AS target\n",
    "USING recipient_analytics.transactions.vw_r2_replicated_data AS source\n",
    "ON target.transaction_id = source.transaction_id\n",
    "WHEN NOT MATCHED THEN\n",
    "  INSERT (\n",
    "    transaction_id,\n",
    "    customer_id,\n",
    "    product_category,\n",
    "    amount,\n",
    "    transaction_date,\n",
    "    region,\n",
    "    created_at\n",
    "  )\n",
    "  VALUES (\n",
    "    source.transaction_id,\n",
    "    source.customer_id,\n",
    "    source.product_category,\n",
    "    source.amount,\n",
    "    source.transaction_date,\n",
    "    source.region,\n",
    "    source.created_at\n",
    "  );"
   ]
  },
  {
   "cell_type": "markdown",
   "metadata": {
    "application/vnd.databricks.v1+cell": {
     "cellMetadata": {},
     "inputWidgets": {},
     "nuid": "84e379fd-8889-404d-8ec0-ea15544da2dd",
     "showTitle": false,
     "tableResultSettingsMap": {},
     "title": ""
    }
   },
   "source": [
    "## Step 7: Verify Synchronization\n",
    "\n",
    "Check that the sync was successful."
   ]
  },
  {
   "cell_type": "code",
   "execution_count": 0,
   "metadata": {
    "application/vnd.databricks.v1+cell": {
     "cellMetadata": {
      "byteLimit": 2048000,
      "rowLimit": 10000
     },
     "inputWidgets": {},
     "nuid": "d8b23df2-a3ac-4e08-948c-f6bddc5748ea",
     "showTitle": false,
     "tableResultSettingsMap": {},
     "title": ""
    }
   },
   "outputs": [],
   "source": [
    "-- Compare record counts\n",
    "SELECT \n",
    "  'R2 Source' as source,\n",
    "  COUNT(*) as record_count,\n",
    "  SUM(amount) as total_amount\n",
    "FROM recipient_analytics.transactions.vw_r2_replicated_data\n",
    "\n",
    "UNION ALL\n",
    "\n",
    "SELECT \n",
    "  'Local Sync' as source,\n",
    "  COUNT(*) as record_count,\n",
    "  SUM(amount) as total_amount\n",
    "FROM recipient_analytics.transactions.local_transactions"
   ]
  },
  {
   "cell_type": "markdown",
   "metadata": {
    "application/vnd.databricks.v1+cell": {
     "cellMetadata": {},
     "inputWidgets": {},
     "nuid": "04b9c72c-6b83-4d2c-afac-3d36bfb7e8bb",
     "showTitle": false,
     "tableResultSettingsMap": {},
     "title": ""
    }
   },
   "source": [
    "## Summary\n",
    "\n",
    "### What We Accomplished:\n",
    "\n",
    "✅ **R2 Access**: Connected to Cloudflare R2 external table with zero egress costs  \n",
    "✅ **Synchonized Changes**: Identified new records from R2 source and synchronized a local managed table  \n",
    "\n",
    "### Key Benefits:\n",
    "\n",
    "**Global Access**: Fast data access from Cloudflare's global network  \n",
    "**Cost Efficient**: Zero egress fees for reading from R2  \n",
    "**Local Performance**: Optimized local queries on synchronized data  \n",
    "**Automatic Updates**: `MERGE`-based synchronization maintains current data  \n",
    "\n",
    "### Next Steps for Production:\n",
    "\n",
    "1. **Automation**: Schedule the `MERGE` operation as a Databricks Job (hourly/daily)\n",
    "2. **Secrets**: Use Databricks Secrets for R2 credentials\n",
    "3. **Monitoring**: Set up alerts for sync failures or data quality issues\n",
    "4. **Optimization**: Add partition pruning and table optimization\n",
    "5. **Advanced SCD**: Consider Type 2 SCD if historical tracking is needed\n",
    "\n",
    "The recipient now has a robust, cost-effective way to stay synchronized with provider data!"
   ]
  },
  {
   "cell_type": "markdown",
   "metadata": {
    "application/vnd.databricks.v1+cell": {
     "cellMetadata": {},
     "inputWidgets": {},
     "nuid": "1b6e9bc6-37af-4a78-9670-c4841ad1fc7f",
     "showTitle": false,
     "tableResultSettingsMap": {},
     "title": ""
    }
   },
   "source": [
    "---\n",
    "&copy; 2025 Databricks, Inc. All rights reserved. Apache, Apache Spark, Spark, the Spark Logo, Apache Iceberg, Iceberg, and the Apache Iceberg logo are trademarks of the <a href=\"https://www.apache.org/\" target=\"_blank\">Apache Software Foundation</a>.<br/><br/><a href=\"https://databricks.com/privacy-policy\" target=\"_blank\">Privacy Policy</a> | <a href=\"https://databricks.com/terms-of-use\" target=\"_blank\">Terms of Use</a> | <a href=\"https://help.databricks.com/\" target=\"_blank\">Support</a>"
   ]
  }
 ],
 "metadata": {
  "application/vnd.databricks.v1+notebook": {
   "computePreferences": {
    "hardware": {
     "accelerator": null,
     "gpuPoolId": null,
     "memory": null
    }
   },
   "dashboards": [],
   "environmentMetadata": null,
   "inputWidgetPreferences": null,
   "language": "sql",
   "notebookMetadata": {
    "mostRecentlyExecutedCommandWithImplicitDF": {
     "commandId": 7874032735794154,
     "dataframes": [
      "_sqldf"
     ]
    },
    "pythonIndentUnit": 4
   },
   "notebookName": "3.1 DEMO Cross Cloud Replication with Cloudflare R2",
   "widgets": {}
  },
  "language_info": {
   "name": "sql"
  }
 },
 "nbformat": 4,
 "nbformat_minor": 0
}
