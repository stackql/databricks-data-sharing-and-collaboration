{
  "cells": [
    {
      "cell_type": "markdown",
      "metadata": {},
      "source": [
        "\n",
        "<div style=\"text-align: center; line-height: 0; padding-top: 9px;\">\n",
        "  <img\n",
        "    src=\"https://databricks.com/wp-content/uploads/2018/03/db-academy-rgb-1200px.png\"\n",
        "    alt=\"Databricks Learning\"\n",
        "  >\n",
        "</div>"
      ]
    },
    {
      "cell_type": "markdown",
      "metadata": {},
      "source": [
        "# 3.1 DEMO: Cross Cloud Replication with Cloudflare R2 \\[Recipient]\n",
        "\n",
        "## Overview\n",
        "This demo showcases how recipients access replicated data from Cloudflare R2 storage, providing low-latency, cost-effective access without dependency on the provider's workspace availability.\n",
        "\n",
        "## Learning Objectives\n",
        "By the end of this demo, you will understand:\n",
        "1. How cross-cloud replication works with Cloudflare R2\n",
        "2. Benefits of using R2 for Delta Sharing\n",
        "3. How to access replicated data as a recipient\n",
        "4. Performance characteristics of R2-based shares\n",
        "\n",
        "## What is Cloudflare R2?\n",
        "Cloudflare R2 is an object storage service that provides:\n",
        "- **Zero egress fees**: No charges for data transfer out\n",
        "- **S3-compatible API**: Works seamlessly with Delta Sharing\n",
        "- **Global distribution**: Low-latency access worldwide\n",
        "- **Cost-effective**: Reduced storage and bandwidth costs"
      ]
    },
    {
      "cell_type": "markdown",
      "metadata": {},
      "source": [
        "## Architecture Overview\n",
        "\n",
        "In this cross-cloud replication scenario:\n",
        "\n",
        "```\n",
        "Provider (AWS/Azure/GCP)\n",
        "    ↓\n",
        "    ↓ Replicates Delta tables\n",
        "    ↓\n",
        "Cloudflare R2 Storage\n",
        "    ↓\n",
        "    ↓ Delta Sharing Protocol\n",
        "    ↓\n",
        "Recipients (Any Cloud/On-Premises)\n",
        "```\n",
        "\n",
        "**Key Benefits:**\n",
        "- Recipients don't depend on provider's workspace\n",
        "- Lower egress costs with R2's zero-egress pricing\n",
        "- Improved performance with global CDN\n",
        "- Provider maintains full control over shared data"
      ]
    },
    {
      "cell_type": "markdown",
      "metadata": {},
      "source": [
        "## Setup\n",
        "\n",
        "Run the setup script to configure the demo environment."
      ]
    },
    {
      "cell_type": "code",
      "execution_count": null,
      "metadata": {},
      "outputs": [],
      "source": [
        "%run ./Includes/Setup-R2-Demo"
      ]
    },
    {
      "cell_type": "markdown",
      "metadata": {},
      "source": [
        "## Step 1: Verify Provider Configuration\n",
        "\n",
        "First, let's verify that the provider has been configured with R2 storage replication."
      ]
    },
    {
      "cell_type": "code",
      "execution_count": null,
      "metadata": {},
      "outputs": [],
      "source": [
        "-- List all available providers\n",
        "SHOW PROVIDERS"
      ]
    },
    {
      "cell_type": "code",
      "execution_count": null,
      "metadata": {},
      "outputs": [],
      "source": [
        "-- Describe the R2-enabled provider\n",
        "-- Replace 'r2_provider' with your actual provider name\n",
        "DESCRIBE PROVIDER r2_provider"
      ]
    },
    {
      "cell_type": "markdown",
      "metadata": {},
      "source": [
        "**Expected Output:**\n",
        "You should see information about the provider including:\n",
        "- Provider name\n",
        "- Storage configuration (R2)\n",
        "- Region information\n",
        "- Authentication method"
      ]
    },
    {
      "cell_type": "markdown",
      "metadata": {},
      "source": [
        "## Step 2: Discover Available Shares\n",
        "\n",
        "Let's see what shares are available from the R2-backed provider."
      ]
    },
    {
      "cell_type": "code",
      "execution_count": null,
      "metadata": {},
      "outputs": [],
      "source": [
        "-- List shares from the R2 provider\n",
        "SHOW SHARES IN PROVIDER r2_provider"
      ]
    },
    {
      "cell_type": "markdown",
      "metadata": {},
      "source": [
        "## Step 3: Mount the R2-Backed Share\n",
        "\n",
        "Now we'll mount the share to access the replicated data from Cloudflare R2."
      ]
    },
    {
      "cell_type": "code",
      "execution_count": null,
      "metadata": {},
      "outputs": [],
      "source": [
        "-- Create a catalog from the R2-backed share\n",
        "CREATE CATALOG IF NOT EXISTS r2_replicated_data\n",
        "USING SHARE r2_provider.global_sales_share"
      ]
    },
    {
      "cell_type": "code",
      "execution_count": null,
      "metadata": {},
      "outputs": [],
      "source": [
        "-- Verify the catalog was created\n",
        "DESCRIBE CATALOG r2_replicated_data"
      ]
    },
    {
      "cell_type": "markdown",
      "metadata": {},
      "source": [
        "## Step 4: Explore the Replicated Data\n",
        "\n",
        "Let's explore the structure of the data replicated to R2."
      ]
    },
    {
      "cell_type": "code",
      "execution_count": null,
      "metadata": {},
      "outputs": [],
      "source": [
        "-- List schemas in the replicated catalog\n",
        "SHOW SCHEMAS IN r2_replicated_data"
      ]
    },
    {
      "cell_type": "code",
      "execution_count": null,
      "metadata": {},
      "outputs": [],
      "source": [
        "-- List tables in the sales schema\n",
        "SHOW TABLES IN r2_replicated_data.sales"
      ]
    },
    {
      "cell_type": "code",
      "execution_count": null,
      "metadata": {},
      "outputs": [],
      "source": [
        "-- Examine the structure of the transactions table\n",
        "DESCRIBE TABLE r2_replicated_data.sales.transactions"
      ]
    },
    {
      "cell_type": "markdown",
      "metadata": {},
      "source": [
        "## Step 5: Query Replicated Data\n",
        "\n",
        "Now let's query the data served from Cloudflare R2. Notice that the query experience is identical to querying data from any other Delta Sharing source."
      ]
    },
    {
      "cell_type": "code",
      "execution_count": null,
      "metadata": {},
      "outputs": [],
      "source": [
        "-- Query sample data from R2\n",
        "SELECT *\n",
        "FROM r2_replicated_data.sales.transactions\n",
        "LIMIT 10"
      ]
    },
    {
      "cell_type": "code",
      "execution_count": null,
      "metadata": {},
      "outputs": [],
      "source": [
        "-- Perform aggregation on replicated data\n",
        "SELECT \n",
        "  region,\n",
        "  COUNT(*) AS transaction_count,\n",
        "  ROUND(SUM(amount), 2) AS total_sales,\n",
        "  ROUND(AVG(amount), 2) AS avg_transaction_value\n",
        "FROM r2_replicated_data.sales.transactions\n",
        "GROUP BY region\n",
        "ORDER BY total_sales DESC"
      ]
    },
    {
      "cell_type": "code",
      "execution_count": null,
      "metadata": {},
      "outputs": [],
      "source": [
        "-- Time-series analysis\n",
        "SELECT \n",
        "  DATE_TRUNC('month', transaction_date) AS month,\n",
        "  COUNT(*) AS transactions,\n",
        "  ROUND(SUM(amount), 2) AS revenue\n",
        "FROM r2_replicated_data.sales.transactions\n",
        "WHERE transaction_date >= '2024-01-01'\n",
        "GROUP BY DATE_TRUNC('month', transaction_date)\n",
        "ORDER BY month"
      ]
    },
    {
      "cell_type": "markdown",
      "metadata": {},
      "source": [
        "## Step 6: Performance Comparison\n",
        "\n",
        "Let's compare query performance with R2 vs. traditional cloud storage."
      ]
    },
    {
      "cell_type": "code",
      "execution_count": null,
      "metadata": {},
      "outputs": [],
      "source": [
        "-- Run a complex analytical query\n",
        "-- Note the execution time\n",
        "SELECT \n",
        "  region,\n",
        "  product_category,\n",
        "  COUNT(DISTINCT customer_id) AS unique_customers,\n",
        "  COUNT(*) AS total_transactions,\n",
        "  ROUND(SUM(amount), 2) AS total_revenue,\n",
        "  ROUND(AVG(amount), 2) AS avg_order_value,\n",
        "  PERCENTILE_CONT(0.5) WITHIN GROUP (ORDER BY amount) AS median_order_value\n",
        "FROM r2_replicated_data.sales.transactions\n",
        "GROUP BY region, product_category\n",
        "ORDER BY total_revenue DESC"
      ]
    },
    {
      "cell_type": "markdown",
      "metadata": {},
      "source": [
        "**Performance Benefits with R2:**\n",
        "- Lower latency due to global CDN\n",
        "- No egress charges for data transfer\n",
        "- Independent of provider's compute resources\n",
        "- Consistent performance regardless of provider's load"
      ]
    },
    {
      "cell_type": "markdown",
      "metadata": {},
      "source": [
        "## Step 7: Join with Local Data\n",
        "\n",
        "One powerful feature is the ability to join R2-replicated data with your local data."
      ]
    },
    {
      "cell_type": "code",
      "execution_count": null,
      "metadata": {},
      "outputs": [],
      "source": [
        "-- Example: Join replicated transactions with local customer data\n",
        "-- Assuming you have a local customers table\n",
        "\n",
        "-- First, let's create a sample local customers table for demo\n",
        "CREATE OR REPLACE TABLE main.default.local_customers AS\n",
        "SELECT \n",
        "  customer_id,\n",
        "  'Premium' AS customer_tier,\n",
        "  CASE \n",
        "    WHEN customer_id % 3 = 0 THEN 'Email'\n",
        "    WHEN customer_id % 3 = 1 THEN 'Phone'\n",
        "    ELSE 'SMS'\n",
        "  END AS preferred_contact\n",
        "FROM r2_replicated_data.sales.transactions\n",
        "GROUP BY customer_id"
      ]
    },
    {
      "cell_type": "code",
      "execution_count": null,
      "metadata": {},
      "outputs": [],
      "source": [
        "-- Join replicated data with local data\n",
        "SELECT \n",
        "  t.customer_id,\n",
        "  c.customer_tier,\n",
        "  c.preferred_contact,\n",
        "  COUNT(*) AS purchase_count,\n",
        "  ROUND(SUM(t.amount), 2) AS total_spend\n",
        "FROM r2_replicated_data.sales.transactions t\n",
        "JOIN main.default.local_customers c\n",
        "  ON t.customer_id = c.customer_id\n",
        "GROUP BY t.customer_id, c.customer_tier, c.preferred_contact\n",
        "ORDER BY total_spend DESC\n",
        "LIMIT 20"
      ]
    },
    {
      "cell_type": "markdown",
      "metadata": {},
      "source": [
        "## Step 8: Monitor Data Freshness\n",
        "\n",
        "With R2 replication, it's important to understand data freshness. Let's check when the data was last updated."
      ]
    },
    {
      "cell_type": "code",
      "execution_count": null,
      "metadata": {},
      "outputs": [],
      "source": [
        "-- Check table metadata\n",
        "DESCRIBE DETAIL r2_replicated_data.sales.transactions"
      ]
    },
    {
      "cell_type": "markdown",
      "metadata": {},
      "source": [
        "**Understanding Replication Lag:**\n",
        "- R2 replication is typically near real-time\n",
        "- Provider controls replication frequency\n",
        "- Check `lastModified` timestamp in metadata\n",
        "- SLA depends on provider's configuration"
      ]
    },
    {
      "cell_type": "markdown",
      "metadata": {},
      "source": [
        "## Step 9: Cost Analysis\n",
        "\n",
        "Let's understand the cost benefits of R2-based Delta Sharing."
      ]
    },
    {
      "cell_type": "code",
      "execution_count": null,
      "metadata": {},
      "outputs": [],
      "source": [
        "-- Estimate data volume accessed\n",
        "SELECT \n",
        "  COUNT(*) AS total_records,\n",
        "  ROUND(SUM(size_bytes) / (1024 * 1024 * 1024), 2) AS estimated_gb\n",
        "FROM (\n",
        "  SELECT \n",
        "    *,\n",
        "    1024 AS size_bytes -- Estimated average row size\n",
        "  FROM r2_replicated_data.sales.transactions\n",
        ")"
      ]
    },
    {
      "cell_type": "markdown",
      "metadata": {},
      "source": [
        "**R2 Cost Advantages:**\n",
        "\n",
        "| Feature | Traditional Cloud Storage | Cloudflare R2 |\n",
        "|---------|---------------------------|---------------|\n",
        "| Storage Cost | $0.023/GB/month | $0.015/GB/month |\n",
        "| Egress Cost | $0.09/GB | **$0.00/GB** |\n",
        "| API Calls | Varies | Very low cost |\n",
        "\n",
        "**Example Savings:**\n",
        "- 1TB of shared data\n",
        "- 10TB monthly egress\n",
        "- Traditional: ~$920/month\n",
        "- R2: ~$15/month\n",
        "- **Savings: ~$900/month or 98%**"
      ]
    },
    {
      "cell_type": "markdown",
      "metadata": {},
      "source": [
        "## Step 10: Best Practices\n",
        "\n",
        "Here are best practices for working with R2-replicated shares:"
      ]
    },
    {
      "cell_type": "code",
      "execution_count": null,
      "metadata": {},
      "outputs": [],
      "source": [
        "-- 1. Cache frequently accessed data locally\n",
        "CREATE OR REPLACE TABLE main.default.cached_top_products AS\n",
        "SELECT \n",
        "  product_category,\n",
        "  COUNT(*) AS sales_count,\n",
        "  ROUND(SUM(amount), 2) AS total_revenue\n",
        "FROM r2_replicated_data.sales.transactions\n",
        "WHERE transaction_date >= CURRENT_DATE - INTERVAL '30' DAY\n",
        "GROUP BY product_category"
      ]
    },
    {
      "cell_type": "code",
      "execution_count": null,
      "metadata": {},
      "outputs": [],
      "source": [
        "-- 2. Use partition pruning for efficiency\n",
        "SELECT *\n",
        "FROM r2_replicated_data.sales.transactions\n",
        "WHERE transaction_date = '2024-10-21'  -- Specific date for partition pruning\n",
        "LIMIT 100"
      ]
    },
    {
      "cell_type": "code",
      "execution_count": null,
      "metadata": {},
      "outputs": [],
      "source": [
        "-- 3. Create materialized views for complex queries\n",
        "CREATE OR REPLACE VIEW main.default.regional_sales_summary AS\n",
        "SELECT \n",
        "  region,\n",
        "  DATE_TRUNC('day', transaction_date) AS date,\n",
        "  COUNT(*) AS transactions,\n",
        "  ROUND(SUM(amount), 2) AS revenue\n",
        "FROM r2_replicated_data.sales.transactions\n",
        "GROUP BY region, DATE_TRUNC('day', transaction_date)"
      ]
    },
    {
      "cell_type": "markdown",
      "metadata": {},
      "source": [
        "## Step 11: Troubleshooting\n",
        "\n",
        "Common issues and solutions when working with R2-backed shares:"
      ]
    },
    {
      "cell_type": "code",
      "execution_count": null,
      "metadata": {},
      "outputs": [],
      "source": [
        "-- Check if the share is accessible\n",
        "SELECT COUNT(*) AS row_count\n",
        "FROM r2_replicated_data.sales.transactions\n",
        "LIMIT 1"
      ]
    },
    {
      "cell_type": "markdown",
      "metadata": {},
      "source": [
        "**Common Issues:**\n",
        "\n",
        "1. **Connection Timeout**: R2 is globally distributed, but some regions may have higher latency\n",
        "   - Solution: Contact provider about replication to closer regions\n",
        "\n",
        "2. **Stale Data**: Data seems outdated\n",
        "   - Solution: Check replication schedule with provider\n",
        "   - Run `DESCRIBE DETAIL` to see last modification time\n",
        "\n",
        "3. **Permission Denied**: Can't access certain tables\n",
        "   - Solution: Verify with provider that share includes desired tables\n",
        "   - Run `SHOW TABLES` to see what's available\n",
        "\n",
        "4. **Slow Query Performance**: Queries taking longer than expected\n",
        "   - Solution: Use partition pruning\n",
        "   - Cache frequently accessed data locally\n",
        "   - Check query execution plan"
      ]
    },
    {
      "cell_type": "markdown",
      "metadata": {},
      "source": [
        "## Cleanup\n",
        "\n",
        "When you're done with the demo, you can clean up the resources."
      ]
    },
    {
      "cell_type": "code",
      "execution_count": null,
      "metadata": {},
      "outputs": [],
      "source": [
        "-- Uncomment to drop the catalog when finished\n",
        "-- DROP CATALOG IF EXISTS r2_replicated_data;\n",
        "\n",
        "-- Uncomment to drop local test tables\n",
        "-- DROP TABLE IF EXISTS main.default.local_customers;\n",
        "-- DROP TABLE IF EXISTS main.default.cached_top_products;\n",
        "-- DROP VIEW IF EXISTS main.default.regional_sales_summary;"
      ]
    },
    {
      "cell_type": "markdown",
      "metadata": {},
      "source": [
        "## Summary\n",
        "\n",
        "In this demo, you learned:\n",
        "\n",
        "✅ **Architecture**: How Cloudflare R2 fits into Delta Sharing architecture\n",
        "✅ **Setup**: How to mount and access R2-backed shares\n",
        "✅ **Querying**: Standard SQL queries work seamlessly with R2 data\n",
        "✅ **Performance**: R2 provides low-latency, globally distributed access\n",
        "✅ **Cost**: Significant savings with zero egress fees\n",
        "✅ **Integration**: Easy to join with local data\n",
        "✅ **Best Practices**: Caching, partition pruning, and monitoring\n",
        "\n",
        "## Key Takeaways\n",
        "\n",
        "1. **Zero Egress Costs**: R2 eliminates expensive data transfer fees\n",
        "2. **Global Performance**: CDN ensures low latency worldwide\n",
        "3. **Provider Independence**: Recipients aren't affected by provider downtime\n",
        "4. **Seamless Integration**: Works with standard Delta Sharing protocol\n",
        "5. **Cost-Effective Scaling**: Share data with unlimited recipients economically\n",
        "\n",
        "## Use Cases\n",
        "\n",
        "**Ideal for:**\n",
        "- High-volume data sharing with many recipients\n",
        "- Global data distribution\n",
        "- Cost-sensitive sharing scenarios\n",
        "- Public data sets\n",
        "- SaaS platforms sharing data with customers\n",
        "\n",
        "**Not ideal for:**\n",
        "- Real-time streaming requirements (slight replication lag)\n",
        "- Scenarios requiring write access (Delta Sharing is read-only)\n",
        "- Very frequently updated data (consider direct sharing)\n",
        "\n",
        "## Next Steps\n",
        "\n",
        "1. Explore fine-grained access control with Dynamic Views\n",
        "2. Learn about Change Data Feed for tracking updates\n",
        "3. Implement monitoring and governance best practices\n",
        "4. Consider hybrid approaches combining direct and replicated sharing"
      ]
    },
    {
      "cell_type": "markdown",
      "metadata": {},
      "source": [
        "---\n",
        "&copy; 2025 Databricks, Inc. All rights reserved. Apache, Apache Spark, Spark, the Spark Logo, Apache Iceberg, Iceberg, and the Apache Iceberg logo are trademarks of the <a href=\"https://www.apache.org/\" target=\"_blank\">Apache Software Foundation</a>.<br/><br/><a href=\"https://databricks.com/privacy-policy\" target=\"_blank\">Privacy Policy</a> | <a href=\"https://databricks.com/terms-of-use\" target=\"_blank\">Terms of Use</a> | <a href=\"https://help.databricks.com/\" target=\"_blank\">Support</a>"
      ]
    }
  ],
  "metadata": {
    "application/vnd.databricks.v1+notebook": {
      "computePreferences": null,
      "dashboards": [],
      "environmentMetadata": null,
      "language": "sql",
      "notebookMetadata": {
        "pythonIndentUnit": 4
      },
      "notebookName": "3.1 DEMO Cross Cloud Replication with Cloudflare R2",
      "widgets": {}
    },
    "language_info": {
      "name": "sql"
    }
  },
  "nbformat": 4,
  "nbformat_minor": 0
}
