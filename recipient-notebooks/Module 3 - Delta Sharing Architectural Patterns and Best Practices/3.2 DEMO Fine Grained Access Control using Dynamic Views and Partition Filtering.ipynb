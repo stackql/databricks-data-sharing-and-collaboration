{
  "cells": [
    {
      "cell_type": "markdown",
      "metadata": {},
      "source": [
        "\n",
        "<div style=\"text-align: center; line-height: 0; padding-top: 9px;\">\n",
        "  <img\n",
        "    src=\"https://databricks.com/wp-content/uploads/2018/03/db-academy-rgb-1200px.png\"\n",
        "    alt=\"Databricks Learning\"\n",
        "  >\n",
        "</div>"
      ]
    },
    {
      "cell_type": "markdown",
      "metadata": {},
      "source": [
        "# 3.2 DEMO: Fine Grained Access Control using Dynamic Views and Partition Filtering \\[Recipient]\n",
        "\n",
        "## Overview\n",
        "This demo demonstrates how recipients experience different views of the same data based on dynamic access controls. You'll see how:\n",
        "\n",
        "- Row-level security filters data based on recipient identity\n",
        "- Column-level masking protects sensitive information\n",
        "- Partition filtering restricts regional or classification access\n",
        "- Data transformations provide appropriate aggregation levels\n",
        "\n",
        "**Provider Notebook:** Created source data with comprehensive security controls, dynamic views, and recipient-specific filtering.\n",
        "\n",
        "**Recipient Notebook (This Notebook):** Access shared data as different recipient types and observe how the same underlying dataset appears differently based on access controls."
      ]
    },
    {
      "cell_type": "markdown",
      "metadata": {},
      "source": [
        "### Learning Objectives\n",
        "By the end of this demo, you will be able to:\n",
        "1. Mount and query shared data with dynamic access controls\n",
        "2. Understand how recipient identity affects data visibility\n",
        "3. Observe data masking and anonymization in action\n",
        "4. Compare different access levels across recipient types\n",
        "5. Analyze the impact of security controls on analytics workflows\n",
        "6. Implement recipient-side data governance practices"
      ]
    },
    {
      "cell_type": "markdown",
      "metadata": {},
      "source": [
        "## Background\n",
        "\n",
        "**Scenario:**\n",
        "You represent different types of organizations receiving customer data from SecureBank Corp:\n",
        "\n",
        "1. **Regional Partner** (NA/EU/APAC): Analytics partner focused on specific geographic markets\n",
        "2. **Marketing Agency**: Demographic insights without sensitive financial data\n",
        "3. **Risk Analytics Firm**: Financial patterns with anonymized customer information\n",
        "4. **Compliance Auditor**: Full access for regulatory oversight\n",
        "\n",
        "Each persona will mount different shares and observe how the data appears with varying levels of detail and protection."
      ]
    },
    {
      "cell_type": "markdown",
      "metadata": {},
      "source": [
        "## Setup\n",
        "\n",
        "Run the setup script to configure the demo environment."
      ]
    },
    {
      "cell_type": "code",
      "execution_count": null,
      "metadata": {},
      "outputs": [],
      "source": [
        "%run ./Includes/Demo-Setup-3.2"
      ]
    },
    {
      "cell_type": "markdown",
      "metadata": {},
      "source": [
        "## Step 1: Regional Partner Access (North America)\n",
        "\n",
        "As a North America regional partner, you'll see customer data filtered to your geographic region with full PII and financial access."
      ]
    },
    {
      "cell_type": "code",
      "execution_count": null,
      "metadata": {},
      "outputs": [],
      "source": [
        "-- Create catalog for regional partner access\n",
        "CREATE CATALOG IF NOT EXISTS na_partner_analytics\n",
        "COMMENT 'North America regional partner analytics catalog';\n",
        "\n",
        "USE CATALOG na_partner_analytics;\n",
        "\n",
        "CREATE SCHEMA IF NOT EXISTS customer_insights\n",
        "COMMENT 'Customer insights for North America region';\n",
        "\n",
        "USE SCHEMA customer_insights;"
      ]
    },
    {
      "cell_type": "code",
      "execution_count": null,
      "metadata": {},
      "outputs": [],
      "source": [
        "-- Mount the regional customer share\n",
        "CREATE CATALOG IF NOT EXISTS na_regional_customers\n",
        "USING SHARE secure_bank_provider.regional_customer_data\n",
        "COMMENT 'Regional customer data shared by SecureBank';\n",
        "\n",
        "-- Verify the mounted share\n",
        "SHOW SCHEMAS IN na_regional_customers;"
      ]
    },
    {
      "cell_type": "code",
      "execution_count": null,
      "metadata": {},
      "outputs": [],
      "source": [
        "-- Explore regional customer data\n",
        "-- Note: This would show only North America customers when accessed as 'na_partner'\n",
        "SELECT * \n",
        "FROM na_regional_customers.customer_data.regional_customers_view\n",
        "LIMIT 10;"
      ]
    },
    {
      "cell_type": "markdown",
      "metadata": {},
      "source": [
        "**Observation:** Notice that you can see:\n",
        "- Full customer names\n",
        "- Email addresses\n",
        "- Phone numbers\n",
        "- Account balances\n",
        "- Credit scores\n",
        "- But ONLY for North America region"
      ]
    },
    {
      "cell_type": "code",
      "execution_count": null,
      "metadata": {},
      "outputs": [],
      "source": [
        "-- Regional customer analytics\n",
        "SELECT \n",
        "    region,\n",
        "    country,\n",
        "    COUNT(*) as customer_count,\n",
        "    ROUND(AVG(account_balance), 2) as avg_balance,\n",
        "    ROUND(AVG(credit_score), 2) as avg_credit_score,\n",
        "    COUNT(CASE WHEN is_vip THEN 1 END) as vip_customers\n",
        "FROM na_regional_customers.customer_data.regional_customers_view\n",
        "GROUP BY region, country\n",
        "ORDER BY customer_count DESC;"
      ]
    },
    {
      "cell_type": "code",
      "execution_count": null,
      "metadata": {},
      "outputs": [],
      "source": [
        "-- Transaction analysis for regional customers\n",
        "SELECT \n",
        "    DATE(transaction_date) as transaction_date,\n",
        "    COUNT(*) as transaction_count,\n",
        "    ROUND(SUM(amount), 2) as total_amount,\n",
        "    ROUND(AVG(amount), 2) as avg_amount,\n",
        "    COUNT(DISTINCT customer_id) as unique_customers\n",
        "FROM na_regional_customers.customer_data.regional_transactions_view\n",
        "WHERE transaction_date >= CURRENT_DATE - INTERVAL 30 DAYS\n",
        "GROUP BY DATE(transaction_date)\n",
        "ORDER BY transaction_date DESC\n",
        "LIMIT 10;"
      ]
    },
    {
      "cell_type": "markdown",
      "metadata": {},
      "source": [
        "## Step 2: Marketing Agency Access\n",
        "\n",
        "As a marketing agency, you'll see demographics and behavior patterns without sensitive PII or financial data."
      ]
    },
    {
      "cell_type": "code",
      "execution_count": null,
      "metadata": {},
      "outputs": [],
      "source": [
        "-- Create catalog for marketing agency access\n",
        "CREATE CATALOG IF NOT EXISTS marketing_insights\n",
        "USING SHARE secure_bank_provider.marketing_safe_data\n",
        "COMMENT 'Marketing-safe customer demographics';\n",
        "\n",
        "-- Explore marketing data structure\n",
        "DESCRIBE EXTENDED marketing_insights.customer_data.marketing_customers_view;"
      ]
    },
    {
      "cell_type": "code",
      "execution_count": null,
      "metadata": {},
      "outputs": [],
      "source": [
        "-- View marketing-safe customer data\n",
        "SELECT * \n",
        "FROM marketing_insights.customer_data.marketing_customers_view\n",
        "LIMIT 10;"
      ]
    },
    {
      "cell_type": "markdown",
      "metadata": {},
      "source": [
        "**Observation:** Notice the data transformations:\n",
        "- No SSN or phone numbers visible\n",
        "- Email addresses are masked (e.g., j***@example.com)\n",
        "- Exact dates of birth replaced with age groups (18-25, 26-35, etc.)\n",
        "- Account balances replaced with tiers (Bronze, Silver, Gold, Platinum)\n",
        "- Credit scores not visible\n",
        "- Customer IDs are hashed for anonymity"
      ]
    },
    {
      "cell_type": "code",
      "execution_count": null,
      "metadata": {},
      "outputs": [],
      "source": [
        "-- Marketing demographic analysis\n",
        "SELECT \n",
        "    region,\n",
        "    age_group,\n",
        "    account_tier,\n",
        "    COUNT(*) as customer_count,\n",
        "    COUNT(CASE WHEN is_vip THEN 1 END) as vip_customers,\n",
        "    ROUND(COUNT(CASE WHEN is_vip THEN 1 END) * 100.0 / COUNT(*), 2) as vip_percentage\n",
        "FROM marketing_insights.customer_data.marketing_customers_view\n",
        "GROUP BY region, age_group, account_tier\n",
        "ORDER BY region, age_group, customer_count DESC;"
      ]
    },
    {
      "cell_type": "code",
      "execution_count": null,
      "metadata": {},
      "outputs": [],
      "source": [
        "-- Campaign effectiveness analysis\n",
        "SELECT \n",
        "    region,\n",
        "    account_tier,\n",
        "    COUNT(*) as total_customers,\n",
        "    COUNT(CASE WHEN last_activity >= CURRENT_DATE - INTERVAL 30 DAYS THEN 1 END) as active_last_30_days,\n",
        "    ROUND(COUNT(CASE WHEN last_activity >= CURRENT_DATE - INTERVAL 30 DAYS THEN 1 END) * 100.0 / COUNT(*), 2) as activity_rate\n",
        "FROM marketing_insights.customer_data.marketing_customers_view\n",
        "GROUP BY region, account_tier\n",
        "ORDER BY activity_rate DESC;"
      ]
    },
    {
      "cell_type": "markdown",
      "metadata": {},
      "source": [
        "## Step 3: Risk Analytics Firm Access\n",
        "\n",
        "As a risk analytics firm, you'll see financial patterns and credit information but with customer identities anonymized."
      ]
    },
    {
      "cell_type": "code",
      "execution_count": null,
      "metadata": {},
      "outputs": [],
      "source": [
        "-- Mount risk analytics share\n",
        "CREATE CATALOG IF NOT EXISTS risk_analytics_data\n",
        "USING SHARE secure_bank_provider.risk_analytics_share\n",
        "COMMENT 'Risk analytics with anonymized customer data';\n",
        "\n",
        "-- Explore the risk data structure\n",
        "SHOW TABLES IN risk_analytics_data.financial_data;"
      ]
    },
    {
      "cell_type": "code",
      "execution_count": null,
      "metadata": {},
      "outputs": [],
      "source": [
        "-- View anonymized customer financial data\n",
        "SELECT * \n",
        "FROM risk_analytics_data.financial_data.risk_customers_view\n",
        "LIMIT 10;"
      ]
    },
    {
      "cell_type": "markdown",
      "metadata": {},
      "source": [
        "**Observation:** Risk analytics view shows:\n",
        "- Anonymized customer IDs (hashed)\n",
        "- No PII (names, emails, phone numbers, SSN)\n",
        "- Full financial data (account balances, credit scores)\n",
        "- Transaction patterns\n",
        "- Risk indicators\n",
        "- Geographic region (for regional risk analysis)"
      ]
    },
    {
      "cell_type": "code",
      "execution_count": null,
      "metadata": {},
      "outputs": [],
      "source": [
        "-- Credit risk segmentation\n",
        "SELECT \n",
        "    CASE \n",
        "        WHEN credit_score >= 750 THEN 'Excellent (750+)'\n",
        "        WHEN credit_score >= 700 THEN 'Good (700-749)'\n",
        "        WHEN credit_score >= 650 THEN 'Fair (650-699)'\n",
        "        WHEN credit_score >= 600 THEN 'Poor (600-649)'\n",
        "        ELSE 'Very Poor (<600)'\n",
        "    END as credit_category,\n",
        "    COUNT(*) as customer_count,\n",
        "    ROUND(AVG(account_balance), 2) as avg_balance,\n",
        "    ROUND(MIN(account_balance), 2) as min_balance,\n",
        "    ROUND(MAX(account_balance), 2) as max_balance,\n",
        "    ROUND(STDDEV(account_balance), 2) as balance_stddev\n",
        "FROM risk_analytics_data.financial_data.risk_customers_view\n",
        "GROUP BY credit_category\n",
        "ORDER BY MIN(credit_score) DESC;"
      ]
    },
    {
      "cell_type": "code",
      "execution_count": null,
      "metadata": {},
      "outputs": [],
      "source": [
        "-- Transaction pattern analysis\n",
        "SELECT \n",
        "    anonymized_customer_id,\n",
        "    COUNT(*) as transaction_count,\n",
        "    ROUND(SUM(amount), 2) as total_amount,\n",
        "    ROUND(AVG(amount), 2) as avg_transaction,\n",
        "    ROUND(MAX(amount), 2) as max_transaction,\n",
        "    DATEDIFF(MAX(transaction_date), MIN(transaction_date)) as days_active\n",
        "FROM risk_analytics_data.financial_data.risk_transactions_view\n",
        "GROUP BY anonymized_customer_id\n",
        "ORDER BY total_amount DESC\n",
        "LIMIT 20;"
      ]
    },
    {
      "cell_type": "code",
      "execution_count": null,
      "metadata": {},
      "outputs": [],
      "source": [
        "-- Risk scoring by region and balance tier\n",
        "SELECT \n",
        "    region,\n",
        "    CASE \n",
        "        WHEN account_balance >= 100000 THEN 'High Net Worth'\n",
        "        WHEN account_balance >= 50000 THEN 'Upper Middle'\n",
        "        WHEN account_balance >= 25000 THEN 'Middle'\n",
        "        WHEN account_balance >= 10000 THEN 'Lower Middle'\n",
        "        ELSE 'Entry Level'\n",
        "    END as wealth_segment,\n",
        "    COUNT(*) as customers,\n",
        "    ROUND(AVG(credit_score), 2) as avg_credit_score,\n",
        "    COUNT(CASE WHEN credit_score < 650 THEN 1 END) as at_risk_customers,\n",
        "    ROUND(COUNT(CASE WHEN credit_score < 650 THEN 1 END) * 100.0 / COUNT(*), 2) as risk_percentage\n",
        "FROM risk_analytics_data.financial_data.risk_customers_view\n",
        "GROUP BY region, wealth_segment\n",
        "ORDER BY region, MIN(account_balance) DESC;"
      ]
    },
    {
      "cell_type": "markdown",
      "metadata": {},
      "source": [
        "## Step 4: Compliance Auditor Access\n",
        "\n",
        "As a compliance auditor, you have the highest level of access for regulatory oversight purposes."
      ]
    },
    {
      "cell_type": "code",
      "execution_count": null,
      "metadata": {},
      "outputs": [],
      "source": [
        "-- Mount compliance auditor share\n",
        "CREATE CATALOG IF NOT EXISTS compliance_audit_data\n",
        "USING SHARE secure_bank_provider.compliance_full_access\n",
        "COMMENT 'Full access for compliance and regulatory audit';\n",
        "\n",
        "-- Explore audit data structure\n",
        "SHOW SCHEMAS IN compliance_audit_data;"
      ]
    },
    {
      "cell_type": "code",
      "execution_count": null,
      "metadata": {},
      "outputs": [],
      "source": [
        "-- View full customer data with all PII and financial information\n",
        "SELECT * \n",
        "FROM compliance_audit_data.audit_data.full_customer_view\n",
        "LIMIT 5;"
      ]
    },
    {
      "cell_type": "markdown",
      "metadata": {},
      "source": [
        "**Observation:** Compliance view provides:\n",
        "- Complete PII (names, SSN, DOB, contact info)\n",
        "- Full financial data (balances, credit scores)\n",
        "- All regions and countries\n",
        "- Audit trails and timestamps\n",
        "- Data quality indicators\n",
        "- Regulatory compliance flags"
      ]
    },
    {
      "cell_type": "code",
      "execution_count": null,
      "metadata": {},
      "outputs": [],
      "source": [
        "-- Compliance audit: Check data coverage by region\n",
        "SELECT \n",
        "    region,\n",
        "    COUNT(*) as total_customers,\n",
        "    COUNT(CASE WHEN email IS NOT NULL AND email != '' THEN 1 END) as with_email,\n",
        "    COUNT(CASE WHEN phone IS NOT NULL AND phone != '' THEN 1 END) as with_phone,\n",
        "    COUNT(CASE WHEN ssn IS NOT NULL AND ssn != '' THEN 1 END) as with_ssn,\n",
        "    ROUND(COUNT(CASE WHEN email IS NOT NULL THEN 1 END) * 100.0 / COUNT(*), 2) as email_coverage,\n",
        "    ROUND(COUNT(CASE WHEN ssn IS NOT NULL THEN 1 END) * 100.0 / COUNT(*), 2) as ssn_coverage\n",
        "FROM compliance_audit_data.audit_data.full_customer_view\n",
        "GROUP BY region\n",
        "ORDER BY total_customers DESC;"
      ]
    },
    {
      "cell_type": "code",
      "execution_count": null,
      "metadata": {},
      "outputs": [],
      "source": [
        "-- Compliance audit: Identify high-risk accounts\n",
        "SELECT \n",
        "    customer_id,\n",
        "    full_name,\n",
        "    region,\n",
        "    country,\n",
        "    credit_score,\n",
        "    account_balance,\n",
        "    last_transaction_date,\n",
        "    DATEDIFF(CURRENT_DATE, last_transaction_date) as days_inactive\n",
        "FROM compliance_audit_data.audit_data.full_customer_view\n",
        "WHERE \n",
        "    credit_score < 600\n",
        "    OR account_balance < 0\n",
        "    OR DATEDIFF(CURRENT_DATE, last_transaction_date) > 180\n",
        "ORDER BY credit_score ASC, account_balance ASC\n",
        "LIMIT 20;"
      ]
    },
    {
      "cell_type": "code",
      "execution_count": null,
      "metadata": {},
      "outputs": [],
      "source": [
        "-- Compliance audit: Large transaction monitoring\n",
        "SELECT \n",
        "    t.transaction_id,\n",
        "    c.full_name,\n",
        "    c.ssn,\n",
        "    t.amount,\n",
        "    t.transaction_date,\n",
        "    t.transaction_type,\n",
        "    c.region,\n",
        "    c.country\n",
        "FROM compliance_audit_data.audit_data.full_transactions_view t\n",
        "JOIN compliance_audit_data.audit_data.full_customer_view c\n",
        "    ON t.customer_id = c.customer_id\n",
        "WHERE t.amount > 10000\n",
        "ORDER BY t.amount DESC, t.transaction_date DESC\n",
        "LIMIT 20;"
      ]
    },
    {
      "cell_type": "markdown",
      "metadata": {},
      "source": [
        "## Step 5: Comparison of Access Levels\n",
        "\n",
        "Let's create a comparison matrix to understand what each recipient type can see."
      ]
    },
    {
      "cell_type": "markdown",
      "metadata": {},
      "source": [
        "### Access Control Matrix\n",
        "\n",
        "| Data Element | Regional Partner | Marketing Agency | Risk Analytics | Compliance Auditor |\n",
        "|--------------|-----------------|------------------|----------------|--------------------|\n",
        "| Customer ID | ✅ Original | 🔒 Hashed | 🔒 Hashed | ✅ Original |\n",
        "| Full Name | ✅ Visible | ❌ Hidden | ❌ Hidden | ✅ Visible |\n",
        "| Email | ✅ Visible | 🔒 Masked | ❌ Hidden | ✅ Visible |\n",
        "| Phone | ✅ Visible | ❌ Hidden | ❌ Hidden | ✅ Visible |\n",
        "| SSN | ❌ Hidden | ❌ Hidden | ❌ Hidden | ✅ Visible |\n",
        "| Date of Birth | ✅ Visible | 🔒 Age Group | ❌ Hidden | ✅ Visible |\n",
        "| Region | ✅ NA Only | ✅ All | ✅ All | ✅ All |\n",
        "| Account Balance | ✅ Exact | 🔒 Tier | ✅ Exact | ✅ Exact |\n",
        "| Credit Score | ✅ Visible | ❌ Hidden | ✅ Visible | ✅ Visible |\n",
        "| VIP Status | ✅ Visible | ✅ Visible | ✅ Visible | ✅ Visible |\n",
        "| Transactions | ✅ Full | 🔒 Aggregated | ✅ Full | ✅ Full |\n",
        "\n",
        "**Legend:**\n",
        "- ✅ Full access\n",
        "- 🔒 Transformed/Masked\n",
        "- ❌ No access"
      ]
    },
    {
      "cell_type": "markdown",
      "metadata": {},
      "source": [
        "## Step 6: Understanding Dynamic View Implementation\n",
        "\n",
        "Let's explore how these access controls are implemented using dynamic views."
      ]
    },
    {
      "cell_type": "code",
      "execution_count": null,
      "metadata": {},
      "outputs": [],
      "source": [
        "-- Example of what a marketing-safe view might look like (conceptual)\n",
        "-- This would be created by the provider\n",
        "\n",
        "/*\n",
        "CREATE VIEW marketing_customers_view AS\n",
        "SELECT \n",
        "    SHA2(customer_id, 256) as anonymized_id,\n",
        "    CONCAT(LEFT(first_name, 1), '***') as masked_name,\n",
        "    CONCAT(LEFT(email, 1), '***@', SPLIT(email, '@')[1]) as masked_email,\n",
        "    CASE \n",
        "        WHEN YEAR(CURRENT_DATE) - YEAR(date_of_birth) < 25 THEN '18-24'\n",
        "        WHEN YEAR(CURRENT_DATE) - YEAR(date_of_birth) < 35 THEN '25-34'\n",
        "        WHEN YEAR(CURRENT_DATE) - YEAR(date_of_birth) < 45 THEN '35-44'\n",
        "        WHEN YEAR(CURRENT_DATE) - YEAR(date_of_birth) < 55 THEN '45-54'\n",
        "        ELSE '55+'\n",
        "    END as age_group,\n",
        "    region,\n",
        "    country,\n",
        "    CASE \n",
        "        WHEN account_balance >= 100000 THEN 'Platinum'\n",
        "        WHEN account_balance >= 50000 THEN 'Gold'\n",
        "        WHEN account_balance >= 25000 THEN 'Silver'\n",
        "        ELSE 'Bronze'\n",
        "    END as account_tier,\n",
        "    is_vip,\n",
        "    last_activity\n",
        "FROM customers\n",
        "*/"
      ]
    },
    {
      "cell_type": "markdown",
      "metadata": {},
      "source": [
        "## Step 7: Partition Filtering in Action\n",
        "\n",
        "Partition filtering restricts data access at the storage level for efficiency."
      ]
    },
    {
      "cell_type": "code",
      "execution_count": null,
      "metadata": {},
      "outputs": [],
      "source": [
        "-- Regional partner can only query their region\n",
        "-- Attempting to query other regions returns no data\n",
        "SELECT region, COUNT(*) as count\n",
        "FROM na_regional_customers.customer_data.regional_customers_view\n",
        "GROUP BY region;\n",
        "\n",
        "-- Result: Only 'North America' appears, even if you try to filter for 'Europe'"
      ]
    },
    {
      "cell_type": "code",
      "execution_count": null,
      "metadata": {},
      "outputs": [],
      "source": [
        "-- Verify partition filtering - this returns empty for non-NA regions\n",
        "SELECT * \n",
        "FROM na_regional_customers.customer_data.regional_customers_view\n",
        "WHERE region = 'Europe'\n",
        "LIMIT 10;\n",
        "\n",
        "-- Result: Empty result set, because partition filtering prevents access"
      ]
    },
    {
      "cell_type": "markdown",
      "metadata": {},
      "source": [
        "**Key Insight:** Partition filtering happens at the storage layer, not at query time. The recipient literally cannot access data from other partitions, making it more secure than WHERE clause filtering."
      ]
    },
    {
      "cell_type": "markdown",
      "metadata": {},
      "source": [
        "## Step 8: Data Quality and Governance\n",
        "\n",
        "Recipients should implement their own governance practices on shared data."
      ]
    },
    {
      "cell_type": "code",
      "execution_count": null,
      "metadata": {},
      "outputs": [],
      "source": [
        "-- Create a local view that adds recipient-side business logic\n",
        "CREATE OR REPLACE VIEW na_partner_analytics.customer_insights.high_value_customers AS\n",
        "SELECT \n",
        "    customer_id,\n",
        "    full_name,\n",
        "    email,\n",
        "    region,\n",
        "    country,\n",
        "    account_balance,\n",
        "    credit_score,\n",
        "    is_vip,\n",
        "    CASE \n",
        "        WHEN account_balance >= 100000 AND credit_score >= 750 THEN 'Premier'\n",
        "        WHEN account_balance >= 50000 AND credit_score >= 700 THEN 'Elite'\n",
        "        WHEN account_balance >= 25000 THEN 'Preferred'\n",
        "        ELSE 'Standard'\n",
        "    END as customer_segment\n",
        "FROM na_regional_customers.customer_data.regional_customers_view\n",
        "WHERE account_balance >= 25000;"
      ]
    },
    {
      "cell_type": "code",
      "execution_count": null,
      "metadata": {},
      "outputs": [],
      "source": [
        "-- Query the recipient-side enhanced view\n",
        "SELECT \n",
        "    customer_segment,\n",
        "    COUNT(*) as customer_count,\n",
        "    ROUND(AVG(account_balance), 2) as avg_balance,\n",
        "    ROUND(AVG(credit_score), 2) as avg_credit_score\n",
        "FROM na_partner_analytics.customer_insights.high_value_customers\n",
        "GROUP BY customer_segment\n",
        "ORDER BY MIN(account_balance) DESC;"
      ]
    },
    {
      "cell_type": "markdown",
      "metadata": {},
      "source": [
        "## Step 9: Monitoring Data Freshness\n",
        "\n",
        "Recipients should monitor the freshness of shared data."
      ]
    },
    {
      "cell_type": "code",
      "execution_count": null,
      "metadata": {},
      "outputs": [],
      "source": [
        "-- Check when the shared data was last updated\n",
        "DESCRIBE DETAIL na_regional_customers.customer_data.regional_customers_view;"
      ]
    },
    {
      "cell_type": "code",
      "execution_count": null,
      "metadata": {},
      "outputs": [],
      "source": [
        "-- Monitor data volume trends\n",
        "SELECT \n",
        "    DATE_TRUNC('week', last_activity) as week,\n",
        "    COUNT(*) as active_customers,\n",
        "    COUNT(DISTINCT country) as countries_active\n",
        "FROM na_regional_customers.customer_data.regional_customers_view\n",
        "WHERE last_activity >= CURRENT_DATE - INTERVAL 90 DAYS\n",
        "GROUP BY DATE_TRUNC('week', last_activity)\n",
        "ORDER BY week DESC;"
      ]
    },
    {
      "cell_type": "markdown",
      "metadata": {},
      "source": [
        "## Step 10: Best Practices for Recipients\n",
        "\n",
        "Key best practices when working with fine-grained access controlled data:"
      ]
    },
    {
      "cell_type": "markdown",
      "metadata": {},
      "source": [
        "### Best Practices\n",
        "\n",
        "1. **Understand Your Access Level**\n",
        "   - Always verify what data you can see\n",
        "   - Document access restrictions in your code\n",
        "   - Don't assume you have complete data\n",
        "\n",
        "2. **Respect Data Masking**\n",
        "   - Don't attempt to reverse-engineer masked data\n",
        "   - Don't combine multiple masked datasets to re-identify individuals\n",
        "   - Follow privacy regulations (GDPR, CCPA, etc.)\n",
        "\n",
        "3. **Cache Appropriately**\n",
        "   - Cache aggregated results, not raw PII\n",
        "   - Set appropriate TTLs on cached data\n",
        "   - Honor data retention policies\n",
        "\n",
        "4. **Document Limitations**\n",
        "   - Document which analyses are possible with your access level\n",
        "   - Note any biases introduced by filtering\n",
        "   - Track data lineage\n",
        "\n",
        "5. **Monitor Quality**\n",
        "   - Check for data freshness\n",
        "   - Validate completeness within your scope\n",
        "   - Report issues to provider\n",
        "\n",
        "6. **Implement Recipient Governance**\n",
        "   - Apply your own security controls\n",
        "   - Create derived views with additional protection\n",
        "   - Audit access to shared data"
      ]
    },
    {
      "cell_type": "markdown",
      "metadata": {},
      "source": [
        "## Cleanup\n",
        "\n",
        "Clean up the demo resources when finished."
      ]
    },
    {
      "cell_type": "code",
      "execution_count": null,
      "metadata": {},
      "outputs": [],
      "source": [
        "-- Uncomment to drop catalogs when finished\n",
        "-- DROP CATALOG IF EXISTS na_regional_customers CASCADE;\n",
        "-- DROP CATALOG IF EXISTS marketing_insights CASCADE;\n",
        "-- DROP CATALOG IF EXISTS risk_analytics_data CASCADE;\n",
        "-- DROP CATALOG IF EXISTS compliance_audit_data CASCADE;\n",
        "-- DROP CATALOG IF EXISTS na_partner_analytics CASCADE;"
      ]
    },
    {
      "cell_type": "markdown",
      "metadata": {},
      "source": [
        "## Summary\n",
        "\n",
        "In this demo, you experienced fine-grained access control from the recipient perspective:\n",
        "\n",
        "✅ **Row-Level Security**: Regional partners saw only their geographic data\n",
        "✅ **Column-Level Masking**: Marketing agencies saw masked PII\n",
        "✅ **Data Anonymization**: Risk analysts saw financial data without identity\n",
        "✅ **Full Access Control**: Compliance auditors saw complete data\n",
        "✅ **Partition Filtering**: Storage-level restrictions prevented unauthorized access\n",
        "✅ **Dynamic Views**: Same source data, different recipient experiences\n",
        "\n",
        "## Key Takeaways\n",
        "\n",
        "1. **Flexible Security**: One dataset can serve multiple use cases securely\n",
        "2. **Automatic Enforcement**: Access controls apply automatically at query time\n",
        "3. **No Data Duplication**: Provider maintains single source of truth\n",
        "4. **Privacy by Design**: Sensitive data never leaves provider's control\n",
        "5. **Recipient Transparency**: Recipients understand their access level\n",
        "6. **Compliance Ready**: Supports regulatory requirements (GDPR, HIPAA, etc.)\n",
        "\n",
        "## Real-World Applications\n",
        "\n",
        "**Healthcare**: Share patient data with researchers (anonymized) and providers (full PII)\n",
        "\n",
        "**Financial Services**: Share transaction data with regulators (full) and analysts (anonymized)\n",
        "\n",
        "**Retail**: Share sales data with vendors (product-level) and partners (aggregated)\n",
        "\n",
        "**Government**: Share public records with citizens (redacted) and agencies (full)\n",
        "\n",
        "## Next Steps\n",
        "\n",
        "1. Learn about Change Data Feed (CDF) for tracking updates\n",
        "2. Implement custom recipient-side data quality checks\n",
        "3. Explore audit logging and monitoring\n",
        "4. Study regulatory compliance patterns"
      ]
    },
    {
      "cell_type": "markdown",
      "metadata": {},
      "source": [
        "---\n",
        "&copy; 2025 Databricks, Inc. All rights reserved. Apache, Apache Spark, Spark, the Spark Logo, Apache Iceberg, Iceberg, and the Apache Iceberg logo are trademarks of the <a href=\"https://www.apache.org/\" target=\"_blank\">Apache Software Foundation</a>.<br/><br/><a href=\"https://databricks.com/privacy-policy\" target=\"_blank\">Privacy Policy</a> | <a href=\"https://databricks.com/terms-of-use\" target=\"_blank\">Terms of Use</a> | <a href=\"https://help.databricks.com/\" target=\"_blank\">Support</a>"
      ]
    }
  ],
  "metadata": {
    "application/vnd.databricks.v1+notebook": {
      "computePreferences": null,
      "dashboards": [],
      "environmentMetadata": null,
      "language": "sql",
      "notebookMetadata": {
        "pythonIndentUnit": 4
      },
      "notebookName": "3.2 DEMO Fine Grained Access Control using Dynamic Views and Partition Filtering",
      "widgets": {}
    },
    "language_info": {
      "name": "sql"
    }
  },
  "nbformat": 4,
  "nbformat_minor": 0
}
