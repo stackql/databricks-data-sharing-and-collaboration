{
  "cells": [
    {
      "cell_type": "markdown",
      "metadata": {},
      "source": [
        "\n",
        "<div style=\"text-align: center; line-height: 0; padding-top: 9px;\">\n",
        "  <img\n",
        "    src=\"https://databricks.com/wp-content/uploads/2018/03/db-academy-rgb-1200px.png\"\n",
        "    alt=\"Databricks Learning\"\n",
        "  >\n",
        "</div>"
      ]
    },
    {
      "cell_type": "markdown",
      "metadata": {},
      "source": [
        "# 3.2 DEMO: Fine Grained Access Control using Dynamic Views and Partition Filtering [Recipient]\n",
        "\n",
        "## Overview\n",
        "This demonstration showcases how to consume data shared with two key data governance patterns:\n",
        "\n",
        "- **Dynamic Views**: Row-level security based on recipient identity using `current_recipient()`\n",
        "- **Partition Filtering**: Region-based data access control through table partitioning\n",
        "\n",
        "**Provider Notebook:** Creates source data, implements one dynamic view example and one partition filtering example, then shares with recipients.\n",
        "\n",
        "**Recipient Notebook (This Notebook):** Access shared views as the US partner recipient and observe how access controls work."
      ]
    },
    {
      "cell_type": "markdown",
      "metadata": {},
      "source": [
        "### Learning Objectives\n",
        "By the end of this demo, you will be able to:\n",
        "1. Mount and query shared data with dynamic access controls\n",
        "2. Understand how recipient identity affects data visibility\n",
        "3. Observe the difference between dynamic views and partition filtering"
      ]
    },
    {
      "cell_type": "markdown",
      "metadata": {},
      "source": [
        "## Background\n",
        "\n",
        "**Scenario:** You are the \"US Partner\" receiving customer order data from GlobalRetail Inc. The provider has sales data from multiple regions (United States, Europe, Asia Pacific) but you should only see data from the United States region through two different access control patterns."
      ]
    },
    {
      "cell_type": "markdown",
      "metadata": {},
      "source": [
        "## Setup"
      ]
    },
    {
      "cell_type": "code",
      "execution_count": null,
      "metadata": {},
      "outputs": [],
      "source": [
        "%run ./Includes/Demo-Setup-3.2"
      ]
    },
    {
      "cell_type": "markdown",
      "metadata": {},
      "source": [
        "## Example 1: Accessing Data via Dynamic Views\n",
        "\n",
        "Dynamic views use the `current_recipient()` function to filter data based on who is accessing it. As the `us_partner` recipient, you will access the shared view and only see United States data."
      ]
    },
    {
      "cell_type": "code",
      "execution_count": null,
      "metadata": {},
      "outputs": [],
      "source": [
        "-- Step 1: Create catalog from the shared view\n",
        "-- As 'us_partner', you receive access to the dynamic view\n",
        "CREATE CATALOG IF NOT EXISTS shared_orders_dynamic\n",
        "USING SHARE provider.regional_orders_dynamic\n",
        "COMMENT 'Orders shared via dynamic view';"
      ]
    },
    {
      "cell_type": "code",
      "execution_count": null,
      "metadata": {},
      "outputs": [],
      "source": [
        "-- Step 2: Explore the shared catalog\n",
        "SHOW SCHEMAS IN shared_orders_dynamic;"
      ]
    },
    {
      "cell_type": "code",
      "execution_count": null,
      "metadata": {},
      "outputs": [],
      "source": [
        "-- Step 3: Query the dynamic view\n",
        "-- As 'us_partner', you'll only see United States orders\n",
        "-- The view automatically filters based on current_recipient()\n",
        "SELECT * \n",
        "FROM shared_orders_dynamic.sales.regional_orders_view\n",
        "ORDER BY order_date;"
      ]
    },
    {
      "cell_type": "markdown",
      "metadata": {},
      "source": [
        "### Step 4: Analyze Your Regional Data"
      ]
    },
    {
      "cell_type": "code",
      "execution_count": null,
      "metadata": {},
      "outputs": [],
      "source": [
        "-- Verify you only see United States data\n",
        "SELECT \n",
        "  region,\n",
        "  COUNT(*) as order_count,\n",
        "  SUM(amount) as total_revenue,\n",
        "  AVG(amount) as avg_order_value\n",
        "FROM shared_orders_dynamic.sales.regional_orders_view\n",
        "GROUP BY region;"
      ]
    },
    {
      "cell_type": "code",
      "execution_count": null,
      "metadata": {},
      "outputs": [],
      "source": [
        "**Key Observation:** \n",
        "- You only see orders from the United States region\n",
        "- The filtering happens automatically based on your recipient identity (`us_partner`)\n",
        "- Other partners accessing the same share see different data (their region only)\n",
        "- The `current_recipient()` function returns `'us_partner'` when you query the view"
      ]
    },
    {
      "cell_type": "markdown",
      "metadata": {},
      "source": [
        "## Example 2: Accessing Data via Partition Filtering\n",
        "\n",
        "Partition filtering shares specific partitions of a table. As `us_partner`, you will receive a share containing only the United States partition."
      ]
    },
    {
      "cell_type": "code",
      "execution_count": null,
      "metadata": {},
      "outputs": [],
      "source": [
        "-- Step 1: Create catalog from the partition-specific share\n",
        "-- As 'us_partner', you receive a share with only the United States partition\n",
        "CREATE CATALOG IF NOT EXISTS us_orders_partition\n",
        "USING SHARE provider.us_orders_share\n",
        "COMMENT 'United States orders via partition filtering';"
      ]
    },
    {
      "cell_type": "code",
      "execution_count": null,
      "metadata": {},
      "outputs": [],
      "source": [
        "-- Step 2: Explore the shared catalog\n",
        "SHOW SCHEMAS IN us_orders_partition;"
      ]
    },
    {
      "cell_type": "markdown",
      "metadata": {},
      "source": [
        "### Step 3: Query the Partitioned Table"
      ]
    },
    {
      "cell_type": "code",
      "execution_count": null,
      "metadata": {},
      "outputs": [],
      "source": [
        "-- Query the partitioned table - you can only access the United States partition\n",
        "SELECT * \n",
        "FROM us_orders_partition.sales.orders_by_region\n",
        "ORDER BY order_date;"
      ]
    },
    {
      "cell_type": "markdown",
      "metadata": {},
      "source": [
        "### Step 4: Verify Partition Access"
      ]
    },
    {
      "cell_type": "code",
      "execution_count": null,
      "metadata": {},
      "outputs": [],
      "source": [
        "-- Verify you only have access to United States partition\n",
        "SELECT \n",
        "  region,\n",
        "  COUNT(*) as order_count,\n",
        "  SUM(amount) as total_revenue\n",
        "FROM us_orders_partition.sales.orders_by_region\n",
        "GROUP BY region;"
      ]
    },
    {
      "cell_type": "markdown",
      "metadata": {},
      "source": [
        "**Key Observation:**\n",
        "- You only have access to the United States partition\n",
        "- The data is physically separated at the storage level\n",
        "- You cannot query or even see that other partitions (Europe, Asia Pacific) exist\n",
        "- This provides storage-level isolation"
      ]
    },
    {
      "cell_type": "code",
      "execution_count": null,
      "metadata": {},
      "outputs": [],
      "source": [
        "## Summary\n",
        "\n",
        "✅ **What we accomplished as the US Partner:**\n",
        "\n",
        "**Example 1 - Dynamic Views:**\n",
        "- Mounted a shared catalog containing a dynamic view\n",
        "- Queried the view and automatically received only United States data\n",
        "- The `current_recipient()` function filtered rows based on our identity\n",
        "- Other partners access the same share but see different data\n",
        "\n",
        "**Example 2 - Partition Filtering:**\n",
        "- Mounted a partition-specific share containing only United States data\n",
        "- Queried the partitioned table with storage-level isolation\n",
        "- Cannot access or see other partitions (Europe, Asia Pacific)\n",
        "\n",
        "**Comparison:**\n",
        "| Pattern | What You See | How It Works | Performance |\n",
        "|---------|--------------|--------------|-------------|\n",
        "| Dynamic Views | Only US rows | View filters at query time using `current_recipient()` | Good for moderate data |\n",
        "| Partition Filtering | Only US partition | Share contains only US partition | Excellent (storage-level) |\n",
        "\n",
        "**Key Takeaways:**\n",
        "- Both patterns successfully restrict you to United States data only\n",
        "- Dynamic views provide flexible logic-based filtering\n",
        "- Partition filtering provides storage-level isolation with better performance"
      ]
    },
    {
      "cell_type": "markdown",
      "metadata": {},
      "source": [
        "&copy; 2025 Databricks, Inc. All rights reserved."
      ]
    }
  ],
  "metadata": {
    "application/vnd.databricks.v1+notebook": {
      "computePreferences": null,
      "dashboards": [],
      "environmentMetadata": null,
      "language": "sql",
      "notebookMetadata": {
        "pythonIndentUnit": 4
      },
      "notebookName": "3.2 DEMO Fine Grained Access Control using Dynamic Views and Partition Filtering",
      "widgets": {}
    },
    "language_info": {
      "name": "sql"
    }
  },
  "nbformat": 4,
  "nbformat_minor": 0
}
