{
 "cells": [
  {
   "cell_type": "markdown",
   "metadata": {
    "application/vnd.databricks.v1+cell": {
     "cellMetadata": {},
     "inputWidgets": {},
     "nuid": "17fadff0-8299-4358-a5a3-d355c6d94280",
     "showTitle": false,
     "tableResultSettingsMap": {},
     "title": ""
    }
   },
   "source": [
    "\n",
    "<div style=\"text-align: center; line-height: 0; padding-top: 9px;\">\n",
    "  <img\n",
    "    src=\"https://databricks.com/wp-content/uploads/2018/03/db-academy-rgb-1200px.png\"\n",
    "    alt=\"Databricks Learning\"\n",
    "  >\n",
    "</div>"
   ]
  },
  {
   "cell_type": "markdown",
   "metadata": {
    "application/vnd.databricks.v1+cell": {
     "cellMetadata": {},
     "inputWidgets": {},
     "nuid": "4c38274f-88fc-4f18-b06c-0d7d238934a2",
     "showTitle": false,
     "tableResultSettingsMap": {},
     "title": ""
    }
   },
   "source": [
    "# 3.2 DEMO: Fine Grained Access Control using Dynamic Views and Partition Filtering [Recipient]\n",
    "\n",
    "## Overview\n",
    "This demonstration showcases how to consume data shared with two key data governance patterns:\n",
    "\n",
    "- **Dynamic Views**: Row-level security based on recipient identity using `current_recipient()`\n",
    "- **Partition Filtering**: Region-based data access control through table partitioning\n",
    "\n",
    "**Provider Notebook:** Creates source data, implements one dynamic view example and one partition filtering example, then shares with recipients.\n",
    "\n",
    "**Recipient Notebook (This Notebook):** Access shared views as the US partner recipient and observe how access controls work."
   ]
  },
  {
   "cell_type": "markdown",
   "metadata": {
    "application/vnd.databricks.v1+cell": {
     "cellMetadata": {},
     "inputWidgets": {},
     "nuid": "e2623faa-c887-4a3f-91a1-858597ec7ad1",
     "showTitle": false,
     "tableResultSettingsMap": {},
     "title": ""
    }
   },
   "source": [
    "### Learning Objectives\n",
    "By the end of this demo, you will be able to:\n",
    "1. Mount and query shared data with dynamic access controls\n",
    "2. Understand how recipient identity affects data visibility\n",
    "3. Observe the difference between dynamic views and partition filtering"
   ]
  },
  {
   "cell_type": "markdown",
   "metadata": {
    "application/vnd.databricks.v1+cell": {
     "cellMetadata": {},
     "inputWidgets": {},
     "nuid": "5457066b-5f2f-4c4e-81eb-523be978f05a",
     "showTitle": false,
     "tableResultSettingsMap": {},
     "title": ""
    }
   },
   "source": [
    "## Background\n",
    "\n",
    "**Scenario:** You are the \"US Partner\" receiving customer order data from GlobalRetail Inc. The provider has sales data from multiple regions (United States, Europe, Asia Pacific) but you should only see data from the United States region through two different access control patterns."
   ]
  },
  {
   "cell_type": "markdown",
   "metadata": {
    "application/vnd.databricks.v1+cell": {
     "cellMetadata": {},
     "inputWidgets": {},
     "nuid": "84ea9f97-66a5-4ce0-90b1-1851940a07d2",
     "showTitle": false,
     "tableResultSettingsMap": {},
     "title": ""
    }
   },
   "source": [
    "## Setup"
   ]
  },
  {
   "cell_type": "code",
   "execution_count": 0,
   "metadata": {
    "application/vnd.databricks.v1+cell": {
     "cellMetadata": {
      "byteLimit": 2048000,
      "implicitDf": true,
      "rowLimit": 10000
     },
     "inputWidgets": {},
     "nuid": "2066e696-4ffe-4f45-9609-2940bed69c70",
     "showTitle": false,
     "tableResultSettingsMap": {},
     "title": ""
    }
   },
   "outputs": [],
   "source": [
    "%run ./Includes/Demo-Setup-3.2"
   ]
  },
  {
   "cell_type": "markdown",
   "metadata": {
    "application/vnd.databricks.v1+cell": {
     "cellMetadata": {},
     "inputWidgets": {},
     "nuid": "eb3cd3b5-9469-4ef3-a01a-51ff6a102483",
     "showTitle": false,
     "tableResultSettingsMap": {},
     "title": ""
    }
   },
   "source": [
    "## Inspect Providers and Shares\n",
    "Use the `SHOW PROVIDERS` and `SHOW SHARES` commands to see data that has been shared with your metastore"
   ]
  },
  {
   "cell_type": "code",
   "execution_count": 0,
   "metadata": {
    "application/vnd.databricks.v1+cell": {
     "cellMetadata": {
      "byteLimit": 2048000,
      "rowLimit": 10000
     },
     "inputWidgets": {},
     "nuid": "b3877d66-8ee1-4fef-aed5-2e872aa73ddd",
     "showTitle": false,
     "tableResultSettingsMap": {},
     "title": ""
    }
   },
   "outputs": [],
   "source": [
    "-- Show available providers\n",
    "SHOW PROVIDERS;"
   ]
  },
  {
   "cell_type": "code",
   "execution_count": 0,
   "metadata": {
    "application/vnd.databricks.v1+cell": {
     "cellMetadata": {
      "byteLimit": 2048000,
      "rowLimit": 10000
     },
     "inputWidgets": {},
     "nuid": "4ca61e13-d7c8-49d3-b8e0-1d94a216b281",
     "showTitle": false,
     "tableResultSettingsMap": {
      "0": {
       "dataGridStateBlob": "{\"version\":1,\"tableState\":{\"columnPinning\":{\"left\":[\"#row_number#\"],\"right\":[]},\"columnSizing\":{\"name\":184},\"columnVisibility\":{}},\"settings\":{\"columns\":{}},\"syncTimestamp\":1761959502147}",
       "filterBlob": null,
       "queryPlanFiltersBlob": null,
       "tableResultIndex": 0
      }
     },
     "title": ""
    }
   },
   "outputs": [],
   "source": [
    "-- Show shares in a provider\n",
    "SHOW SHARES IN PROVIDER acme_corp;"
   ]
  },
  {
   "cell_type": "markdown",
   "metadata": {
    "application/vnd.databricks.v1+cell": {
     "cellMetadata": {},
     "inputWidgets": {},
     "nuid": "bee435a1-9f6d-4114-bc66-bfdfc6aed4dc",
     "showTitle": false,
     "tableResultSettingsMap": {},
     "title": ""
    }
   },
   "source": [
    "## Example 1: Accessing Data via Dynamic Views\n",
    "\n",
    "Dynamic views use the `current_recipient()` function to filter data based on who is accessing it. As the `us_partner` recipient, you will access the shared view and only see United States data."
   ]
  },
  {
   "cell_type": "code",
   "execution_count": 0,
   "metadata": {
    "application/vnd.databricks.v1+cell": {
     "cellMetadata": {
      "byteLimit": 2048000,
      "rowLimit": 10000
     },
     "inputWidgets": {},
     "nuid": "0bbbe8ff-9b3f-4cc5-af8c-372b468a6af1",
     "showTitle": false,
     "tableResultSettingsMap": {},
     "title": ""
    }
   },
   "outputs": [],
   "source": [
    "-- Create catalog from the share\n",
    "CREATE CATALOG IF NOT EXISTS shared_orders_dynamic\n",
    "USING SHARE acme_corp.regional_orders_dynamic\n",
    "COMMENT 'Orders shared via dynamic view';"
   ]
  },
  {
   "cell_type": "code",
   "execution_count": 0,
   "metadata": {
    "application/vnd.databricks.v1+cell": {
     "cellMetadata": {
      "byteLimit": 2048000,
      "rowLimit": 10000
     },
     "inputWidgets": {},
     "nuid": "218c7119-dbc4-49f0-8437-b0417ac8e8c6",
     "showTitle": false,
     "tableResultSettingsMap": {},
     "title": ""
    }
   },
   "outputs": [],
   "source": [
    "-- Explore the shared schemas\n",
    "SHOW SCHEMAS IN shared_orders_dynamic;"
   ]
  },
  {
   "cell_type": "code",
   "execution_count": 0,
   "metadata": {
    "application/vnd.databricks.v1+cell": {
     "cellMetadata": {
      "byteLimit": 2048000,
      "rowLimit": 10000
     },
     "inputWidgets": {},
     "nuid": "97d9f2a5-bd0d-4886-95af-ba00652a261a",
     "showTitle": false,
     "tableResultSettingsMap": {},
     "title": ""
    }
   },
   "outputs": [],
   "source": [
    "-- Use the catalog mounted from the share\n",
    "USE CATALOG shared_orders_dynamic;"
   ]
  },
  {
   "cell_type": "code",
   "execution_count": 0,
   "metadata": {
    "application/vnd.databricks.v1+cell": {
     "cellMetadata": {
      "byteLimit": 2048000,
      "rowLimit": 10000
     },
     "inputWidgets": {},
     "nuid": "40897429-90bf-40b2-8f6c-9b560d8cdae2",
     "showTitle": false,
     "tableResultSettingsMap": {},
     "title": ""
    }
   },
   "outputs": [],
   "source": [
    "-- Show views in the shared schema\n",
    "SHOW VIEWS IN sales;"
   ]
  },
  {
   "cell_type": "code",
   "execution_count": 0,
   "metadata": {
    "application/vnd.databricks.v1+cell": {
     "cellMetadata": {
      "byteLimit": 2048000,
      "rowLimit": 10000
     },
     "inputWidgets": {},
     "nuid": "eb37a44b-7b8c-4741-8126-e7525437a386",
     "showTitle": false,
     "tableResultSettingsMap": {},
     "title": ""
    }
   },
   "outputs": [],
   "source": [
    "-- Query the dynamic view\n",
    "-- As 'us_partner', you'll only see United States orders\n",
    "-- The view automatically filters based on current_recipient().region property\n",
    "SELECT * \n",
    "FROM shared_orders_dynamic.sales.regional_orders_view\n",
    "ORDER BY order_date;"
   ]
  },
  {
   "cell_type": "markdown",
   "metadata": {
    "application/vnd.databricks.v1+cell": {
     "cellMetadata": {},
     "inputWidgets": {},
     "nuid": "98511ee5-97c3-415b-b748-f050a4d5680e",
     "showTitle": false,
     "tableResultSettingsMap": {},
     "title": ""
    }
   },
   "source": [
    "**Key Observation:** \n",
    "- You only see orders from the United States region\n",
    "- The filtering happens automatically based on your recipient identity (`us_partner`)\n",
    "- Other partners accessing the same share see different data (their region only)"
   ]
  },
  {
   "cell_type": "markdown",
   "metadata": {
    "application/vnd.databricks.v1+cell": {
     "cellMetadata": {},
     "inputWidgets": {},
     "nuid": "9a73c5b8-d772-4904-a2b8-b33548aec1ff",
     "showTitle": false,
     "tableResultSettingsMap": {},
     "title": ""
    }
   },
   "source": [
    "## Example 2: Accessing Data via Partition Filtering\n",
    "\n",
    "Partition filtering shares specific partitions of a table. As `us_partner`, you will receive a share containing only the United States partition."
   ]
  },
  {
   "cell_type": "code",
   "execution_count": 0,
   "metadata": {
    "application/vnd.databricks.v1+cell": {
     "cellMetadata": {
      "byteLimit": 2048000,
      "rowLimit": 10000
     },
     "inputWidgets": {},
     "nuid": "bc7929ec-4371-47b5-86c6-94f6c0fe0064",
     "showTitle": false,
     "tableResultSettingsMap": {},
     "title": ""
    }
   },
   "outputs": [],
   "source": [
    "-- Show shares in the provider\n",
    "SHOW SHARES IN PROVIDER acme_corp;"
   ]
  },
  {
   "cell_type": "code",
   "execution_count": 0,
   "metadata": {
    "application/vnd.databricks.v1+cell": {
     "cellMetadata": {
      "byteLimit": 2048000,
      "rowLimit": 10000
     },
     "inputWidgets": {},
     "nuid": "44dec1e1-2bdd-45aa-8748-89cf4d58eb09",
     "showTitle": false,
     "tableResultSettingsMap": {},
     "title": ""
    }
   },
   "outputs": [],
   "source": [
    "-- Create catalog from the partition-specific share\n",
    "CREATE CATALOG IF NOT EXISTS us_orders_partition\n",
    "USING SHARE acme_corp.regional_analytics_share\n",
    "COMMENT 'United States orders via partition filtering';"
   ]
  },
  {
   "cell_type": "code",
   "execution_count": 0,
   "metadata": {
    "application/vnd.databricks.v1+cell": {
     "cellMetadata": {
      "byteLimit": 2048000,
      "rowLimit": 10000
     },
     "inputWidgets": {},
     "nuid": "81e412c9-e8a6-4d23-bf98-09fcd5a3ba90",
     "showTitle": false,
     "tableResultSettingsMap": {},
     "title": ""
    }
   },
   "outputs": [],
   "source": [
    "-- Use our catalog\n",
    "USE CATALOG us_orders_partition;"
   ]
  },
  {
   "cell_type": "code",
   "execution_count": 0,
   "metadata": {
    "application/vnd.databricks.v1+cell": {
     "cellMetadata": {
      "byteLimit": 2048000,
      "rowLimit": 10000
     },
     "inputWidgets": {},
     "nuid": "d56c9378-9430-4624-be0f-c0cd74d2f82e",
     "showTitle": false,
     "tableResultSettingsMap": {},
     "title": ""
    }
   },
   "outputs": [],
   "source": [
    "-- Explore the shared catalog\n",
    "SHOW SCHEMAS;"
   ]
  },
  {
   "cell_type": "code",
   "execution_count": 0,
   "metadata": {
    "application/vnd.databricks.v1+cell": {
     "cellMetadata": {
      "byteLimit": 2048000,
      "rowLimit": 10000
     },
     "inputWidgets": {},
     "nuid": "36e0175d-5e25-40f1-ae23-6a31a132ba9b",
     "showTitle": false,
     "tableResultSettingsMap": {},
     "title": ""
    }
   },
   "outputs": [],
   "source": [
    "-- Show the tables in the sales schema - we should see our partitioned table\n",
    "SHOW TABLES IN sales;"
   ]
  },
  {
   "cell_type": "markdown",
   "metadata": {
    "application/vnd.databricks.v1+cell": {
     "cellMetadata": {},
     "inputWidgets": {},
     "nuid": "abce8a59-a915-40c5-9c1e-175ceb1e6191",
     "showTitle": false,
     "tableResultSettingsMap": {},
     "title": ""
    }
   },
   "source": [
    "### Step 3: Query the Partitioned Table"
   ]
  },
  {
   "cell_type": "code",
   "execution_count": 0,
   "metadata": {
    "application/vnd.databricks.v1+cell": {
     "cellMetadata": {
      "byteLimit": 2048000,
      "rowLimit": 10000
     },
     "inputWidgets": {},
     "nuid": "22b76212-d6c0-4155-9785-f298185df290",
     "showTitle": false,
     "tableResultSettingsMap": {},
     "title": ""
    }
   },
   "outputs": [],
   "source": [
    "-- Query the partitioned table - you can only access the United States partition\n",
    "SELECT * \n",
    "FROM us_orders_partition.sales.orders_by_region\n",
    "ORDER BY order_date;"
   ]
  },
  {
   "cell_type": "markdown",
   "metadata": {
    "application/vnd.databricks.v1+cell": {
     "cellMetadata": {},
     "inputWidgets": {},
     "nuid": "5269fe3c-7d8c-405f-a97c-5ae97c99c56e",
     "showTitle": false,
     "tableResultSettingsMap": {},
     "title": ""
    }
   },
   "source": [
    "**Key Observation:**\n",
    "- You only have access to the United States partition\n",
    "- The data is physically separated at the storage level\n",
    "- You cannot query or even see that other partitions (Europe, Asia Pacific) exist\n",
    "- This provides storage-level isolation"
   ]
  },
  {
   "cell_type": "markdown",
   "metadata": {
    "application/vnd.databricks.v1+cell": {
     "cellMetadata": {},
     "inputWidgets": {},
     "nuid": "c4861688-3975-4820-ab49-b0d2f8f0738d",
     "showTitle": false,
     "tableResultSettingsMap": {},
     "title": ""
    }
   },
   "source": [
    "## Summary\n",
    "\n",
    "✅ **What we accomplished**\n",
    "\n",
    "**Example 1 - Dynamic Views:**\n",
    "- Mounted a shared catalog containing a dynamic view\n",
    "- Queried the view and automatically received only United States data\n",
    "- The `current_recipient()` function filtered rows based on our identity\n",
    "- Other partners access the same share but see different data\n",
    "\n",
    "**Example 2 - Partition Filtering:**\n",
    "- Mounted a partition-specific share containing only United States data\n",
    "- Queried the partitioned table with storage-level isolation\n",
    "- Cannot access or see other partitions (Europe, Asia Pacific)\n",
    "\n",
    "**Comparison:**\n",
    "| Pattern | What You See | How It Works | Performance |\n",
    "|---------|--------------|--------------|-------------|\n",
    "| Dynamic Views | Only US rows | View filters at query time using `current_recipient()` | Good for moderate data |\n",
    "| Partition Filtering | Only US partition | Share contains only US partition | Excellent (storage-level) |\n",
    "\n",
    "**Key Takeaways:**\n",
    "- Both patterns successfully restrict you to United States data only\n",
    "- Dynamic views provide flexible logic-based filtering (however these require compute at the provider's end)\n",
    "- Partition filtering provides storage-level isolation with better performance"
   ]
  },
  {
   "cell_type": "markdown",
   "metadata": {
    "application/vnd.databricks.v1+cell": {
     "cellMetadata": {},
     "inputWidgets": {},
     "nuid": "ed4d1cd3-83c0-4398-9522-23e0056c1bad",
     "showTitle": false,
     "tableResultSettingsMap": {},
     "title": ""
    }
   },
   "source": [
    "&copy; 2025 Databricks, Inc. All rights reserved."
   ]
  }
 ],
 "metadata": {
  "application/vnd.databricks.v1+notebook": {
   "computePreferences": null,
   "dashboards": [],
   "environmentMetadata": null,
   "inputWidgetPreferences": null,
   "language": "sql",
   "notebookMetadata": {
    "mostRecentlyExecutedCommandWithImplicitDF": {
     "commandId": 4794147587000380,
     "dataframes": [
      "_sqldf"
     ]
    },
    "pythonIndentUnit": 4
   },
   "notebookName": "3.2 DEMO Fine Grained Access Control using Dynamic Views and Partition Filtering",
   "widgets": {}
  },
  "language_info": {
   "name": "sql"
  }
 },
 "nbformat": 4,
 "nbformat_minor": 0
}
