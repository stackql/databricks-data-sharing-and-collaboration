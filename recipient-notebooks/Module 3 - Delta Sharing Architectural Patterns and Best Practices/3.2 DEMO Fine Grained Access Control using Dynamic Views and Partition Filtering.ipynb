{
  "cells": [
    {
      "cell_type": "markdown",
      "metadata": {},
      "source": [
        "\n",
        "<div style=\"text-align: center; line-height: 0; padding-top: 9px;\">\n",
        "  <img\n",
        "    src=\"https://databricks.com/wp-content/uploads/2018/03/db-academy-rgb-1200px.png\"\n",
        "    alt=\"Databricks Learning\"\n",
        "  >\n",
        "</div>"
      ]
    },
    {
      "cell_type": "markdown",
      "metadata": {},
      "source": [
        "# 3.2 DEMO: Fine Grained Access Control using Dynamic Views and Partition Filtering \\[Recipient]\n",
        "\n",
        "## Overview\n",
        "This demo demonstrates how recipients experience different views of the same data based on dynamic access controls:\n",
        "\n",
        "- Row-level security filters data based on recipient identity\n",
        "- Partition filtering restricts regional access at storage level\n",
        "\n",
        "**Provider Notebook:** Created source data with two security patterns (dynamic views and partition filtering).\n",
        "\n",
        "**Recipient Notebook (This Notebook):** Access shared data as different recipients and observe how access controls work in practice."
      ]
    },
    {
      "cell_type": "markdown",
      "metadata": {},
      "source": [
        "### Learning Objectives\n",
        "By the end of this demo, you will be able to:\n",
        "1. Mount and query shared data with dynamic access controls\n",
        "2. Understand how recipient identity affects data visibility\n",
        "3. Observe the difference between dynamic views and partition filtering"
      ]
    },
    {
      "cell_type": "markdown",
      "metadata": {},
      "source": [
        "## Background\n",
        "\n",
        "**Scenario:** You are a regional sales partner receiving customer order data from GlobalRetail Inc. You will access data through:\n",
        "\n",
        "1. **Dynamic Views**: A single shared view that automatically filters to show only your region's data\n",
        "2. **Partition Filtering**: A share containing only your region's partition of data\n",
        "\n",
        "Let's see how each approach works from the recipient's perspective."
      ]
    },
    {
      "cell_type": "markdown",
      "metadata": {},
      "source": [
        "## Setup"
      ]
    },
    {
      "cell_type": "code",
      "execution_count": null,
      "metadata": {},
      "outputs": [],
      "source": [
        "%run ./Includes/Demo-Setup-3.2"
      ]
    },
    {
      "cell_type": "markdown",
      "metadata": {},
      "source": [
        "## Example 1: Accessing Data via Dynamic Views\n",
        "\n",
        "Dynamic views use the `current_recipient()` function to automatically filter data based on your recipient identity. All partners access the same share, but see different data."
      ]
    },
    {
      "cell_type": "code",
      "execution_count": null,
      "metadata": {},
      "outputs": [],
      "source": [
        "-- Step 1: Mount the shared view\n",
        "-- This share contains a dynamic view that filters based on recipient identity\n",
        "CREATE CATALOG IF NOT EXISTS shared_orders_dynamic\n",
        "USING SHARE provider.regional_orders_dynamic\n",
        "COMMENT 'Orders shared via dynamic view';\n",
        "\n",
        "SHOW SCHEMAS IN shared_orders_dynamic;"
      ]
    },
    {
      "cell_type": "code",
      "execution_count": null,
      "metadata": {},
      "outputs": [],
      "source": [
        "-- Step 2: Query the dynamic view\n",
        "-- As 'na_partner', you'll only see North America orders\n",
        "-- The view automatically filters based on current_recipient()\n",
        "SELECT * \n",
        "FROM shared_orders_dynamic.sales.regional_orders_view\n",
        "ORDER BY order_date;"
      ]
    },
    {
      "cell_type": "code",
      "execution_count": null,
      "metadata": {},
      "outputs": [],
      "source": [
        "-- Step 3: Analyze your regional data\n",
        "SELECT \n",
        "  region,\n",
        "  COUNT(*) as order_count,\n",
        "  SUM(amount) as total_revenue,\n",
        "  AVG(amount) as avg_order_value\n",
        "FROM shared_orders_dynamic.sales.regional_orders_view\n",
        "GROUP BY region;"
      ]
    },
    {
      "cell_type": "markdown",
      "metadata": {},
      "source": [
        "**Observation:** \n",
        "- You only see orders from your region (North America if you're 'na_partner')\n",
        "- The filtering happens automatically based on your recipient identity\n",
        "- Other partners accessing the same share see different data (their region only)"
      ]
    },
    {
      "cell_type": "code",
      "execution_count": null,
      "metadata": {},
      "outputs": [],
      "source": [
        "## Example 2: Accessing Data via Partition Filtering\n",
        "\n",
        "Partition filtering shares specific partitions of a table. Recipients can only access data in the shared partition - they cannot even see other partitions exist."
      ]
    },
    {
      "cell_type": "code",
      "execution_count": null,
      "metadata": {},
      "outputs": [],
      "source": [
        "-- Step 1: Mount the partition-specific share\n",
        "-- As 'na_partner', you receive a share with only the North America partition\n",
        "CREATE CATALOG IF NOT EXISTS na_orders_partition\n",
        "USING SHARE provider.na_orders_share\n",
        "COMMENT 'North America orders via partition filtering';\n",
        "\n",
        "SHOW SCHEMAS IN na_orders_partition;"
      ]
    },
    {
      "cell_type": "markdown",
      "metadata": {},
      "source": [
        "-- Step 2: Query the partitioned table\n",
        "-- You can only access the North America partition\n",
        "SELECT * \n",
        "FROM na_orders_partition.sales.orders_by_region\n",
        "ORDER BY order_date;"
      ]
    },
    {
      "cell_type": "code",
      "execution_count": null,
      "metadata": {},
      "outputs": [],
      "source": [
        "-- Step 3: Try to filter by region (you'll still only see your partition)\n",
        "SELECT \n",
        "  region,\n",
        "  COUNT(*) as order_count,\n",
        "  SUM(amount) as total_revenue\n",
        "FROM na_orders_partition.sales.orders_by_region\n",
        "WHERE region = 'North America'  -- This is redundant since only NA partition is shared\n",
        "GROUP BY region;"
      ]
    },
    {
      "cell_type": "code",
      "execution_count": null,
      "metadata": {},
      "outputs": [],
      "source": [
        "**Observation:**\n",
        "- You only have access to the North America partition\n",
        "- The data is physically separated at the storage level\n",
        "- You cannot query or even see that other partitions (Europe, Asia Pacific) exist\n",
        "- This provides storage-level isolation, which is more efficient for large datasets"
      ]
    },
    {
      "cell_type": "markdown",
      "metadata": {},
      "source": [
        "## Comparison: Dynamic Views vs Partition Filtering\n",
        "\n",
        "Let's compare what we observed with each approach:"
      ]
    },
    {
      "cell_type": "code",
      "execution_count": null,
      "metadata": {},
      "outputs": [],
      "source": [
        "**Dynamic Views:**\n",
        "- ✅ Single share for all recipients\n",
        "- ✅ Row-level filtering based on `current_recipient()`\n",
        "- ✅ Flexible logic-based access control\n",
        "- ⚠️ All data scanned, filtered at query time\n",
        "\n",
        "**Partition Filtering:**\n",
        "- ✅ Storage-level isolation\n",
        "- ✅ Only shared partitions accessible\n",
        "- ✅ Excellent performance for large datasets\n",
        "- ⚠️ Separate share per recipient needed\n",
        "- ⚠️ Less flexible (structural, not logic-based)"
      ]
    },
    {
      "cell_type": "code",
      "execution_count": null,
      "metadata": {},
      "outputs": [],
      "source": [
        "## Summary\n",
        "\n",
        "✅ **What we learned:**\n",
        "\n",
        "**Dynamic Views:**\n",
        "- Automatically filter data based on recipient identity\n",
        "- Provide flexible, logic-based access control\n",
        "- Allow single share for multiple recipients with different views\n",
        "\n",
        "**Partition Filtering:**\n",
        "- Share specific partitions with specific recipients\n",
        "- Provide storage-level data isolation\n",
        "- Offer excellent performance for region/tenant-based access patterns\n",
        "\n",
        "**Use Cases:**\n",
        "- **Dynamic Views**: When you need flexible filtering logic, data masking, or single share for many recipients\n",
        "- **Partition Filtering**: When you have natural data boundaries (regions, tenants) and want maximum performance and isolation"
      ]
    },
    {
      "cell_type": "markdown",
      "metadata": {},
      "source": [
        "---\n",
        "&copy; 2025 Databricks, Inc. All rights reserved. Apache, Apache Spark, Spark, the Spark Logo, Apache Iceberg, Iceberg, and the Apache Iceberg logo are trademarks of the <a href=\"https://www.apache.org/\" target=\"_blank\">Apache Software Foundation</a>.<br/><br/><a href=\"https://databricks.com/privacy-policy\" target=\"_blank\">Privacy Policy</a> | <a href=\"https://databricks.com/terms-of-use\" target=\"_blank\">Terms of Use</a> | <a href=\"https://help.databricks.com/\" target=\"_blank\">Support</a>"
      ]
    }
  ],
  "metadata": {
    "application/vnd.databricks.v1+notebook": {
      "computePreferences": null,
      "dashboards": [],
      "environmentMetadata": null,
      "language": "sql",
      "notebookMetadata": {
        "pythonIndentUnit": 4
      },
      "notebookName": "3.2 DEMO Fine Grained Access Control using Dynamic Views and Partition Filtering",
      "widgets": {}
    },
    "language_info": {
      "name": "sql"
    }
  },
  "nbformat": 4,
  "nbformat_minor": 0
}
