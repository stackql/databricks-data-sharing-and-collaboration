{
 "cells": [
  {
   "cell_type": "markdown",
   "metadata": {},
   "source": [
    "\n",
    "<div style=\"text-align: center; line-height: 0; padding-top: 9px;\">\n",
    "  <img\n",
    "    src=\"https://databricks.com/wp-content/uploads/2018/03/db-academy-rgb-1200px.png\"\n",
    "    alt=\"Databricks Learning\"\n",
    "  >\n",
    "</div>\n"
   ]
  },
  {
   "cell_type": "markdown",
   "metadata": {},
   "source": [
    "# 3.2 DEMO: Fine Grained Access Control using Dynamic Views and Partition Filtering (Recipient)\n",
    "\n",
    "## Overview\n",
    "This demo demonstrates how recipients experience different views of the same data based on dynamic access controls. You'll see how:\n",
    "\n",
    "- Row-level security filters data based on recipient identity\n",
    "- Column-level masking protects sensitive information\n",
    "- Partition filtering restricts regional or classification access\n",
    "- Data transformations provide appropriate aggregation levels\n",
    "\n",
    "**Provider Notebook:** Created source data with comprehensive security controls, dynamic views, and recipient-specific filtering.\n",
    "\n",
    "**Recipient Notebook (This Notebook):** Access shared data as different recipient types and observe how the same underlying dataset appears differently based on access controls."
   ]
  },
  {
   "cell_type": "markdown",
   "metadata": {},
   "source": [
    "### Learning Objectives\n",
    "By the end of this demo, you will be able to:\n",
    "1. Mount and query shared data with dynamic access controls\n",
    "2. Understand how recipient identity affects data visibility\n",
    "3. Observe data masking and anonymization in action\n",
    "4. Compare different access levels across recipient types\n",
    "5. Analyze the impact of security controls on analytics workflows\n",
    "6. Implement recipient-side data governance practices"
   ]
  },
  {
   "cell_type": "markdown",
   "metadata": {},
   "source": [
    "## Background\n",
    "\n",
    "**Scenario:**\n",
    "You represent different types of organizations receiving customer data from \"SecureBank Corp\":\n",
    "\n",
    "1. **Regional Partner** (NA/EU/APAC): Analytics partner focused on specific geographic markets\n",
    "2. **Marketing Agency**: Demographic insights without sensitive financial data\n",
    "3. **Risk Analytics Firm**: Financial patterns with anonymized customer information\n",
    "4. **Compliance Auditor**: Full access for regulatory oversight\n",
    "\n",
    "Each persona will mount different shares and observe how the data appears with varying levels of detail and protection."
   ]
  },
  {
   "cell_type": "code",
   "execution_count": 0,
   "metadata": {},
   "outputs": [],
   "source": [
    "%run ./Includes/Demo-Setup-3.2"
   ]
  },
  {
   "cell_type": "markdown",
   "metadata": {},
   "source": [
    "## Step 1: Regional Partner Access (North America)\n",
    "\n",
    "As a North America regional partner, you'll see customer data filtered to your geographic region with full PII and financial access."
   ]
  },
  {
   "cell_type": "code",
   "execution_count": 0,
   "metadata": {},
   "outputs": [],
   "source": [
    "-- Create catalog for regional partner access\n",
    "CREATE CATALOG IF NOT EXISTS na_partner_analytics\n",
    "COMMENT 'North America regional partner analytics catalog';\n",
    "\n",
    "USE CATALOG na_partner_analytics;\n",
    "\n",
    "CREATE SCHEMA IF NOT EXISTS customer_insights\n",
    "COMMENT 'Customer insights for North America region';\n",
    "\n",
    "USE SCHEMA customer_insights;"
   ]
  },
  {
   "cell_type": "code",
   "execution_count": 0,
   "metadata": {},
   "outputs": [],
   "source": [
    "-- Mount the regional customer share\n",
    "CREATE CATALOG IF NOT EXISTS na_regional_customers\n",
    "USING SHARE secure_bank_provider.regional_customer_data\n",
    "COMMENT 'Regional customer data shared by SecureBank';\n",
    "\n",
    "-- Verify the mounted share\n",
    "SHOW SCHEMAS IN na_regional_customers;"
   ]
  },
  {
   "cell_type": "code",
   "execution_count": 0,
   "metadata": {},
   "outputs": [],
   "source": [
    "-- Explore regional customer data\n",
    "-- Note: This would show only North America customers when accessed as 'na_partner'\n",
    "SELECT * \n",
    "FROM na_regional_customers.customer_data.regional_customers_view\n",
    "LIMIT 10;"
   ]
  },
  {
   "cell_type": "code",
   "execution_count": 0,
   "metadata": {},
   "outputs": [],
   "source": [
    "-- Regional customer analytics\n",
    "SELECT \n",
    "    region,\n",
    "    country,\n",
    "    COUNT(*) as customer_count,\n",
    "    AVG(account_balance) as avg_balance,\n",
    "    AVG(credit_score) as avg_credit_score,\n",
    "    COUNT(CASE WHEN is_vip THEN 1 END) as vip_customers\n",
    "FROM na_regional_customers.customer_data.regional_customers_view\n",
    "GROUP BY region, country\n",
    "ORDER BY customer_count DESC;"
   ]
  },
  {
   "cell_type": "code",
   "execution_count": 0,
   "metadata": {},
   "outputs": [],
   "source": [
    "-- Transaction analysis for regional customers\n",
    "SELECT \n",
    "    DATE(transaction_date) as transaction_date,\n",
    "    COUNT(*) as transaction_count,\n",
    "    SUM(amount) as total_amount,\n",
    "    AVG(amount) as avg_amount,\n",
    "    COUNT(DISTINCT customer_id) as unique_customers\n",
    "FROM na_regional_customers.customer_data.regional_transactions_view\n",
    "WHERE transaction_date >= current_date() - INTERVAL 30 days\n",
    "GROUP BY DATE(transaction_date)\n",
    "ORDER BY transaction_date DESC\n",
    "LIMIT 10;"
   ]
  },
  {
   "cell_type": "markdown",
   "metadata": {},
   "source": [
    "## Step 2: Marketing Agency Access\n",
    "\n",
    "As a marketing agency, you'll see demographics and behavior patterns without sensitive PII or financial data."
   ]
  },
  {
   "cell_type": "code",
   "execution_count": 0,
   "metadata": {},
   "outputs": [],
   "source": [
    "-- Create catalog for marketing agency access\n",
    "CREATE CATALOG IF NOT EXISTS marketing_insights\n",
    "USING SHARE secure_bank_provider.marketing_safe_data\n",
    "COMMENT 'Marketing-safe customer demographics';\n",
    "\n",
    "-- Explore marketing data structure\n",
    "DESCRIBE EXTENDED marketing_insights.customer_data.marketing_customers_view;"
   ]
  },
  {
   "cell_type": "code",
   "execution_count": 0,
   "metadata": {},
   "outputs": [],
   "source": [
    "-- View marketing-safe customer data\n",
    "SELECT * \n",
    "FROM marketing_insights.customer_data.marketing_customers_view\n",
    "LIMIT 10;\n",
    "\n",
    "-- Notice: No SSN, phone, exact DOB, or account balances\n",
    "-- Email is masked, ages are grouped, balances are tiered"
   ]
  },
  {
   "cell_type": "code",
   "execution_count": 0,
   "metadata": {},
   "outputs": [],
   "source": [
    "-- Marketing demographic analysis\n",
    "SELECT \n",
    "    region,\n",
    "    age_group,\n",
    "    account_tier,\n",
    "    COUNT(*) as customer_count,\n",
    "    COUNT(CASE WHEN is_vip THEN 1 END) as vip_customers,\n",
    "    ROUND(COUNT(CASE WHEN is_vip THEN 1 END) * 100.0 / COUNT(*), 2) as vip_percentage\n",
    "FROM marketing_insights.customer_data.marketing_customers_view\n",
    "GROUP BY region, age_group, account_tier\n",
    "ORDER BY region, age_group, customer_count DESC;"
   ]
  },
  {
   "cell_