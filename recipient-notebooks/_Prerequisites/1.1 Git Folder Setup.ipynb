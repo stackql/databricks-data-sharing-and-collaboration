{
 "cells": [
  {
   "cell_type": "markdown",
   "metadata": {
    "application/vnd.databricks.v1+cell": {
     "cellMetadata": {},
     "inputWidgets": {},
     "nuid": "ce207a32-d75b-42dc-b640-6643e567dd09",
     "showTitle": false,
     "tableResultSettingsMap": {},
     "title": ""
    }
   },
   "source": [
    "# Setting Up Your Git Folder\n",
    "\n",
    "This course will use Git Folders to organize and sync all the notebooks you'll use throughout this course.  This will be done on the provider side, which can be a [__Free Edition__](https://www.databricks.com/learn/free-edition) Databricks Workspace, and on the recipient side.\n",
    "\n",
    "## What is a Git Folder?\n",
    "\n",
    "A Git Folder in Databricks lets you connect a folder in your workspace directly to a Git repository. Allowing you to push and pull changes to or from a remote branch.  Git providers supported include: `gitHub`, `bitbucketCloud`, `gitLab`, `azureDevOpsServices`, `gitHubEnterprise`, `bitbucketServer`, `gitLabEnterpriseEdition` and `awsCodeCommit`.\n",
    "\n",
    "## Creating Your Git Folder\n",
    "\n",
    "Follow these steps to create your Git Folder:\n",
    "\n",
    "1. Navigate to the __Shared__ folder in your __Workspace__, click the **Create** button in the top right corner, then select **Git folder** as shown below:"
   ]
  },
  {
   "cell_type": "markdown",
   "metadata": {
    "application/vnd.databricks.v1+cell": {
     "cellMetadata": {},
     "inputWidgets": {},
     "nuid": "66919f4e-2a7a-47af-ba6d-ad8c4d1f46f0",
     "showTitle": false,
     "tableResultSettingsMap": {},
     "title": ""
    }
   },
   "source": [
    "<div style=\"text-align: center; line-height: 0; padding-top: 9px;\">\n",
    "  <img\n",
    "    src=\"https://github.com/stackql/databricks-data-sharing-and-collaboration/blob/main/images/step%203%20-%20create%20git%20folder.png?raw=true\"\n",
    "    alt=\"Create Git Folder - Step 1\"\n",
    "  >\n",
    "</div>"
   ]
  },
  {
   "cell_type": "markdown",
   "metadata": {
    "application/vnd.databricks.v1+cell": {
     "cellMetadata": {},
     "inputWidgets": {},
     "nuid": "61275b90-69ec-4ff2-a4a8-291cabf63959",
     "showTitle": false,
     "tableResultSettingsMap": {},
     "title": ""
    }
   },
   "source": [
    "2. Enter the following details in the dialog below:\n",
    "\n",
    "| Field | Value | Notes |\n",
    "|-------|-------|-------|\n",
    "| **Git repository URL** | `https://github.com/stackql/databricks-data-sharing-and-collaboration` | The course repository containing all materials |\n",
    "| **Git provider** | GitHub | Select from dropdown |\n",
    "| **Git folder name** | `databricks-data-sharing-and-collaboration` | Default name (you can customize if needed) |\n",
    "| **Sparse checkout mode** | ☑️ Enabled | Only clone the specific folder we need |\n",
    "| **Clone patterns** | `provider-notebooks` or `recipient-notebooks` | Pulls only the provider or recipients notebooks folder |\n",
    "\n",
    "3. Click **Create Git folder** to complete the setup"
   ]
  },
  {
   "cell_type": "markdown",
   "metadata": {
    "application/vnd.databricks.v1+cell": {
     "cellMetadata": {},
     "inputWidgets": {},
     "nuid": "c28f692d-042e-47a2-a44f-c720c240a5d4",
     "showTitle": false,
     "tableResultSettingsMap": {},
     "title": ""
    }
   },
   "source": [
    "<div style=\"text-align: center; line-height: 0; padding-top: 9px;\">\n",
    "  <img\n",
    "    src=\"https://github.com/stackql/databricks-data-sharing-and-collaboration/blob/main/images/step%204%20-%20create%20git%20folder.png?raw=true\"\n",
    "    alt=\"Create Git Folder - Step 2\"\n",
    "  >\n",
    "</div>"
   ]
  },
  {
   "cell_type": "markdown",
   "metadata": {
    "application/vnd.databricks.v1+cell": {
     "cellMetadata": {},
     "inputWidgets": {},
     "nuid": "86eec524-3214-4c17-9779-85d84b4f4cad",
     "showTitle": false,
     "tableResultSettingsMap": {},
     "title": ""
    }
   },
   "source": [
    "\n",
    "Once created, your Git Folder (either __provider-notebooks__ or __recipient_notebooks__ will be created under the __Shared__ folder in your __Workspace__\n",
    "\n",
    "ℹ️ by default the Git Folder will be created from the __`main`__ branch of the repository, this can be changed do a different remote branch, or you can create a new branch for your changes, to do this you would click on the `main` button next to the folder name (this is not required for this course)"
   ]
  },
  {
   "cell_type": "markdown",
   "metadata": {
    "application/vnd.databricks.v1+cell": {
     "cellMetadata": {},
     "inputWidgets": {},
     "nuid": "0926af58-155e-4a48-a1fe-23237de6721b",
     "showTitle": false,
     "tableResultSettingsMap": {},
     "title": ""
    }
   },
   "source": [
    "<div style=\"text-align: center; line-height: 0; padding-top: 9px;\">\n",
    "  <img\n",
    "    src=\"https://github.com/stackql/databricks-data-sharing-and-collaboration/blob/main/images/step%205%20-%20create%20git%20folder.png?raw=true\"\n",
    "    alt=\"Create Git Folder - Step 3\"\n",
    "  >\n",
    "</div>"
   ]
  },
  {
   "cell_type": "markdown",
   "metadata": {
    "application/vnd.databricks.v1+cell": {
     "cellMetadata": {},
     "inputWidgets": {},
     "nuid": "39a681b0-32cf-48e8-b4e9-528ef18e9337",
     "showTitle": false,
     "tableResultSettingsMap": {},
     "title": ""
    }
   },
   "source": [
    "## Next Steps\n",
    "\n",
    "With your Git Folder ready, you're all set to start learning about Delta Sharing! The first step on the provider side is to ensure __External Sharing__ is enabled on the metastore the provider workspace is assigned to, see [__Enable External Sharing__]($./1.2 Enable External Sharing)."
   ]
  }
 ],
 "metadata": {
  "application/vnd.databricks.v1+notebook": {
   "computePreferences": null,
   "dashboards": [],
   "environmentMetadata": null,
   "inputWidgetPreferences": null,
   "language": "python",
   "notebookMetadata": {
    "pythonIndentUnit": 4
   },
   "notebookName": "Git Folder Setup",
   "widgets": {}
  },
  "language_info": {
   "name": "python"
  }
 },
 "nbformat": 4,
 "nbformat_minor": 0
}
