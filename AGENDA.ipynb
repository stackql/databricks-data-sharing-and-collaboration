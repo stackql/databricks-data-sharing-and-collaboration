{
 "cells": [
  {
   "cell_type": "markdown",
   "metadata": {
    "application/vnd.databricks.v1+cell": {
     "cellMetadata": {},
     "inputWidgets": {},
     "nuid": "402097d1-bb11-4730-8feb-e18b0909eade",
     "showTitle": false,
     "tableResultSettingsMap": {},
     "title": ""
    }
   },
   "source": [
    "\n",
    "<div style=\"text-align: center; line-height: 0; padding-top: 9px;\">\n",
    "  <img\n",
    "    src=\"https://databricks.com/wp-content/uploads/2018/03/db-academy-rgb-1200px.png\"\n",
    "    alt=\"Databricks Learning\"\n",
    "  >\n",
    "</div>\n"
   ]
  },
  {
   "cell_type": "markdown",
   "metadata": {
    "application/vnd.databricks.v1+cell": {
     "cellMetadata": {},
     "inputWidgets": {},
     "nuid": "aa41a648-e62d-4ad2-8ef1-76186b0bdec7",
     "showTitle": false,
     "tableResultSettingsMap": {},
     "title": ""
    }
   },
   "source": [
    "# Databricks Data Sharing and Collaboration\n",
    "\n",
    "This hands-on course provides practical demonstrations and labs for implementing Delta Sharing, Databricks' open protocol for secure data sharing. You'll learn how to share live data across organizations without copying or moving it, enabling real-time collaboration between data providers and recipients.\n",
    "\n",
    "The course is structured into different components:\n",
    "\n",
    "- **Provider Workspace**: Where data is prepared, shares are created, and recipients are configured (works with Free or paid editions)\n",
    "- **Recipient Workspace**: Where shared data is accessed and consumed\n",
    "- **Open Client**: Used to demonstrate Databricks-to-Open Sharing (D2O), where a Share can be accessed outside of a Databricks workspace by a supported client - such as Pandas or PowerBI\n",
    "\n",
    "Throughout the demonstrations and labs, you'll work with both perspectives to understand the complete Delta Sharing workflow."
   ]
  },
  {
   "cell_type": "markdown",
   "metadata": {
    "application/vnd.databricks.v1+cell": {
     "cellMetadata": {},
     "inputWidgets": {},
     "nuid": "5fb2c2ef-4d51-451d-8d4c-cb9ea8f582eb",
     "showTitle": false,
     "tableResultSettingsMap": {},
     "title": ""
    }
   },
   "source": [
    "\n",
    "<div style=\"text-align: center; line-height: 0; padding-top: 9px;\">\n",
    "<img src=\"https://mermaid.ink/img/Z3JhcGggTFIKICAgIHN1YmdyYXBoIFByb3ZpZGVyWyJQcm92aWRlciBXb3Jrc3BhY2UiXQogICAgICAgIEFbU291cmNlIFRhYmxlc10gLS0+IEJbRGVsdGEgU2hhcmVdCiAgICBlbmQKICAgIAogICAgQiAtLT58RGVsdGEgU2hhcmluZyBQcm90b2NvbCA8aT5EMkQ8L2k+fCBDCiAgICBCIC0tPnxEZWx0YSBTaGFyaW5nIFByb3RvY29sIDxpPkQyTzwvaT58IEQKICAgIAogICAgc3ViZ3JhcGggUmVjaXBpZW50WyJSZWNpcGllbnQgV29ya3NwYWNlIl0KICAgICAgICBDW01vdW50ZWQgQ2F0YWxvZ10KICAgIGVuZAogICAgCiAgICBEW09wZW4gQ2xpZW50XQogICAgCiAgICBjbGFzc0RlZiBwcm92aWRlclN0eWxlIGZpbGw6I0ZGRjRFNixzdHJva2U6I0ZGOTgwMCxzdHJva2Utd2lkdGg6MnB4CiAgICBjbGFzc0RlZiByZWNpcGllbnRTdHlsZSBmaWxsOiNFOEY1RTksc3Ryb2tlOiM0Q0FGNTAsc3Ryb2tlLXdpZHRoOjJweAogICAgY2xhc3NEZWYgZXh0ZXJuYWxTdHlsZSBmaWxsOiNGM0U1RjUsc3Ryb2tlOiM5QzI3QjAsc3Ryb2tlLXdpZHRoOjJweAogICAgCiAgICBjbGFzcyBBLEIgcHJvdmlkZXJTdHlsZQogICAgY2xhc3MgQyByZWNpcGllbnRTdHlsZQogICAgY2xhc3MgRCBleHRlcm5hbFN0eWxl\" alt=\"Delta Sharing Architecture\">\n",
    "</div>"
   ]
  },
  {
   "cell_type": "markdown",
   "metadata": {
    "application/vnd.databricks.v1+cell": {
     "cellMetadata": {},
     "inputWidgets": {},
     "nuid": "f3d1f206-4ff1-44e1-a67a-fc8e2dba24a2",
     "showTitle": false,
     "tableResultSettingsMap": {},
     "title": ""
    }
   },
   "source": [
    "## Prerequisites\n",
    "\n",
    "The content was developed for participants with these skills/knowledge/abilities:\n",
    "- Basic familiarity with Databricks workspace navigation\n",
    "- Understanding of SQL and data tables\n",
    "- General knowledge of data sharing concepts from the accompanying slides included in the course"
   ]
  },
  {
   "cell_type": "markdown",
   "metadata": {
    "application/vnd.databricks.v1+cell": {
     "cellMetadata": {},
     "inputWidgets": {},
     "nuid": "569fe23d-6793-4253-b7ae-4f04af7aa00e",
     "showTitle": false,
     "tableResultSettingsMap": {},
     "title": ""
    }
   },
   "source": [
    "| Lesson | Description | Notebook Links | Time |\n",
    "|--------|-------------|------|------|\n",
    "| Prerequisite 1 - Git Folder Setup | *Clone course materials into your workspace* | [Provider]($./provider-notebooks/_Prerequisites/1.1 Git Folder Setup) | 5 mins |\n",
    "| Prerequisite 2 - Enable External Sharing *(Optional)*| *Configure metastore for external data sharing (reference only for Free Edition)* | [Provider]($./provider-notebooks/_Prerequisites/1.2 Enable External Sharing) | 5 mins |\n",
    "| **Module 2 - Delta Sharing Deep Dive** | *Hands-on implementation of Delta Sharing* | 120 mins |\n",
    "| 2.1 DEMO Implementing D2D Delta Sharing | <ul><li>__*Provider-side:*__ *Create shares, add tables, and configure recipients*</li><li>__*Recipient-side:*__ *Connect to and query shared data using a Databricks workspace*</li></ul> | [Provider]($./provider-notebooks/Module 2 - Delta Sharing Deep Dive/2.1 DEMO Implementing D2D Delta Sharing) [Recipient]($./recipient-notebooks/Module 2 - Delta Sharing Deep Dive/2.1 DEMO Implementing D2D Delta Sharing) | 10 mins |\n",
    "| 2.2 LAB Implementing D2D Delta Sharing | End to end exercise to create a share in a *provider* workspace and query the share in a *recipient* workspace | [Provider]($./provider-notebooks/Module 2 - Delta Sharing Deep Dive/2.2 LAB Implementing D2D Delta Sharing) [Recipient]($./recipient-notebooks/Module 2 - Delta Sharing Deep Dive/2.2 LAB Implementing D2D Delta Sharing) | 30 mins |\n",
    "| 2.3 DEMO Implementing D2O Delta Sharing | Connect to and query shared data using a open clients including __Python/Pandas__ and __PowerBI__ | [Provider]($./provider-notebooks/Module 2 - Delta Sharing Deep Dive/2.3 DEMO Implementing D2O Delta Sharing) [Recipient]($./recipient-notebooks/Module 2 - Delta Sharing Deep Dive/2.3 DEMO Implementing D2O Delta Sharing) | 15 mins |\n",
    "| 2.4 DEMO Implementing Change Data Feed | <ul><li>__*Provider-side:*__ *Perform `INSERT`, `UPDATE` and `DELETE` operations on a shared table*</li><li>__*Recipient-side:*__ *Consume changes from the shared table using `table_changes` and maintain type1 and type2 SCD datasets using `MERGE INTO`*</li></ul> | [Provider]($./provider-notebooks/2.4 DEMO Implementing Change Data Feed) [Recipient]($./recipient-notebooks/2.4 DEMO Implementing Change Data Feed) | 15 mins |\n",
    "| **Module 3 - Delta Sharing Architectural Patterns and Best Practices** | *Advanced sharing patterns and security controls* | 90 mins |\n",
    "| 3.1 DEMO Cross Cloud Replication with Cloudflare R2 | <ul><li>**Provider-side:** *Configure data replication to Cloudflare R2 for cost-effective global distribution*</li><li>**Recipient-side:** *Access replicated data with zero egress fees and improved performance*</li></ul> | [Provider]($./provider-notebooks/Module 3 - Delta Sharing Architectural Patterns and Best Practices/3.1 DEMO Cross Cloud Replication with Cloudflare R2) [Recipient]($./recipient-notebooks/Module 3 - Delta Sharing Architectural Patterns and Best Practices/3.1 DEMO Cross Cloud Replication with Cloudflare R2) | 20 mins |\n",
    "| 3.2 DEMO Fine Grained Access Control using Dynamic Views and Partition Filtering | <ul><li>**Provider-side:** *Implement row-level security, column masking, and partition filtering*</li><li>**Recipient-side:** *Experience different views of the same data based on recipient identity and access controls*</li></ul> | [Provider]($./provider-notebooks/Module 3 - Delta Sharing Architectural Patterns and Best Practices/3.2 DEMO Fine Grained Access Control using Dynamic Views and Partition Filtering) [Recipient]($./recipient-notebooks/Module 3 - Delta Sharing Architectural Patterns and Best Practices/3.2 DEMO Fine Grained Access Control using Dynamic Views and Partition Filtering) | 30 mins |\n"
   ]
  },
  {
   "cell_type": "markdown",
   "metadata": {
    "application/vnd.databricks.v1+cell": {
     "cellMetadata": {},
     "inputWidgets": {},
     "nuid": "dd37c079-98be-46a4-b52f-87748a538c33",
     "showTitle": false,
     "tableResultSettingsMap": {},
     "title": ""
    }
   },
   "source": [
    "## Requirements\n",
    "\n",
    "Please review the following requirements before starting the lessons:\n",
    "\n",
    "- **Two Databricks workspaces** (or one Free Edition workspace that can as the provider)\n",
    "- **Metastore admin access** (for production environments; Free Edition handles this automatically)\n",
    "\n",
    "ℹ️ Databricks __Serverless Compute__ *OR* __Classic Compute__ can be used for all notebooks in this course"
   ]
  },
  {
   "cell_type": "markdown",
   "metadata": {
    "application/vnd.databricks.v1+cell": {
     "cellMetadata": {},
     "inputWidgets": {},
     "nuid": "a077c8b0-a546-494e-8c8f-eff8326c8aed",
     "showTitle": false,
     "tableResultSettingsMap": {},
     "title": ""
    }
   },
   "source": [
    "&copy; 2025 Databricks, Inc. All rights reserved. Apache, Apache Spark, Spark, the Spark Logo, Apache Iceberg, Iceberg, and the Apache Iceberg logo are trademarks of the <a href=\"https://www.apache.org/\" target=\"_blank\">Apache Software Foundation</a>.<br/><br/><a href=\"https://databricks.com/privacy-policy\" target=\"_blank\">Privacy Policy</a> | <a href=\"https://databricks.com/terms-of-use\" target=\"_blank\">Terms of Use</a> | <a href=\"https://help.databricks.com/\" target=\"_blank\">Support</a>"
   ]
  }
 ],
 "metadata": {
  "application/vnd.databricks.v1+notebook": {
   "computePreferences": null,
   "dashboards": [],
   "environmentMetadata": null,
   "inputWidgetPreferences": null,
   "language": "python",
   "notebookMetadata": {
    "pythonIndentUnit": 4
   },
   "notebookName": "AGENDA",
   "widgets": {}
  },
  "language_info": {
   "name": "python"
  }
 },
 "nbformat": 4,
 "nbformat_minor": 0
}
